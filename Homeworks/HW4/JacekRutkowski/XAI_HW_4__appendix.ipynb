{
  "nbformat": 4,
  "nbformat_minor": 0,
  "metadata": {
    "colab": {
      "provenance": []
    },
    "kernelspec": {
      "name": "python3",
      "display_name": "Python 3"
    },
    "language_info": {
      "name": "python"
    }
  },
  "cells": [
    {
      "cell_type": "code",
      "execution_count": null,
      "metadata": {
        "id": "HKDD5b29cKYe"
      },
      "outputs": [],
      "source": [
        "import dalex as dx\n",
        "import numpy as np\n",
        "import pandas as pd\n",
        "import sklearn\n",
        "from sklearn.tree import DecisionTreeRegressor\n",
        "import xgboost\n",
        "from sklearn.metrics import mean_squared_error\n",
        "brain_stroke = pd.read_csv('brain_stroke.csv')"
      ]
    },
    {
      "cell_type": "code",
      "source": [
        "def preprocess_dataset(old_dataset):\n",
        "  dataset = old_dataset.copy()\n",
        "\n",
        "  columns = dataset.columns[:-1]\n",
        "  for col in columns:\n",
        "    if not dataset[col].astype(str).str.isnumeric().all():\n",
        "      values = dataset[col].unique()\n",
        "      if len(values) <= 1:\n",
        "        dataset.drop(col, axis=1, inplace=True)\n",
        "      elif len(values) == 2:\n",
        "        val1 = 'yes' if 'yes' in values else values[0]\n",
        "        dataset[col] = np.where(dataset[col] == val1, 1, 0)\n",
        "      else:\n",
        "        dummies = pd.get_dummies(dataset[[col]], prefix=col)\n",
        "        dataset.drop(col, axis=1, inplace=True)\n",
        "        dataset = pd.concat([dataset, dummies], axis=1)\n",
        "  return dataset.drop(columns=['stroke']), dataset['stroke'].astype(np.float64)\n",
        "\n",
        "\n",
        "X, y = preprocess_dataset(brain_stroke)"
      ],
      "metadata": {
        "id": "ul4aXMngdM2M"
      },
      "execution_count": null,
      "outputs": []
    },
    {
      "cell_type": "code",
      "source": [
        "X_train, X_test, y_train, y_test = sklearn.model_selection.train_test_split(X, y, test_size=0.3, random_state=42)"
      ],
      "metadata": {
        "id": "Vn8wb6OKdfZK"
      },
      "execution_count": null,
      "outputs": []
    },
    {
      "cell_type": "code",
      "source": [
        "model = xgboost.XGBClassifier()\n",
        "\n",
        "params = {\n",
        "    \"max_depth\": 5,\n",
        "    \"objective\": \"binary:logistic\",\n",
        "    \"eval_metric\": \"auc\"\n",
        "}\n",
        "\n",
        "model.fit(X_train, y_train)"
      ],
      "metadata": {
        "id": "dJ1UMbM0eC8h"
      },
      "execution_count": null,
      "outputs": []
    },
    {
      "cell_type": "code",
      "source": [
        "pred_test = model.predict(X_test)\n",
        "[print(f'Ground truth is {y_test.iloc[i]}, prediction is {pred_test[i]}') for i in range(3)]"
      ],
      "metadata": {
        "colab": {
          "base_uri": "https://localhost:8080/"
        },
        "id": "JmWl-rHEeFNd",
        "outputId": "21f4cee9-77de-4393-ed92-9fba53eb3257"
      },
      "execution_count": null,
      "outputs": [
        {
          "output_type": "stream",
          "name": "stdout",
          "text": [
            "Ground truth is 0.0, prediction is 0.0\n",
            "Ground truth is 0.0, prediction is 0.0\n",
            "Ground truth is 0.0, prediction is 0.0\n"
          ]
        },
        {
          "output_type": "execute_result",
          "data": {
            "text/plain": [
              "[None, None, None]"
            ]
          },
          "metadata": {},
          "execution_count": 214
        }
      ]
    },
    {
      "cell_type": "code",
      "source": [
        "def pf_xgboost_classifier_categorical(model, df):\n",
        "    df.loc[:, df.dtypes == 'object'] =\\\n",
        "        df.select_dtypes(['object'])\\\n",
        "        .apply(lambda x: x.astype('category'))\n",
        "    return model.predict_proba(df)[:, 1]\n",
        "\n",
        "exp = dx.Explainer(model, X_test, y_test, predict_function=pf_xgboost_classifier_categorical)"
      ],
      "metadata": {
        "colab": {
          "base_uri": "https://localhost:8080/"
        },
        "id": "VP5z7Q-iiJds",
        "outputId": "7a8817f4-18a2-46da-d37c-a0712085ca86"
      },
      "execution_count": null,
      "outputs": [
        {
          "output_type": "stream",
          "name": "stdout",
          "text": [
            "Preparation of a new explainer is initiated\n",
            "\n",
            "  -> data              : 1495 rows 16 cols\n",
            "  -> target variable   : Parameter 'y' was a pandas.Series. Converted to a numpy.ndarray.\n",
            "  -> target variable   : 1495 values\n",
            "  -> model_class       : xgboost.sklearn.XGBClassifier (default)\n",
            "  -> label             : Not specified, model's class short name will be used. (default)\n",
            "  -> predict function  : <function pf_xgboost_classifier_categorical at 0x7fe1c615d050> will be used\n",
            "  -> predict function  : Accepts only pandas.DataFrame, numpy.ndarray causes problems.\n",
            "  -> predicted values  : min = 0.000494, mean = 0.0454, max = 0.437\n",
            "  -> model type        : classification will be used (default)\n",
            "  -> residual function : difference between y and yhat (default)\n",
            "  -> residuals         : min = -0.437, mean = 0.00682, max = 0.999\n",
            "  -> model_info        : package xgboost\n",
            "\n",
            "A new explainer has been created!\n"
          ]
        }
      ]
    },
    {
      "cell_type": "code",
      "source": [
        "exp.model_performance()"
      ],
      "metadata": {
        "id": "Hhgw1LUDkWH_",
        "colab": {
          "base_uri": "https://localhost:8080/",
          "height": 150
        },
        "outputId": "c33153ab-e5fc-4df1-a0e2-139847278658"
      },
      "execution_count": null,
      "outputs": [
        {
          "output_type": "stream",
          "name": "stderr",
          "text": [
            "/usr/local/lib/python3.7/dist-packages/dalex/model_explanations/_model_performance/utils.py:46: RuntimeWarning:\n",
            "\n",
            "invalid value encountered in long_scalars\n",
            "\n"
          ]
        },
        {
          "output_type": "execute_result",
          "data": {
            "text/plain": [
              "<dalex.model_explanations._model_performance.object.ModelPerformance at 0x7fe1c5bf1050>"
            ],
            "text/html": [
              "<div>\n",
              "<style scoped>\n",
              "    .dataframe tbody tr th:only-of-type {\n",
              "        vertical-align: middle;\n",
              "    }\n",
              "\n",
              "    .dataframe tbody tr th {\n",
              "        vertical-align: top;\n",
              "    }\n",
              "\n",
              "    .dataframe thead th {\n",
              "        text-align: right;\n",
              "    }\n",
              "</style>\n",
              "<table border=\"1\" class=\"dataframe\">\n",
              "  <thead>\n",
              "    <tr style=\"text-align: right;\">\n",
              "      <th></th>\n",
              "      <th>recall</th>\n",
              "      <th>precision</th>\n",
              "      <th>f1</th>\n",
              "      <th>accuracy</th>\n",
              "      <th>auc</th>\n",
              "    </tr>\n",
              "  </thead>\n",
              "  <tbody>\n",
              "    <tr>\n",
              "      <th>XGBClassifier</th>\n",
              "      <td>0.0</td>\n",
              "      <td>NaN</td>\n",
              "      <td>NaN</td>\n",
              "      <td>0.947826</td>\n",
              "      <td>0.832243</td>\n",
              "    </tr>\n",
              "  </tbody>\n",
              "</table>\n",
              "</div>"
            ]
          },
          "metadata": {},
          "execution_count": 216
        }
      ]
    },
    {
      "cell_type": "code",
      "source": [
        "exp.model_parts().result"
      ],
      "metadata": {
        "colab": {
          "base_uri": "https://localhost:8080/",
          "height": 614
        },
        "id": "8SEVc2WMkZ_m",
        "outputId": "c0b3d32f-113b-49f1-a1e7-4d078f1e79c1"
      },
      "execution_count": null,
      "outputs": [
        {
          "output_type": "execute_result",
          "data": {
            "text/plain": [
              "                          variable  dropout_loss          label\n",
              "0                              bmi      0.167501  XGBClassifier\n",
              "1            smoking_status_smokes      0.168277  XGBClassifier\n",
              "2                           gender      0.168662  XGBClassifier\n",
              "3                    heart_disease      0.168963  XGBClassifier\n",
              "4               work_type_children      0.168963  XGBClassifier\n",
              "5                     _full_model_      0.168963  XGBClassifier\n",
              "6               work_type_Govt_job      0.169047  XGBClassifier\n",
              "7                   Residence_type      0.169202  XGBClassifier\n",
              "8           smoking_status_Unknown      0.169365  XGBClassifier\n",
              "9          work_type_Self-employed      0.169372  XGBClassifier\n",
              "10                    ever_married      0.169606  XGBClassifier\n",
              "11               work_type_Private      0.169826  XGBClassifier\n",
              "12  smoking_status_formerly smoked      0.170465  XGBClassifier\n",
              "13                    hypertension      0.170546  XGBClassifier\n",
              "14     smoking_status_never smoked      0.172148  XGBClassifier\n",
              "15               avg_glucose_level      0.175278  XGBClassifier\n",
              "16                             age      0.487034  XGBClassifier\n",
              "17                      _baseline_      0.522578  XGBClassifier"
            ],
            "text/html": [
              "\n",
              "  <div id=\"df-4f8fee22-d28d-4d65-b342-8a030b3a6d1d\">\n",
              "    <div class=\"colab-df-container\">\n",
              "      <div>\n",
              "<style scoped>\n",
              "    .dataframe tbody tr th:only-of-type {\n",
              "        vertical-align: middle;\n",
              "    }\n",
              "\n",
              "    .dataframe tbody tr th {\n",
              "        vertical-align: top;\n",
              "    }\n",
              "\n",
              "    .dataframe thead th {\n",
              "        text-align: right;\n",
              "    }\n",
              "</style>\n",
              "<table border=\"1\" class=\"dataframe\">\n",
              "  <thead>\n",
              "    <tr style=\"text-align: right;\">\n",
              "      <th></th>\n",
              "      <th>variable</th>\n",
              "      <th>dropout_loss</th>\n",
              "      <th>label</th>\n",
              "    </tr>\n",
              "  </thead>\n",
              "  <tbody>\n",
              "    <tr>\n",
              "      <th>0</th>\n",
              "      <td>bmi</td>\n",
              "      <td>0.167501</td>\n",
              "      <td>XGBClassifier</td>\n",
              "    </tr>\n",
              "    <tr>\n",
              "      <th>1</th>\n",
              "      <td>smoking_status_smokes</td>\n",
              "      <td>0.168277</td>\n",
              "      <td>XGBClassifier</td>\n",
              "    </tr>\n",
              "    <tr>\n",
              "      <th>2</th>\n",
              "      <td>gender</td>\n",
              "      <td>0.168662</td>\n",
              "      <td>XGBClassifier</td>\n",
              "    </tr>\n",
              "    <tr>\n",
              "      <th>3</th>\n",
              "      <td>heart_disease</td>\n",
              "      <td>0.168963</td>\n",
              "      <td>XGBClassifier</td>\n",
              "    </tr>\n",
              "    <tr>\n",
              "      <th>4</th>\n",
              "      <td>work_type_children</td>\n",
              "      <td>0.168963</td>\n",
              "      <td>XGBClassifier</td>\n",
              "    </tr>\n",
              "    <tr>\n",
              "      <th>5</th>\n",
              "      <td>_full_model_</td>\n",
              "      <td>0.168963</td>\n",
              "      <td>XGBClassifier</td>\n",
              "    </tr>\n",
              "    <tr>\n",
              "      <th>6</th>\n",
              "      <td>work_type_Govt_job</td>\n",
              "      <td>0.169047</td>\n",
              "      <td>XGBClassifier</td>\n",
              "    </tr>\n",
              "    <tr>\n",
              "      <th>7</th>\n",
              "      <td>Residence_type</td>\n",
              "      <td>0.169202</td>\n",
              "      <td>XGBClassifier</td>\n",
              "    </tr>\n",
              "    <tr>\n",
              "      <th>8</th>\n",
              "      <td>smoking_status_Unknown</td>\n",
              "      <td>0.169365</td>\n",
              "      <td>XGBClassifier</td>\n",
              "    </tr>\n",
              "    <tr>\n",
              "      <th>9</th>\n",
              "      <td>work_type_Self-employed</td>\n",
              "      <td>0.169372</td>\n",
              "      <td>XGBClassifier</td>\n",
              "    </tr>\n",
              "    <tr>\n",
              "      <th>10</th>\n",
              "      <td>ever_married</td>\n",
              "      <td>0.169606</td>\n",
              "      <td>XGBClassifier</td>\n",
              "    </tr>\n",
              "    <tr>\n",
              "      <th>11</th>\n",
              "      <td>work_type_Private</td>\n",
              "      <td>0.169826</td>\n",
              "      <td>XGBClassifier</td>\n",
              "    </tr>\n",
              "    <tr>\n",
              "      <th>12</th>\n",
              "      <td>smoking_status_formerly smoked</td>\n",
              "      <td>0.170465</td>\n",
              "      <td>XGBClassifier</td>\n",
              "    </tr>\n",
              "    <tr>\n",
              "      <th>13</th>\n",
              "      <td>hypertension</td>\n",
              "      <td>0.170546</td>\n",
              "      <td>XGBClassifier</td>\n",
              "    </tr>\n",
              "    <tr>\n",
              "      <th>14</th>\n",
              "      <td>smoking_status_never smoked</td>\n",
              "      <td>0.172148</td>\n",
              "      <td>XGBClassifier</td>\n",
              "    </tr>\n",
              "    <tr>\n",
              "      <th>15</th>\n",
              "      <td>avg_glucose_level</td>\n",
              "      <td>0.175278</td>\n",
              "      <td>XGBClassifier</td>\n",
              "    </tr>\n",
              "    <tr>\n",
              "      <th>16</th>\n",
              "      <td>age</td>\n",
              "      <td>0.487034</td>\n",
              "      <td>XGBClassifier</td>\n",
              "    </tr>\n",
              "    <tr>\n",
              "      <th>17</th>\n",
              "      <td>_baseline_</td>\n",
              "      <td>0.522578</td>\n",
              "      <td>XGBClassifier</td>\n",
              "    </tr>\n",
              "  </tbody>\n",
              "</table>\n",
              "</div>\n",
              "      <button class=\"colab-df-convert\" onclick=\"convertToInteractive('df-4f8fee22-d28d-4d65-b342-8a030b3a6d1d')\"\n",
              "              title=\"Convert this dataframe to an interactive table.\"\n",
              "              style=\"display:none;\">\n",
              "        \n",
              "  <svg xmlns=\"http://www.w3.org/2000/svg\" height=\"24px\"viewBox=\"0 0 24 24\"\n",
              "       width=\"24px\">\n",
              "    <path d=\"M0 0h24v24H0V0z\" fill=\"none\"/>\n",
              "    <path d=\"M18.56 5.44l.94 2.06.94-2.06 2.06-.94-2.06-.94-.94-2.06-.94 2.06-2.06.94zm-11 1L8.5 8.5l.94-2.06 2.06-.94-2.06-.94L8.5 2.5l-.94 2.06-2.06.94zm10 10l.94 2.06.94-2.06 2.06-.94-2.06-.94-.94-2.06-.94 2.06-2.06.94z\"/><path d=\"M17.41 7.96l-1.37-1.37c-.4-.4-.92-.59-1.43-.59-.52 0-1.04.2-1.43.59L10.3 9.45l-7.72 7.72c-.78.78-.78 2.05 0 2.83L4 21.41c.39.39.9.59 1.41.59.51 0 1.02-.2 1.41-.59l7.78-7.78 2.81-2.81c.8-.78.8-2.07 0-2.86zM5.41 20L4 18.59l7.72-7.72 1.47 1.35L5.41 20z\"/>\n",
              "  </svg>\n",
              "      </button>\n",
              "      \n",
              "  <style>\n",
              "    .colab-df-container {\n",
              "      display:flex;\n",
              "      flex-wrap:wrap;\n",
              "      gap: 12px;\n",
              "    }\n",
              "\n",
              "    .colab-df-convert {\n",
              "      background-color: #E8F0FE;\n",
              "      border: none;\n",
              "      border-radius: 50%;\n",
              "      cursor: pointer;\n",
              "      display: none;\n",
              "      fill: #1967D2;\n",
              "      height: 32px;\n",
              "      padding: 0 0 0 0;\n",
              "      width: 32px;\n",
              "    }\n",
              "\n",
              "    .colab-df-convert:hover {\n",
              "      background-color: #E2EBFA;\n",
              "      box-shadow: 0px 1px 2px rgba(60, 64, 67, 0.3), 0px 1px 3px 1px rgba(60, 64, 67, 0.15);\n",
              "      fill: #174EA6;\n",
              "    }\n",
              "\n",
              "    [theme=dark] .colab-df-convert {\n",
              "      background-color: #3B4455;\n",
              "      fill: #D2E3FC;\n",
              "    }\n",
              "\n",
              "    [theme=dark] .colab-df-convert:hover {\n",
              "      background-color: #434B5C;\n",
              "      box-shadow: 0px 1px 3px 1px rgba(0, 0, 0, 0.15);\n",
              "      filter: drop-shadow(0px 1px 2px rgba(0, 0, 0, 0.3));\n",
              "      fill: #FFFFFF;\n",
              "    }\n",
              "  </style>\n",
              "\n",
              "      <script>\n",
              "        const buttonEl =\n",
              "          document.querySelector('#df-4f8fee22-d28d-4d65-b342-8a030b3a6d1d button.colab-df-convert');\n",
              "        buttonEl.style.display =\n",
              "          google.colab.kernel.accessAllowed ? 'block' : 'none';\n",
              "\n",
              "        async function convertToInteractive(key) {\n",
              "          const element = document.querySelector('#df-4f8fee22-d28d-4d65-b342-8a030b3a6d1d');\n",
              "          const dataTable =\n",
              "            await google.colab.kernel.invokeFunction('convertToInteractive',\n",
              "                                                     [key], {});\n",
              "          if (!dataTable) return;\n",
              "\n",
              "          const docLinkHtml = 'Like what you see? Visit the ' +\n",
              "            '<a target=\"_blank\" href=https://colab.research.google.com/notebooks/data_table.ipynb>data table notebook</a>'\n",
              "            + ' to learn more about interactive tables.';\n",
              "          element.innerHTML = '';\n",
              "          dataTable['output_type'] = 'display_data';\n",
              "          await google.colab.output.renderOutput(dataTable, element);\n",
              "          const docLink = document.createElement('div');\n",
              "          docLink.innerHTML = docLinkHtml;\n",
              "          element.appendChild(docLink);\n",
              "        }\n",
              "      </script>\n",
              "    </div>\n",
              "  </div>\n",
              "  "
            ]
          },
          "metadata": {},
          "execution_count": 217
        }
      ]
    },
    {
      "cell_type": "code",
      "source": [
        "for i in range(3):\n",
        "  cp = exp.predict_profile(new_observation=X_test.iloc[[i]])\n",
        "  cp.plot(variables=[\"smoking_status_smokes\", \"age\"])"
      ],
      "metadata": {
        "id": "zFeseHqDuE0j"
      },
      "execution_count": null,
      "outputs": []
    },
    {
      "cell_type": "code",
      "source": [
        "def profile(count):\n",
        "  cp = exp.predict_profile(new_observation=X_test.iloc[[count]])\n",
        "  print(f'CP profiles for {i}-th trial')\n",
        "  cp.plot(variables=[\"hypertension\"])\n",
        "for i in range(5):\n",
        "  profile(i)"
      ],
      "metadata": {
        "id": "IFk5pm73tCrB"
      },
      "execution_count": null,
      "outputs": []
    },
    {
      "cell_type": "code",
      "source": [
        "for i in [0,3]:\n",
        "  cp = exp.predict_profile(new_observation=X_test.iloc[[i]])\n",
        "  cp.plot(variables=[\"hypertension\"])"
      ],
      "metadata": {
        "id": "tn5_gOpGqA6C"
      },
      "execution_count": null,
      "outputs": []
    },
    {
      "cell_type": "code",
      "source": [
        "pdp = exp.model_profile()"
      ],
      "metadata": {
        "colab": {
          "base_uri": "https://localhost:8080/"
        },
        "id": "2xxqC6rZr4hd",
        "outputId": "a338b9fc-c936-44e3-e78d-bcc986d9a803"
      },
      "execution_count": null,
      "outputs": [
        {
          "output_type": "stream",
          "name": "stderr",
          "text": [
            "Calculating ceteris paribus: 100%|██████████| 16/16 [00:01<00:00, 11.14it/s]\n"
          ]
        }
      ]
    },
    {
      "cell_type": "code",
      "source": [
        "pdp.result"
      ],
      "metadata": {
        "id": "VTQ6vJXdr9CN"
      },
      "execution_count": null,
      "outputs": []
    },
    {
      "cell_type": "code",
      "source": [
        "pdp.plot(variables=[\"hypertension\"])\n",
        "pdp.plot(variables=[\"age\", \"bmi\"])"
      ],
      "metadata": {
        "id": "eqjJhu4Yr_ep"
      },
      "execution_count": null,
      "outputs": []
    },
    {
      "cell_type": "markdown",
      "source": [
        "Decision Tree Regressor"
      ],
      "metadata": {
        "id": "GmjJ9NtX8lvU"
      }
    },
    {
      "cell_type": "code",
      "source": [
        "tree_reg = DecisionTreeRegressor(random_state=0, max_depth=4, max_features=4)\n",
        "tree_reg.fit(X_train, y_train)\n",
        "pred_test_tree = tree_reg.predict(X_test)"
      ],
      "metadata": {
        "id": "5uirIYJl8fAh"
      },
      "execution_count": null,
      "outputs": []
    },
    {
      "cell_type": "code",
      "source": [
        "exp_2 = dx.Explainer(tree_reg, X_test, y_test, predict_function=pf_xgboost_classifier_categorical)"
      ],
      "metadata": {
        "id": "8ZFn1-rA9F-h"
      },
      "execution_count": null,
      "outputs": []
    },
    {
      "cell_type": "code",
      "source": [
        "pdp = exp.model_profile()\n",
        "pdp.result\n",
        "\n",
        "pdp.plot(variables=[\"hypertension\"])\n",
        "pdp.plot(variables=[\"age\", \"bmi\"])"
      ],
      "metadata": {
        "id": "-Xln3dyo9IwZ"
      },
      "execution_count": null,
      "outputs": []
    }
  ]
}