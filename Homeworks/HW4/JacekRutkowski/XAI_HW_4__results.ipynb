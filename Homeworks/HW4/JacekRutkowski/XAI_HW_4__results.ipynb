{
  "cells": [
    {
      "cell_type": "markdown",
      "metadata": {
        "id": "fwcinF0LIN2H"
      },
      "source": [
        "Here are the most important variables according to explainer:"
      ]
    },
    {
      "cell_type": "code",
      "execution_count": 10,
      "metadata": {
        "colab": {
          "base_uri": "https://localhost:8080/",
          "height": 614
        },
        "id": "8SEVc2WMkZ_m",
        "outputId": "2c202014-9b0b-46f0-dd5f-ed68c0cf02ac"
      },
      "outputs": [
        {
          "data": {
            "text/html": [
              "\n",
              "  <div id=\"df-34c0b6a9-1bba-4ada-a7d8-405af5db42be\">\n",
              "    <div class=\"colab-df-container\">\n",
              "      <div>\n",
              "<style scoped>\n",
              "    .dataframe tbody tr th:only-of-type {\n",
              "        vertical-align: middle;\n",
              "    }\n",
              "\n",
              "    .dataframe tbody tr th {\n",
              "        vertical-align: top;\n",
              "    }\n",
              "\n",
              "    .dataframe thead th {\n",
              "        text-align: right;\n",
              "    }\n",
              "</style>\n",
              "<table border=\"1\" class=\"dataframe\">\n",
              "  <thead>\n",
              "    <tr style=\"text-align: right;\">\n",
              "      <th></th>\n",
              "      <th>variable</th>\n",
              "      <th>dropout_loss</th>\n",
              "      <th>label</th>\n",
              "    </tr>\n",
              "  </thead>\n",
              "  <tbody>\n",
              "    <tr>\n",
              "      <th>0</th>\n",
              "      <td>gender</td>\n",
              "      <td>0.173164</td>\n",
              "      <td>XGBClassifier</td>\n",
              "    </tr>\n",
              "    <tr>\n",
              "      <th>1</th>\n",
              "      <td>smoking_status_Unknown</td>\n",
              "      <td>0.174268</td>\n",
              "      <td>XGBClassifier</td>\n",
              "    </tr>\n",
              "    <tr>\n",
              "      <th>2</th>\n",
              "      <td>heart_disease</td>\n",
              "      <td>0.174312</td>\n",
              "      <td>XGBClassifier</td>\n",
              "    </tr>\n",
              "    <tr>\n",
              "      <th>3</th>\n",
              "      <td>work_type_children</td>\n",
              "      <td>0.174312</td>\n",
              "      <td>XGBClassifier</td>\n",
              "    </tr>\n",
              "    <tr>\n",
              "      <th>4</th>\n",
              "      <td>_full_model_</td>\n",
              "      <td>0.174312</td>\n",
              "      <td>XGBClassifier</td>\n",
              "    </tr>\n",
              "    <tr>\n",
              "      <th>5</th>\n",
              "      <td>smoking_status_smokes</td>\n",
              "      <td>0.174430</td>\n",
              "      <td>XGBClassifier</td>\n",
              "    </tr>\n",
              "    <tr>\n",
              "      <th>6</th>\n",
              "      <td>work_type_Govt_job</td>\n",
              "      <td>0.174552</td>\n",
              "      <td>XGBClassifier</td>\n",
              "    </tr>\n",
              "    <tr>\n",
              "      <th>7</th>\n",
              "      <td>work_type_Self-employed</td>\n",
              "      <td>0.175263</td>\n",
              "      <td>XGBClassifier</td>\n",
              "    </tr>\n",
              "    <tr>\n",
              "      <th>8</th>\n",
              "      <td>Residence_type</td>\n",
              "      <td>0.175640</td>\n",
              "      <td>XGBClassifier</td>\n",
              "    </tr>\n",
              "    <tr>\n",
              "      <th>9</th>\n",
              "      <td>smoking_status_formerly smoked</td>\n",
              "      <td>0.175842</td>\n",
              "      <td>XGBClassifier</td>\n",
              "    </tr>\n",
              "    <tr>\n",
              "      <th>10</th>\n",
              "      <td>work_type_Private</td>\n",
              "      <td>0.176097</td>\n",
              "      <td>XGBClassifier</td>\n",
              "    </tr>\n",
              "    <tr>\n",
              "      <th>11</th>\n",
              "      <td>ever_married</td>\n",
              "      <td>0.176198</td>\n",
              "      <td>XGBClassifier</td>\n",
              "    </tr>\n",
              "    <tr>\n",
              "      <th>12</th>\n",
              "      <td>hypertension</td>\n",
              "      <td>0.176451</td>\n",
              "      <td>XGBClassifier</td>\n",
              "    </tr>\n",
              "    <tr>\n",
              "      <th>13</th>\n",
              "      <td>smoking_status_never smoked</td>\n",
              "      <td>0.177171</td>\n",
              "      <td>XGBClassifier</td>\n",
              "    </tr>\n",
              "    <tr>\n",
              "      <th>14</th>\n",
              "      <td>bmi</td>\n",
              "      <td>0.177889</td>\n",
              "      <td>XGBClassifier</td>\n",
              "    </tr>\n",
              "    <tr>\n",
              "      <th>15</th>\n",
              "      <td>avg_glucose_level</td>\n",
              "      <td>0.184321</td>\n",
              "      <td>XGBClassifier</td>\n",
              "    </tr>\n",
              "    <tr>\n",
              "      <th>16</th>\n",
              "      <td>_baseline_</td>\n",
              "      <td>0.478572</td>\n",
              "      <td>XGBClassifier</td>\n",
              "    </tr>\n",
              "    <tr>\n",
              "      <th>17</th>\n",
              "      <td>age</td>\n",
              "      <td>0.482553</td>\n",
              "      <td>XGBClassifier</td>\n",
              "    </tr>\n",
              "  </tbody>\n",
              "</table>\n",
              "</div>\n",
              "      <button class=\"colab-df-convert\" onclick=\"convertToInteractive('df-34c0b6a9-1bba-4ada-a7d8-405af5db42be')\"\n",
              "              title=\"Convert this dataframe to an interactive table.\"\n",
              "              style=\"display:none;\">\n",
              "        \n",
              "  <svg xmlns=\"http://www.w3.org/2000/svg\" height=\"24px\"viewBox=\"0 0 24 24\"\n",
              "       width=\"24px\">\n",
              "    <path d=\"M0 0h24v24H0V0z\" fill=\"none\"/>\n",
              "    <path d=\"M18.56 5.44l.94 2.06.94-2.06 2.06-.94-2.06-.94-.94-2.06-.94 2.06-2.06.94zm-11 1L8.5 8.5l.94-2.06 2.06-.94-2.06-.94L8.5 2.5l-.94 2.06-2.06.94zm10 10l.94 2.06.94-2.06 2.06-.94-2.06-.94-.94-2.06-.94 2.06-2.06.94z\"/><path d=\"M17.41 7.96l-1.37-1.37c-.4-.4-.92-.59-1.43-.59-.52 0-1.04.2-1.43.59L10.3 9.45l-7.72 7.72c-.78.78-.78 2.05 0 2.83L4 21.41c.39.39.9.59 1.41.59.51 0 1.02-.2 1.41-.59l7.78-7.78 2.81-2.81c.8-.78.8-2.07 0-2.86zM5.41 20L4 18.59l7.72-7.72 1.47 1.35L5.41 20z\"/>\n",
              "  </svg>\n",
              "      </button>\n",
              "      \n",
              "  <style>\n",
              "    .colab-df-container {\n",
              "      display:flex;\n",
              "      flex-wrap:wrap;\n",
              "      gap: 12px;\n",
              "    }\n",
              "\n",
              "    .colab-df-convert {\n",
              "      background-color: #E8F0FE;\n",
              "      border: none;\n",
              "      border-radius: 50%;\n",
              "      cursor: pointer;\n",
              "      display: none;\n",
              "      fill: #1967D2;\n",
              "      height: 32px;\n",
              "      padding: 0 0 0 0;\n",
              "      width: 32px;\n",
              "    }\n",
              "\n",
              "    .colab-df-convert:hover {\n",
              "      background-color: #E2EBFA;\n",
              "      box-shadow: 0px 1px 2px rgba(60, 64, 67, 0.3), 0px 1px 3px 1px rgba(60, 64, 67, 0.15);\n",
              "      fill: #174EA6;\n",
              "    }\n",
              "\n",
              "    [theme=dark] .colab-df-convert {\n",
              "      background-color: #3B4455;\n",
              "      fill: #D2E3FC;\n",
              "    }\n",
              "\n",
              "    [theme=dark] .colab-df-convert:hover {\n",
              "      background-color: #434B5C;\n",
              "      box-shadow: 0px 1px 3px 1px rgba(0, 0, 0, 0.15);\n",
              "      filter: drop-shadow(0px 1px 2px rgba(0, 0, 0, 0.3));\n",
              "      fill: #FFFFFF;\n",
              "    }\n",
              "  </style>\n",
              "\n",
              "      <script>\n",
              "        const buttonEl =\n",
              "          document.querySelector('#df-34c0b6a9-1bba-4ada-a7d8-405af5db42be button.colab-df-convert');\n",
              "        buttonEl.style.display =\n",
              "          google.colab.kernel.accessAllowed ? 'block' : 'none';\n",
              "\n",
              "        async function convertToInteractive(key) {\n",
              "          const element = document.querySelector('#df-34c0b6a9-1bba-4ada-a7d8-405af5db42be');\n",
              "          const dataTable =\n",
              "            await google.colab.kernel.invokeFunction('convertToInteractive',\n",
              "                                                     [key], {});\n",
              "          if (!dataTable) return;\n",
              "\n",
              "          const docLinkHtml = 'Like what you see? Visit the ' +\n",
              "            '<a target=\"_blank\" href=https://colab.research.google.com/notebooks/data_table.ipynb>data table notebook</a>'\n",
              "            + ' to learn more about interactive tables.';\n",
              "          element.innerHTML = '';\n",
              "          dataTable['output_type'] = 'display_data';\n",
              "          await google.colab.output.renderOutput(dataTable, element);\n",
              "          const docLink = document.createElement('div');\n",
              "          docLink.innerHTML = docLinkHtml;\n",
              "          element.appendChild(docLink);\n",
              "        }\n",
              "      </script>\n",
              "    </div>\n",
              "  </div>\n",
              "  "
            ],
            "text/plain": [
              "                          variable  dropout_loss          label\n",
              "0                           gender      0.173164  XGBClassifier\n",
              "1           smoking_status_Unknown      0.174268  XGBClassifier\n",
              "2                    heart_disease      0.174312  XGBClassifier\n",
              "3               work_type_children      0.174312  XGBClassifier\n",
              "4                     _full_model_      0.174312  XGBClassifier\n",
              "5            smoking_status_smokes      0.174430  XGBClassifier\n",
              "6               work_type_Govt_job      0.174552  XGBClassifier\n",
              "7          work_type_Self-employed      0.175263  XGBClassifier\n",
              "8                   Residence_type      0.175640  XGBClassifier\n",
              "9   smoking_status_formerly smoked      0.175842  XGBClassifier\n",
              "10               work_type_Private      0.176097  XGBClassifier\n",
              "11                    ever_married      0.176198  XGBClassifier\n",
              "12                    hypertension      0.176451  XGBClassifier\n",
              "13     smoking_status_never smoked      0.177171  XGBClassifier\n",
              "14                             bmi      0.177889  XGBClassifier\n",
              "15               avg_glucose_level      0.184321  XGBClassifier\n",
              "16                      _baseline_      0.478572  XGBClassifier\n",
              "17                             age      0.482553  XGBClassifier"
            ]
          },
          "execution_count": 10,
          "metadata": {},
          "output_type": "execute_result"
        }
      ],
      "source": []
    },
    {
      "attachments": {},
      "cell_type": "markdown",
      "metadata": {
        "id": "S5Okl89jITZ2"
      },
      "source": [
        "# **CP profiles for age and smoking status**\n",
        "The age variable is not so much correlated with other variables and CP profiles for age are similar as for the shape for different observations but their heights are different. As for the profiles for smoking status, they are all constant since smoking status is highly correlated with other variables connected with smoking. Moreover, it has the least importance for brain stroke which means that changing this its value *ceteris paribus* does not affect the model's behaviour.\n",
        "\n",
        "![](plots/plot_1.png)\n",
        "![](plots/plot_2.png)\n",
        "![](plots/plot_3.png)"
      ]
    },
    {
      "attachments": {},
      "cell_type": "markdown",
      "metadata": {
        "id": "7ilfdIK2IiRn"
      },
      "source": [
        "# **3. Different CP profiles**\n",
        "Since hypertension is highly correlated with heart diseases I guessed that CP profiles for hypertension variable could be different for some observations. To find them I simply plotted first five CP profiles:\n",
        "\n",
        "\n",
        "![](plots/plot_4_1.png)\n",
        "![](plots/plot_4_2.png)\n",
        "![](plots/plot_4_3.png)\n",
        "![](plots/plot_4_4.png)\n",
        "![](plots/plot_5_3.png)"
      ]
    },
    {
      "attachments": {},
      "cell_type": "markdown",
      "metadata": {
        "id": "x0CSY2GiInqP"
      },
      "source": [
        "For observations $0$ and $3$ we got different CP profiles. As explained before, it follows from the fact that hypertension is correlated with heart diseases. Thus, having the information about heart diseases, the information about hypertension is no longer needed.\n",
        "\n",
        "![](plots/plot_5_1.png)\n",
        "![](plots/plot_5_2.png)"
      ]
    },
    {
      "attachments": {},
      "cell_type": "markdown",
      "metadata": {
        "id": "6RvPy3ujItkC"
      },
      "source": [
        "# **4. Comparison between CP and PDP**\n",
        "I plotted CP profiles and aggregated profiles for age, bmi, residence type and ever_married variables. The shapes of the graphs for age are very similar but their heigths are different. It is probably due to the fact that on the CP profile the age is more than 60 which on its own causes bigger probability of the brain stroke. Even bigger age makes this probability even bigger. On the other hand, when we take the average the whole dataset, we take into account also younger patients for which the brain stroke is not very probable. The same considerations are valid for bmi.\n",
        "\n",
        "\n",
        "![](plots/plot_6_1.png)\n",
        "![](plots/plot_6_2.png)"
      ]
    },
    {
      "attachments": {},
      "cell_type": "markdown",
      "metadata": {
        "id": "bl16mowcKUnP"
      },
      "source": [
        "For Residence_type variable shapes are almost identical. As for the ever_married variable, PDP, which is global explanation, indicates that married people are less prone to brain stroke (although the difference in not such big that it could be a good reason for getting married). On the other hand, CP profile is simply constant."
      ]
    },
    {
      "attachments": {},
      "cell_type": "markdown",
      "metadata": {
        "id": "GmjJ9NtX8lvU"
      },
      "source": [
        "# **5. Comparison of PDP between XGBoost and Decision Tree Regressor**\n",
        "PDP for the age variable are similar for XGBoost and Decision Tree Regressor, but for the latter model the graph is much simpler since the model itself is much simpler. The same remark is true for bmi variable.\n",
        "\n",
        "\n",
        "![](plots/plot_7_1.png)\n",
        "![](plots/plot_7_2.png)"
      ]
    }
  ],
  "metadata": {
    "colab": {
      "provenance": []
    },
    "kernelspec": {
      "display_name": "xai_env",
      "language": "python",
      "name": "python3"
    },
    "language_info": {
      "codemirror_mode": {
        "name": "ipython",
        "version": 3
      },
      "file_extension": ".py",
      "mimetype": "text/x-python",
      "name": "python",
      "nbconvert_exporter": "python",
      "pygments_lexer": "ipython3",
      "version": "3.7.6"
    },
    "vscode": {
      "interpreter": {
        "hash": "af6808631b646a2ea9f8520b5c8cf5ced62fc365bea1d03b49f21ebd9b9b925b"
      }
    }
  },
  "nbformat": 4,
  "nbformat_minor": 0
}
