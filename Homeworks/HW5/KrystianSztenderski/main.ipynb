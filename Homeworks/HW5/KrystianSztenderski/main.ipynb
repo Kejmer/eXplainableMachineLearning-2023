{
 "cells": [
  {
   "cell_type": "markdown",
   "metadata": {},
   "source": [
    "# PVI for Heart Attack Analysis models\n",
    "\n",
    "In this work I will explain predictions obtained from a Random Forest model, Logistic Regression model.\n",
    "Permutation-based Variable Importance (**PVI**) implementations from the Python framework `lime`. Dataset used is The\n",
    "Heart Attack Analysis dataset\n",
    "([source](https://www.kaggle.com/datasets/rashikrahmanpritom/heart-attack-analysis-prediction-dataset)).\n",
    "\n",
    "Dataset attributes:\n",
    "\n",
    "- Age : Age of the patient\n",
    "- Sex : Sex of the patient\n",
    "- exang: exercise induced angina (1 = yes; 0 = no)\n",
    "- caa: number of major vessels (0-3)\n",
    "- cp : Chest Pain type\n",
    "    - Value 1: typical angina\n",
    "    - Value 2: atypical angina\n",
    "    - Value 3: non-anginal pain\n",
    "    - Value 4: asymptomatic\n",
    "- trtbps : resting blood pressure (in mm Hg)\n",
    "- chol : cholestoral in mg/dl fetched via BMI sensor\n",
    "- fbs : (fasting blood sugar > 120 mg/dl) (1 = true; 0 = false)\n",
    "- rest_ecg : resting electrocardiographic results\n",
    "    - Value 0: normal\n",
    "    - Value 1: having ST-T wave abnormality (T wave inversions and/or ST elevation or depression of > 0.05 mV)\n",
    "    - Value 2: showing probable or definite left ventricular hypertrophy by Estes' criteria\n",
    "- thalach : maximum heart rate achieved\n",
    "- oldpeak : Previous peak\n",
    "- slp : Slope\n",
    "- target : 0= less chance of heart attack 1= more chance of heart attack\n",
    "- thall : Thalium Stress Test result [0, 3]\n",
    "\n",
    "I have preprocessed the dataset by one hot encoding categorical features.\n",
    "\n",
    "## Permutation-based Variable Importance for Random Forest\n",
    "\n",
    "![](imgs/random_forest.png)\n",
    "\n",
    "Surprisingly the most important variables according to PVI for this model are different than for the methods used\n",
    "previously. Only `thall_2` (Thalium Stress Test - natural number from 0 to 3, here one hot encoded 2) has high\n",
    "importance for this method and for the previous ones. It seems that changing value of a binary variable has bigger\n",
    "impact on model's predictions because as we can seed from 10 most important variables only one is not a binary one.\n",
    "\n",
    "## 3 additional models\n",
    "\n",
    "![](imgs/random_forest_shallow.png)\n",
    "![](imgs/logistic_regression.png)\n",
    "![](imgs/logistic_regression_norm.png)\n",
    "\n",
    "I have trained additional 3 following models:\n",
    "- Random Forest shallow, max depth = 4\n",
    "- Logistic Regression, standard data (one hot encoded)\n",
    "- Logistic Regression, normalized data (min max scaler)\n",
    "\n",
    "We can see that in the 10 most important variables of the shallow random forest are the 3 most important variables from\n",
    "the previous methods, namely `oldpeak`, `thalachh` and `age` even though they do not place the highest. In case of\n",
    "regression models we can clearly see that all of the most important variables are binary, I expect it is due to the fact\n",
    "that regression models can easily leverage the simple domain of {0, 1} and assign high weights to this variables. for 2\n",
    "regression models there are not many differences in ordering of the important variables, but there are slight\n",
    "differences in magnitude of loss drop-out. Between random forest and logistic regression models there are not many\n",
    "visible differences apart from the fact that PVI did not deem important any numerical variables for regression models.\n",
    "\n",
    "## PVI vs classical tree feature importance\n",
    "![](imgs/rf_feature_importances.png)\n",
    "\n",
    "For the feature importance implemented in the `sklearn` package the 2 most important standing out variables are\n",
    "`restecg_2` and `cp_2`. Regarding the former (resecg - resting electrocardiographic results from {0, 1, 2}), it is the\n",
    "first time I see some form of explanation assigning it the highest importance. The later (cp - Chest Pain type from\n",
    "{1, 2, 3, 4}) is highly ranked for both methods. The `age` is highly important according to feature importances which\n",
    "probably means that it is often used in conditions.\n",
    "\n",
    "\n",
    "## PVI vs TreeSHAP\n",
    "![](imgs/tree_shap.png)\n",
    "\n",
    "TreeShap returns results more similar to the previous methods (SHAP, LIME, PDP), as for all methods `thall_2` is very\n",
    "important. "
   ]
  },
  {
   "cell_type": "markdown",
   "metadata": {},
   "source": [
    "## Appendix\n",
    "\n",
    "### Install required packages."
   ]
  },
  {
   "cell_type": "code",
   "execution_count": 1,
   "metadata": {},
   "outputs": [],
   "source": [
    "%%capture\n",
    "%pip install dalex jinja2 kaleido numpy nbformat pandas plotly torch scikit-learn shap"
   ]
  },
  {
   "cell_type": "markdown",
   "metadata": {},
   "source": [
    "### Imports and loading dataset"
   ]
  },
  {
   "cell_type": "code",
   "execution_count": 2,
   "metadata": {},
   "outputs": [
    {
     "name": "stderr",
     "output_type": "stream",
     "text": [
      "/home/krystian/PythonProjects/eXplainableMachineLearning-2023/.venv/lib/python3.8/site-packages/tqdm/auto.py:22: TqdmWarning: IProgress not found. Please update jupyter and ipywidgets. See https://ipywidgets.readthedocs.io/en/stable/user_install.html\n",
      "  from .autonotebook import tqdm as notebook_tqdm\n"
     ]
    },
    {
     "data": {
      "text/html": [
       "<div>\n",
       "<style scoped>\n",
       "    .dataframe tbody tr th:only-of-type {\n",
       "        vertical-align: middle;\n",
       "    }\n",
       "\n",
       "    .dataframe tbody tr th {\n",
       "        vertical-align: top;\n",
       "    }\n",
       "\n",
       "    .dataframe thead th {\n",
       "        text-align: right;\n",
       "    }\n",
       "</style>\n",
       "<table border=\"1\" class=\"dataframe\">\n",
       "  <thead>\n",
       "    <tr style=\"text-align: right;\">\n",
       "      <th></th>\n",
       "      <th>age</th>\n",
       "      <th>sex</th>\n",
       "      <th>cp</th>\n",
       "      <th>trtbps</th>\n",
       "      <th>chol</th>\n",
       "      <th>fbs</th>\n",
       "      <th>restecg</th>\n",
       "      <th>thalachh</th>\n",
       "      <th>exng</th>\n",
       "      <th>oldpeak</th>\n",
       "      <th>slp</th>\n",
       "      <th>caa</th>\n",
       "      <th>thall</th>\n",
       "      <th>output</th>\n",
       "    </tr>\n",
       "  </thead>\n",
       "  <tbody>\n",
       "    <tr>\n",
       "      <th>count</th>\n",
       "      <td>303.000000</td>\n",
       "      <td>303.000000</td>\n",
       "      <td>303.000000</td>\n",
       "      <td>303.000000</td>\n",
       "      <td>303.000000</td>\n",
       "      <td>303.000000</td>\n",
       "      <td>303.000000</td>\n",
       "      <td>303.000000</td>\n",
       "      <td>303.000000</td>\n",
       "      <td>303.000000</td>\n",
       "      <td>303.000000</td>\n",
       "      <td>303.000000</td>\n",
       "      <td>303.000000</td>\n",
       "      <td>303.000000</td>\n",
       "    </tr>\n",
       "    <tr>\n",
       "      <th>mean</th>\n",
       "      <td>54.366337</td>\n",
       "      <td>0.683168</td>\n",
       "      <td>0.966997</td>\n",
       "      <td>131.623762</td>\n",
       "      <td>246.264026</td>\n",
       "      <td>0.148515</td>\n",
       "      <td>0.528053</td>\n",
       "      <td>149.646865</td>\n",
       "      <td>0.326733</td>\n",
       "      <td>1.039604</td>\n",
       "      <td>1.399340</td>\n",
       "      <td>0.729373</td>\n",
       "      <td>2.313531</td>\n",
       "      <td>0.544554</td>\n",
       "    </tr>\n",
       "    <tr>\n",
       "      <th>std</th>\n",
       "      <td>9.082101</td>\n",
       "      <td>0.466011</td>\n",
       "      <td>1.032052</td>\n",
       "      <td>17.538143</td>\n",
       "      <td>51.830751</td>\n",
       "      <td>0.356198</td>\n",
       "      <td>0.525860</td>\n",
       "      <td>22.905161</td>\n",
       "      <td>0.469794</td>\n",
       "      <td>1.161075</td>\n",
       "      <td>0.616226</td>\n",
       "      <td>1.022606</td>\n",
       "      <td>0.612277</td>\n",
       "      <td>0.498835</td>\n",
       "    </tr>\n",
       "    <tr>\n",
       "      <th>min</th>\n",
       "      <td>29.000000</td>\n",
       "      <td>0.000000</td>\n",
       "      <td>0.000000</td>\n",
       "      <td>94.000000</td>\n",
       "      <td>126.000000</td>\n",
       "      <td>0.000000</td>\n",
       "      <td>0.000000</td>\n",
       "      <td>71.000000</td>\n",
       "      <td>0.000000</td>\n",
       "      <td>0.000000</td>\n",
       "      <td>0.000000</td>\n",
       "      <td>0.000000</td>\n",
       "      <td>0.000000</td>\n",
       "      <td>0.000000</td>\n",
       "    </tr>\n",
       "    <tr>\n",
       "      <th>25%</th>\n",
       "      <td>47.500000</td>\n",
       "      <td>0.000000</td>\n",
       "      <td>0.000000</td>\n",
       "      <td>120.000000</td>\n",
       "      <td>211.000000</td>\n",
       "      <td>0.000000</td>\n",
       "      <td>0.000000</td>\n",
       "      <td>133.500000</td>\n",
       "      <td>0.000000</td>\n",
       "      <td>0.000000</td>\n",
       "      <td>1.000000</td>\n",
       "      <td>0.000000</td>\n",
       "      <td>2.000000</td>\n",
       "      <td>0.000000</td>\n",
       "    </tr>\n",
       "    <tr>\n",
       "      <th>50%</th>\n",
       "      <td>55.000000</td>\n",
       "      <td>1.000000</td>\n",
       "      <td>1.000000</td>\n",
       "      <td>130.000000</td>\n",
       "      <td>240.000000</td>\n",
       "      <td>0.000000</td>\n",
       "      <td>1.000000</td>\n",
       "      <td>153.000000</td>\n",
       "      <td>0.000000</td>\n",
       "      <td>0.800000</td>\n",
       "      <td>1.000000</td>\n",
       "      <td>0.000000</td>\n",
       "      <td>2.000000</td>\n",
       "      <td>1.000000</td>\n",
       "    </tr>\n",
       "    <tr>\n",
       "      <th>75%</th>\n",
       "      <td>61.000000</td>\n",
       "      <td>1.000000</td>\n",
       "      <td>2.000000</td>\n",
       "      <td>140.000000</td>\n",
       "      <td>274.500000</td>\n",
       "      <td>0.000000</td>\n",
       "      <td>1.000000</td>\n",
       "      <td>166.000000</td>\n",
       "      <td>1.000000</td>\n",
       "      <td>1.600000</td>\n",
       "      <td>2.000000</td>\n",
       "      <td>1.000000</td>\n",
       "      <td>3.000000</td>\n",
       "      <td>1.000000</td>\n",
       "    </tr>\n",
       "    <tr>\n",
       "      <th>max</th>\n",
       "      <td>77.000000</td>\n",
       "      <td>1.000000</td>\n",
       "      <td>3.000000</td>\n",
       "      <td>200.000000</td>\n",
       "      <td>564.000000</td>\n",
       "      <td>1.000000</td>\n",
       "      <td>2.000000</td>\n",
       "      <td>202.000000</td>\n",
       "      <td>1.000000</td>\n",
       "      <td>6.200000</td>\n",
       "      <td>2.000000</td>\n",
       "      <td>4.000000</td>\n",
       "      <td>3.000000</td>\n",
       "      <td>1.000000</td>\n",
       "    </tr>\n",
       "  </tbody>\n",
       "</table>\n",
       "</div>"
      ],
      "text/plain": [
       "              age         sex          cp      trtbps        chol         fbs  \\\n",
       "count  303.000000  303.000000  303.000000  303.000000  303.000000  303.000000   \n",
       "mean    54.366337    0.683168    0.966997  131.623762  246.264026    0.148515   \n",
       "std      9.082101    0.466011    1.032052   17.538143   51.830751    0.356198   \n",
       "min     29.000000    0.000000    0.000000   94.000000  126.000000    0.000000   \n",
       "25%     47.500000    0.000000    0.000000  120.000000  211.000000    0.000000   \n",
       "50%     55.000000    1.000000    1.000000  130.000000  240.000000    0.000000   \n",
       "75%     61.000000    1.000000    2.000000  140.000000  274.500000    0.000000   \n",
       "max     77.000000    1.000000    3.000000  200.000000  564.000000    1.000000   \n",
       "\n",
       "          restecg    thalachh        exng     oldpeak         slp         caa  \\\n",
       "count  303.000000  303.000000  303.000000  303.000000  303.000000  303.000000   \n",
       "mean     0.528053  149.646865    0.326733    1.039604    1.399340    0.729373   \n",
       "std      0.525860   22.905161    0.469794    1.161075    0.616226    1.022606   \n",
       "min      0.000000   71.000000    0.000000    0.000000    0.000000    0.000000   \n",
       "25%      0.000000  133.500000    0.000000    0.000000    1.000000    0.000000   \n",
       "50%      1.000000  153.000000    0.000000    0.800000    1.000000    0.000000   \n",
       "75%      1.000000  166.000000    1.000000    1.600000    2.000000    1.000000   \n",
       "max      2.000000  202.000000    1.000000    6.200000    2.000000    4.000000   \n",
       "\n",
       "            thall      output  \n",
       "count  303.000000  303.000000  \n",
       "mean     2.313531    0.544554  \n",
       "std      0.612277    0.498835  \n",
       "min      0.000000    0.000000  \n",
       "25%      2.000000    0.000000  \n",
       "50%      2.000000    1.000000  \n",
       "75%      3.000000    1.000000  \n",
       "max      3.000000    1.000000  "
      ]
     },
     "execution_count": 2,
     "metadata": {},
     "output_type": "execute_result"
    }
   ],
   "source": [
    "import dalex as dx\n",
    "import numpy as np\n",
    "import pandas as pd\n",
    "import plotly.express as px\n",
    "import shap\n",
    "from sklearn.ensemble import RandomForestClassifier\n",
    "from sklearn.linear_model import RidgeClassifier\n",
    "from sklearn.metrics import accuracy_score\n",
    "from sklearn.model_selection import train_test_split\n",
    "from sklearn.preprocessing import MinMaxScaler\n",
    "\n",
    "rng = np.random.default_rng(0)\n",
    "\n",
    "TARGET_COLUMN = \"output\"\n",
    "df = pd.read_csv(\"heart.csv\")\n",
    "df.describe()"
   ]
  },
  {
   "cell_type": "markdown",
   "metadata": {},
   "source": [
    "Shuffling the data, extracting target column and one hot encoding categorical columns.."
   ]
  },
  {
   "cell_type": "code",
   "execution_count": 3,
   "metadata": {},
   "outputs": [
    {
     "data": {
      "text/plain": [
       "(['sex', 'cp', 'fbs', 'restecg', 'exng', 'slp', 'caa', 'thall'],\n",
       " ['oldpeak', 'age', 'trtbps', 'chol', 'thalachh'])"
      ]
     },
     "execution_count": 3,
     "metadata": {},
     "output_type": "execute_result"
    }
   ],
   "source": [
    "df = df.sample(frac=1, random_state=0).reset_index(drop=True)\n",
    "\n",
    "y = df[[TARGET_COLUMN]]\n",
    "\n",
    "x = df.drop(TARGET_COLUMN, axis=1)\n",
    "\n",
    "categorical_cols = [\"sex\", \"cp\", \"fbs\", \"restecg\", \"exng\", \"slp\", \"caa\", \"thall\"]\n",
    "numerical_cols = list(set(x.columns) - set(categorical_cols))\n",
    "\n",
    "x = pd.get_dummies(x, columns=categorical_cols, drop_first=True)\n",
    "n_columns = len(x.columns)\n",
    "\n",
    "categorical_cols, numerical_cols"
   ]
  },
  {
   "cell_type": "code",
   "execution_count": 4,
   "metadata": {},
   "outputs": [],
   "source": [
    "x_train, x_test, y_train, y_test = train_test_split(x, y, train_size=0.75, random_state=0, shuffle=True, stratify=y)"
   ]
  },
  {
   "cell_type": "markdown",
   "metadata": {},
   "source": [
    "## Random Forest models"
   ]
  },
  {
   "cell_type": "code",
   "execution_count": 5,
   "metadata": {},
   "outputs": [
    {
     "name": "stderr",
     "output_type": "stream",
     "text": [
      "A column-vector y was passed when a 1d array was expected. Please change the shape of y to (n_samples,), for example using ravel().\n"
     ]
    }
   ],
   "source": [
    "model = RandomForestClassifier(random_state=0).fit(x_train, y_train)"
   ]
  },
  {
   "cell_type": "code",
   "execution_count": 6,
   "metadata": {},
   "outputs": [
    {
     "name": "stdout",
     "output_type": "stream",
     "text": [
      "Preparation of a new explainer is initiated\n",
      "\n",
      "  -> data              : 76 rows 22 cols\n",
      "  -> target variable   : Parameter 'y' was a pandas.DataFrame. Converted to a numpy.ndarray.\n",
      "  -> target variable   : 76 values\n",
      "  -> model_class       : sklearn.ensemble._forest.RandomForestClassifier (default)\n",
      "  -> label             : Not specified, model's class short name will be used. (default)\n",
      "  -> predict function  : <function predict_random_forest at 0x7f9add8b84c0> will be used\n",
      "  -> predict function  : Accepts pandas.DataFrame and numpy.ndarray.\n",
      "  -> predicted values  : min = 0.02, mean = 0.566, max = 1.0\n",
      "  -> model type        : classification will be used (default)\n",
      "  -> residual function : difference between y and yhat (default)\n",
      "  -> residuals         : min = -0.93, mean = -0.0266, max = 0.68\n",
      "  -> model_info        : package sklearn\n",
      "\n",
      "A new explainer has been created!\n"
     ]
    },
    {
     "name": "stderr",
     "output_type": "stream",
     "text": [
      "X does not have valid feature names, but RandomForestClassifier was fitted with feature names\n"
     ]
    }
   ],
   "source": [
    "def predict_random_forest(m, d): \n",
    "    return m.predict_proba(d)[:, 1]\n",
    "\n",
    "explainer = dx.Explainer(model, x_test, y_test, predict_function=predict_random_forest)"
   ]
  },
  {
   "cell_type": "code",
   "execution_count": 7,
   "metadata": {},
   "outputs": [
    {
     "data": {
      "text/html": [
       "<div>\n",
       "<style scoped>\n",
       "    .dataframe tbody tr th:only-of-type {\n",
       "        vertical-align: middle;\n",
       "    }\n",
       "\n",
       "    .dataframe tbody tr th {\n",
       "        vertical-align: top;\n",
       "    }\n",
       "\n",
       "    .dataframe thead th {\n",
       "        text-align: right;\n",
       "    }\n",
       "</style>\n",
       "<table border=\"1\" class=\"dataframe\">\n",
       "  <thead>\n",
       "    <tr style=\"text-align: right;\">\n",
       "      <th></th>\n",
       "      <th>recall</th>\n",
       "      <th>precision</th>\n",
       "      <th>f1</th>\n",
       "      <th>accuracy</th>\n",
       "      <th>auc</th>\n",
       "    </tr>\n",
       "  </thead>\n",
       "  <tbody>\n",
       "    <tr>\n",
       "      <th>RandomForestClassifier</th>\n",
       "      <td>0.853659</td>\n",
       "      <td>0.795455</td>\n",
       "      <td>0.823529</td>\n",
       "      <td>0.802632</td>\n",
       "      <td>0.907317</td>\n",
       "    </tr>\n",
       "  </tbody>\n",
       "</table>\n",
       "</div>"
      ],
      "text/plain": [
       "<dalex.model_explanations._model_performance.object.ModelPerformance at 0x7f9add87ff70>"
      ]
     },
     "execution_count": 7,
     "metadata": {},
     "output_type": "execute_result"
    }
   ],
   "source": [
    "explainer.model_performance()"
   ]
  },
  {
   "cell_type": "code",
   "execution_count": 8,
   "metadata": {},
   "outputs": [],
   "source": [
    "def plot_pvi(explainer: dx.Explainer, save_path: str, title_suffix:str):\n",
    "    pvi = explainer.model_parts(random_state=0)\n",
    "    print(pvi.result)\n",
    "\n",
    "    fig = pvi.plot(show=False).update_layout(autosize=False, width=600, height=450, title=f\"Permutation-based Variable Importance {title_suffix}\")\n",
    "    fig.write_image(save_path)\n",
    "    fig.show()"
   ]
  },
  {
   "cell_type": "code",
   "execution_count": 9,
   "metadata": {},
   "outputs": [
    {
     "name": "stdout",
     "output_type": "stream",
     "text": [
      "        variable  dropout_loss                   label\n",
      "0            age      0.087666  RandomForestClassifier\n",
      "1           chol      0.089338  RandomForestClassifier\n",
      "2          slp_1      0.091672  RandomForestClassifier\n",
      "3      restecg_2      0.091916  RandomForestClassifier\n",
      "4        thall_1      0.092056  RandomForestClassifier\n",
      "5   _full_model_      0.092683  RandomForestClassifier\n",
      "6          caa_4      0.092683  RandomForestClassifier\n",
      "7         trtbps      0.092962  RandomForestClassifier\n",
      "8      restecg_1      0.093833  RandomForestClassifier\n",
      "9          slp_2      0.094251  RandomForestClassifier\n",
      "10         fbs_1      0.094390  RandomForestClassifier\n",
      "11      thalachh      0.094808  RandomForestClassifier\n",
      "12          cp_3      0.097317  RandomForestClassifier\n",
      "13         caa_3      0.097770  RandomForestClassifier\n",
      "14          cp_1      0.097840  RandomForestClassifier\n",
      "15       thall_3      0.099895  RandomForestClassifier\n",
      "16       oldpeak      0.102195  RandomForestClassifier\n",
      "17        exng_1      0.103345  RandomForestClassifier\n",
      "18         caa_2      0.105575  RandomForestClassifier\n",
      "19         caa_1      0.105714  RandomForestClassifier\n",
      "20          cp_2      0.105958  RandomForestClassifier\n",
      "21       thall_2      0.110801  RandomForestClassifier\n",
      "22         sex_1      0.112613  RandomForestClassifier\n",
      "23    _baseline_      0.512439  RandomForestClassifier\n"
     ]
    },
    {
     "data": {
      "application/vnd.plotly.v1+json": {
       "config": {
        "plotlyServerURL": "https://plot.ly"
       },
       "data": [
        {
         "base": 0.09268292682926826,
         "hoverinfo": "text",
         "hoverlabel": {
          "bgcolor": "rgba(0,0,0,0.8)"
         },
         "hovertext": [
          "Model: RandomForestClassifier loss after<br>variable: sex_1 is permuted: 0.113<br>Drop-out loss change: +0.02",
          "Model: RandomForestClassifier loss after<br>variable: thall_2 is permuted: 0.111<br>Drop-out loss change: +0.018",
          "Model: RandomForestClassifier loss after<br>variable: cp_2 is permuted: 0.106<br>Drop-out loss change: +0.013",
          "Model: RandomForestClassifier loss after<br>variable: caa_1 is permuted: 0.106<br>Drop-out loss change: +0.013",
          "Model: RandomForestClassifier loss after<br>variable: caa_2 is permuted: 0.106<br>Drop-out loss change: +0.013",
          "Model: RandomForestClassifier loss after<br>variable: exng_1 is permuted: 0.103<br>Drop-out loss change: +0.011",
          "Model: RandomForestClassifier loss after<br>variable: oldpeak is permuted: 0.102<br>Drop-out loss change: +0.01",
          "Model: RandomForestClassifier loss after<br>variable: thall_3 is permuted: 0.1<br>Drop-out loss change: +0.007",
          "Model: RandomForestClassifier loss after<br>variable: cp_1 is permuted: 0.098<br>Drop-out loss change: +0.005",
          "Model: RandomForestClassifier loss after<br>variable: caa_3 is permuted: 0.098<br>Drop-out loss change: +0.005"
         ],
         "marker": {
          "color": "#46bac2"
         },
         "orientation": "h",
         "showlegend": false,
         "text": [
          "+0.02",
          "+0.018",
          "+0.013",
          "+0.013",
          "+0.013",
          "+0.011",
          "+0.01",
          "+0.007",
          "+0.005",
          "+0.005"
         ],
         "textposition": "outside",
         "type": "bar",
         "x": [
          0.019930313588850196,
          0.01811846689895473,
          0.01327526132404186,
          0.013031358885017455,
          0.012891986062717825,
          0.010662020905923386,
          0.009512195121951228,
          0.007212543554006995,
          0.005156794425087111,
          0.0050871080139373165
         ],
         "xaxis": "x",
         "y": [
          "sex_1",
          "thall_2",
          "cp_2",
          "caa_1",
          "caa_2",
          "exng_1",
          "oldpeak",
          "thall_3",
          "cp_1",
          "caa_3"
         ],
         "yaxis": "y"
        }
       ],
       "layout": {
        "annotations": [
         {
          "font": {
           "size": 16
          },
          "showarrow": false,
          "text": "RandomForestClassifier",
          "x": 0.5,
          "xanchor": "center",
          "xref": "paper",
          "y": 1,
          "yanchor": "bottom",
          "yref": "paper"
         },
         {
          "font": {
           "size": 16
          },
          "showarrow": false,
          "text": "drop-out loss",
          "x": 0.5,
          "xanchor": "center",
          "xref": "paper",
          "y": 0,
          "yanchor": "top",
          "yref": "paper",
          "yshift": -30
         }
        ],
        "autosize": false,
        "font": {
         "color": "#371ea3"
        },
        "height": 450,
        "margin": {
         "b": 71,
         "r": 30,
         "t": 78
        },
        "shapes": [
         {
          "line": {
           "color": "#371ea3",
           "dash": "dot",
           "width": 1.5
          },
          "type": "line",
          "x0": 0.09268292682926826,
          "x1": 0.09268292682926826,
          "xref": "x",
          "y0": -1,
          "y1": 10,
          "yref": "y"
         }
        ],
        "template": {
         "data": {
          "scatter": [
           {
            "type": "scatter"
           }
          ]
         }
        },
        "title": {
         "text": "Permutation-based Variable Importance Random Forest Standard"
        },
        "width": 600,
        "xaxis": {
         "anchor": "y",
         "automargin": true,
         "domain": [
          0,
          1
         ],
         "fixedrange": true,
         "gridwidth": 2,
         "range": [
          0.08392334494773519,
          0.1163554006968641
         ],
         "tickcolor": "white",
         "ticklen": 3,
         "ticks": "outside",
         "type": "linear",
         "zeroline": false
        },
        "yaxis": {
         "anchor": "x",
         "automargin": true,
         "autorange": "reversed",
         "domain": [
          0,
          1
         ],
         "fixedrange": true,
         "gridwidth": 2,
         "tickcolor": "white",
         "ticklen": 10,
         "ticks": "outside",
         "type": "category"
        }
       }
      }
     },
     "metadata": {},
     "output_type": "display_data"
    }
   ],
   "source": [
    "plot_pvi(explainer, \"imgs/random_forest.png\", \"Random Forest Standard\")"
   ]
  },
  {
   "cell_type": "markdown",
   "metadata": {},
   "source": [
    "Hacked way to get the same style plot of feature importances."
   ]
  },
  {
   "cell_type": "code",
   "execution_count": 10,
   "metadata": {},
   "outputs": [
    {
     "data": {
      "application/vnd.plotly.v1+json": {
       "config": {
        "plotlyServerURL": "https://plot.ly"
       },
       "data": [
        {
         "base": 0.03445713715314545,
         "hoverinfo": "text",
         "hoverlabel": {
          "bgcolor": "rgba(0,0,0,0.8)"
         },
         "hovertext": [
          "Model: RandomForestClassifier loss after<br>variable: restecg_2 is permuted: 0.122<br>Drop-out loss change: +0.087",
          "Model: RandomForestClassifier loss after<br>variable: cp_2 is permuted: 0.119<br>Drop-out loss change: +0.084",
          "Model: RandomForestClassifier loss after<br>variable: thall_1 is permuted: 0.102<br>Drop-out loss change: +0.067",
          "Model: RandomForestClassifier loss after<br>variable: age is permuted: 0.095<br>Drop-out loss change: +0.061",
          "Model: RandomForestClassifier loss after<br>variable: slp_1 is permuted: 0.092<br>Drop-out loss change: +0.058",
          "Model: RandomForestClassifier loss after<br>variable: thall_2 is permuted: 0.069<br>Drop-out loss change: +0.035",
          "Model: RandomForestClassifier loss after<br>variable: chol is permuted: 0.068<br>Drop-out loss change: +0.033",
          "Model: RandomForestClassifier loss after<br>variable: cp_3 is permuted: 0.046<br>Drop-out loss change: +0.011",
          "Model: RandomForestClassifier loss after<br>variable: thall_3 is permuted: 0.039<br>Drop-out loss change: +0.004"
         ],
         "marker": {
          "color": "#46bac2"
         },
         "orientation": "h",
         "showlegend": false,
         "text": [
          "+0.087",
          "+0.084",
          "+0.067",
          "+0.061",
          "+0.058",
          "+0.035",
          "+0.033",
          "+0.011",
          "+0.004"
         ],
         "textposition": "outside",
         "type": "bar",
         "x": [
          0.08739113662842078,
          0.08443941764284908,
          0.06731542686628475,
          0.060814907831795634,
          0.057520718892397016,
          0.03467952456984921,
          0.03323680266867131,
          0.011414724897925575,
          0.004275887268683089
         ],
         "xaxis": "x",
         "y": [
          "restecg_2",
          "cp_2",
          "thall_1",
          "age",
          "slp_1",
          "thall_2",
          "chol",
          "cp_3",
          "thall_3"
         ],
         "yaxis": "y"
        }
       ],
       "layout": {
        "annotations": [
         {
          "font": {
           "size": 16
          },
          "showarrow": false,
          "text": "RandomForestClassifier",
          "x": 0.5,
          "xanchor": "center",
          "xref": "paper",
          "y": 1,
          "yanchor": "bottom",
          "yref": "paper"
         },
         {
          "font": {
           "size": 16
          },
          "showarrow": false,
          "text": "feature importances",
          "x": 0.5,
          "xanchor": "center",
          "xref": "paper",
          "y": 0,
          "yanchor": "top",
          "yref": "paper",
          "yshift": -30
         }
        ],
        "autosize": false,
        "font": {
         "color": "#371ea3"
        },
        "height": 450,
        "margin": {
         "b": 71,
         "r": 30,
         "t": 78
        },
        "shapes": [
         {
          "line": {
           "color": "#371ea3",
           "dash": "dot",
           "width": 1.5
          },
          "type": "line",
          "x0": 0.03445713715314545,
          "x1": 0.03445713715314545,
          "xref": "x",
          "y0": -1,
          "y1": 10,
          "yref": "y"
         }
        ],
        "template": {
         "data": {
          "scatter": [
           {
            "type": "scatter"
           }
          ]
         }
        },
        "title": {
         "text": "Random forest feature importances"
        },
        "width": 900,
        "xaxis": {
         "anchor": "y",
         "automargin": true,
         "domain": [
          0,
          1
         ],
         "fixedrange": true,
         "gridwidth": 2,
         "range": [
          null,
          null
         ],
         "tickcolor": "white",
         "ticklen": 3,
         "ticks": "outside",
         "type": "linear",
         "zeroline": false
        },
        "yaxis": {
         "anchor": "x",
         "automargin": true,
         "autorange": "reversed",
         "domain": [
          0,
          1
         ],
         "fixedrange": true,
         "gridwidth": 2,
         "tickcolor": "white",
         "ticklen": 10,
         "ticks": "outside",
         "type": "category"
        }
       }
      }
     },
     "metadata": {},
     "output_type": "display_data"
    }
   ],
   "source": [
    "pvi = explainer.model_parts(random_state=0)\n",
    "pvi.result[\"dropout_loss\"] = pd.Series(model.feature_importances_)\n",
    "\n",
    "fig = pvi.plot(show=False).update_layout(\n",
    "    autosize=False,\n",
    "    width=900,\n",
    "    height=450,\n",
    "    title=\"Random forest feature importances\",\n",
    ")\n",
    "fig.layout[\"annotations\"][1][\"text\"] = \"feature importances\"\n",
    "fig.write_image(\"imgs/rf_feature_importances.png\")\n",
    "fig.show()"
   ]
  },
  {
   "cell_type": "markdown",
   "metadata": {},
   "source": [
    "## TreeSHAP variable importance"
   ]
  },
  {
   "cell_type": "code",
   "execution_count": 13,
   "metadata": {},
   "outputs": [
    {
     "data": {
      "image/png": "[encoded data removed]",
      "text/plain": [
       "<Figure size 800x950 with 1 Axes>"
      ]
     },
     "metadata": {},
     "output_type": "display_data"
    }
   ],
   "source": [
    "shap_vi = explainer.model_parts(type=\"shap_wrapper\", shap_explainer_type=\"TreeExplainer\", check_additivity=False)\n",
    "fig = shap_vi.plot()"
   ]
  },
  {
   "cell_type": "markdown",
   "metadata": {},
   "source": [
    "### Shallow Random Forest, max depth=4"
   ]
  },
  {
   "cell_type": "code",
   "execution_count": null,
   "metadata": {},
   "outputs": [
    {
     "name": "stdout",
     "output_type": "stream",
     "text": [
      "Preparation of a new explainer is initiated\n",
      "\n",
      "  -> data              : 76 rows 22 cols\n",
      "  -> target variable   : Parameter 'y' was a pandas.DataFrame. Converted to a numpy.ndarray.\n",
      "  -> target variable   : 76 values\n",
      "  -> model_class       : sklearn.ensemble._forest.RandomForestClassifier (default)\n",
      "  -> label             : Not specified, model's class short name will be used. (default)\n",
      "  -> predict function  : <function predict_random_forest at 0x7f3115fcf700> will be used\n",
      "  -> predict function  : Accepts pandas.DataFrame and numpy.ndarray.\n",
      "  -> predicted values  : min = 0.0904, mean = 0.575, max = 0.945\n",
      "  -> model type        : classification will be used (default)\n",
      "  -> residual function : difference between y and yhat (default)\n",
      "  -> residuals         : min = -0.884, mean = -0.0353, max = 0.657\n",
      "  -> model_info        : package sklearn\n",
      "\n",
      "A new explainer has been created!\n"
     ]
    },
    {
     "name": "stderr",
     "output_type": "stream",
     "text": [
      "/tmp/ipykernel_12578/1648649002.py:1: DataConversionWarning:\n",
      "\n",
      "A column-vector y was passed when a 1d array was expected. Please change the shape of y to (n_samples,), for example using ravel().\n",
      "\n",
      "/home/krystian/PythonProjects/eXplainableMachineLearning-2023/.venv/lib/python3.8/site-packages/sklearn/base.py:450: UserWarning:\n",
      "\n",
      "X does not have valid feature names, but RandomForestClassifier was fitted with feature names\n",
      "\n"
     ]
    },
    {
     "data": {
      "text/html": [
       "<div>\n",
       "<style scoped>\n",
       "    .dataframe tbody tr th:only-of-type {\n",
       "        vertical-align: middle;\n",
       "    }\n",
       "\n",
       "    .dataframe tbody tr th {\n",
       "        vertical-align: top;\n",
       "    }\n",
       "\n",
       "    .dataframe thead th {\n",
       "        text-align: right;\n",
       "    }\n",
       "</style>\n",
       "<table border=\"1\" class=\"dataframe\">\n",
       "  <thead>\n",
       "    <tr style=\"text-align: right;\">\n",
       "      <th></th>\n",
       "      <th>recall</th>\n",
       "      <th>precision</th>\n",
       "      <th>f1</th>\n",
       "      <th>accuracy</th>\n",
       "      <th>auc</th>\n",
       "    </tr>\n",
       "  </thead>\n",
       "  <tbody>\n",
       "    <tr>\n",
       "      <th>RandomForestClassifier</th>\n",
       "      <td>0.853659</td>\n",
       "      <td>0.795455</td>\n",
       "      <td>0.823529</td>\n",
       "      <td>0.802632</td>\n",
       "      <td>0.913589</td>\n",
       "    </tr>\n",
       "  </tbody>\n",
       "</table>\n",
       "</div>"
      ],
      "text/plain": [
       "<dalex.model_explanations._model_performance.object.ModelPerformance at 0x7f31bafa0fa0>"
      ]
     },
     "execution_count": 12,
     "metadata": {},
     "output_type": "execute_result"
    }
   ],
   "source": [
    "rf_shallow = RandomForestClassifier(random_state=0, max_depth=4).fit(x_train, y_train)\n",
    "rf_shallow_explainer = dx.Explainer(rf_shallow, x_test, y_test, predict_function=predict_random_forest)\n",
    "rf_shallow_explainer.model_performance()"
   ]
  },
  {
   "cell_type": "code",
   "execution_count": null,
   "metadata": {},
   "outputs": [
    {
     "name": "stdout",
     "output_type": "stream",
     "text": [
      "        variable  dropout_loss                   label\n",
      "0          slp_1      0.086132  RandomForestClassifier\n",
      "1   _full_model_      0.086411  RandomForestClassifier\n",
      "2          caa_4      0.086411  RandomForestClassifier\n",
      "3          fbs_1      0.086620  RandomForestClassifier\n",
      "4      restecg_2      0.087108  RandomForestClassifier\n",
      "5          caa_3      0.087178  RandomForestClassifier\n",
      "6          slp_2      0.087456  RandomForestClassifier\n",
      "7        thall_1      0.087805  RandomForestClassifier\n",
      "8      restecg_1      0.088223  RandomForestClassifier\n",
      "9           cp_3      0.088920  RandomForestClassifier\n",
      "10        trtbps      0.090105  RandomForestClassifier\n",
      "11          chol      0.090732  RandomForestClassifier\n",
      "12          cp_1      0.091150  RandomForestClassifier\n",
      "13           age      0.091707  RandomForestClassifier\n",
      "14          cp_2      0.095958  RandomForestClassifier\n",
      "15      thalachh      0.096655  RandomForestClassifier\n",
      "16        exng_1      0.097073  RandomForestClassifier\n",
      "17         caa_1      0.097143  RandomForestClassifier\n",
      "18         sex_1      0.098467  RandomForestClassifier\n",
      "19         caa_2      0.098955  RandomForestClassifier\n",
      "20       thall_3      0.101742  RandomForestClassifier\n",
      "21       oldpeak      0.102021  RandomForestClassifier\n",
      "22       thall_2      0.121812  RandomForestClassifier\n",
      "23    _baseline_      0.510732  RandomForestClassifier\n"
     ]
    },
    {
     "data": {
      "application/vnd.plotly.v1+json": {
       "config": {
        "plotlyServerURL": "https://plot.ly"
       },
       "data": [
        {
         "base": 0.08641114982578402,
         "hoverinfo": "text",
         "hoverlabel": {
          "bgcolor": "rgba(0,0,0,0.8)"
         },
         "hovertext": [
          "Model: RandomForestClassifier loss after<br>variable: thall_2 is permuted: 0.122<br>Drop-out loss change: +0.035",
          "Model: RandomForestClassifier loss after<br>variable: oldpeak is permuted: 0.102<br>Drop-out loss change: +0.016",
          "Model: RandomForestClassifier loss after<br>variable: thall_3 is permuted: 0.102<br>Drop-out loss change: +0.015",
          "Model: RandomForestClassifier loss after<br>variable: caa_2 is permuted: 0.099<br>Drop-out loss change: +0.013",
          "Model: RandomForestClassifier loss after<br>variable: sex_1 is permuted: 0.098<br>Drop-out loss change: +0.012",
          "Model: RandomForestClassifier loss after<br>variable: caa_1 is permuted: 0.097<br>Drop-out loss change: +0.011",
          "Model: RandomForestClassifier loss after<br>variable: exng_1 is permuted: 0.097<br>Drop-out loss change: +0.011",
          "Model: RandomForestClassifier loss after<br>variable: thalachh is permuted: 0.097<br>Drop-out loss change: +0.01",
          "Model: RandomForestClassifier loss after<br>variable: cp_2 is permuted: 0.096<br>Drop-out loss change: +0.01",
          "Model: RandomForestClassifier loss after<br>variable: age is permuted: 0.092<br>Drop-out loss change: +0.005"
         ],
         "marker": {
          "color": "#46bac2"
         },
         "orientation": "h",
         "showlegend": false,
         "text": [
          "+0.035",
          "+0.016",
          "+0.015",
          "+0.013",
          "+0.012",
          "+0.011",
          "+0.011",
          "+0.01",
          "+0.01",
          "+0.005"
         ],
         "textposition": "outside",
         "type": "bar",
         "x": [
          0.035400696864111486,
          0.015609756097560906,
          0.015331010452961633,
          0.012543554006968632,
          0.01205574912891981,
          0.010731707317073125,
          0.010662020905923261,
          0.010243902439024358,
          0.009547038327526097,
          0.005296167247386727
         ],
         "xaxis": "x",
         "y": [
          "thall_2",
          "oldpeak",
          "thall_3",
          "caa_2",
          "sex_1",
          "caa_1",
          "exng_1",
          "thalachh",
          "cp_2",
          "age"
         ],
         "yaxis": "y"
        }
       ],
       "layout": {
        "annotations": [
         {
          "font": {
           "size": 16
          },
          "showarrow": false,
          "text": "RandomForestClassifier",
          "x": 0.5,
          "xanchor": "center",
          "xref": "paper",
          "y": 1,
          "yanchor": "bottom",
          "yref": "paper"
         },
         {
          "font": {
           "size": 16
          },
          "showarrow": false,
          "text": "drop-out loss",
          "x": 0.5,
          "xanchor": "center",
          "xref": "paper",
          "y": 0,
          "yanchor": "top",
          "yref": "paper",
          "yshift": -30
         }
        ],
        "autosize": false,
        "font": {
         "color": "#371ea3"
        },
        "height": 450,
        "margin": {
         "b": 71,
         "r": 30,
         "t": 78
        },
        "shapes": [
         {
          "line": {
           "color": "#371ea3",
           "dash": "dot",
           "width": 1.5
          },
          "type": "line",
          "x0": 0.08641114982578402,
          "x1": 0.08641114982578402,
          "xref": "x",
          "y0": -1,
          "y1": 10,
          "yref": "y"
         }
        ],
        "template": {
         "data": {
          "scatter": [
           {
            "type": "scatter"
           }
          ]
         }
        },
        "title": {
         "text": "Permutation-based Variable Importance Random Forest Shallow"
        },
        "width": 600,
        "xaxis": {
         "anchor": "y",
         "automargin": true,
         "domain": [
          0,
          1
         ],
         "fixedrange": true,
         "gridwidth": 2,
         "range": [
          0.08078048780487807,
          0.1271637630662021
         ],
         "tickcolor": "white",
         "ticklen": 3,
         "ticks": "outside",
         "type": "linear",
         "zeroline": false
        },
        "yaxis": {
         "anchor": "x",
         "automargin": true,
         "autorange": "reversed",
         "domain": [
          0,
          1
         ],
         "fixedrange": true,
         "gridwidth": 2,
         "tickcolor": "white",
         "ticklen": 10,
         "ticks": "outside",
         "type": "category"
        }
       }
      }
     },
     "metadata": {},
     "output_type": "display_data"
    }
   ],
   "source": [
    "plot_pvi(rf_shallow_explainer, \"imgs/random_forest_shallow.png\", \"Random Forest Shallow\")"
   ]
  },
  {
   "cell_type": "markdown",
   "metadata": {},
   "source": [
    "## Logistic Regression"
   ]
  },
  {
   "cell_type": "code",
   "execution_count": null,
   "metadata": {},
   "outputs": [],
   "source": [
    "lr_clf = RidgeClassifier(random_state=0).fit(x_train, y_train.squeeze())"
   ]
  },
  {
   "cell_type": "code",
   "execution_count": null,
   "metadata": {},
   "outputs": [
    {
     "name": "stdout",
     "output_type": "stream",
     "text": [
      "Preparation of a new explainer is initiated\n",
      "\n",
      "  -> data              : 76 rows 22 cols\n",
      "  -> target variable   : Parameter 'y' was a pandas.DataFrame. Converted to a numpy.ndarray.\n",
      "  -> target variable   : 76 values\n",
      "  -> model_class       : sklearn.linear_model._ridge.RidgeClassifier (default)\n",
      "  -> label             : Not specified, model's class short name will be used. (default)\n",
      "  -> predict function  : <function lr_predict_func at 0x7f31b30a8550> will be used\n",
      "  -> predict function  : Accepts pandas.DataFrame and numpy.ndarray.\n",
      "  -> predicted values  : min = 0.229, mean = 0.535, max = 0.809\n",
      "  -> model type        : classification will be used (default)\n",
      "  -> residual function : difference between y and yhat (default)\n",
      "  -> residuals         : min = -0.74, mean = 0.00402, max = 0.562\n",
      "  -> model_info        : package sklearn\n",
      "\n",
      "A new explainer has been created!\n"
     ]
    },
    {
     "name": "stderr",
     "output_type": "stream",
     "text": [
      "/home/krystian/PythonProjects/eXplainableMachineLearning-2023/.venv/lib/python3.8/site-packages/sklearn/base.py:450: UserWarning:\n",
      "\n",
      "X does not have valid feature names, but RidgeClassifier was fitted with feature names\n",
      "\n"
     ]
    },
    {
     "data": {
      "text/html": [
       "<div>\n",
       "<style scoped>\n",
       "    .dataframe tbody tr th:only-of-type {\n",
       "        vertical-align: middle;\n",
       "    }\n",
       "\n",
       "    .dataframe tbody tr th {\n",
       "        vertical-align: top;\n",
       "    }\n",
       "\n",
       "    .dataframe thead th {\n",
       "        text-align: right;\n",
       "    }\n",
       "</style>\n",
       "<table border=\"1\" class=\"dataframe\">\n",
       "  <thead>\n",
       "    <tr style=\"text-align: right;\">\n",
       "      <th></th>\n",
       "      <th>recall</th>\n",
       "      <th>precision</th>\n",
       "      <th>f1</th>\n",
       "      <th>accuracy</th>\n",
       "      <th>auc</th>\n",
       "    </tr>\n",
       "  </thead>\n",
       "  <tbody>\n",
       "    <tr>\n",
       "      <th>RidgeClassifier</th>\n",
       "      <td>0.97561</td>\n",
       "      <td>0.869565</td>\n",
       "      <td>0.91954</td>\n",
       "      <td>0.907895</td>\n",
       "      <td>0.920557</td>\n",
       "    </tr>\n",
       "  </tbody>\n",
       "</table>\n",
       "</div>"
      ],
      "text/plain": [
       "<dalex.model_explanations._model_performance.object.ModelPerformance at 0x7f311605f400>"
      ]
     },
     "execution_count": 15,
     "metadata": {},
     "output_type": "execute_result"
    }
   ],
   "source": [
    "def lr_predict_func(m, d):\n",
    "    pred = m.decision_function(d)\n",
    "    return 1 / (1 + np.exp(-pred))\n",
    "\n",
    "lr_explainer = dx.Explainer(lr_clf, x_test, y_test, predict_function=lr_predict_func)\n",
    "lr_explainer.model_performance()"
   ]
  },
  {
   "cell_type": "code",
   "execution_count": null,
   "metadata": {},
   "outputs": [
    {
     "name": "stdout",
     "output_type": "stream",
     "text": [
      "        variable  dropout_loss            label\n",
      "0         trtbps      0.071847  RidgeClassifier\n",
      "1       thalachh      0.077352  RidgeClassifier\n",
      "2      restecg_2      0.079303  RidgeClassifier\n",
      "3         exng_1      0.079373  RidgeClassifier\n",
      "4      restecg_1      0.079443  RidgeClassifier\n",
      "5          caa_4      0.079443  RidgeClassifier\n",
      "6   _full_model_      0.079443  RidgeClassifier\n",
      "7          slp_2      0.079512  RidgeClassifier\n",
      "8          fbs_1      0.079582  RidgeClassifier\n",
      "9           cp_3      0.080279  RidgeClassifier\n",
      "10          chol      0.080348  RidgeClassifier\n",
      "11       oldpeak      0.080348  RidgeClassifier\n",
      "12           age      0.080976  RidgeClassifier\n",
      "13       thall_3      0.081533  RidgeClassifier\n",
      "14         caa_3      0.081812  RidgeClassifier\n",
      "15          cp_1      0.084460  RidgeClassifier\n",
      "16       thall_1      0.084599  RidgeClassifier\n",
      "17         slp_1      0.086481  RidgeClassifier\n",
      "18         caa_1      0.094704  RidgeClassifier\n",
      "19         sex_1      0.098188  RidgeClassifier\n",
      "20       thall_2      0.102091  RidgeClassifier\n",
      "21         caa_2      0.112683  RidgeClassifier\n",
      "22          cp_2      0.114913  RidgeClassifier\n",
      "23    _baseline_      0.513240  RidgeClassifier\n"
     ]
    },
    {
     "data": {
      "application/vnd.plotly.v1+json": {
       "config": {
        "plotlyServerURL": "https://plot.ly"
       },
       "data": [
        {
         "base": 0.0794425087108015,
         "hoverinfo": "text",
         "hoverlabel": {
          "bgcolor": "rgba(0,0,0,0.8)"
         },
         "hovertext": [
          "Model: RidgeClassifier loss after<br>variable: cp_2 is permuted: 0.115<br>Drop-out loss change: +0.035",
          "Model: RidgeClassifier loss after<br>variable: caa_2 is permuted: 0.113<br>Drop-out loss change: +0.033",
          "Model: RidgeClassifier loss after<br>variable: thall_2 is permuted: 0.102<br>Drop-out loss change: +0.023",
          "Model: RidgeClassifier loss after<br>variable: sex_1 is permuted: 0.098<br>Drop-out loss change: +0.019",
          "Model: RidgeClassifier loss after<br>variable: caa_1 is permuted: 0.095<br>Drop-out loss change: +0.015",
          "Model: RidgeClassifier loss after<br>variable: slp_1 is permuted: 0.086<br>Drop-out loss change: +0.007",
          "Model: RidgeClassifier loss after<br>variable: thall_1 is permuted: 0.085<br>Drop-out loss change: +0.005",
          "Model: RidgeClassifier loss after<br>variable: cp_1 is permuted: 0.084<br>Drop-out loss change: +0.005",
          "Model: RidgeClassifier loss after<br>variable: caa_3 is permuted: 0.082<br>Drop-out loss change: +0.002",
          "Model: RidgeClassifier loss after<br>variable: thall_3 is permuted: 0.082<br>Drop-out loss change: +0.002"
         ],
         "marker": {
          "color": "#46bac2"
         },
         "orientation": "h",
         "showlegend": false,
         "text": [
          "+0.035",
          "+0.033",
          "+0.023",
          "+0.019",
          "+0.015",
          "+0.007",
          "+0.005",
          "+0.005",
          "+0.002",
          "+0.002"
         ],
         "textposition": "outside",
         "type": "bar",
         "x": [
          0.03547038327526124,
          0.033240418118466813,
          0.022648083623693305,
          0.01874564459930303,
          0.015261324041811755,
          0.0070383275261322875,
          0.0051567944250870135,
          0.005017421602787314,
          0.0023693379790939717,
          0.002090592334494684
         ],
         "xaxis": "x",
         "y": [
          "cp_2",
          "caa_2",
          "thall_2",
          "sex_1",
          "caa_1",
          "slp_1",
          "thall_1",
          "cp_1",
          "caa_3",
          "thall_3"
         ],
         "yaxis": "y"
        }
       ],
       "layout": {
        "annotations": [
         {
          "font": {
           "size": 16
          },
          "showarrow": false,
          "text": "RidgeClassifier",
          "x": 0.5,
          "xanchor": "center",
          "xref": "paper",
          "y": 1,
          "yanchor": "bottom",
          "yref": "paper"
         },
         {
          "font": {
           "size": 16
          },
          "showarrow": false,
          "text": "drop-out loss",
          "x": 0.5,
          "xanchor": "center",
          "xref": "paper",
          "y": 0,
          "yanchor": "top",
          "yref": "paper",
          "yshift": -30
         }
        ],
        "autosize": false,
        "font": {
         "color": "#371ea3"
        },
        "height": 450,
        "margin": {
         "b": 71,
         "r": 30,
         "t": 78
        },
        "shapes": [
         {
          "line": {
           "color": "#371ea3",
           "dash": "dot",
           "width": 1.5
          },
          "type": "line",
          "x0": 0.0794425087108015,
          "x1": 0.0794425087108015,
          "xref": "x",
          "y0": -1,
          "y1": 10,
          "yref": "y"
         }
        ],
        "template": {
         "data": {
          "scatter": [
           {
            "type": "scatter"
           }
          ]
         }
        },
        "title": {
         "text": "Permutation-based Variable Importance Logistic Regression Standard"
        },
        "width": 600,
        "xaxis": {
         "anchor": "y",
         "automargin": true,
         "domain": [
          0,
          1
         ],
         "fixedrange": true,
         "gridwidth": 2,
         "range": [
          0.06538675958188152,
          0.12137282229965159
         ],
         "tickcolor": "white",
         "ticklen": 3,
         "ticks": "outside",
         "type": "linear",
         "zeroline": false
        },
        "yaxis": {
         "anchor": "x",
         "automargin": true,
         "autorange": "reversed",
         "domain": [
          0,
          1
         ],
         "fixedrange": true,
         "gridwidth": 2,
         "tickcolor": "white",
         "ticklen": 10,
         "ticks": "outside",
         "type": "category"
        }
       }
      }
     },
     "metadata": {},
     "output_type": "display_data"
    }
   ],
   "source": [
    "plot_pvi(lr_explainer, \"imgs/logistic_regression.png\", \"Logistic Regression Standard\")"
   ]
  },
  {
   "cell_type": "markdown",
   "metadata": {},
   "source": [
    "### Logistic Regression with data"
   ]
  },
  {
   "cell_type": "code",
   "execution_count": null,
   "metadata": {},
   "outputs": [],
   "source": [
    "x_train_norm, x_test_norm = x_train.copy(), x_test.copy()\n",
    "\n",
    "scaler = MinMaxScaler()\n",
    "x_train_norm[numerical_cols] = scaler.fit_transform(x_train_norm[numerical_cols])\n",
    "x_test_norm[numerical_cols] = scaler.transform(x_test_norm[numerical_cols])"
   ]
  },
  {
   "cell_type": "code",
   "execution_count": null,
   "metadata": {},
   "outputs": [],
   "source": [
    "lr_clf_norm = RidgeClassifier(random_state=0).fit(x_train_norm, y_train.squeeze())"
   ]
  },
  {
   "cell_type": "code",
   "execution_count": null,
   "metadata": {},
   "outputs": [
    {
     "name": "stdout",
     "output_type": "stream",
     "text": [
      "Preparation of a new explainer is initiated\n",
      "\n",
      "  -> data              : 76 rows 22 cols\n",
      "  -> target variable   : Parameter 'y' was a pandas.DataFrame. Converted to a numpy.ndarray.\n",
      "  -> target variable   : 76 values\n",
      "  -> model_class       : sklearn.linear_model._ridge.RidgeClassifier (default)\n",
      "  -> label             : Not specified, model's class short name will be used. (default)\n",
      "  -> predict function  : <function lr_predict_func at 0x7f31b30a8550> will be used\n",
      "  -> predict function  : Accepts pandas.DataFrame and numpy.ndarray.\n",
      "  -> predicted values  : min = 0.331, mean = 0.623, max = 0.834\n",
      "  -> model type        : classification will be used (default)\n",
      "  -> residual function : difference between y and yhat (default)\n",
      "  -> residuals         : min = -0.769, mean = -0.0835, max = 0.416\n",
      "  -> model_info        : package sklearn\n",
      "\n",
      "A new explainer has been created!\n"
     ]
    },
    {
     "name": "stderr",
     "output_type": "stream",
     "text": [
      "/home/krystian/PythonProjects/eXplainableMachineLearning-2023/.venv/lib/python3.8/site-packages/sklearn/base.py:450: UserWarning:\n",
      "\n",
      "X does not have valid feature names, but RidgeClassifier was fitted with feature names\n",
      "\n"
     ]
    },
    {
     "data": {
      "text/html": [
       "<div>\n",
       "<style scoped>\n",
       "    .dataframe tbody tr th:only-of-type {\n",
       "        vertical-align: middle;\n",
       "    }\n",
       "\n",
       "    .dataframe tbody tr th {\n",
       "        vertical-align: top;\n",
       "    }\n",
       "\n",
       "    .dataframe thead th {\n",
       "        text-align: right;\n",
       "    }\n",
       "</style>\n",
       "<table border=\"1\" class=\"dataframe\">\n",
       "  <thead>\n",
       "    <tr style=\"text-align: right;\">\n",
       "      <th></th>\n",
       "      <th>recall</th>\n",
       "      <th>precision</th>\n",
       "      <th>f1</th>\n",
       "      <th>accuracy</th>\n",
       "      <th>auc</th>\n",
       "    </tr>\n",
       "  </thead>\n",
       "  <tbody>\n",
       "    <tr>\n",
       "      <th>RidgeClassifier</th>\n",
       "      <td>1.0</td>\n",
       "      <td>0.683333</td>\n",
       "      <td>0.811881</td>\n",
       "      <td>0.75</td>\n",
       "      <td>0.924042</td>\n",
       "    </tr>\n",
       "  </tbody>\n",
       "</table>\n",
       "</div>"
      ],
      "text/plain": [
       "<dalex.model_explanations._model_performance.object.ModelPerformance at 0x7f31b3d5b310>"
      ]
     },
     "execution_count": 19,
     "metadata": {},
     "output_type": "execute_result"
    }
   ],
   "source": [
    "lr_norm_explainer = dx.Explainer(lr_clf, x_test_norm, y_test, predict_function=lr_predict_func)\n",
    "lr_norm_explainer.model_performance()"
   ]
  },
  {
   "cell_type": "code",
   "execution_count": null,
   "metadata": {},
   "outputs": [
    {
     "name": "stdout",
     "output_type": "stream",
     "text": [
      "        variable  dropout_loss            label\n",
      "0      restecg_2      0.073728  RidgeClassifier\n",
      "1          fbs_1      0.074564  RidgeClassifier\n",
      "2          slp_2      0.074843  RidgeClassifier\n",
      "3        thall_3      0.075610  RidgeClassifier\n",
      "4            age      0.075819  RidgeClassifier\n",
      "5   _full_model_      0.075958  RidgeClassifier\n",
      "6          caa_4      0.075958  RidgeClassifier\n",
      "7       thalachh      0.076167  RidgeClassifier\n",
      "8           chol      0.076167  RidgeClassifier\n",
      "9         trtbps      0.076237  RidgeClassifier\n",
      "10       thall_1      0.077003  RidgeClassifier\n",
      "11     restecg_1      0.077143  RidgeClassifier\n",
      "12       oldpeak      0.077422  RidgeClassifier\n",
      "13        exng_1      0.085017  RidgeClassifier\n",
      "14          cp_3      0.085784  RidgeClassifier\n",
      "15         caa_3      0.088780  RidgeClassifier\n",
      "16         caa_1      0.101324  RidgeClassifier\n",
      "17         slp_1      0.102787  RidgeClassifier\n",
      "18          cp_1      0.104808  RidgeClassifier\n",
      "19         sex_1      0.109756  RidgeClassifier\n",
      "20       thall_2      0.121951  RidgeClassifier\n",
      "21         caa_2      0.129338  RidgeClassifier\n",
      "22          cp_2      0.137979  RidgeClassifier\n",
      "23    _baseline_      0.505017  RidgeClassifier\n"
     ]
    },
    {
     "data": {
      "application/vnd.plotly.v1+json": {
       "config": {
        "plotlyServerURL": "https://plot.ly"
       },
       "data": [
        {
         "base": 0.07595818815331001,
         "hoverinfo": "text",
         "hoverlabel": {
          "bgcolor": "rgba(0,0,0,0.8)"
         },
         "hovertext": [
          "Model: RidgeClassifier loss after<br>variable: cp_2 is permuted: 0.138<br>Drop-out loss change: +0.062",
          "Model: RidgeClassifier loss after<br>variable: caa_2 is permuted: 0.129<br>Drop-out loss change: +0.053",
          "Model: RidgeClassifier loss after<br>variable: thall_2 is permuted: 0.122<br>Drop-out loss change: +0.046",
          "Model: RidgeClassifier loss after<br>variable: sex_1 is permuted: 0.11<br>Drop-out loss change: +0.034",
          "Model: RidgeClassifier loss after<br>variable: cp_1 is permuted: 0.105<br>Drop-out loss change: +0.029",
          "Model: RidgeClassifier loss after<br>variable: slp_1 is permuted: 0.103<br>Drop-out loss change: +0.027",
          "Model: RidgeClassifier loss after<br>variable: caa_1 is permuted: 0.101<br>Drop-out loss change: +0.025",
          "Model: RidgeClassifier loss after<br>variable: caa_3 is permuted: 0.089<br>Drop-out loss change: +0.013",
          "Model: RidgeClassifier loss after<br>variable: cp_3 is permuted: 0.086<br>Drop-out loss change: +0.01",
          "Model: RidgeClassifier loss after<br>variable: exng_1 is permuted: 0.085<br>Drop-out loss change: +0.009"
         ],
         "marker": {
          "color": "#46bac2"
         },
         "orientation": "h",
         "showlegend": false,
         "text": [
          "+0.062",
          "+0.053",
          "+0.046",
          "+0.034",
          "+0.029",
          "+0.027",
          "+0.025",
          "+0.013",
          "+0.01",
          "+0.009"
         ],
         "textposition": "outside",
         "type": "bar",
         "x": [
          0.06202090592334503,
          0.05337979094076664,
          0.04599303135888508,
          0.03379790940766558,
          0.02885017421602795,
          0.026829268292683034,
          0.02536585365853669,
          0.012822299651568059,
          0.009825783972125551,
          0.009059233449477441
         ],
         "xaxis": "x",
         "y": [
          "cp_2",
          "caa_2",
          "thall_2",
          "sex_1",
          "cp_1",
          "slp_1",
          "caa_1",
          "caa_3",
          "cp_3",
          "exng_1"
         ],
         "yaxis": "y"
        }
       ],
       "layout": {
        "annotations": [
         {
          "font": {
           "size": 16
          },
          "showarrow": false,
          "text": "RidgeClassifier",
          "x": 0.5,
          "xanchor": "center",
          "xref": "paper",
          "y": 1,
          "yanchor": "bottom",
          "yref": "paper"
         },
         {
          "font": {
           "size": 16
          },
          "showarrow": false,
          "text": "drop-out loss",
          "x": 0.5,
          "xanchor": "center",
          "xref": "paper",
          "y": 0,
          "yanchor": "top",
          "yref": "paper",
          "yshift": -30
         }
        ],
        "autosize": false,
        "font": {
         "color": "#371ea3"
        },
        "height": 450,
        "margin": {
         "b": 71,
         "r": 30,
         "t": 78
        },
        "shapes": [
         {
          "line": {
           "color": "#371ea3",
           "dash": "dot",
           "width": 1.5
          },
          "type": "line",
          "x0": 0.07595818815331001,
          "x1": 0.07595818815331001,
          "xref": "x",
          "y0": -1,
          "y1": 10,
          "yref": "y"
         }
        ],
        "template": {
         "data": {
          "scatter": [
           {
            "type": "scatter"
           }
          ]
         }
        },
        "title": {
         "text": "Permutation-based Variable Importance Logistic Regression Normalized"
        },
        "width": 600,
        "xaxis": {
         "anchor": "y",
         "automargin": true,
         "domain": [
          0,
          1
         ],
         "fixedrange": true,
         "gridwidth": 2,
         "range": [
          0.06409059233449474,
          0.14761672473867596
         ],
         "tickcolor": "white",
         "ticklen": 3,
         "ticks": "outside",
         "type": "linear",
         "zeroline": false
        },
        "yaxis": {
         "anchor": "x",
         "automargin": true,
         "autorange": "reversed",
         "domain": [
          0,
          1
         ],
         "fixedrange": true,
         "gridwidth": 2,
         "tickcolor": "white",
         "ticklen": 10,
         "ticks": "outside",
         "type": "category"
        }
       }
      }
     },
     "metadata": {},
     "output_type": "display_data"
    }
   ],
   "source": [
    "plot_pvi(lr_norm_explainer, \"imgs/logistic_regression_norm.png\", \"Logistic Regression Normalized\")"
   ]
  },
  {
   "cell_type": "code",
   "execution_count": null,
   "metadata": {},
   "outputs": [],
   "source": []
  }
 ],
 "metadata": {
  "kernelspec": {
   "display_name": "Python 3.8.10 ('.venv': venv)",
   "language": "python",
   "name": "python3"
  },
  "language_info": {
   "codemirror_mode": {
    "name": "ipython",
    "version": 3
   },
   "file_extension": ".py",
   "mimetype": "text/x-python",
   "name": "python",
   "nbconvert_exporter": "python",
   "pygments_lexer": "ipython3",
   "version": "3.8.10"
  },
  "orig_nbformat": 4,
  "vscode": {
   "interpreter": {
    "hash": "fd60c3dae5cff305bf98e70b37b1b4ca603522ef6f5e70dcae02458130266ba5"
   }
  }
 },
 "nbformat": 4,
 "nbformat_minor": 2
}
