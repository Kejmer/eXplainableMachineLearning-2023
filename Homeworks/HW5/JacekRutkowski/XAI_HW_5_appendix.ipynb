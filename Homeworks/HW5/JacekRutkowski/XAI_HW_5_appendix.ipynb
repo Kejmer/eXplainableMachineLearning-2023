{
 "cells": [
  {
   "cell_type": "code",
   "execution_count": 2,
   "metadata": {},
   "outputs": [
    {
     "name": "stderr",
     "output_type": "stream",
     "text": [
      "/home/jacek/Desktop/XAI/xai_env/lib/python3.7/site-packages/tqdm/auto.py:22: TqdmWarning: IProgress not found. Please update jupyter and ipywidgets. See https://ipywidgets.readthedocs.io/en/stable/user_install.html\n",
      "  from .autonotebook import tqdm as notebook_tqdm\n"
     ]
    }
   ],
   "source": [
    "import dalex as dx\n",
    "import xgboost\n",
    "import shap\n",
    "\n",
    "import sklearn\n",
    "\n",
    "import pandas as pd\n",
    "import numpy as np\n",
    "\n",
    "import warnings\n",
    "warnings.filterwarnings(\"ignore\")"
   ]
  },
  {
   "cell_type": "code",
   "execution_count": 3,
   "metadata": {},
   "outputs": [],
   "source": [
    "import os\n",
    "\n",
    "if not os.path.exists(\"plots\"):\n",
    "    os.mkdir(\"plots\")"
   ]
  },
  {
   "cell_type": "code",
   "execution_count": 4,
   "metadata": {},
   "outputs": [],
   "source": [
    "brain_stroke = pd.read_csv('brain_stroke.csv')\n",
    "def preprocess_dataset(old_dataset):\n",
    "  dataset = old_dataset.copy()\n",
    "\n",
    "  columns = dataset.columns[:-1]\n",
    "  for col in columns:\n",
    "    if not dataset[col].astype(str).str.isnumeric().all():\n",
    "      values = dataset[col].unique()\n",
    "      if len(values) <= 1:\n",
    "        dataset.drop(col, axis=1, inplace=True)\n",
    "      elif len(values) == 2:\n",
    "        val1 = 'yes' if 'yes' in values else values[0]\n",
    "        dataset[col] = np.where(dataset[col] == val1, 1, 0)\n",
    "      else:\n",
    "        dummies = pd.get_dummies(dataset[[col]], prefix=col)\n",
    "        dataset.drop(col, axis=1, inplace=True)\n",
    "        dataset = pd.concat([dataset, dummies], axis=1)\n",
    "  return dataset.drop(columns=['stroke']), dataset['stroke'].astype(np.float64)\n",
    "\n",
    "\n",
    "X, y = preprocess_dataset(brain_stroke)\n",
    "X_train, X_test, y_train, y_test = sklearn.model_selection.train_test_split(X, y, test_size=0.3, random_state=42)"
   ]
  },
  {
   "cell_type": "markdown",
   "metadata": {},
   "source": [
    "0. XGBoost traning"
   ]
  },
  {
   "cell_type": "code",
   "execution_count": 5,
   "metadata": {},
   "outputs": [
    {
     "data": {
      "text/plain": [
       "XGBClassifier(base_score=0.5, booster='gbtree', callbacks=None,\n",
       "              colsample_bylevel=1, colsample_bynode=1, colsample_bytree=1,\n",
       "              early_stopping_rounds=None, enable_categorical=False,\n",
       "              eval_metric=None, gamma=0, gpu_id=-1, grow_policy='depthwise',\n",
       "              importance_type=None, interaction_constraints='',\n",
       "              learning_rate=0.300000012, max_bin=256, max_cat_to_onehot=4,\n",
       "              max_delta_step=0, max_depth=6, max_leaves=0, min_child_weight=1,\n",
       "              missing=nan, monotone_constraints='()', n_estimators=100,\n",
       "              n_jobs=0, num_parallel_tree=1, predictor='auto', random_state=0,\n",
       "              reg_alpha=0, reg_lambda=1, ...)"
      ]
     },
     "execution_count": 5,
     "metadata": {},
     "output_type": "execute_result"
    }
   ],
   "source": [
    "model = xgboost.XGBClassifier()\n",
    "\n",
    "params = {\n",
    "    \"max_depth\": 5,\n",
    "    \"objective\": \"binary:logistic\",\n",
    "    \"eval_metric\": \"auc\"\n",
    "}\n",
    "\n",
    "model.fit(X_train, y_train)"
   ]
  },
  {
   "cell_type": "code",
   "execution_count": 6,
   "metadata": {},
   "outputs": [
    {
     "name": "stdout",
     "output_type": "stream",
     "text": [
      "Ground truth is 0.0, prediction is 0\n",
      "Ground truth is 0.0, prediction is 0\n",
      "Ground truth is 0.0, prediction is 0\n"
     ]
    },
    {
     "data": {
      "text/plain": [
       "[None, None, None]"
      ]
     },
     "execution_count": 6,
     "metadata": {},
     "output_type": "execute_result"
    }
   ],
   "source": [
    "pred_test = model.predict(X_test)\n",
    "[print(f'Ground truth is {y_test.iloc[i]}, prediction is {pred_test[i]}') for i in range(3)]"
   ]
  },
  {
   "cell_type": "code",
   "execution_count": 7,
   "metadata": {},
   "outputs": [
    {
     "name": "stdout",
     "output_type": "stream",
     "text": [
      "Preparation of a new explainer is initiated\n",
      "\n",
      "  -> data              : 1495 rows 16 cols\n",
      "  -> target variable   : Parameter 'y' was a pandas.Series. Converted to a numpy.ndarray.\n",
      "  -> target variable   : 1495 values\n",
      "  -> model_class       : xgboost.sklearn.XGBClassifier (default)\n",
      "  -> label             : Not specified, model's class short name will be used. (default)\n",
      "  -> predict function  : <function yhat_proba_default at 0x7feaa7f22b90> will be used (default)\n",
      "  -> predict function  : Accepts pandas.DataFrame and numpy.ndarray.\n",
      "  -> predicted values  : min = 9.69e-06, mean = 0.0327, max = 0.967\n",
      "  -> model type        : classification will be used (default)\n",
      "  -> residual function : difference between y and yhat (default)\n",
      "  -> residuals         : min = -0.967, mean = 0.0194, max = 1.0\n",
      "  -> model_info        : package xgboost\n",
      "\n",
      "A new explainer has been created!\n"
     ]
    }
   ],
   "source": [
    "explainer = dx.Explainer(model, X_test, y_test)"
   ]
  },
  {
   "cell_type": "code",
   "execution_count": 8,
   "metadata": {},
   "outputs": [
    {
     "data": {
      "text/html": [
       "<div>\n",
       "<style scoped>\n",
       "    .dataframe tbody tr th:only-of-type {\n",
       "        vertical-align: middle;\n",
       "    }\n",
       "\n",
       "    .dataframe tbody tr th {\n",
       "        vertical-align: top;\n",
       "    }\n",
       "\n",
       "    .dataframe thead th {\n",
       "        text-align: right;\n",
       "    }\n",
       "</style>\n",
       "<table border=\"1\" class=\"dataframe\">\n",
       "  <thead>\n",
       "    <tr style=\"text-align: right;\">\n",
       "      <th></th>\n",
       "      <th>recall</th>\n",
       "      <th>precision</th>\n",
       "      <th>f1</th>\n",
       "      <th>accuracy</th>\n",
       "      <th>auc</th>\n",
       "    </tr>\n",
       "  </thead>\n",
       "  <tbody>\n",
       "    <tr>\n",
       "      <th>XGBClassifier</th>\n",
       "      <td>0.025641</td>\n",
       "      <td>0.111111</td>\n",
       "      <td>0.041667</td>\n",
       "      <td>0.938462</td>\n",
       "      <td>0.796229</td>\n",
       "    </tr>\n",
       "  </tbody>\n",
       "</table>\n",
       "</div>"
      ],
      "text/plain": [
       "<dalex.model_explanations._model_performance.object.ModelPerformance at 0x7fea7e966dd0>"
      ]
     },
     "execution_count": 8,
     "metadata": {},
     "output_type": "execute_result"
    }
   ],
   "source": [
    "explainer.model_performance()"
   ]
  },
  {
   "cell_type": "markdown",
   "metadata": {},
   "source": [
    "1. Permutation-based Variable Importance for XGBoost"
   ]
  },
  {
   "cell_type": "code",
   "execution_count": 9,
   "metadata": {},
   "outputs": [],
   "source": [
    "pvi = explainer.model_parts(random_state=0)"
   ]
  },
  {
   "cell_type": "code",
   "execution_count": 10,
   "metadata": {},
   "outputs": [
    {
     "data": {
      "text/html": [
       "<div>\n",
       "<style scoped>\n",
       "    .dataframe tbody tr th:only-of-type {\n",
       "        vertical-align: middle;\n",
       "    }\n",
       "\n",
       "    .dataframe tbody tr th {\n",
       "        vertical-align: top;\n",
       "    }\n",
       "\n",
       "    .dataframe thead th {\n",
       "        text-align: right;\n",
       "    }\n",
       "</style>\n",
       "<table border=\"1\" class=\"dataframe\">\n",
       "  <thead>\n",
       "    <tr style=\"text-align: right;\">\n",
       "      <th></th>\n",
       "      <th>variable</th>\n",
       "      <th>dropout_loss</th>\n",
       "      <th>label</th>\n",
       "    </tr>\n",
       "  </thead>\n",
       "  <tbody>\n",
       "    <tr>\n",
       "      <th>0</th>\n",
       "      <td>smoking_status_Unknown</td>\n",
       "      <td>0.193820</td>\n",
       "      <td>XGBClassifier</td>\n",
       "    </tr>\n",
       "    <tr>\n",
       "      <th>1</th>\n",
       "      <td>hypertension</td>\n",
       "      <td>0.197141</td>\n",
       "      <td>XGBClassifier</td>\n",
       "    </tr>\n",
       "    <tr>\n",
       "      <th>2</th>\n",
       "      <td>work_type_Govt_job</td>\n",
       "      <td>0.197261</td>\n",
       "      <td>XGBClassifier</td>\n",
       "    </tr>\n",
       "    <tr>\n",
       "      <th>3</th>\n",
       "      <td>work_type_Self-employed</td>\n",
       "      <td>0.199562</td>\n",
       "      <td>XGBClassifier</td>\n",
       "    </tr>\n",
       "    <tr>\n",
       "      <th>4</th>\n",
       "      <td>work_type_children</td>\n",
       "      <td>0.199639</td>\n",
       "      <td>XGBClassifier</td>\n",
       "    </tr>\n",
       "    <tr>\n",
       "      <th>5</th>\n",
       "      <td>_full_model_</td>\n",
       "      <td>0.199639</td>\n",
       "      <td>XGBClassifier</td>\n",
       "    </tr>\n",
       "    <tr>\n",
       "      <th>6</th>\n",
       "      <td>gender</td>\n",
       "      <td>0.199954</td>\n",
       "      <td>XGBClassifier</td>\n",
       "    </tr>\n",
       "    <tr>\n",
       "      <th>7</th>\n",
       "      <td>smoking_status_formerly smoked</td>\n",
       "      <td>0.199975</td>\n",
       "      <td>XGBClassifier</td>\n",
       "    </tr>\n",
       "    <tr>\n",
       "      <th>8</th>\n",
       "      <td>bmi</td>\n",
       "      <td>0.200441</td>\n",
       "      <td>XGBClassifier</td>\n",
       "    </tr>\n",
       "    <tr>\n",
       "      <th>9</th>\n",
       "      <td>smoking_status_smokes</td>\n",
       "      <td>0.200524</td>\n",
       "      <td>XGBClassifier</td>\n",
       "    </tr>\n",
       "    <tr>\n",
       "      <th>10</th>\n",
       "      <td>Residence_type</td>\n",
       "      <td>0.201357</td>\n",
       "      <td>XGBClassifier</td>\n",
       "    </tr>\n",
       "    <tr>\n",
       "      <th>11</th>\n",
       "      <td>work_type_Private</td>\n",
       "      <td>0.201916</td>\n",
       "      <td>XGBClassifier</td>\n",
       "    </tr>\n",
       "    <tr>\n",
       "      <th>12</th>\n",
       "      <td>ever_married</td>\n",
       "      <td>0.205450</td>\n",
       "      <td>XGBClassifier</td>\n",
       "    </tr>\n",
       "    <tr>\n",
       "      <th>13</th>\n",
       "      <td>smoking_status_never smoked</td>\n",
       "      <td>0.205761</td>\n",
       "      <td>XGBClassifier</td>\n",
       "    </tr>\n",
       "    <tr>\n",
       "      <th>14</th>\n",
       "      <td>heart_disease</td>\n",
       "      <td>0.205906</td>\n",
       "      <td>XGBClassifier</td>\n",
       "    </tr>\n",
       "    <tr>\n",
       "      <th>15</th>\n",
       "      <td>avg_glucose_level</td>\n",
       "      <td>0.215918</td>\n",
       "      <td>XGBClassifier</td>\n",
       "    </tr>\n",
       "    <tr>\n",
       "      <th>16</th>\n",
       "      <td>age</td>\n",
       "      <td>0.502259</td>\n",
       "      <td>XGBClassifier</td>\n",
       "    </tr>\n",
       "    <tr>\n",
       "      <th>17</th>\n",
       "      <td>_baseline_</td>\n",
       "      <td>0.513144</td>\n",
       "      <td>XGBClassifier</td>\n",
       "    </tr>\n",
       "  </tbody>\n",
       "</table>\n",
       "</div>"
      ],
      "text/plain": [
       "                          variable  dropout_loss          label\n",
       "0           smoking_status_Unknown      0.193820  XGBClassifier\n",
       "1                     hypertension      0.197141  XGBClassifier\n",
       "2               work_type_Govt_job      0.197261  XGBClassifier\n",
       "3          work_type_Self-employed      0.199562  XGBClassifier\n",
       "4               work_type_children      0.199639  XGBClassifier\n",
       "5                     _full_model_      0.199639  XGBClassifier\n",
       "6                           gender      0.199954  XGBClassifier\n",
       "7   smoking_status_formerly smoked      0.199975  XGBClassifier\n",
       "8                              bmi      0.200441  XGBClassifier\n",
       "9            smoking_status_smokes      0.200524  XGBClassifier\n",
       "10                  Residence_type      0.201357  XGBClassifier\n",
       "11               work_type_Private      0.201916  XGBClassifier\n",
       "12                    ever_married      0.205450  XGBClassifier\n",
       "13     smoking_status_never smoked      0.205761  XGBClassifier\n",
       "14                   heart_disease      0.205906  XGBClassifier\n",
       "15               avg_glucose_level      0.215918  XGBClassifier\n",
       "16                             age      0.502259  XGBClassifier\n",
       "17                      _baseline_      0.513144  XGBClassifier"
      ]
     },
     "execution_count": 10,
     "metadata": {},
     "output_type": "execute_result"
    }
   ],
   "source": [
    "pvi.result"
   ]
  },
  {
   "cell_type": "code",
   "execution_count": 11,
   "metadata": {},
   "outputs": [],
   "source": [
    "plot_1 = pvi.plot(show=False).update_layout(autosize=False, width=600, height=450)\n",
    "plot_1.write_image(\"plots/p1.png\")"
   ]
  },
  {
   "cell_type": "code",
   "execution_count": 12,
   "metadata": {},
   "outputs": [],
   "source": [
    "plot_2 = pvi.plot(\n",
    "    max_vars=3, \n",
    "    digits=4, \n",
    "    bar_width=40, \n",
    "    title=\"Permutation-based Variable Importance (Top 3)\", \n",
    "    show=False\n",
    ").update_layout(width=600)\n",
    "plot_2.write_image(\"plots/p2.png\")"
   ]
  },
  {
   "cell_type": "markdown",
   "metadata": {},
   "source": [
    "2.1. Second model: Decision Tree Regressor"
   ]
  },
  {
   "cell_type": "code",
   "execution_count": 13,
   "metadata": {},
   "outputs": [],
   "source": [
    "from sklearn.tree import DecisionTreeClassifier\n",
    "tree_class_1 = DecisionTreeClassifier(random_state=0, max_depth=4, max_features=4)\n",
    "tree_class_1.fit(X_train, y_train)\n",
    "pred_test_tree_1 = tree_class_1.predict(X_test)"
   ]
  },
  {
   "cell_type": "markdown",
   "metadata": {},
   "source": [
    "2.2. Third model: Decision Tree Regressor with other hyperparameters"
   ]
  },
  {
   "cell_type": "code",
   "execution_count": 14,
   "metadata": {},
   "outputs": [],
   "source": [
    "tree_class_2 = DecisionTreeClassifier(random_state=0, max_depth=8, max_features=8)\n",
    "tree_class_2.fit(X_train, y_train)\n",
    "pred_test_tree_2 = tree_class_2.predict(X_test)"
   ]
  },
  {
   "cell_type": "markdown",
   "metadata": {},
   "source": [
    "2.3. Fourth model: Random Forest Classifier"
   ]
  },
  {
   "cell_type": "code",
   "execution_count": 15,
   "metadata": {},
   "outputs": [],
   "source": [
    "from sklearn.ensemble import RandomForestClassifier\n",
    "clf = RandomForestClassifier(max_depth=5, random_state=0)\n",
    "clf.fit(X_train, y_train)\n",
    "pred_test_rand_tree = clf.predict(X_test)"
   ]
  },
  {
   "cell_type": "code",
   "execution_count": 16,
   "metadata": {},
   "outputs": [
    {
     "name": "stdout",
     "output_type": "stream",
     "text": [
      "Preparation of a new explainer is initiated\n",
      "\n",
      "  -> data              : 1495 rows 16 cols\n",
      "  -> target variable   : Parameter 'y' was a pandas.Series. Converted to a numpy.ndarray.\n",
      "  -> target variable   : 1495 values\n",
      "  -> model_class       : sklearn.tree._classes.DecisionTreeClassifier (default)\n",
      "  -> label             : Not specified, model's class short name will be used. (default)\n",
      "  -> predict function  : <function yhat_proba_default at 0x7feaa7f22b90> will be used (default)\n",
      "  -> predict function  : Accepts pandas.DataFrame and numpy.ndarray.\n",
      "  -> predicted values  : min = 0.0, mean = 0.0453, max = 0.375\n",
      "  -> model type        : classification will be used (default)\n",
      "  -> residual function : difference between y and yhat (default)\n",
      "  -> residuals         : min = -0.375, mean = 0.0069, max = 1.0\n",
      "  -> model_info        : package sklearn\n",
      "\n",
      "A new explainer has been created!\n",
      "Preparation of a new explainer is initiated\n",
      "\n",
      "  -> data              : 1495 rows 16 cols\n",
      "  -> target variable   : Parameter 'y' was a pandas.Series. Converted to a numpy.ndarray.\n",
      "  -> target variable   : 1495 values\n",
      "  -> model_class       : sklearn.tree._classes.DecisionTreeClassifier (default)\n",
      "  -> label             : Not specified, model's class short name will be used. (default)\n",
      "  -> predict function  : <function yhat_proba_default at 0x7feaa7f22b90> will be used (default)\n",
      "  -> predict function  : Accepts pandas.DataFrame and numpy.ndarray.\n",
      "  -> predicted values  : min = 0.0, mean = 0.0508, max = 1.0\n",
      "  -> model type        : classification will be used (default)\n",
      "  -> residual function : difference between y and yhat (default)\n",
      "  -> residuals         : min = -1.0, mean = 0.00142, max = 1.0\n",
      "  -> model_info        : package sklearn\n",
      "\n",
      "A new explainer has been created!\n",
      "Preparation of a new explainer is initiated\n",
      "\n",
      "  -> data              : 1495 rows 16 cols\n",
      "  -> target variable   : Parameter 'y' was a pandas.Series. Converted to a numpy.ndarray.\n",
      "  -> target variable   : 1495 values\n",
      "  -> model_class       : sklearn.ensemble._forest.RandomForestClassifier (default)\n",
      "  -> label             : Not specified, model's class short name will be used. (default)\n",
      "  -> predict function  : <function yhat_proba_default at 0x7feaa7f22b90> will be used (default)\n",
      "  -> predict function  : Accepts pandas.DataFrame and numpy.ndarray.\n",
      "  -> predicted values  : min = 0.000902, mean = 0.0477, max = 0.352\n",
      "  -> model type        : classification will be used (default)\n",
      "  -> residual function : difference between y and yhat (default)\n",
      "  -> residuals         : min = -0.352, mean = 0.00446, max = 0.999\n",
      "  -> model_info        : package sklearn\n",
      "\n",
      "A new explainer has been created!\n"
     ]
    }
   ],
   "source": [
    "models = [tree_class_1, tree_class_2, clf]\n",
    "explainers = [dx.Explainer(model, X_test, y_test) for model in models]\n",
    "pvis = [expl.model_parts(random_state=0) for expl in explainers]"
   ]
  },
  {
   "cell_type": "markdown",
   "metadata": {},
   "source": [
    "2.4. PVI plots for new three models"
   ]
  },
  {
   "cell_type": "code",
   "execution_count": 17,
   "metadata": {},
   "outputs": [
    {
     "name": "stdout",
     "output_type": "stream",
     "text": [
      "PVI for DecisionTreeClassifier(max_depth=4, max_features=4, random_state=0)\n",
      "PVI for DecisionTreeClassifier(max_depth=8, max_features=8, random_state=0)\n",
      "PVI for RandomForestClassifier(max_depth=5, random_state=0)\n"
     ]
    }
   ],
   "source": [
    "for i in range(3):\n",
    "    print(f'PVI for {models[i]}')\n",
    "    plot = pvis[i].plot(show=False)\n",
    "    plot.write_image(f\"plots/p{i+3}.png\")"
   ]
  },
  {
   "cell_type": "markdown",
   "metadata": {},
   "source": [
    "3a) Gini-based Variable Importance for XGBoost Classifier"
   ]
  },
  {
   "cell_type": "code",
   "execution_count": 33,
   "metadata": {},
   "outputs": [
    {
     "data": {
      "image/png": "[encoded data removed]",
      "text/plain": [
       "<Figure size 640x480 with 1 Axes>"
      ]
     },
     "metadata": {},
     "output_type": "display_data"
    }
   ],
   "source": [
    "from matplotlib import pyplot as plt\n",
    "plot_6 = plt.barh(X_test.columns, model.feature_importances_)\n",
    "plt.title(\"Gini-based Variable Importance\")\n",
    "plt.savefig('plots/p6.png')"
   ]
  },
  {
   "cell_type": "markdown",
   "metadata": {},
   "source": [
    "3b) SHAP variable importance based on the TreeSHAP algorithm available in the shap package."
   ]
  },
  {
   "cell_type": "code",
   "execution_count": 31,
   "metadata": {},
   "outputs": [],
   "source": [
    "shap_vi = explainer.model_parts(shap_explainer_type=\"TreeExplainer\") #)#type=\"shap_wrapper\", \n",
    "plot = shap_vi.plot(show=False)\n",
    "plot.write_image(\"plots/p7.png\")"
   ]
  }
 ],
 "metadata": {
  "kernelspec": {
   "display_name": "Python 3.7.6 ('xai_env': venv)",
   "language": "python",
   "name": "python3"
  },
  "language_info": {
   "codemirror_mode": {
    "name": "ipython",
    "version": 3
   },
   "file_extension": ".py",
   "mimetype": "text/x-python",
   "name": "python",
   "nbconvert_exporter": "python",
   "pygments_lexer": "ipython3",
   "version": "3.7.6"
  },
  "orig_nbformat": 4,
  "vscode": {
   "interpreter": {
    "hash": "7bda1774fc418535c14b8a0def21ddbf2d624e7e9c6458ac3008c829e58976d2"
   }
  }
 },
 "nbformat": 4,
 "nbformat_minor": 2
}
