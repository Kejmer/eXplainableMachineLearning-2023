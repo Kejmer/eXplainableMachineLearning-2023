{
 "cells": [
  {
   "cell_type": "markdown",
   "metadata": {},
   "source": [
    "# Explaining brain stroke model with Permutation-based Variable Importance"
   ]
  },
  {
   "cell_type": "markdown",
   "metadata": {},
   "source": [
    "## 0. For the selected data set, train at least one tree-based ensemble model, e.g. random forest, gbdt, xgboost."
   ]
  },
  {
   "cell_type": "code",
   "execution_count": 23,
   "metadata": {},
   "outputs": [
    {
     "data": {
      "text/plain": "RandomForestClassifier(max_depth=4, random_state=0)",
      "text/html": "<style>#sk-container-id-5 {color: black;background-color: white;}#sk-container-id-5 pre{padding: 0;}#sk-container-id-5 div.sk-toggleable {background-color: white;}#sk-container-id-5 label.sk-toggleable__label {cursor: pointer;display: block;width: 100%;margin-bottom: 0;padding: 0.3em;box-sizing: border-box;text-align: center;}#sk-container-id-5 label.sk-toggleable__label-arrow:before {content: \"▸\";float: left;margin-right: 0.25em;color: #696969;}#sk-container-id-5 label.sk-toggleable__label-arrow:hover:before {color: black;}#sk-container-id-5 div.sk-estimator:hover label.sk-toggleable__label-arrow:before {color: black;}#sk-container-id-5 div.sk-toggleable__content {max-height: 0;max-width: 0;overflow: hidden;text-align: left;background-color: #f0f8ff;}#sk-container-id-5 div.sk-toggleable__content pre {margin: 0.2em;color: black;border-radius: 0.25em;background-color: #f0f8ff;}#sk-container-id-5 input.sk-toggleable__control:checked~div.sk-toggleable__content {max-height: 200px;max-width: 100%;overflow: auto;}#sk-container-id-5 input.sk-toggleable__control:checked~label.sk-toggleable__label-arrow:before {content: \"▾\";}#sk-container-id-5 div.sk-estimator input.sk-toggleable__control:checked~label.sk-toggleable__label {background-color: #d4ebff;}#sk-container-id-5 div.sk-label input.sk-toggleable__control:checked~label.sk-toggleable__label {background-color: #d4ebff;}#sk-container-id-5 input.sk-hidden--visually {border: 0;clip: rect(1px 1px 1px 1px);clip: rect(1px, 1px, 1px, 1px);height: 1px;margin: -1px;overflow: hidden;padding: 0;position: absolute;width: 1px;}#sk-container-id-5 div.sk-estimator {font-family: monospace;background-color: #f0f8ff;border: 1px dotted black;border-radius: 0.25em;box-sizing: border-box;margin-bottom: 0.5em;}#sk-container-id-5 div.sk-estimator:hover {background-color: #d4ebff;}#sk-container-id-5 div.sk-parallel-item::after {content: \"\";width: 100%;border-bottom: 1px solid gray;flex-grow: 1;}#sk-container-id-5 div.sk-label:hover label.sk-toggleable__label {background-color: #d4ebff;}#sk-container-id-5 div.sk-serial::before {content: \"\";position: absolute;border-left: 1px solid gray;box-sizing: border-box;top: 0;bottom: 0;left: 50%;z-index: 0;}#sk-container-id-5 div.sk-serial {display: flex;flex-direction: column;align-items: center;background-color: white;padding-right: 0.2em;padding-left: 0.2em;position: relative;}#sk-container-id-5 div.sk-item {position: relative;z-index: 1;}#sk-container-id-5 div.sk-parallel {display: flex;align-items: stretch;justify-content: center;background-color: white;position: relative;}#sk-container-id-5 div.sk-item::before, #sk-container-id-5 div.sk-parallel-item::before {content: \"\";position: absolute;border-left: 1px solid gray;box-sizing: border-box;top: 0;bottom: 0;left: 50%;z-index: -1;}#sk-container-id-5 div.sk-parallel-item {display: flex;flex-direction: column;z-index: 1;position: relative;background-color: white;}#sk-container-id-5 div.sk-parallel-item:first-child::after {align-self: flex-end;width: 50%;}#sk-container-id-5 div.sk-parallel-item:last-child::after {align-self: flex-start;width: 50%;}#sk-container-id-5 div.sk-parallel-item:only-child::after {width: 0;}#sk-container-id-5 div.sk-dashed-wrapped {border: 1px dashed gray;margin: 0 0.4em 0.5em 0.4em;box-sizing: border-box;padding-bottom: 0.4em;background-color: white;}#sk-container-id-5 div.sk-label label {font-family: monospace;font-weight: bold;display: inline-block;line-height: 1.2em;}#sk-container-id-5 div.sk-label-container {text-align: center;}#sk-container-id-5 div.sk-container {/* jupyter's `normalize.less` sets `[hidden] { display: none; }` but bootstrap.min.css set `[hidden] { display: none !important; }` so we also need the `!important` here to be able to override the default hidden behavior on the sphinx rendered scikit-learn.org. See: https://github.com/scikit-learn/scikit-learn/issues/21755 */display: inline-block !important;position: relative;}#sk-container-id-5 div.sk-text-repr-fallback {display: none;}</style><div id=\"sk-container-id-5\" class=\"sk-top-container\"><div class=\"sk-text-repr-fallback\"><pre>RandomForestClassifier(max_depth=4, random_state=0)</pre><b>In a Jupyter environment, please rerun this cell to show the HTML representation or trust the notebook. <br />On GitHub, the HTML representation is unable to render, please try loading this page with nbviewer.org.</b></div><div class=\"sk-container\" hidden><div class=\"sk-item\"><div class=\"sk-estimator sk-toggleable\"><input class=\"sk-toggleable__control sk-hidden--visually\" id=\"sk-estimator-id-5\" type=\"checkbox\" checked><label for=\"sk-estimator-id-5\" class=\"sk-toggleable__label sk-toggleable__label-arrow\">RandomForestClassifier</label><div class=\"sk-toggleable__content\"><pre>RandomForestClassifier(max_depth=4, random_state=0)</pre></div></div></div></div></div>"
     },
     "execution_count": 23,
     "metadata": {},
     "output_type": "execute_result"
    }
   ],
   "source": [
    "import pandas as pd\n",
    "from sklearn.preprocessing import minmax_scale, OrdinalEncoder\n",
    "from sklearn.model_selection import train_test_split\n",
    "from imblearn.over_sampling import SMOTE\n",
    "\n",
    "df = pd.read_csv(\"brain_stroke.csv\")\n",
    "\n",
    "enc = OrdinalEncoder()\n",
    "df[[\"Residence_type\", \"ever_married\", \"gender\"]] = enc.fit_transform(df[[\"Residence_type\", \"ever_married\", \"gender\"]])\n",
    "df = pd.get_dummies(df, columns=[\"work_type\"])\n",
    "df = df.drop(columns=[\"smoking_status\"])\n",
    "df[['age','avg_glucose_level','bmi']] = minmax_scale(df[['age','avg_glucose_level','bmi']])\n",
    "\n",
    "X = df.drop(\"stroke\", axis=1)\n",
    "y = df[\"stroke\"]\n",
    "X_train, X_test, y_train, y_test = train_test_split(X, y, shuffle=True, random_state=5)\n",
    "\n",
    "oversample = SMOTE()\n",
    "X_train, y_train = oversample.fit_resample(X_train, y_train)\n",
    "from sklearn.ensemble import RandomForestClassifier\n",
    "rfc = RandomForestClassifier(max_depth=4, random_state=0)\n",
    "rfc.fit(X_train, y_train)"
   ]
  },
  {
   "cell_type": "markdown",
   "metadata": {},
   "source": [
    "## 1. Calculate Permutation-based Variable Importance for the selected model."
   ]
  },
  {
   "cell_type": "code",
   "execution_count": 24,
   "metadata": {},
   "outputs": [
    {
     "name": "stderr",
     "output_type": "stream",
     "text": [
      "X does not have valid feature names, but RandomForestClassifier was fitted with feature names\n"
     ]
    },
    {
     "name": "stdout",
     "output_type": "stream",
     "text": [
      "                   variable  dropout_loss                   label\n",
      "0         work_type_Private      0.181777  RandomForestClassifier\n",
      "1              _full_model_      0.181791  RandomForestClassifier\n",
      "2                    gender      0.181959  RandomForestClassifier\n",
      "3            Residence_type      0.182133  RandomForestClassifier\n",
      "4        work_type_Govt_job      0.182503  RandomForestClassifier\n",
      "5              hypertension      0.182935  RandomForestClassifier\n",
      "6        work_type_children      0.184150  RandomForestClassifier\n",
      "7   work_type_Self-employed      0.184251  RandomForestClassifier\n",
      "8             heart_disease      0.184314  RandomForestClassifier\n",
      "9                       bmi      0.186408  RandomForestClassifier\n",
      "10             ever_married      0.195019  RandomForestClassifier\n",
      "11        avg_glucose_level      0.196972  RandomForestClassifier\n",
      "12                      age      0.370212  RandomForestClassifier\n",
      "13               _baseline_      0.495193  RandomForestClassifier\n"
     ]
    }
   ],
   "source": [
    "import dalex as dx\n",
    "rfc_exp = dx.Explainer(rfc, X_test, y_test, verbose=False)\n",
    "rfc_pvi = rfc_exp.model_parts(random_state=0)\n",
    "print(rfc_pvi.result)\n",
    "rfc_pvi.plot(show=False).update_layout(autosize=False, width=600, height=450)"
   ]
  },
  {
   "cell_type": "markdown",
   "source": [
    "![](1.png)"
   ],
   "metadata": {
    "collapsed": false
   }
  },
  {
   "cell_type": "markdown",
   "source": [
    "As in many previous analyses, the age of the person turned out to be the most important. Glucose levels and marital status turn out to be equally important."
   ],
   "metadata": {
    "collapsed": false
   }
  },
  {
   "cell_type": "markdown",
   "metadata": {},
   "source": [
    "## 2. Train three more candidate models (different variable transformations, different model architectures, hyperparameters) and compare their rankings of important features using PVI. What are the differences? Why?"
   ]
  },
  {
   "cell_type": "code",
   "execution_count": 33,
   "metadata": {},
   "outputs": [
    {
     "name": "stdout",
     "output_type": "stream",
     "text": [
      "Logistic regression\n"
     ]
    },
    {
     "name": "stderr",
     "output_type": "stream",
     "text": [
      "X does not have valid feature names, but LogisticRegression was fitted with feature names\n"
     ]
    }
   ],
   "source": [
    "from sklearn.linear_model import LogisticRegression\n",
    "print(\"Logistic regression\")\n",
    "lr = LogisticRegression()\n",
    "lr.fit(X_train, y_train)\n",
    "lr_exp = dx.Explainer(lr, X_test, y_test, verbose=False)\n",
    "lr_pvi = lr_exp.model_parts(random_state=0)\n",
    "lr_pvi.plot(show=False).update_layout(autosize=False, width=600, height=450)"
   ]
  },
  {
   "cell_type": "markdown",
   "source": [
    "![](2.png)"
   ],
   "metadata": {
    "collapsed": false
   }
  },
  {
   "cell_type": "code",
   "execution_count": 34,
   "metadata": {},
   "outputs": [
    {
     "name": "stdout",
     "output_type": "stream",
     "text": [
      "Deeper random forest classifier\n"
     ]
    },
    {
     "name": "stderr",
     "output_type": "stream",
     "text": [
      "X does not have valid feature names, but RandomForestClassifier was fitted with feature names\n"
     ]
    },
    {
     "name": "stdout",
     "output_type": "stream",
     "text": [
      "                   variable  dropout_loss                   label\n",
      "0        work_type_Govt_job      0.185325  RandomForestClassifier\n",
      "1              _full_model_      0.186519  RandomForestClassifier\n",
      "2              hypertension      0.187094  RandomForestClassifier\n",
      "3   work_type_Self-employed      0.187220  RandomForestClassifier\n",
      "4                    gender      0.187820  RandomForestClassifier\n",
      "5             heart_disease      0.188044  RandomForestClassifier\n",
      "6         work_type_Private      0.188850  RandomForestClassifier\n",
      "7            Residence_type      0.188863  RandomForestClassifier\n",
      "8                       bmi      0.193384  RandomForestClassifier\n",
      "9              ever_married      0.194995  RandomForestClassifier\n",
      "10        avg_glucose_level      0.196629  RandomForestClassifier\n",
      "11       work_type_children      0.197265  RandomForestClassifier\n",
      "12                      age      0.405204  RandomForestClassifier\n",
      "13               _baseline_      0.490978  RandomForestClassifier\n"
     ]
    }
   ],
   "source": [
    "print(\"Deeper random forest classifier\")\n",
    "deeper_rfc = RandomForestClassifier(max_depth=8, random_state=0)\n",
    "deeper_rfc.fit(X_train, y_train)\n",
    "deeper_rfc_exp = dx.Explainer(deeper_rfc, X_test, y_test, verbose=False)\n",
    "deeper_rfc_pvi = deeper_rfc_exp.model_parts(random_state=0)\n",
    "print(deeper_rfc_pvi.result)\n",
    "deeper_rfc_pvi.plot(show=False).update_layout(autosize=False, width=600, height=450)"
   ]
  },
  {
   "cell_type": "markdown",
   "source": [
    "![](3.png)"
   ],
   "metadata": {
    "collapsed": false
   }
  },
  {
   "cell_type": "code",
   "execution_count": 35,
   "metadata": {},
   "outputs": [
    {
     "name": "stdout",
     "output_type": "stream",
     "text": [
      "XGBClassifier\n",
      "                   variable  dropout_loss          label\n",
      "0        work_type_Govt_job      0.189052  XGBClassifier\n",
      "1             heart_disease      0.189643  XGBClassifier\n",
      "2              _full_model_      0.190035  XGBClassifier\n",
      "3              hypertension      0.190035  XGBClassifier\n",
      "4        work_type_children      0.190035  XGBClassifier\n",
      "5   work_type_Self-employed      0.190443  XGBClassifier\n",
      "6              ever_married      0.191685  XGBClassifier\n",
      "7            Residence_type      0.192445  XGBClassifier\n",
      "8                    gender      0.194239  XGBClassifier\n",
      "9         work_type_Private      0.194798  XGBClassifier\n",
      "10                      bmi      0.200371  XGBClassifier\n",
      "11        avg_glucose_level      0.206179  XGBClassifier\n",
      "12                      age      0.433005  XGBClassifier\n",
      "13               _baseline_      0.494119  XGBClassifier\n"
     ]
    }
   ],
   "source": [
    "import xgboost\n",
    "\n",
    "print(\"XGBClassifier\")\n",
    "xgbc = xgboost.XGBClassifier(\n",
    "    n_estimators=50,\n",
    "    max_depth=2,\n",
    "    use_label_encoder=False,\n",
    "    eval_metric=\"logloss\",\n",
    "\n",
    "    enable_categorical=True,\n",
    "    tree_method=\"hist\"\n",
    ")\n",
    "xgbc.fit(X_train, y_train)\n",
    "xgbc_exp = dx.Explainer(xgbc, X_test, y_test, verbose=False)\n",
    "xgbc_pvi = xgbc_exp.model_parts(random_state=0)\n",
    "print(xgbc_pvi.result)\n",
    "xgbc_pvi.plot(show=False).update_layout(autosize=False, width=600, height=450)"
   ]
  },
  {
   "cell_type": "markdown",
   "source": [
    "![](4.png)"
   ],
   "metadata": {
    "collapsed": false
   }
  },
  {
   "cell_type": "markdown",
   "source": [
    "All models consider age as the most important characteristic, but they give it different weights. A deeper randomforest assigns more weight to age than a shallower one, because perhaps by using more branches it is better able to match the age-based training set. The linear regression model differs significantly in the case of non-age features from the other models that rely on branching. The linear regression model gives great importance to features related to the type of work performed, interestingly, each of these types is very important. This may be due to the fact that the data was characterized by the fact that each person performed one type of work, while after permuting a given feature to calculate pvi, this rule was broken, which could have a bad effect on the linear regression model. At the same time, tree models may not have noticed it by sifting out the types of work. xgbclassifier noticed the importance of the bmi factor, while other models did not pay attention to it. Indeed, each model pays attention to slightly different properties of the data."
   ],
   "metadata": {
    "collapsed": false
   }
  },
  {
   "cell_type": "markdown",
   "metadata": {},
   "source": [
    "## 3. For the tree-based model from (1), compare PVI with:"
   ]
  },
  {
   "cell_type": "markdown",
   "metadata": {},
   "source": [
    "### A) the traditional feature importance measures for trees: Gini impurity etc.; what is implemented in a given library: see e.g. the feature_importances_ attribute in xgboost and sklearn."
   ]
  },
  {
   "cell_type": "code",
   "execution_count": 28,
   "metadata": {},
   "outputs": [
    {
     "name": "stdout",
     "output_type": "stream",
     "text": [
      "                   variable  dropout_loss                   label\n",
      "0         work_type_Private      0.181777  RandomForestClassifier\n",
      "1              _full_model_      0.181791  RandomForestClassifier\n",
      "2                    gender      0.181959  RandomForestClassifier\n",
      "3            Residence_type      0.182133  RandomForestClassifier\n",
      "4        work_type_Govt_job      0.182503  RandomForestClassifier\n",
      "5              hypertension      0.182935  RandomForestClassifier\n",
      "6        work_type_children      0.184150  RandomForestClassifier\n",
      "7   work_type_Self-employed      0.184251  RandomForestClassifier\n",
      "8             heart_disease      0.184314  RandomForestClassifier\n",
      "9                       bmi      0.186408  RandomForestClassifier\n",
      "10             ever_married      0.195019  RandomForestClassifier\n",
      "11        avg_glucose_level      0.196972  RandomForestClassifier\n",
      "12                      age      0.370212  RandomForestClassifier\n",
      "13               _baseline_      0.495193  RandomForestClassifier\n"
     ]
    }
   ],
   "source": [
    "print(rfc_pvi.result)\n",
    "rfc_pvi.plot(show=False).update_layout(autosize=False, width=600, height=450)"
   ]
  },
  {
   "cell_type": "markdown",
   "source": [
    "![](1.png)"
   ],
   "metadata": {
    "collapsed": false
   }
  },
  {
   "cell_type": "code",
   "execution_count": 29,
   "metadata": {},
   "outputs": [
    {
     "name": "stdout",
     "output_type": "stream",
     "text": [
      "                   variable  importance\n",
      "1                       age    0.567259\n",
      "4              ever_married    0.166746\n",
      "7                       bmi    0.086340\n",
      "6         avg_glucose_level    0.078196\n",
      "11       work_type_children    0.044619\n",
      "2              hypertension    0.014749\n",
      "3             heart_disease    0.013817\n",
      "10  work_type_Self-employed    0.012046\n",
      "0                    gender    0.005059\n",
      "9         work_type_Private    0.004609\n",
      "5            Residence_type    0.003555\n",
      "8        work_type_Govt_job    0.003006\n"
     ]
    },
    {
     "data": {
      "text/plain": "<Figure size 432x288 with 1 Axes>",
      "image/png": "[encoded data removed]"
     },
     "metadata": {
      "needs_background": "light"
     },
     "output_type": "display_data"
    }
   ],
   "source": [
    "df = pd.DataFrame({'variable': X_test.columns, 'importance': rfc.feature_importances_}).sort_values(by='importance', ascending=False)\n",
    "print(df)\n",
    "import matplotlib.pyplot as plt\n",
    "df.head(8).plot.bar(x='variable', y='importance')\n",
    "plt.title(\"Gini-based Variable Importance\")\n",
    "plt.show()\n"
   ]
  },
  {
   "cell_type": "markdown",
   "source": [
    "As in the pvi analysis, in gini analysis age turned out to be the most important, while marital status, glucose level and bmi are at a similar level. It seems that such a result is better because it emphasizes the importance of the bmi index, which was omitted in the randomforest pvi analysis, while for xgboost it turned out to be important."
   ],
   "metadata": {
    "collapsed": false
   }
  },
  {
   "cell_type": "markdown",
   "metadata": {},
   "source": [
    "### B) [in Python] SHAP variable importance based on the TreeSHAP algorithm available in the shap package."
   ]
  },
  {
   "cell_type": "code",
   "execution_count": 30,
   "metadata": {},
   "outputs": [
    {
     "data": {
      "text/plain": "<Figure size 576x453.6 with 1 Axes>",
      "image/png": "[encoded data removed]"
     },
     "metadata": {
      "needs_background": "light"
     },
     "output_type": "display_data"
    }
   ],
   "source": [
    "shap_vi = rfc_exp.model_parts(type=\"shap_wrapper\", shap_explainer_type=\"TreeExplainer\")\n",
    "shap_vi.plot()"
   ]
  },
  {
   "cell_type": "markdown",
   "source": [
    "As in every previous case, age is the most important in SHAP variable importance, similarly as in random forest, marital status is important, but also bmi turned out to be important. Each technique yielded slightly different results that better sift out the really important data properties."
   ],
   "metadata": {
    "collapsed": false
   }
  }
 ],
 "metadata": {
  "kernelspec": {
   "display_name": "Python 3 (ipykernel)",
   "language": "python",
   "name": "python3"
  },
  "language_info": {
   "codemirror_mode": {
    "name": "ipython",
    "version": 3
   },
   "file_extension": ".py",
   "mimetype": "text/x-python",
   "name": "python",
   "nbconvert_exporter": "python",
   "pygments_lexer": "ipython3",
   "version": "3.9.15"
  }
 },
 "nbformat": 4,
 "nbformat_minor": 1
}
