{
 "cells": [
  {
   "cell_type": "markdown",
   "metadata": {},
   "source": [
    "### 1. Calculate Permutation-based Variable Importance for the selected model.\n",
    "![](1.png)"
   ]
  },
  {
   "cell_type": "markdown",
   "metadata": {},
   "source": [
    "`age` seems like the most important feature, which seems consistent with what we've seen in case of other explanations."
   ]
  },
  {
   "cell_type": "markdown",
   "metadata": {},
   "source": [
    "### 2. Train three more candidate models (different variable transformations, different model architectures, hyperparameters) and compare their rankings of important features using PVI. What are the differences? Why?\n",
    "![](2.png)\n",
    "First model is Logistic Regression. We can see this model focuses much more on `age` - could be that since this model is more limited it doesn't learn to use other features. This could be a bad thing (the model is unable to grasp complexity) or a good thing (the model does not overfit to data) or a mixture of both. Interestingly, unlike with LIME, we don't see `work_type_children` pointed out as being considerably more important than others.\n",
    "![](3.png)\n",
    "The second model is Random Forest with no class rebalancing. Despite a worse performance (pretty much all of the samples are classified negatively), the explanation is largely the same as with the first Random Forest.\n",
    "![](4.png)\n",
    "Lastly we see variable importance for a Neural Network. Here, all of the features are much more important compared to `age` (with that still being in the lead), and different ordering of features. Again, this seems to indicate some overfitting."
   ]
  },
  {
   "cell_type": "markdown",
   "metadata": {},
   "source": [
    "### 3. For the tree-based model from (1), compare PVI with:\n",
    "\n",
    "A) the traditional feature importance measures for trees: Gini impurity etc.; what is implemented in a given library: see e.g. the feature_importances_ attribute in xgboost and sklearn.\n",
    "![](5.png)\n",
    "\n",
    "B) [in Python] SHAP variable importance based on the TreeSHAP algorithm available in the shap package.\n",
    "\n",
    "![](6.png)\n",
    "\n",
    "Both of these explanations yield similar results - the `age` is the dominant feature with `avg_glucose_level` and `bmi` being also important."
   ]
  }
 ],
 "metadata": {
  "kernelspec": {
   "display_name": "Python 3.10.7 64-bit",
   "language": "python",
   "name": "python3"
  },
  "language_info": {
   "codemirror_mode": {
    "name": "ipython",
    "version": 3
   },
   "file_extension": ".py",
   "mimetype": "text/x-python",
   "name": "python",
   "nbconvert_exporter": "python",
   "pygments_lexer": "ipython3",
   "version": "3.10.7"
  },
  "orig_nbformat": 4,
  "vscode": {
   "interpreter": {
    "hash": "aee8b7b246df8f9039afb4144a1f6fd8d2ca17a180786b69acc140d282b71a49"
   }
  }
 },
 "nbformat": 4,
 "nbformat_minor": 2
}
