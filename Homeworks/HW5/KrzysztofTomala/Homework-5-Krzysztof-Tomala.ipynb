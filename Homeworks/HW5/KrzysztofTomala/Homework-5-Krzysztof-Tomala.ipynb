{
 "cells": [
  {
   "cell_type": "markdown",
   "id": "19524f2e",
   "metadata": {},
   "source": [
    "# Krzysztof Tomala - Explainable AI - Homework 5"
   ]
  },
  {
   "cell_type": "markdown",
   "id": "d51450d0",
   "metadata": {},
   "source": [
    "# Report"
   ]
  },
  {
   "cell_type": "markdown",
   "id": "b698f726",
   "metadata": {},
   "source": [
    "# List of features with short descriptions"
   ]
  },
  {
   "cell_type": "markdown",
   "id": "95b1f08b",
   "metadata": {},
   "source": [
    "Age : Age of the patient\n",
    "\n",
    "Sex : Sex of the patient\n",
    "\n",
    "exang: exercise induced angina (1 = yes; 0 = no)\n",
    "\n",
    "ca: number of major vessels visible in fluoroscopy (0-3)\n",
    "\n",
    "cp : Chest Pain type chest pain type\n",
    "    Value 1: typical angina\n",
    "    Value 2: atypical angina\n",
    "    Value 3: non-anginal pain\n",
    "    Value 4: asymptomatic\n",
    "\n",
    "trtbps : resting blood pressure (in mm Hg)\n",
    "\n",
    "chol : cholestoral in mg/dl fetched via BMI sensor\n",
    "\n",
    "fbs : (fasting blood sugar > 120 mg/dl) (1 = true; 0 = false)\n",
    "\n",
    "rest_ecg : resting electrocardiographic results\n",
    "    Value 0: normal\n",
    "    Value 1: having ST-T wave abnormality (T wave inversions and/or ST elevation or depression of > 0.05 mV)\n",
    "    Value 2: showing probable or definite left ventricular hypertrophy by Estes' criteria\n",
    "\n",
    "thalach : maximum heart rate achieved\n",
    "\n",
    "thal : Thalium Stress Test result\n",
    "    \n",
    "slope : the slope of the peak exercise ST segment (2 = upsloping; 1 = flat; 0 = downsloping)\n",
    "\n",
    "oldpeak : ST depression induced by exercise relative to rest"
   ]
  },
  {
   "cell_type": "markdown",
   "id": "57dd2686",
   "metadata": {},
   "source": [
    "# Tasks"
   ]
  },
  {
   "cell_type": "markdown",
   "id": "e5f17bca",
   "metadata": {},
   "source": [
    "    Calculate Permutation-based Variable Importance for the selected model."
   ]
  },
  {
   "cell_type": "markdown",
   "id": "46dc91a1",
   "metadata": {},
   "source": [
    "![image](forest.png)"
   ]
  },
  {
   "cell_type": "markdown",
   "id": "a952814e",
   "metadata": {},
   "source": [
    "We can see that the most importatnt variables for the random tree classifier, based on Permutation-based Variable Importance, are ca, cp_0 and thalach. "
   ]
  },
  {
   "cell_type": "markdown",
   "id": "17adb5ea",
   "metadata": {},
   "source": [
    "    Train three more candidate models (different variable transformations, different model architectures, hyperparameters) and compare their rankings of important features using PVI. What are the differences? Why?"
   ]
  },
  {
   "cell_type": "markdown",
   "id": "ac389747",
   "metadata": {},
   "source": [
    "![image](forest_hp2.png)"
   ]
  },
  {
   "cell_type": "markdown",
   "id": "8b6cc03c",
   "metadata": {},
   "source": [
    "![image](xgb.png)"
   ]
  },
  {
   "cell_type": "markdown",
   "id": "542db6cf",
   "metadata": {},
   "source": [
    "![image](xgb_hp2.png)"
   ]
  },
  {
   "cell_type": "markdown",
   "id": "411ecc96",
   "metadata": {},
   "source": [
    "We can see that the numerical results vary a bit, but order of the variables is pretty similar ( for example ca and cp_0 are always in top 4). \n",
    "The difference might come from small differences in the models or just from randomness of the method."
   ]
  },
  {
   "cell_type": "markdown",
   "id": "143f3308",
   "metadata": {},
   "source": [
    "    For the tree-based model from (1), compare PVI with:\n",
    "    A) the traditional feature importance measures for trees: Gini impurity etc.; what is implemented in a given library: see e.g. the feature_importances_ attribute in xgboost and sklearn.\n",
    "    B) [in Python] SHAP variable importance based on the TreeSHAP algorithm available in the shap package.\n"
   ]
  },
  {
   "cell_type": "markdown",
   "id": "c1521170",
   "metadata": {},
   "source": [
    "![image](feature_importance.png)"
   ]
  },
  {
   "cell_type": "markdown",
   "id": "a20c8919",
   "metadata": {},
   "source": [
    "![image](shap.png)"
   ]
  },
  {
   "cell_type": "markdown",
   "id": "ea62264b",
   "metadata": {},
   "source": [
    "We can see that this methods give similiar results to the ones before. I think it is happening because we use all of them to find which variables have more and less impact on the predictions of the model, so it would be very bad if deifferent methods gave us different results."
   ]
  },
  {
   "cell_type": "markdown",
   "id": "bb9e911c",
   "metadata": {},
   "source": [
    "# Appendix"
   ]
  },
  {
   "cell_type": "code",
   "execution_count": 1,
   "id": "908e0ed1",
   "metadata": {},
   "outputs": [],
   "source": [
    "import pandas as pd\n",
    "import sklearn\n",
    "from sklearn import ensemble\n",
    "import dalex as dx\n",
    "import lime"
   ]
  },
  {
   "cell_type": "code",
   "execution_count": 2,
   "id": "baf5a2d7",
   "metadata": {},
   "outputs": [
    {
     "data": {
      "text/html": [
       "<div>\n",
       "<style scoped>\n",
       "    .dataframe tbody tr th:only-of-type {\n",
       "        vertical-align: middle;\n",
       "    }\n",
       "\n",
       "    .dataframe tbody tr th {\n",
       "        vertical-align: top;\n",
       "    }\n",
       "\n",
       "    .dataframe thead th {\n",
       "        text-align: right;\n",
       "    }\n",
       "</style>\n",
       "<table border=\"1\" class=\"dataframe\">\n",
       "  <thead>\n",
       "    <tr style=\"text-align: right;\">\n",
       "      <th></th>\n",
       "      <th>age</th>\n",
       "      <th>sex</th>\n",
       "      <th>cp</th>\n",
       "      <th>trtbps</th>\n",
       "      <th>chol</th>\n",
       "      <th>fbs</th>\n",
       "      <th>restecg</th>\n",
       "      <th>thalachh</th>\n",
       "      <th>exng</th>\n",
       "      <th>oldpeak</th>\n",
       "      <th>slp</th>\n",
       "      <th>caa</th>\n",
       "      <th>thall</th>\n",
       "      <th>output</th>\n",
       "    </tr>\n",
       "  </thead>\n",
       "  <tbody>\n",
       "    <tr>\n",
       "      <th>0</th>\n",
       "      <td>63</td>\n",
       "      <td>1</td>\n",
       "      <td>3</td>\n",
       "      <td>145</td>\n",
       "      <td>233</td>\n",
       "      <td>1</td>\n",
       "      <td>0</td>\n",
       "      <td>150</td>\n",
       "      <td>0</td>\n",
       "      <td>2.3</td>\n",
       "      <td>0</td>\n",
       "      <td>0</td>\n",
       "      <td>1</td>\n",
       "      <td>1</td>\n",
       "    </tr>\n",
       "    <tr>\n",
       "      <th>1</th>\n",
       "      <td>37</td>\n",
       "      <td>1</td>\n",
       "      <td>2</td>\n",
       "      <td>130</td>\n",
       "      <td>250</td>\n",
       "      <td>0</td>\n",
       "      <td>1</td>\n",
       "      <td>187</td>\n",
       "      <td>0</td>\n",
       "      <td>3.5</td>\n",
       "      <td>0</td>\n",
       "      <td>0</td>\n",
       "      <td>2</td>\n",
       "      <td>1</td>\n",
       "    </tr>\n",
       "    <tr>\n",
       "      <th>2</th>\n",
       "      <td>41</td>\n",
       "      <td>0</td>\n",
       "      <td>1</td>\n",
       "      <td>130</td>\n",
       "      <td>204</td>\n",
       "      <td>0</td>\n",
       "      <td>0</td>\n",
       "      <td>172</td>\n",
       "      <td>0</td>\n",
       "      <td>1.4</td>\n",
       "      <td>2</td>\n",
       "      <td>0</td>\n",
       "      <td>2</td>\n",
       "      <td>1</td>\n",
       "    </tr>\n",
       "    <tr>\n",
       "      <th>3</th>\n",
       "      <td>56</td>\n",
       "      <td>1</td>\n",
       "      <td>1</td>\n",
       "      <td>120</td>\n",
       "      <td>236</td>\n",
       "      <td>0</td>\n",
       "      <td>1</td>\n",
       "      <td>178</td>\n",
       "      <td>0</td>\n",
       "      <td>0.8</td>\n",
       "      <td>2</td>\n",
       "      <td>0</td>\n",
       "      <td>2</td>\n",
       "      <td>1</td>\n",
       "    </tr>\n",
       "    <tr>\n",
       "      <th>4</th>\n",
       "      <td>57</td>\n",
       "      <td>0</td>\n",
       "      <td>0</td>\n",
       "      <td>120</td>\n",
       "      <td>354</td>\n",
       "      <td>0</td>\n",
       "      <td>1</td>\n",
       "      <td>163</td>\n",
       "      <td>1</td>\n",
       "      <td>0.6</td>\n",
       "      <td>2</td>\n",
       "      <td>0</td>\n",
       "      <td>2</td>\n",
       "      <td>1</td>\n",
       "    </tr>\n",
       "    <tr>\n",
       "      <th>...</th>\n",
       "      <td>...</td>\n",
       "      <td>...</td>\n",
       "      <td>...</td>\n",
       "      <td>...</td>\n",
       "      <td>...</td>\n",
       "      <td>...</td>\n",
       "      <td>...</td>\n",
       "      <td>...</td>\n",
       "      <td>...</td>\n",
       "      <td>...</td>\n",
       "      <td>...</td>\n",
       "      <td>...</td>\n",
       "      <td>...</td>\n",
       "      <td>...</td>\n",
       "    </tr>\n",
       "    <tr>\n",
       "      <th>298</th>\n",
       "      <td>57</td>\n",
       "      <td>0</td>\n",
       "      <td>0</td>\n",
       "      <td>140</td>\n",
       "      <td>241</td>\n",
       "      <td>0</td>\n",
       "      <td>1</td>\n",
       "      <td>123</td>\n",
       "      <td>1</td>\n",
       "      <td>0.2</td>\n",
       "      <td>1</td>\n",
       "      <td>0</td>\n",
       "      <td>3</td>\n",
       "      <td>0</td>\n",
       "    </tr>\n",
       "    <tr>\n",
       "      <th>299</th>\n",
       "      <td>45</td>\n",
       "      <td>1</td>\n",
       "      <td>3</td>\n",
       "      <td>110</td>\n",
       "      <td>264</td>\n",
       "      <td>0</td>\n",
       "      <td>1</td>\n",
       "      <td>132</td>\n",
       "      <td>0</td>\n",
       "      <td>1.2</td>\n",
       "      <td>1</td>\n",
       "      <td>0</td>\n",
       "      <td>3</td>\n",
       "      <td>0</td>\n",
       "    </tr>\n",
       "    <tr>\n",
       "      <th>300</th>\n",
       "      <td>68</td>\n",
       "      <td>1</td>\n",
       "      <td>0</td>\n",
       "      <td>144</td>\n",
       "      <td>193</td>\n",
       "      <td>1</td>\n",
       "      <td>1</td>\n",
       "      <td>141</td>\n",
       "      <td>0</td>\n",
       "      <td>3.4</td>\n",
       "      <td>1</td>\n",
       "      <td>2</td>\n",
       "      <td>3</td>\n",
       "      <td>0</td>\n",
       "    </tr>\n",
       "    <tr>\n",
       "      <th>301</th>\n",
       "      <td>57</td>\n",
       "      <td>1</td>\n",
       "      <td>0</td>\n",
       "      <td>130</td>\n",
       "      <td>131</td>\n",
       "      <td>0</td>\n",
       "      <td>1</td>\n",
       "      <td>115</td>\n",
       "      <td>1</td>\n",
       "      <td>1.2</td>\n",
       "      <td>1</td>\n",
       "      <td>1</td>\n",
       "      <td>3</td>\n",
       "      <td>0</td>\n",
       "    </tr>\n",
       "    <tr>\n",
       "      <th>302</th>\n",
       "      <td>57</td>\n",
       "      <td>0</td>\n",
       "      <td>1</td>\n",
       "      <td>130</td>\n",
       "      <td>236</td>\n",
       "      <td>0</td>\n",
       "      <td>0</td>\n",
       "      <td>174</td>\n",
       "      <td>0</td>\n",
       "      <td>0.0</td>\n",
       "      <td>1</td>\n",
       "      <td>1</td>\n",
       "      <td>2</td>\n",
       "      <td>0</td>\n",
       "    </tr>\n",
       "  </tbody>\n",
       "</table>\n",
       "<p>303 rows × 14 columns</p>\n",
       "</div>"
      ],
      "text/plain": [
       "     age  sex  cp  trtbps  chol  fbs  restecg  thalachh  exng  oldpeak  slp  \\\n",
       "0     63    1   3     145   233    1        0       150     0      2.3    0   \n",
       "1     37    1   2     130   250    0        1       187     0      3.5    0   \n",
       "2     41    0   1     130   204    0        0       172     0      1.4    2   \n",
       "3     56    1   1     120   236    0        1       178     0      0.8    2   \n",
       "4     57    0   0     120   354    0        1       163     1      0.6    2   \n",
       "..   ...  ...  ..     ...   ...  ...      ...       ...   ...      ...  ...   \n",
       "298   57    0   0     140   241    0        1       123     1      0.2    1   \n",
       "299   45    1   3     110   264    0        1       132     0      1.2    1   \n",
       "300   68    1   0     144   193    1        1       141     0      3.4    1   \n",
       "301   57    1   0     130   131    0        1       115     1      1.2    1   \n",
       "302   57    0   1     130   236    0        0       174     0      0.0    1   \n",
       "\n",
       "     caa  thall  output  \n",
       "0      0      1       1  \n",
       "1      0      2       1  \n",
       "2      0      2       1  \n",
       "3      0      2       1  \n",
       "4      0      2       1  \n",
       "..   ...    ...     ...  \n",
       "298    0      3       0  \n",
       "299    0      3       0  \n",
       "300    2      3       0  \n",
       "301    1      3       0  \n",
       "302    1      2       0  \n",
       "\n",
       "[303 rows x 14 columns]"
      ]
     },
     "execution_count": 2,
     "metadata": {},
     "output_type": "execute_result"
    }
   ],
   "source": [
    "dataset = pd.read_csv('heart.csv')\n",
    "dataset = pd.get_dummies(dataset)\n",
    "dataset"
   ]
  },
  {
   "cell_type": "code",
   "execution_count": 3,
   "id": "6369c7c6",
   "metadata": {},
   "outputs": [
    {
     "data": {
      "text/html": [
       "<div>\n",
       "<style scoped>\n",
       "    .dataframe tbody tr th:only-of-type {\n",
       "        vertical-align: middle;\n",
       "    }\n",
       "\n",
       "    .dataframe tbody tr th {\n",
       "        vertical-align: top;\n",
       "    }\n",
       "\n",
       "    .dataframe thead th {\n",
       "        text-align: right;\n",
       "    }\n",
       "</style>\n",
       "<table border=\"1\" class=\"dataframe\">\n",
       "  <thead>\n",
       "    <tr style=\"text-align: right;\">\n",
       "      <th></th>\n",
       "      <th>age</th>\n",
       "      <th>sex</th>\n",
       "      <th>trtbps</th>\n",
       "      <th>chol</th>\n",
       "      <th>fbs</th>\n",
       "      <th>restecg</th>\n",
       "      <th>exng</th>\n",
       "      <th>oldpeak</th>\n",
       "      <th>thalach</th>\n",
       "      <th>slope</th>\n",
       "      <th>ca</th>\n",
       "      <th>cp_0</th>\n",
       "      <th>cp_1</th>\n",
       "      <th>cp_2</th>\n",
       "      <th>cp_3</th>\n",
       "      <th>thall_0</th>\n",
       "      <th>thall_1</th>\n",
       "      <th>thall_2</th>\n",
       "      <th>thall_3</th>\n",
       "    </tr>\n",
       "  </thead>\n",
       "  <tbody>\n",
       "    <tr>\n",
       "      <th>137</th>\n",
       "      <td>62</td>\n",
       "      <td>1</td>\n",
       "      <td>128</td>\n",
       "      <td>208</td>\n",
       "      <td>1</td>\n",
       "      <td>0</td>\n",
       "      <td>0</td>\n",
       "      <td>0.0</td>\n",
       "      <td>140</td>\n",
       "      <td>2</td>\n",
       "      <td>0</td>\n",
       "      <td>0</td>\n",
       "      <td>1</td>\n",
       "      <td>0</td>\n",
       "      <td>0</td>\n",
       "      <td>0</td>\n",
       "      <td>0</td>\n",
       "      <td>1</td>\n",
       "      <td>0</td>\n",
       "    </tr>\n",
       "    <tr>\n",
       "      <th>106</th>\n",
       "      <td>69</td>\n",
       "      <td>1</td>\n",
       "      <td>160</td>\n",
       "      <td>234</td>\n",
       "      <td>1</td>\n",
       "      <td>0</td>\n",
       "      <td>0</td>\n",
       "      <td>0.1</td>\n",
       "      <td>131</td>\n",
       "      <td>1</td>\n",
       "      <td>1</td>\n",
       "      <td>0</td>\n",
       "      <td>0</td>\n",
       "      <td>0</td>\n",
       "      <td>1</td>\n",
       "      <td>0</td>\n",
       "      <td>0</td>\n",
       "      <td>1</td>\n",
       "      <td>0</td>\n",
       "    </tr>\n",
       "    <tr>\n",
       "      <th>284</th>\n",
       "      <td>61</td>\n",
       "      <td>1</td>\n",
       "      <td>140</td>\n",
       "      <td>207</td>\n",
       "      <td>0</td>\n",
       "      <td>0</td>\n",
       "      <td>1</td>\n",
       "      <td>1.9</td>\n",
       "      <td>138</td>\n",
       "      <td>2</td>\n",
       "      <td>1</td>\n",
       "      <td>1</td>\n",
       "      <td>0</td>\n",
       "      <td>0</td>\n",
       "      <td>0</td>\n",
       "      <td>0</td>\n",
       "      <td>0</td>\n",
       "      <td>0</td>\n",
       "      <td>1</td>\n",
       "    </tr>\n",
       "    <tr>\n",
       "      <th>44</th>\n",
       "      <td>39</td>\n",
       "      <td>1</td>\n",
       "      <td>140</td>\n",
       "      <td>321</td>\n",
       "      <td>0</td>\n",
       "      <td>0</td>\n",
       "      <td>0</td>\n",
       "      <td>0.0</td>\n",
       "      <td>182</td>\n",
       "      <td>2</td>\n",
       "      <td>0</td>\n",
       "      <td>0</td>\n",
       "      <td>0</td>\n",
       "      <td>1</td>\n",
       "      <td>0</td>\n",
       "      <td>0</td>\n",
       "      <td>0</td>\n",
       "      <td>1</td>\n",
       "      <td>0</td>\n",
       "    </tr>\n",
       "    <tr>\n",
       "      <th>139</th>\n",
       "      <td>64</td>\n",
       "      <td>1</td>\n",
       "      <td>128</td>\n",
       "      <td>263</td>\n",
       "      <td>0</td>\n",
       "      <td>1</td>\n",
       "      <td>1</td>\n",
       "      <td>0.2</td>\n",
       "      <td>105</td>\n",
       "      <td>1</td>\n",
       "      <td>1</td>\n",
       "      <td>1</td>\n",
       "      <td>0</td>\n",
       "      <td>0</td>\n",
       "      <td>0</td>\n",
       "      <td>0</td>\n",
       "      <td>0</td>\n",
       "      <td>0</td>\n",
       "      <td>1</td>\n",
       "    </tr>\n",
       "    <tr>\n",
       "      <th>...</th>\n",
       "      <td>...</td>\n",
       "      <td>...</td>\n",
       "      <td>...</td>\n",
       "      <td>...</td>\n",
       "      <td>...</td>\n",
       "      <td>...</td>\n",
       "      <td>...</td>\n",
       "      <td>...</td>\n",
       "      <td>...</td>\n",
       "      <td>...</td>\n",
       "      <td>...</td>\n",
       "      <td>...</td>\n",
       "      <td>...</td>\n",
       "      <td>...</td>\n",
       "      <td>...</td>\n",
       "      <td>...</td>\n",
       "      <td>...</td>\n",
       "      <td>...</td>\n",
       "      <td>...</td>\n",
       "    </tr>\n",
       "    <tr>\n",
       "      <th>251</th>\n",
       "      <td>43</td>\n",
       "      <td>1</td>\n",
       "      <td>132</td>\n",
       "      <td>247</td>\n",
       "      <td>1</td>\n",
       "      <td>0</td>\n",
       "      <td>1</td>\n",
       "      <td>0.1</td>\n",
       "      <td>143</td>\n",
       "      <td>1</td>\n",
       "      <td>4</td>\n",
       "      <td>1</td>\n",
       "      <td>0</td>\n",
       "      <td>0</td>\n",
       "      <td>0</td>\n",
       "      <td>0</td>\n",
       "      <td>0</td>\n",
       "      <td>0</td>\n",
       "      <td>1</td>\n",
       "    </tr>\n",
       "    <tr>\n",
       "      <th>192</th>\n",
       "      <td>54</td>\n",
       "      <td>1</td>\n",
       "      <td>120</td>\n",
       "      <td>188</td>\n",
       "      <td>0</td>\n",
       "      <td>1</td>\n",
       "      <td>0</td>\n",
       "      <td>1.4</td>\n",
       "      <td>113</td>\n",
       "      <td>1</td>\n",
       "      <td>1</td>\n",
       "      <td>1</td>\n",
       "      <td>0</td>\n",
       "      <td>0</td>\n",
       "      <td>0</td>\n",
       "      <td>0</td>\n",
       "      <td>0</td>\n",
       "      <td>0</td>\n",
       "      <td>1</td>\n",
       "    </tr>\n",
       "    <tr>\n",
       "      <th>117</th>\n",
       "      <td>56</td>\n",
       "      <td>1</td>\n",
       "      <td>120</td>\n",
       "      <td>193</td>\n",
       "      <td>0</td>\n",
       "      <td>0</td>\n",
       "      <td>0</td>\n",
       "      <td>1.9</td>\n",
       "      <td>162</td>\n",
       "      <td>1</td>\n",
       "      <td>0</td>\n",
       "      <td>0</td>\n",
       "      <td>0</td>\n",
       "      <td>0</td>\n",
       "      <td>1</td>\n",
       "      <td>0</td>\n",
       "      <td>0</td>\n",
       "      <td>0</td>\n",
       "      <td>1</td>\n",
       "    </tr>\n",
       "    <tr>\n",
       "      <th>47</th>\n",
       "      <td>47</td>\n",
       "      <td>1</td>\n",
       "      <td>138</td>\n",
       "      <td>257</td>\n",
       "      <td>0</td>\n",
       "      <td>0</td>\n",
       "      <td>0</td>\n",
       "      <td>0.0</td>\n",
       "      <td>156</td>\n",
       "      <td>2</td>\n",
       "      <td>0</td>\n",
       "      <td>0</td>\n",
       "      <td>0</td>\n",
       "      <td>1</td>\n",
       "      <td>0</td>\n",
       "      <td>0</td>\n",
       "      <td>0</td>\n",
       "      <td>1</td>\n",
       "      <td>0</td>\n",
       "    </tr>\n",
       "    <tr>\n",
       "      <th>172</th>\n",
       "      <td>58</td>\n",
       "      <td>1</td>\n",
       "      <td>120</td>\n",
       "      <td>284</td>\n",
       "      <td>0</td>\n",
       "      <td>0</td>\n",
       "      <td>0</td>\n",
       "      <td>1.8</td>\n",
       "      <td>160</td>\n",
       "      <td>1</td>\n",
       "      <td>0</td>\n",
       "      <td>0</td>\n",
       "      <td>1</td>\n",
       "      <td>0</td>\n",
       "      <td>0</td>\n",
       "      <td>0</td>\n",
       "      <td>0</td>\n",
       "      <td>1</td>\n",
       "      <td>0</td>\n",
       "    </tr>\n",
       "  </tbody>\n",
       "</table>\n",
       "<p>212 rows × 19 columns</p>\n",
       "</div>"
      ],
      "text/plain": [
       "     age  sex  trtbps  chol  fbs  restecg  exng  oldpeak  thalach  slope  ca  \\\n",
       "137   62    1     128   208    1        0     0      0.0      140      2   0   \n",
       "106   69    1     160   234    1        0     0      0.1      131      1   1   \n",
       "284   61    1     140   207    0        0     1      1.9      138      2   1   \n",
       "44    39    1     140   321    0        0     0      0.0      182      2   0   \n",
       "139   64    1     128   263    0        1     1      0.2      105      1   1   \n",
       "..   ...  ...     ...   ...  ...      ...   ...      ...      ...    ...  ..   \n",
       "251   43    1     132   247    1        0     1      0.1      143      1   4   \n",
       "192   54    1     120   188    0        1     0      1.4      113      1   1   \n",
       "117   56    1     120   193    0        0     0      1.9      162      1   0   \n",
       "47    47    1     138   257    0        0     0      0.0      156      2   0   \n",
       "172   58    1     120   284    0        0     0      1.8      160      1   0   \n",
       "\n",
       "     cp_0  cp_1  cp_2  cp_3  thall_0  thall_1  thall_2  thall_3  \n",
       "137     0     1     0     0        0        0        1        0  \n",
       "106     0     0     0     1        0        0        1        0  \n",
       "284     1     0     0     0        0        0        0        1  \n",
       "44      0     0     1     0        0        0        1        0  \n",
       "139     1     0     0     0        0        0        0        1  \n",
       "..    ...   ...   ...   ...      ...      ...      ...      ...  \n",
       "251     1     0     0     0        0        0        0        1  \n",
       "192     1     0     0     0        0        0        0        1  \n",
       "117     0     0     0     1        0        0        0        1  \n",
       "47      0     0     1     0        0        0        1        0  \n",
       "172     0     1     0     0        0        0        1        0  \n",
       "\n",
       "[212 rows x 19 columns]"
      ]
     },
     "execution_count": 3,
     "metadata": {},
     "output_type": "execute_result"
    }
   ],
   "source": [
    "features = dataset.drop(columns='output')\n",
    "\n",
    "#fixing typo in data\n",
    "features['thalach']=features['thalachh']\n",
    "features = features.drop(columns='thalachh')\n",
    "\n",
    "features['slope']=features['slp']\n",
    "features = features.drop(columns='slp')\n",
    "\n",
    "features['ca']=features['caa']\n",
    "features = features.drop(columns='caa')\n",
    "\n",
    "features = pd.get_dummies(features, columns=['cp', 'thall'])\n",
    "\n",
    "features\n",
    "X_train, X_test, y_train, y_test = sklearn.model_selection.train_test_split(features, dataset['output'], test_size=0.3, random_state=0)\n",
    "X_train"
   ]
  },
  {
   "cell_type": "code",
   "execution_count": 4,
   "id": "c61bd4ef",
   "metadata": {},
   "outputs": [
    {
     "name": "stdout",
     "output_type": "stream",
     "text": [
      "Accuracy: 0.8351648351648352\n",
      "Recall: 0.8723404255319149\n",
      "Precision: 0.82\n",
      "\n",
      "Results on train dataset:\n",
      "Accuracy: 1.0\n",
      "Recall: 1.0\n",
      "Precision: 1.0\n"
     ]
    }
   ],
   "source": [
    "forest = sklearn.ensemble.RandomForestClassifier()\n",
    "forest.fit(X=X_train,y=y_train)\n",
    "print(f'Accuracy: {sklearn.metrics.accuracy_score(y_test,forest.predict(X_test))}')\n",
    "print(f'Recall: {sklearn.metrics.recall_score(y_test,forest.predict(X_test))}')\n",
    "print(f'Precision: {sklearn.metrics.precision_score(y_test,forest.predict(X_test))}')\n",
    "\n",
    "forest_accuracy = sklearn.metrics.accuracy_score(y_test,forest.predict(X_test))\n",
    "forest_recall = sklearn.metrics.recall_score(y_test,forest.predict(X_test))\n",
    "forest_precision = sklearn.metrics.precision_score(y_test,forest.predict(X_test))\n",
    "\n",
    "print('\\nResults on train dataset:')\n",
    "print(f'Accuracy: {sklearn.metrics.accuracy_score(y_train,forest.predict(X_train))}')\n",
    "print(f'Recall: {sklearn.metrics.recall_score(y_train,forest.predict(X_train))}')\n",
    "print(f'Precision: {sklearn.metrics.precision_score(y_train,forest.predict(X_train))}')"
   ]
  },
  {
   "cell_type": "code",
   "execution_count": 5,
   "id": "2771406a",
   "metadata": {},
   "outputs": [
    {
     "name": "stdout",
     "output_type": "stream",
     "text": [
      "[[ 70.    1.  145.  174.    0.    1.    1.    2.6 125.    0.    0.    1.\n",
      "    0.    0.    0.    0.    0.    0.    1. ]]\n",
      "[0.15]\n",
      "[[ 64.    1.  170.  227.    0.    0.    0.    0.6 155.    1.    0.    0.\n",
      "    0.    0.    1.    0.    0.    0.    1. ]]\n",
      "[0.66]\n",
      "Preparation of a new explainer is initiated\n",
      "\n",
      "  -> data              : 91 rows 19 cols\n",
      "  -> target variable   : Parameter 'y' was a pandas.Series. Converted to a numpy.ndarray.\n",
      "  -> target variable   : 91 values\n",
      "  -> model_class       : sklearn.ensemble._forest.RandomForestClassifier (default)\n",
      "  -> label             : forest\n",
      "  -> predict function  : <function <lambda> at 0x7ff4a921f280> will be used\n",
      "  -> predict function  : Accepts pandas.DataFrame and numpy.ndarray.\n",
      "  -> predicted values  : min = 0.0, mean = 0.548, max = 0.99\n",
      "  -> model type        : classification will be used (default)\n",
      "  -> residual function : difference between y and yhat (default)\n",
      "  -> residuals         : min = -0.86, mean = -0.0311, max = 0.86\n",
      "  -> model_info        : package sklearn\n",
      "\n",
      "A new explainer has been created!\n"
     ]
    },
    {
     "name": "stderr",
     "output_type": "stream",
     "text": [
      "/home/krzysztof/anaconda3/lib/python3.9/site-packages/sklearn/base.py:450: UserWarning: X does not have valid feature names, but RandomForestClassifier was fitted with feature names\n",
      "  warnings.warn(\n",
      "/home/krzysztof/anaconda3/lib/python3.9/site-packages/sklearn/base.py:450: UserWarning: X does not have valid feature names, but RandomForestClassifier was fitted with feature names\n",
      "  warnings.warn(\n",
      "/home/krzysztof/anaconda3/lib/python3.9/site-packages/sklearn/base.py:450: UserWarning: X does not have valid feature names, but RandomForestClassifier was fitted with feature names\n",
      "  warnings.warn(\n"
     ]
    }
   ],
   "source": [
    "obs = list(range(2))\n",
    "import numpy as np\n",
    "predict = lambda m, d: m.predict_proba(d)[:,1]\n",
    "\n",
    "for i in obs:\n",
    "    obs1 = X_test.iloc[obs[i]].to_numpy().reshape(1,-1)\n",
    "    print(obs1)\n",
    "    print(predict(forest, obs1))\n",
    "    \n",
    "\n",
    "X = X_test\n",
    "y = y_test\n",
    "explainer = dx.Explainer(forest, X_test, y_test, predict_function=predict, label=\"forest\")"
   ]
  },
  {
   "cell_type": "code",
   "execution_count": 8,
   "id": "94ee7dc0",
   "metadata": {},
   "outputs": [
    {
     "data": {
      "application/vnd.plotly.v1+json": {
       "config": {
        "displaylogo": false,
        "modeBarButtonsToRemove": [
         "sendDataToCloud",
         "lasso2d",
         "autoScale2d",
         "select2d",
         "zoom2d",
         "pan2d",
         "zoomIn2d",
         "zoomOut2d",
         "resetScale2d",
         "toggleSpikelines",
         "hoverCompareCartesian",
         "hoverClosestCartesian"
        ],
        "plotlyServerURL": "https://plot.ly",
        "staticPlot": false,
        "toImageButtonOptions": {
         "height": null,
         "width": null
        }
       },
       "data": [
        {
         "base": 0.09477756286266925,
         "hoverinfo": "text",
         "hoverlabel": {
          "bgcolor": "rgba(0,0,0,0.8)"
         },
         "hovertext": [
          "Model: forest loss after<br>variable: ca is permuted: 0.141<br>Drop-out loss change: +0.046",
          "Model: forest loss after<br>variable: cp_0 is permuted: 0.11<br>Drop-out loss change: +0.015",
          "Model: forest loss after<br>variable: thall_2 is permuted: 0.108<br>Drop-out loss change: +0.013",
          "Model: forest loss after<br>variable: exng is permuted: 0.108<br>Drop-out loss change: +0.013",
          "Model: forest loss after<br>variable: oldpeak is permuted: 0.107<br>Drop-out loss change: +0.012",
          "Model: forest loss after<br>variable: thalach is permuted: 0.104<br>Drop-out loss change: +0.01",
          "Model: forest loss after<br>variable: age is permuted: 0.104<br>Drop-out loss change: +0.009",
          "Model: forest loss after<br>variable: sex is permuted: 0.102<br>Drop-out loss change: +0.007",
          "Model: forest loss after<br>variable: slope is permuted: 0.099<br>Drop-out loss change: +0.004",
          "Model: forest loss after<br>variable: cp_1 is permuted: 0.098<br>Drop-out loss change: +0.003"
         ],
         "marker": {
          "color": "#46bac2"
         },
         "orientation": "h",
         "showlegend": false,
         "text": [
          "+0.046",
          "+0.015",
          "+0.013",
          "+0.013",
          "+0.012",
          "+0.01",
          "+0.009",
          "+0.007",
          "+0.004",
          "+0.003"
         ],
         "textposition": "outside",
         "type": "bar",
         "x": [
          0.0459622823984526,
          0.015207930367504813,
          0.013394584139264948,
          0.012741779497098621,
          0.012499999999999997,
          0.009501934235976783,
          0.008776595744680843,
          0.006890715667311406,
          0.004327852998065748,
          0.0034574468085105947
         ],
         "xaxis": "x",
         "y": [
          "ca",
          "cp_0",
          "thall_2",
          "exng",
          "oldpeak",
          "thalach",
          "age",
          "sex",
          "slope",
          "cp_1"
         ],
         "yaxis": "y"
        }
       ],
       "layout": {
        "annotations": [
         {
          "font": {
           "size": 16
          },
          "showarrow": false,
          "text": "forest",
          "x": 0.5,
          "xanchor": "center",
          "xref": "paper",
          "y": 1,
          "yanchor": "bottom",
          "yref": "paper"
         },
         {
          "font": {
           "size": 16
          },
          "showarrow": false,
          "text": "drop-out loss",
          "x": 0.5,
          "xanchor": "center",
          "xref": "paper",
          "y": 0,
          "yanchor": "top",
          "yref": "paper",
          "yshift": -30
         }
        ],
        "font": {
         "color": "#371ea3"
        },
        "height": 383,
        "margin": {
         "b": 71,
         "r": 30,
         "t": 78
        },
        "shapes": [
         {
          "line": {
           "color": "#371ea3",
           "dash": "dot",
           "width": 1.5
          },
          "type": "line",
          "x0": 0.09477756286266925,
          "x1": 0.09477756286266925,
          "xref": "x",
          "y0": -1,
          "y1": 10,
          "yref": "y"
         }
        ],
        "template": {
         "data": {
          "scatter": [
           {
            "type": "scatter"
           }
          ]
         }
        },
        "title": {
         "text": "Variable Importance",
         "x": 0.15
        },
        "xaxis": {
         "anchor": "y",
         "automargin": true,
         "domain": [
          0,
          1
         ],
         "fixedrange": true,
         "gridwidth": 2,
         "range": [
          0.08463007736943905,
          0.14805851063829786
         ],
         "tickcolor": "white",
         "ticklen": 3,
         "ticks": "outside",
         "type": "linear",
         "zeroline": false
        },
        "yaxis": {
         "anchor": "x",
         "automargin": true,
         "autorange": "reversed",
         "domain": [
          0,
          1
         ],
         "fixedrange": true,
         "gridwidth": 2,
         "tickcolor": "white",
         "ticklen": 10,
         "ticks": "outside",
         "type": "category"
        }
       }
      },
      "text/html": [
       "<div>                            <div id=\"7bbf50f7-32dc-4007-8a51-36e3426ee135\" class=\"plotly-graph-div\" style=\"height:383.0px; width:100%;\"></div>            <script type=\"text/javascript\">                require([\"plotly\"], function(Plotly) {                    window.PLOTLYENV=window.PLOTLYENV || {};                                    if (document.getElementById(\"7bbf50f7-32dc-4007-8a51-36e3426ee135\")) {                    Plotly.newPlot(                        \"7bbf50f7-32dc-4007-8a51-36e3426ee135\",                        [{\"base\":0.09477756286266925,\"hoverinfo\":\"text\",\"hoverlabel\":{\"bgcolor\":\"rgba(0,0,0,0.8)\"},\"hovertext\":[\"Model: forest loss after<br>variable: ca is permuted: 0.141<br>Drop-out loss change: +0.046\",\"Model: forest loss after<br>variable: cp_0 is permuted: 0.11<br>Drop-out loss change: +0.015\",\"Model: forest loss after<br>variable: thall_2 is permuted: 0.108<br>Drop-out loss change: +0.013\",\"Model: forest loss after<br>variable: exng is permuted: 0.108<br>Drop-out loss change: +0.013\",\"Model: forest loss after<br>variable: oldpeak is permuted: 0.107<br>Drop-out loss change: +0.012\",\"Model: forest loss after<br>variable: thalach is permuted: 0.104<br>Drop-out loss change: +0.01\",\"Model: forest loss after<br>variable: age is permuted: 0.104<br>Drop-out loss change: +0.009\",\"Model: forest loss after<br>variable: sex is permuted: 0.102<br>Drop-out loss change: +0.007\",\"Model: forest loss after<br>variable: slope is permuted: 0.099<br>Drop-out loss change: +0.004\",\"Model: forest loss after<br>variable: cp_1 is permuted: 0.098<br>Drop-out loss change: +0.003\"],\"marker\":{\"color\":\"#46bac2\"},\"orientation\":\"h\",\"showlegend\":false,\"text\":[\"+0.046\",\"+0.015\",\"+0.013\",\"+0.013\",\"+0.012\",\"+0.01\",\"+0.009\",\"+0.007\",\"+0.004\",\"+0.003\"],\"textposition\":\"outside\",\"x\":[0.0459622823984526,0.015207930367504813,0.013394584139264948,0.012741779497098621,0.012499999999999997,0.009501934235976783,0.008776595744680843,0.006890715667311406,0.004327852998065748,0.0034574468085105947],\"y\":[\"ca\",\"cp_0\",\"thall_2\",\"exng\",\"oldpeak\",\"thalach\",\"age\",\"sex\",\"slope\",\"cp_1\"],\"type\":\"bar\",\"xaxis\":\"x\",\"yaxis\":\"y\"}],                        {\"template\":{\"data\":{\"scatter\":[{\"type\":\"scatter\"}]}},\"xaxis\":{\"anchor\":\"y\",\"domain\":[0.0,1.0],\"type\":\"linear\",\"gridwidth\":2,\"zeroline\":false,\"automargin\":true,\"ticks\":\"outside\",\"tickcolor\":\"white\",\"ticklen\":3,\"fixedrange\":true,\"range\":[0.08463007736943905,0.14805851063829786]},\"yaxis\":{\"anchor\":\"x\",\"domain\":[0.0,1.0],\"type\":\"category\",\"autorange\":\"reversed\",\"gridwidth\":2,\"automargin\":true,\"ticks\":\"outside\",\"tickcolor\":\"white\",\"ticklen\":10,\"fixedrange\":true},\"annotations\":[{\"font\":{\"size\":16},\"showarrow\":false,\"text\":\"forest\",\"x\":0.5,\"xanchor\":\"center\",\"xref\":\"paper\",\"y\":1.0,\"yanchor\":\"bottom\",\"yref\":\"paper\"},{\"font\":{\"size\":16},\"showarrow\":false,\"text\":\"drop-out loss\",\"x\":0.5,\"xanchor\":\"center\",\"xref\":\"paper\",\"y\":0,\"yanchor\":\"top\",\"yref\":\"paper\",\"yshift\":-30}],\"shapes\":[{\"line\":{\"color\":\"#371ea3\",\"dash\":\"dot\",\"width\":1.5},\"type\":\"line\",\"x0\":0.09477756286266925,\"x1\":0.09477756286266925,\"xref\":\"x\",\"y0\":-1,\"y1\":10,\"yref\":\"y\"}],\"title\":{\"text\":\"Variable Importance\",\"x\":0.15},\"font\":{\"color\":\"#371ea3\"},\"margin\":{\"t\":78,\"b\":71,\"r\":30},\"height\":383.0},                        {\"displaylogo\": false, \"staticPlot\": false, \"toImageButtonOptions\": {\"height\": null, \"width\": null}, \"modeBarButtonsToRemove\": [\"sendDataToCloud\", \"lasso2d\", \"autoScale2d\", \"select2d\", \"zoom2d\", \"pan2d\", \"zoomIn2d\", \"zoomOut2d\", \"resetScale2d\", \"toggleSpikelines\", \"hoverCompareCartesian\", \"hoverClosestCartesian\"], \"responsive\": true}                    ).then(function(){\n",
       "                            \n",
       "var gd = document.getElementById('7bbf50f7-32dc-4007-8a51-36e3426ee135');\n",
       "var x = new MutationObserver(function (mutations, observer) {{\n",
       "        var display = window.getComputedStyle(gd).display;\n",
       "        if (!display || display === 'none') {{\n",
       "            console.log([gd, 'removed!']);\n",
       "            Plotly.purge(gd);\n",
       "            observer.disconnect();\n",
       "        }}\n",
       "}});\n",
       "\n",
       "// Listen for the removal of the full notebook cells\n",
       "var notebookContainer = gd.closest('#notebook-container');\n",
       "if (notebookContainer) {{\n",
       "    x.observe(notebookContainer, {childList: true});\n",
       "}}\n",
       "\n",
       "// Listen for the clearing of the current output cell\n",
       "var outputEl = gd.closest('.output');\n",
       "if (outputEl) {{\n",
       "    x.observe(outputEl, {childList: true});\n",
       "}}\n",
       "\n",
       "                        })                };                });            </script>        </div>"
      ]
     },
     "metadata": {},
     "output_type": "display_data"
    }
   ],
   "source": [
    "pvi = explainer.model_parts(random_state=0)\n",
    "pvi.plot()"
   ]
  },
  {
   "cell_type": "code",
   "execution_count": 9,
   "id": "507319ea",
   "metadata": {},
   "outputs": [
    {
     "name": "stdout",
     "output_type": "stream",
     "text": [
      "Accuracy: 0.8131868131868132\n",
      "Recall: 0.8297872340425532\n",
      "Precision: 0.8125\n",
      "\n",
      "Results on train dataset:\n",
      "Accuracy: 0.9952830188679245\n",
      "Recall: 1.0\n",
      "Precision: 0.9915966386554622\n",
      "[[ 70.    1.  145.  174.    0.    1.    1.    2.6 125.    0.    0.    1.\n",
      "    0.    0.    0.    0.    0.    0.    1. ]]\n",
      "[0.17647059]\n",
      "[[ 64.    1.  170.  227.    0.    0.    0.    0.6 155.    1.    0.    0.\n",
      "    0.    0.    1.    0.    0.    0.    1. ]]\n",
      "[0.58823529]\n",
      "Preparation of a new explainer is initiated\n",
      "\n",
      "  -> data              : 91 rows 19 cols\n",
      "  -> target variable   : Parameter 'y' was a pandas.Series. Converted to a numpy.ndarray.\n",
      "  -> target variable   : 91 values\n",
      "  -> model_class       : sklearn.ensemble._forest.RandomForestClassifier (default)\n",
      "  -> label             : forest_hp2\n",
      "  -> predict function  : <function <lambda> at 0x7ff4a8cc5ee0> will be used\n",
      "  -> predict function  : Accepts pandas.DataFrame and numpy.ndarray.\n",
      "  -> predicted values  : min = 0.0, mean = 0.54, max = 1.0\n",
      "  -> model type        : classification will be used (default)\n",
      "  -> residual function : difference between y and yhat (default)\n",
      "  -> residuals         : min = -0.882, mean = -0.0239, max = 0.941\n",
      "  -> model_info        : package sklearn\n",
      "\n",
      "A new explainer has been created!\n"
     ]
    },
    {
     "name": "stderr",
     "output_type": "stream",
     "text": [
      "/home/krzysztof/anaconda3/lib/python3.9/site-packages/sklearn/base.py:450: UserWarning:\n",
      "\n",
      "X does not have valid feature names, but RandomForestClassifier was fitted with feature names\n",
      "\n",
      "/home/krzysztof/anaconda3/lib/python3.9/site-packages/sklearn/base.py:450: UserWarning:\n",
      "\n",
      "X does not have valid feature names, but RandomForestClassifier was fitted with feature names\n",
      "\n",
      "/home/krzysztof/anaconda3/lib/python3.9/site-packages/sklearn/base.py:450: UserWarning:\n",
      "\n",
      "X does not have valid feature names, but RandomForestClassifier was fitted with feature names\n",
      "\n"
     ]
    },
    {
     "data": {
      "application/vnd.plotly.v1+json": {
       "config": {
        "displaylogo": false,
        "modeBarButtonsToRemove": [
         "sendDataToCloud",
         "lasso2d",
         "autoScale2d",
         "select2d",
         "zoom2d",
         "pan2d",
         "zoomIn2d",
         "zoomOut2d",
         "resetScale2d",
         "toggleSpikelines",
         "hoverCompareCartesian",
         "hoverClosestCartesian"
        ],
        "plotlyServerURL": "https://plot.ly",
        "staticPlot": false,
        "toImageButtonOptions": {
         "height": null,
         "width": null
        }
       },
       "data": [
        {
         "base": 0.12475822050290128,
         "hoverinfo": "text",
         "hoverlabel": {
          "bgcolor": "rgba(0,0,0,0.8)"
         },
         "hovertext": [
          "Model: forest_hp2 loss after<br>variable: ca is permuted: 0.179<br>Drop-out loss change: +0.054",
          "Model: forest_hp2 loss after<br>variable: oldpeak is permuted: 0.153<br>Drop-out loss change: +0.028",
          "Model: forest_hp2 loss after<br>variable: thalach is permuted: 0.143<br>Drop-out loss change: +0.018",
          "Model: forest_hp2 loss after<br>variable: cp_0 is permuted: 0.142<br>Drop-out loss change: +0.017",
          "Model: forest_hp2 loss after<br>variable: thall_3 is permuted: 0.14<br>Drop-out loss change: +0.015",
          "Model: forest_hp2 loss after<br>variable: thall_2 is permuted: 0.139<br>Drop-out loss change: +0.015",
          "Model: forest_hp2 loss after<br>variable: slope is permuted: 0.135<br>Drop-out loss change: +0.01",
          "Model: forest_hp2 loss after<br>variable: sex is permuted: 0.135<br>Drop-out loss change: +0.01",
          "Model: forest_hp2 loss after<br>variable: exng is permuted: 0.134<br>Drop-out loss change: +0.009",
          "Model: forest_hp2 loss after<br>variable: cp_3 is permuted: 0.129<br>Drop-out loss change: +0.004"
         ],
         "marker": {
          "color": "#46bac2"
         },
         "orientation": "h",
         "showlegend": false,
         "text": [
          "+0.054",
          "+0.028",
          "+0.018",
          "+0.017",
          "+0.015",
          "+0.015",
          "+0.01",
          "+0.01",
          "+0.009",
          "+0.004"
         ],
         "textposition": "outside",
         "type": "bar",
         "x": [
          0.05413442940038693,
          0.028239845261121915,
          0.018471953578336642,
          0.016948742746615147,
          0.015256286266924601,
          0.014579303675048422,
          0.010106382978723488,
          0.009743713733075449,
          0.009260154738878201,
          0.00408607350096718
         ],
         "xaxis": "x",
         "y": [
          "ca",
          "oldpeak",
          "thalach",
          "cp_0",
          "thall_3",
          "thall_2",
          "slope",
          "sex",
          "exng",
          "cp_3"
         ],
         "yaxis": "y"
        }
       ],
       "layout": {
        "annotations": [
         {
          "font": {
           "size": 16
          },
          "showarrow": false,
          "text": "forest_hp2",
          "x": 0.5,
          "xanchor": "center",
          "xref": "paper",
          "y": 1,
          "yanchor": "bottom",
          "yref": "paper"
         },
         {
          "font": {
           "size": 16
          },
          "showarrow": false,
          "text": "drop-out loss",
          "x": 0.5,
          "xanchor": "center",
          "xref": "paper",
          "y": 0,
          "yanchor": "top",
          "yref": "paper",
          "yshift": -30
         }
        ],
        "font": {
         "color": "#371ea3"
        },
        "height": 383,
        "margin": {
         "b": 71,
         "r": 30,
         "t": 78
        },
        "shapes": [
         {
          "line": {
           "color": "#371ea3",
           "dash": "dot",
           "width": 1.5
          },
          "type": "line",
          "x0": 0.12475822050290128,
          "x1": 0.12475822050290128,
          "xref": "x",
          "y0": -1,
          "y1": 10,
          "yref": "y"
         }
        ],
        "template": {
         "data": {
          "scatter": [
           {
            "type": "scatter"
           }
          ]
         }
        },
        "title": {
         "text": "Variable Importance",
         "x": 0.15
        },
        "xaxis": {
         "anchor": "y",
         "automargin": true,
         "domain": [
          0,
          1
         ],
         "fixedrange": true,
         "gridwidth": 2,
         "range": [
          0.10871373307543515,
          0.18804642166344296
         ],
         "tickcolor": "white",
         "ticklen": 3,
         "ticks": "outside",
         "type": "linear",
         "zeroline": false
        },
        "yaxis": {
         "anchor": "x",
         "automargin": true,
         "autorange": "reversed",
         "domain": [
          0,
          1
         ],
         "fixedrange": true,
         "gridwidth": 2,
         "tickcolor": "white",
         "ticklen": 10,
         "ticks": "outside",
         "type": "category"
        }
       }
      },
      "text/html": [
       "<div>                            <div id=\"4562b505-b5ee-49e7-b2c9-1fad29bcdc97\" class=\"plotly-graph-div\" style=\"height:383.0px; width:100%;\"></div>            <script type=\"text/javascript\">                require([\"plotly\"], function(Plotly) {                    window.PLOTLYENV=window.PLOTLYENV || {};                                    if (document.getElementById(\"4562b505-b5ee-49e7-b2c9-1fad29bcdc97\")) {                    Plotly.newPlot(                        \"4562b505-b5ee-49e7-b2c9-1fad29bcdc97\",                        [{\"base\":0.12475822050290128,\"hoverinfo\":\"text\",\"hoverlabel\":{\"bgcolor\":\"rgba(0,0,0,0.8)\"},\"hovertext\":[\"Model: forest_hp2 loss after<br>variable: ca is permuted: 0.179<br>Drop-out loss change: +0.054\",\"Model: forest_hp2 loss after<br>variable: oldpeak is permuted: 0.153<br>Drop-out loss change: +0.028\",\"Model: forest_hp2 loss after<br>variable: thalach is permuted: 0.143<br>Drop-out loss change: +0.018\",\"Model: forest_hp2 loss after<br>variable: cp_0 is permuted: 0.142<br>Drop-out loss change: +0.017\",\"Model: forest_hp2 loss after<br>variable: thall_3 is permuted: 0.14<br>Drop-out loss change: +0.015\",\"Model: forest_hp2 loss after<br>variable: thall_2 is permuted: 0.139<br>Drop-out loss change: +0.015\",\"Model: forest_hp2 loss after<br>variable: slope is permuted: 0.135<br>Drop-out loss change: +0.01\",\"Model: forest_hp2 loss after<br>variable: sex is permuted: 0.135<br>Drop-out loss change: +0.01\",\"Model: forest_hp2 loss after<br>variable: exng is permuted: 0.134<br>Drop-out loss change: +0.009\",\"Model: forest_hp2 loss after<br>variable: cp_3 is permuted: 0.129<br>Drop-out loss change: +0.004\"],\"marker\":{\"color\":\"#46bac2\"},\"orientation\":\"h\",\"showlegend\":false,\"text\":[\"+0.054\",\"+0.028\",\"+0.018\",\"+0.017\",\"+0.015\",\"+0.015\",\"+0.01\",\"+0.01\",\"+0.009\",\"+0.004\"],\"textposition\":\"outside\",\"x\":[0.05413442940038693,0.028239845261121915,0.018471953578336642,0.016948742746615147,0.015256286266924601,0.014579303675048422,0.010106382978723488,0.009743713733075449,0.009260154738878201,0.00408607350096718],\"y\":[\"ca\",\"oldpeak\",\"thalach\",\"cp_0\",\"thall_3\",\"thall_2\",\"slope\",\"sex\",\"exng\",\"cp_3\"],\"type\":\"bar\",\"xaxis\":\"x\",\"yaxis\":\"y\"}],                        {\"template\":{\"data\":{\"scatter\":[{\"type\":\"scatter\"}]}},\"xaxis\":{\"anchor\":\"y\",\"domain\":[0.0,1.0],\"type\":\"linear\",\"gridwidth\":2,\"zeroline\":false,\"automargin\":true,\"ticks\":\"outside\",\"tickcolor\":\"white\",\"ticklen\":3,\"fixedrange\":true,\"range\":[0.10871373307543515,0.18804642166344296]},\"yaxis\":{\"anchor\":\"x\",\"domain\":[0.0,1.0],\"type\":\"category\",\"autorange\":\"reversed\",\"gridwidth\":2,\"automargin\":true,\"ticks\":\"outside\",\"tickcolor\":\"white\",\"ticklen\":10,\"fixedrange\":true},\"annotations\":[{\"font\":{\"size\":16},\"showarrow\":false,\"text\":\"forest_hp2\",\"x\":0.5,\"xanchor\":\"center\",\"xref\":\"paper\",\"y\":1.0,\"yanchor\":\"bottom\",\"yref\":\"paper\"},{\"font\":{\"size\":16},\"showarrow\":false,\"text\":\"drop-out loss\",\"x\":0.5,\"xanchor\":\"center\",\"xref\":\"paper\",\"y\":0,\"yanchor\":\"top\",\"yref\":\"paper\",\"yshift\":-30}],\"shapes\":[{\"line\":{\"color\":\"#371ea3\",\"dash\":\"dot\",\"width\":1.5},\"type\":\"line\",\"x0\":0.12475822050290128,\"x1\":0.12475822050290128,\"xref\":\"x\",\"y0\":-1,\"y1\":10,\"yref\":\"y\"}],\"title\":{\"text\":\"Variable Importance\",\"x\":0.15},\"font\":{\"color\":\"#371ea3\"},\"margin\":{\"t\":78,\"b\":71,\"r\":30},\"height\":383.0},                        {\"displaylogo\": false, \"staticPlot\": false, \"toImageButtonOptions\": {\"height\": null, \"width\": null}, \"modeBarButtonsToRemove\": [\"sendDataToCloud\", \"lasso2d\", \"autoScale2d\", \"select2d\", \"zoom2d\", \"pan2d\", \"zoomIn2d\", \"zoomOut2d\", \"resetScale2d\", \"toggleSpikelines\", \"hoverCompareCartesian\", \"hoverClosestCartesian\"], \"responsive\": true}                    ).then(function(){\n",
       "                            \n",
       "var gd = document.getElementById('4562b505-b5ee-49e7-b2c9-1fad29bcdc97');\n",
       "var x = new MutationObserver(function (mutations, observer) {{\n",
       "        var display = window.getComputedStyle(gd).display;\n",
       "        if (!display || display === 'none') {{\n",
       "            console.log([gd, 'removed!']);\n",
       "            Plotly.purge(gd);\n",
       "            observer.disconnect();\n",
       "        }}\n",
       "}});\n",
       "\n",
       "// Listen for the removal of the full notebook cells\n",
       "var notebookContainer = gd.closest('#notebook-container');\n",
       "if (notebookContainer) {{\n",
       "    x.observe(notebookContainer, {childList: true});\n",
       "}}\n",
       "\n",
       "// Listen for the clearing of the current output cell\n",
       "var outputEl = gd.closest('.output');\n",
       "if (outputEl) {{\n",
       "    x.observe(outputEl, {childList: true});\n",
       "}}\n",
       "\n",
       "                        })                };                });            </script>        </div>"
      ]
     },
     "metadata": {},
     "output_type": "display_data"
    }
   ],
   "source": [
    "forest = sklearn.ensemble.RandomForestClassifier(n_estimators=17, criterion='entropy', max_features='log2')\n",
    "forest.fit(X=X_train,y=y_train)\n",
    "print(f'Accuracy: {sklearn.metrics.accuracy_score(y_test,forest.predict(X_test))}')\n",
    "print(f'Recall: {sklearn.metrics.recall_score(y_test,forest.predict(X_test))}')\n",
    "print(f'Precision: {sklearn.metrics.precision_score(y_test,forest.predict(X_test))}')\n",
    "\n",
    "forest_accuracy = sklearn.metrics.accuracy_score(y_test,forest.predict(X_test))\n",
    "forest_recall = sklearn.metrics.recall_score(y_test,forest.predict(X_test))\n",
    "forest_precision = sklearn.metrics.precision_score(y_test,forest.predict(X_test))\n",
    "\n",
    "print('\\nResults on train dataset:')\n",
    "print(f'Accuracy: {sklearn.metrics.accuracy_score(y_train,forest.predict(X_train))}')\n",
    "print(f'Recall: {sklearn.metrics.recall_score(y_train,forest.predict(X_train))}')\n",
    "print(f'Precision: {sklearn.metrics.precision_score(y_train,forest.predict(X_train))}')\n",
    "\n",
    "obs = list(range(2))\n",
    "import numpy as np\n",
    "predict = lambda m, d: m.predict_proba(d)[:,1]\n",
    "\n",
    "for i in obs:\n",
    "    obs1 = X_test.iloc[obs[i]].to_numpy().reshape(1,-1)\n",
    "    print(obs1)\n",
    "    print(predict(forest, obs1))\n",
    "    \n",
    "\n",
    "X = X_test\n",
    "y = y_test\n",
    "explainer = dx.Explainer(forest, X_test, y_test, predict_function=predict, label=\"forest_hp2\")\n",
    "\n",
    "pvi = explainer.model_parts(random_state=0)\n",
    "pvi.plot()"
   ]
  },
  {
   "cell_type": "code",
   "execution_count": 10,
   "id": "24c21359",
   "metadata": {},
   "outputs": [
    {
     "name": "stderr",
     "output_type": "stream",
     "text": [
      "/home/krzysztof/anaconda3/lib/python3.9/site-packages/xgboost/sklearn.py:1421: UserWarning:\n",
      "\n",
      "`use_label_encoder` is deprecated in 1.7.0.\n",
      "\n"
     ]
    },
    {
     "name": "stdout",
     "output_type": "stream",
     "text": [
      "Preparation of a new explainer is initiated\n",
      "\n",
      "  -> data              : 91 rows 19 cols\n",
      "  -> target variable   : Parameter 'y' was a pandas.Series. Converted to a numpy.ndarray.\n",
      "  -> target variable   : 91 values\n",
      "  -> model_class       : xgboost.sklearn.XGBClassifier (default)\n",
      "  -> label             : xgb\n",
      "  -> predict function  : <function pf_xgboost_classifier_categorical at 0x7ff4a8cbb550> will be used\n",
      "  -> predict function  : Accepts only pandas.DataFrame, numpy.ndarray causes problems.\n",
      "  -> predicted values  : min = 0.00192, mean = 0.547, max = 0.998\n",
      "  -> model type        : classification will be used (default)\n",
      "  -> residual function : difference between y and yhat (default)\n",
      "  -> residuals         : min = -0.965, mean = -0.0305, max = 0.967\n",
      "  -> model_info        : package xgboost\n",
      "\n",
      "A new explainer has been created!\n"
     ]
    },
    {
     "data": {
      "application/vnd.plotly.v1+json": {
       "config": {
        "displaylogo": false,
        "modeBarButtonsToRemove": [
         "sendDataToCloud",
         "lasso2d",
         "autoScale2d",
         "select2d",
         "zoom2d",
         "pan2d",
         "zoomIn2d",
         "zoomOut2d",
         "resetScale2d",
         "toggleSpikelines",
         "hoverCompareCartesian",
         "hoverClosestCartesian"
        ],
        "plotlyServerURL": "https://plot.ly",
        "staticPlot": false,
        "toImageButtonOptions": {
         "height": null,
         "width": null
        }
       },
       "data": [
        {
         "base": 0.09961315280464222,
         "hoverinfo": "text",
         "hoverlabel": {
          "bgcolor": "rgba(0,0,0,0.8)"
         },
         "hovertext": [
          "Model: xgb loss after<br>variable: ca is permuted: 0.17<br>Drop-out loss change: +0.071",
          "Model: xgb loss after<br>variable: thall_2 is permuted: 0.148<br>Drop-out loss change: +0.049",
          "Model: xgb loss after<br>variable: cp_0 is permuted: 0.129<br>Drop-out loss change: +0.029",
          "Model: xgb loss after<br>variable: oldpeak is permuted: 0.128<br>Drop-out loss change: +0.028",
          "Model: xgb loss after<br>variable: sex is permuted: 0.114<br>Drop-out loss change: +0.014",
          "Model: xgb loss after<br>variable: trtbps is permuted: 0.111<br>Drop-out loss change: +0.011",
          "Model: xgb loss after<br>variable: thalach is permuted: 0.111<br>Drop-out loss change: +0.011",
          "Model: xgb loss after<br>variable: age is permuted: 0.11<br>Drop-out loss change: +0.011",
          "Model: xgb loss after<br>variable: exng is permuted: 0.107<br>Drop-out loss change: +0.007",
          "Model: xgb loss after<br>variable: restecg is permuted: 0.107<br>Drop-out loss change: +0.007"
         ],
         "marker": {
          "color": "#46bac2"
         },
         "orientation": "h",
         "showlegend": false,
         "text": [
          "+0.071",
          "+0.049",
          "+0.029",
          "+0.028",
          "+0.014",
          "+0.011",
          "+0.011",
          "+0.011",
          "+0.007",
          "+0.007"
         ],
         "textposition": "outside",
         "type": "bar",
         "x": [
          0.07074468085106375,
          0.04864603481624746,
          0.028965183752417717,
          0.02843326885880071,
          0.014313346228239765,
          0.010976789168278461,
          0.01097678916827842,
          0.010541586073500891,
          0.007398452611218492,
          0.00730174081237904
         ],
         "xaxis": "x",
         "y": [
          "ca",
          "thall_2",
          "cp_0",
          "oldpeak",
          "sex",
          "trtbps",
          "thalach",
          "age",
          "exng",
          "restecg"
         ],
         "yaxis": "y"
        }
       ],
       "layout": {
        "annotations": [
         {
          "font": {
           "size": 16
          },
          "showarrow": false,
          "text": "xgb",
          "x": 0.5,
          "xanchor": "center",
          "xref": "paper",
          "y": 1,
          "yanchor": "bottom",
          "yref": "paper"
         },
         {
          "font": {
           "size": 16
          },
          "showarrow": false,
          "text": "drop-out loss",
          "x": 0.5,
          "xanchor": "center",
          "xref": "paper",
          "y": 0,
          "yanchor": "top",
          "yref": "paper",
          "yshift": -30
         }
        ],
        "font": {
         "color": "#371ea3"
        },
        "height": 383,
        "margin": {
         "b": 71,
         "r": 30,
         "t": 78
        },
        "shapes": [
         {
          "line": {
           "color": "#371ea3",
           "dash": "dot",
           "width": 1.5
          },
          "type": "line",
          "x0": 0.09961315280464222,
          "x1": 0.09961315280464222,
          "xref": "x",
          "y0": -1,
          "y1": 10,
          "yref": "y"
         }
        ],
        "template": {
         "data": {
          "scatter": [
           {
            "type": "scatter"
           }
          ]
         }
        },
        "title": {
         "text": "Variable Importance",
         "x": 0.15
        },
        "xaxis": {
         "anchor": "y",
         "automargin": true,
         "domain": [
          0,
          1
         ],
         "fixedrange": true,
         "gridwidth": 2,
         "range": [
          0.08900145067698266,
          0.18096953578336553
         ],
         "tickcolor": "white",
         "ticklen": 3,
         "ticks": "outside",
         "type": "linear",
         "zeroline": false
        },
        "yaxis": {
         "anchor": "x",
         "automargin": true,
         "autorange": "reversed",
         "domain": [
          0,
          1
         ],
         "fixedrange": true,
         "gridwidth": 2,
         "tickcolor": "white",
         "ticklen": 10,
         "ticks": "outside",
         "type": "category"
        }
       }
      },
      "text/html": [
       "<div>                            <div id=\"72e05251-3123-42c7-8639-7dc58a8983bb\" class=\"plotly-graph-div\" style=\"height:383.0px; width:100%;\"></div>            <script type=\"text/javascript\">                require([\"plotly\"], function(Plotly) {                    window.PLOTLYENV=window.PLOTLYENV || {};                                    if (document.getElementById(\"72e05251-3123-42c7-8639-7dc58a8983bb\")) {                    Plotly.newPlot(                        \"72e05251-3123-42c7-8639-7dc58a8983bb\",                        [{\"base\":0.09961315280464222,\"hoverinfo\":\"text\",\"hoverlabel\":{\"bgcolor\":\"rgba(0,0,0,0.8)\"},\"hovertext\":[\"Model: xgb loss after<br>variable: ca is permuted: 0.17<br>Drop-out loss change: +0.071\",\"Model: xgb loss after<br>variable: thall_2 is permuted: 0.148<br>Drop-out loss change: +0.049\",\"Model: xgb loss after<br>variable: cp_0 is permuted: 0.129<br>Drop-out loss change: +0.029\",\"Model: xgb loss after<br>variable: oldpeak is permuted: 0.128<br>Drop-out loss change: +0.028\",\"Model: xgb loss after<br>variable: sex is permuted: 0.114<br>Drop-out loss change: +0.014\",\"Model: xgb loss after<br>variable: trtbps is permuted: 0.111<br>Drop-out loss change: +0.011\",\"Model: xgb loss after<br>variable: thalach is permuted: 0.111<br>Drop-out loss change: +0.011\",\"Model: xgb loss after<br>variable: age is permuted: 0.11<br>Drop-out loss change: +0.011\",\"Model: xgb loss after<br>variable: exng is permuted: 0.107<br>Drop-out loss change: +0.007\",\"Model: xgb loss after<br>variable: restecg is permuted: 0.107<br>Drop-out loss change: +0.007\"],\"marker\":{\"color\":\"#46bac2\"},\"orientation\":\"h\",\"showlegend\":false,\"text\":[\"+0.071\",\"+0.049\",\"+0.029\",\"+0.028\",\"+0.014\",\"+0.011\",\"+0.011\",\"+0.011\",\"+0.007\",\"+0.007\"],\"textposition\":\"outside\",\"x\":[0.07074468085106375,0.04864603481624746,0.028965183752417717,0.02843326885880071,0.014313346228239765,0.010976789168278461,0.01097678916827842,0.010541586073500891,0.007398452611218492,0.00730174081237904],\"y\":[\"ca\",\"thall_2\",\"cp_0\",\"oldpeak\",\"sex\",\"trtbps\",\"thalach\",\"age\",\"exng\",\"restecg\"],\"type\":\"bar\",\"xaxis\":\"x\",\"yaxis\":\"y\"}],                        {\"template\":{\"data\":{\"scatter\":[{\"type\":\"scatter\"}]}},\"xaxis\":{\"anchor\":\"y\",\"domain\":[0.0,1.0],\"type\":\"linear\",\"gridwidth\":2,\"zeroline\":false,\"automargin\":true,\"ticks\":\"outside\",\"tickcolor\":\"white\",\"ticklen\":3,\"fixedrange\":true,\"range\":[0.08900145067698266,0.18096953578336553]},\"yaxis\":{\"anchor\":\"x\",\"domain\":[0.0,1.0],\"type\":\"category\",\"autorange\":\"reversed\",\"gridwidth\":2,\"automargin\":true,\"ticks\":\"outside\",\"tickcolor\":\"white\",\"ticklen\":10,\"fixedrange\":true},\"annotations\":[{\"font\":{\"size\":16},\"showarrow\":false,\"text\":\"xgb\",\"x\":0.5,\"xanchor\":\"center\",\"xref\":\"paper\",\"y\":1.0,\"yanchor\":\"bottom\",\"yref\":\"paper\"},{\"font\":{\"size\":16},\"showarrow\":false,\"text\":\"drop-out loss\",\"x\":0.5,\"xanchor\":\"center\",\"xref\":\"paper\",\"y\":0,\"yanchor\":\"top\",\"yref\":\"paper\",\"yshift\":-30}],\"shapes\":[{\"line\":{\"color\":\"#371ea3\",\"dash\":\"dot\",\"width\":1.5},\"type\":\"line\",\"x0\":0.09961315280464222,\"x1\":0.09961315280464222,\"xref\":\"x\",\"y0\":-1,\"y1\":10,\"yref\":\"y\"}],\"title\":{\"text\":\"Variable Importance\",\"x\":0.15},\"font\":{\"color\":\"#371ea3\"},\"margin\":{\"t\":78,\"b\":71,\"r\":30},\"height\":383.0},                        {\"displaylogo\": false, \"staticPlot\": false, \"toImageButtonOptions\": {\"height\": null, \"width\": null}, \"modeBarButtonsToRemove\": [\"sendDataToCloud\", \"lasso2d\", \"autoScale2d\", \"select2d\", \"zoom2d\", \"pan2d\", \"zoomIn2d\", \"zoomOut2d\", \"resetScale2d\", \"toggleSpikelines\", \"hoverCompareCartesian\", \"hoverClosestCartesian\"], \"responsive\": true}                    ).then(function(){\n",
       "                            \n",
       "var gd = document.getElementById('72e05251-3123-42c7-8639-7dc58a8983bb');\n",
       "var x = new MutationObserver(function (mutations, observer) {{\n",
       "        var display = window.getComputedStyle(gd).display;\n",
       "        if (!display || display === 'none') {{\n",
       "            console.log([gd, 'removed!']);\n",
       "            Plotly.purge(gd);\n",
       "            observer.disconnect();\n",
       "        }}\n",
       "}});\n",
       "\n",
       "// Listen for the removal of the full notebook cells\n",
       "var notebookContainer = gd.closest('#notebook-container');\n",
       "if (notebookContainer) {{\n",
       "    x.observe(notebookContainer, {childList: true});\n",
       "}}\n",
       "\n",
       "// Listen for the clearing of the current output cell\n",
       "var outputEl = gd.closest('.output');\n",
       "if (outputEl) {{\n",
       "    x.observe(outputEl, {childList: true});\n",
       "}}\n",
       "\n",
       "                        })                };                });            </script>        </div>"
      ]
     },
     "metadata": {},
     "output_type": "display_data"
    }
   ],
   "source": [
    "import xgboost\n",
    "model = xgboost.XGBClassifier(\n",
    "    n_estimators=50, \n",
    "    max_depth=2, \n",
    "    use_label_encoder=False, \n",
    "    eval_metric=\"logloss\",\n",
    "    \n",
    "    enable_categorical=True,\n",
    "    tree_method=\"hist\"\n",
    ")\n",
    "\n",
    "model.fit(X_train, y_train)\n",
    "\n",
    "def pf_xgboost_classifier_categorical(model, df):\n",
    "    df.loc[:, df.dtypes == 'object'] =\\\n",
    "        df.select_dtypes(['object'])\\\n",
    "        .apply(lambda x: x.astype('category'))\n",
    "    return model.predict_proba(df)[:, 1]\n",
    "\n",
    "explainer = dx.Explainer(model, X_test, y_test, predict_function=pf_xgboost_classifier_categorical, label=\"xgb\")\n",
    "\n",
    "pvi = explainer.model_parts(random_state=0)\n",
    "pvi.plot()"
   ]
  },
  {
   "cell_type": "code",
   "execution_count": 11,
   "id": "aa958c9f",
   "metadata": {},
   "outputs": [
    {
     "name": "stderr",
     "output_type": "stream",
     "text": [
      "/home/krzysztof/anaconda3/lib/python3.9/site-packages/xgboost/sklearn.py:1421: UserWarning:\n",
      "\n",
      "`use_label_encoder` is deprecated in 1.7.0.\n",
      "\n"
     ]
    },
    {
     "name": "stdout",
     "output_type": "stream",
     "text": [
      "Preparation of a new explainer is initiated\n",
      "\n",
      "  -> data              : 91 rows 19 cols\n",
      "  -> target variable   : Parameter 'y' was a pandas.Series. Converted to a numpy.ndarray.\n",
      "  -> target variable   : 91 values\n",
      "  -> model_class       : xgboost.sklearn.XGBClassifier (default)\n",
      "  -> label             : xgb_hp2\n",
      "  -> predict function  : <function pf_xgboost_classifier_categorical at 0x7ff4a81d31f0> will be used\n",
      "  -> predict function  : Accepts only pandas.DataFrame, numpy.ndarray causes problems.\n",
      "  -> predicted values  : min = 0.372, mean = 0.515, max = 0.63\n",
      "  -> model type        : classification will be used (default)\n",
      "  -> residual function : difference between y and yhat (default)\n",
      "  -> residuals         : min = -0.623, mean = 0.00179, max = 0.622\n",
      "  -> model_info        : package xgboost\n",
      "\n",
      "A new explainer has been created!\n"
     ]
    },
    {
     "data": {
      "application/vnd.plotly.v1+json": {
       "config": {
        "displaylogo": false,
        "modeBarButtonsToRemove": [
         "sendDataToCloud",
         "lasso2d",
         "autoScale2d",
         "select2d",
         "zoom2d",
         "pan2d",
         "zoomIn2d",
         "zoomOut2d",
         "resetScale2d",
         "toggleSpikelines",
         "hoverCompareCartesian",
         "hoverClosestCartesian"
        ],
        "plotlyServerURL": "https://plot.ly",
        "staticPlot": false,
        "toImageButtonOptions": {
         "height": null,
         "width": null
        }
       },
       "data": [
        {
         "base": 0.1332205029013538,
         "hoverinfo": "text",
         "hoverlabel": {
          "bgcolor": "rgba(0,0,0,0.8)"
         },
         "hovertext": [
          "Model: xgb_hp2 loss after<br>variable: thall_2 is permuted: 0.218<br>Drop-out loss change: +0.085",
          "Model: xgb_hp2 loss after<br>variable: ca is permuted: 0.194<br>Drop-out loss change: +0.061",
          "Model: xgb_hp2 loss after<br>variable: cp_0 is permuted: 0.183<br>Drop-out loss change: +0.05",
          "Model: xgb_hp2 loss after<br>variable: oldpeak is permuted: 0.164<br>Drop-out loss change: +0.03",
          "Model: xgb_hp2 loss after<br>variable: thalach is permuted: 0.148<br>Drop-out loss change: +0.015",
          "Model: xgb_hp2 loss after<br>variable: trtbps is permuted: 0.142<br>Drop-out loss change: +0.009",
          "Model: xgb_hp2 loss after<br>variable: cp_3 is permuted: 0.137<br>Drop-out loss change: +0.004",
          "Model: xgb_hp2 loss after<br>variable: age is permuted: 0.136<br>Drop-out loss change: +0.003",
          "Model: xgb_hp2 loss after<br>variable: chol is permuted: 0.134<br>Drop-out loss change: +0.001",
          "Model: xgb_hp2 loss after<br>variable: sex is permuted: 0.134<br>Drop-out loss change: +0.0"
         ],
         "marker": {
          "color": "#46bac2"
         },
         "orientation": "h",
         "showlegend": false,
         "text": [
          "+0.085",
          "+0.061",
          "+0.05",
          "+0.03",
          "+0.015",
          "+0.009",
          "+0.004",
          "+0.003",
          "+0.001",
          "+0.0"
         ],
         "textposition": "outside",
         "type": "bar",
         "x": [
          0.08498549323017426,
          0.06090425531914906,
          0.05024177949709879,
          0.030391682785299967,
          0.014651837524178063,
          0.00926015473887834,
          0.0035299806576402915,
          0.002780464216634554,
          0.0006528046421664657,
          0.00029013539651848164
         ],
         "xaxis": "x",
         "y": [
          "thall_2",
          "ca",
          "cp_0",
          "oldpeak",
          "thalach",
          "trtbps",
          "cp_3",
          "age",
          "chol",
          "sex"
         ],
         "yaxis": "y"
        }
       ],
       "layout": {
        "annotations": [
         {
          "font": {
           "size": 16
          },
          "showarrow": false,
          "text": "xgb_hp2",
          "x": 0.5,
          "xanchor": "center",
          "xref": "paper",
          "y": 1,
          "yanchor": "bottom",
          "yref": "paper"
         },
         {
          "font": {
           "size": 16
          },
          "showarrow": false,
          "text": "drop-out loss",
          "x": 0.5,
          "xanchor": "center",
          "xref": "paper",
          "y": 0,
          "yanchor": "top",
          "yref": "paper",
          "yshift": -30
         }
        ],
        "font": {
         "color": "#371ea3"
        },
        "height": 383,
        "margin": {
         "b": 71,
         "r": 30,
         "t": 78
        },
        "shapes": [
         {
          "line": {
           "color": "#371ea3",
           "dash": "dot",
           "width": 1.5
          },
          "type": "line",
          "x0": 0.1332205029013538,
          "x1": 0.1332205029013538,
          "xref": "x",
          "y0": -1,
          "y1": 10,
          "yref": "y"
         }
        ],
        "template": {
         "data": {
          "scatter": [
           {
            "type": "scatter"
           }
          ]
         }
        },
        "title": {
         "text": "Variable Importance",
         "x": 0.15
        },
        "xaxis": {
         "anchor": "y",
         "automargin": true,
         "domain": [
          0,
          1
         ],
         "fixedrange": true,
         "gridwidth": 2,
         "range": [
          0.11947171179883939,
          0.23108438104448745
         ],
         "tickcolor": "white",
         "ticklen": 3,
         "ticks": "outside",
         "type": "linear",
         "zeroline": false
        },
        "yaxis": {
         "anchor": "x",
         "automargin": true,
         "autorange": "reversed",
         "domain": [
          0,
          1
         ],
         "fixedrange": true,
         "gridwidth": 2,
         "tickcolor": "white",
         "ticklen": 10,
         "ticks": "outside",
         "type": "category"
        }
       }
      },
      "text/html": [
       "<div>                            <div id=\"93e9e041-6478-4ac5-96af-8d9c3351cb27\" class=\"plotly-graph-div\" style=\"height:383.0px; width:100%;\"></div>            <script type=\"text/javascript\">                require([\"plotly\"], function(Plotly) {                    window.PLOTLYENV=window.PLOTLYENV || {};                                    if (document.getElementById(\"93e9e041-6478-4ac5-96af-8d9c3351cb27\")) {                    Plotly.newPlot(                        \"93e9e041-6478-4ac5-96af-8d9c3351cb27\",                        [{\"base\":0.1332205029013538,\"hoverinfo\":\"text\",\"hoverlabel\":{\"bgcolor\":\"rgba(0,0,0,0.8)\"},\"hovertext\":[\"Model: xgb_hp2 loss after<br>variable: thall_2 is permuted: 0.218<br>Drop-out loss change: +0.085\",\"Model: xgb_hp2 loss after<br>variable: ca is permuted: 0.194<br>Drop-out loss change: +0.061\",\"Model: xgb_hp2 loss after<br>variable: cp_0 is permuted: 0.183<br>Drop-out loss change: +0.05\",\"Model: xgb_hp2 loss after<br>variable: oldpeak is permuted: 0.164<br>Drop-out loss change: +0.03\",\"Model: xgb_hp2 loss after<br>variable: thalach is permuted: 0.148<br>Drop-out loss change: +0.015\",\"Model: xgb_hp2 loss after<br>variable: trtbps is permuted: 0.142<br>Drop-out loss change: +0.009\",\"Model: xgb_hp2 loss after<br>variable: cp_3 is permuted: 0.137<br>Drop-out loss change: +0.004\",\"Model: xgb_hp2 loss after<br>variable: age is permuted: 0.136<br>Drop-out loss change: +0.003\",\"Model: xgb_hp2 loss after<br>variable: chol is permuted: 0.134<br>Drop-out loss change: +0.001\",\"Model: xgb_hp2 loss after<br>variable: sex is permuted: 0.134<br>Drop-out loss change: +0.0\"],\"marker\":{\"color\":\"#46bac2\"},\"orientation\":\"h\",\"showlegend\":false,\"text\":[\"+0.085\",\"+0.061\",\"+0.05\",\"+0.03\",\"+0.015\",\"+0.009\",\"+0.004\",\"+0.003\",\"+0.001\",\"+0.0\"],\"textposition\":\"outside\",\"x\":[0.08498549323017426,0.06090425531914906,0.05024177949709879,0.030391682785299967,0.014651837524178063,0.00926015473887834,0.0035299806576402915,0.002780464216634554,0.0006528046421664657,0.00029013539651848164],\"y\":[\"thall_2\",\"ca\",\"cp_0\",\"oldpeak\",\"thalach\",\"trtbps\",\"cp_3\",\"age\",\"chol\",\"sex\"],\"type\":\"bar\",\"xaxis\":\"x\",\"yaxis\":\"y\"}],                        {\"template\":{\"data\":{\"scatter\":[{\"type\":\"scatter\"}]}},\"xaxis\":{\"anchor\":\"y\",\"domain\":[0.0,1.0],\"type\":\"linear\",\"gridwidth\":2,\"zeroline\":false,\"automargin\":true,\"ticks\":\"outside\",\"tickcolor\":\"white\",\"ticklen\":3,\"fixedrange\":true,\"range\":[0.11947171179883939,0.23108438104448745]},\"yaxis\":{\"anchor\":\"x\",\"domain\":[0.0,1.0],\"type\":\"category\",\"autorange\":\"reversed\",\"gridwidth\":2,\"automargin\":true,\"ticks\":\"outside\",\"tickcolor\":\"white\",\"ticklen\":10,\"fixedrange\":true},\"annotations\":[{\"font\":{\"size\":16},\"showarrow\":false,\"text\":\"xgb_hp2\",\"x\":0.5,\"xanchor\":\"center\",\"xref\":\"paper\",\"y\":1.0,\"yanchor\":\"bottom\",\"yref\":\"paper\"},{\"font\":{\"size\":16},\"showarrow\":false,\"text\":\"drop-out loss\",\"x\":0.5,\"xanchor\":\"center\",\"xref\":\"paper\",\"y\":0,\"yanchor\":\"top\",\"yref\":\"paper\",\"yshift\":-30}],\"shapes\":[{\"line\":{\"color\":\"#371ea3\",\"dash\":\"dot\",\"width\":1.5},\"type\":\"line\",\"x0\":0.1332205029013538,\"x1\":0.1332205029013538,\"xref\":\"x\",\"y0\":-1,\"y1\":10,\"yref\":\"y\"}],\"title\":{\"text\":\"Variable Importance\",\"x\":0.15},\"font\":{\"color\":\"#371ea3\"},\"margin\":{\"t\":78,\"b\":71,\"r\":30},\"height\":383.0},                        {\"displaylogo\": false, \"staticPlot\": false, \"toImageButtonOptions\": {\"height\": null, \"width\": null}, \"modeBarButtonsToRemove\": [\"sendDataToCloud\", \"lasso2d\", \"autoScale2d\", \"select2d\", \"zoom2d\", \"pan2d\", \"zoomIn2d\", \"zoomOut2d\", \"resetScale2d\", \"toggleSpikelines\", \"hoverCompareCartesian\", \"hoverClosestCartesian\"], \"responsive\": true}                    ).then(function(){\n",
       "                            \n",
       "var gd = document.getElementById('93e9e041-6478-4ac5-96af-8d9c3351cb27');\n",
       "var x = new MutationObserver(function (mutations, observer) {{\n",
       "        var display = window.getComputedStyle(gd).display;\n",
       "        if (!display || display === 'none') {{\n",
       "            console.log([gd, 'removed!']);\n",
       "            Plotly.purge(gd);\n",
       "            observer.disconnect();\n",
       "        }}\n",
       "}});\n",
       "\n",
       "// Listen for the removal of the full notebook cells\n",
       "var notebookContainer = gd.closest('#notebook-container');\n",
       "if (notebookContainer) {{\n",
       "    x.observe(notebookContainer, {childList: true});\n",
       "}}\n",
       "\n",
       "// Listen for the clearing of the current output cell\n",
       "var outputEl = gd.closest('.output');\n",
       "if (outputEl) {{\n",
       "    x.observe(outputEl, {childList: true});\n",
       "}}\n",
       "\n",
       "                        })                };                });            </script>        </div>"
      ]
     },
     "metadata": {},
     "output_type": "display_data"
    }
   ],
   "source": [
    "model = xgboost.XGBClassifier(\n",
    "    n_estimators=33, \n",
    "    max_depth=5, \n",
    "    use_label_encoder=False, \n",
    "    eval_metric=\"logloss\",\n",
    "    enable_categorical=True,\n",
    "    tree_method=\"approx\",\n",
    "    learning_rate=0.01,\n",
    ")\n",
    "\n",
    "model.fit(X_train, y_train)\n",
    "\n",
    "def pf_xgboost_classifier_categorical(model, df):\n",
    "    df.loc[:, df.dtypes == 'object'] =\\\n",
    "        df.select_dtypes(['object'])\\\n",
    "        .apply(lambda x: x.astype('category'))\n",
    "    return model.predict_proba(df)[:, 1]\n",
    "\n",
    "explainer = dx.Explainer(model, X_test, y_test, predict_function=pf_xgboost_classifier_categorical,  label=\"xgb_hp2\")\n",
    "\n",
    "pvi = explainer.model_parts(random_state=0)\n",
    "pvi.plot()"
   ]
  },
  {
   "cell_type": "code",
   "execution_count": 18,
   "id": "cf6e7100",
   "metadata": {},
   "outputs": [
    {
     "name": "stdout",
     "output_type": "stream",
     "text": [
      "       name  importance\n",
      "0   oldpeak    0.113075\n",
      "1   thall_2    0.110323\n",
      "2   thalach    0.104715\n",
      "3      cp_0    0.099254\n",
      "4        ca    0.090715\n",
      "5   thall_3    0.085259\n",
      "6      chol    0.081664\n",
      "7       age    0.072114\n",
      "8    trtbps    0.061529\n",
      "9      exng    0.047232\n",
      "10      sex    0.033155\n",
      "11    slope    0.031441\n",
      "12  restecg    0.015431\n",
      "13     cp_2    0.012766\n",
      "14     cp_1    0.010712\n",
      "15     cp_3    0.010178\n",
      "16  thall_1    0.009610\n",
      "17      fbs    0.008905\n",
      "18  thall_0    0.001921\n"
     ]
    },
    {
     "data": {
      "text/plain": [
       "<AxesSubplot:xlabel='name'>"
      ]
     },
     "execution_count": 18,
     "metadata": {},
     "output_type": "execute_result"
    },
    {
     "data": {
      "image/png": "[encoded data removed]",
      "text/plain": [
       "<Figure size 432x288 with 1 Axes>"
      ]
     },
     "metadata": {
      "needs_background": "light"
     },
     "output_type": "display_data"
    }
   ],
   "source": [
    "forest = sklearn.ensemble.RandomForestClassifier()\n",
    "forest.fit(X=X_train,y=y_train)\n",
    "\n",
    "order = np.flip(np.argsort(forest.feature_importances_))\n",
    "a = {'name': forest.feature_names_in_[order], 'importance': forest.feature_importances_[order]}\n",
    "aa = pd.DataFrame.from_dict(a)\n",
    "print(aa)\n",
    "aa.plot.bar(x='name')"
   ]
  },
  {
   "cell_type": "code",
   "execution_count": 20,
   "id": "b2d257f7",
   "metadata": {},
   "outputs": [
    {
     "data": {
      "text/plain": [
       ".values =\n",
       "array([[ 3.32526161e-02, -1.37495201e-02, -2.23837868e-02, ...,\n",
       "         8.05861008e-05, -9.80385900e-02, -5.92786926e-02],\n",
       "       [ 3.20251236e-03, -1.40779691e-02, -3.88957350e-02, ...,\n",
       "         9.28571409e-04, -5.09415217e-02, -5.90239389e-02],\n",
       "       [-2.93609357e-02, -1.91550231e-02, -2.35595238e-02, ...,\n",
       "         8.57142854e-04, -3.40346675e-02, -4.27662218e-02],\n",
       "       ...,\n",
       "       [ 1.02163787e-02, -1.28686547e-02,  1.33263995e-02, ...,\n",
       "         6.93354243e-04,  6.85799301e-02,  6.43745411e-02],\n",
       "       [ 4.16021295e-03, -2.46435106e-02,  2.03827400e-02, ...,\n",
       "         1.21978020e-03,  7.44906664e-02,  4.38923331e-02],\n",
       "       [-1.47821814e-02, -2.29606223e-02,  1.24969911e-02, ...,\n",
       "         8.39220310e-04,  7.03707471e-02,  3.17700155e-02]])\n",
       "\n",
       ".base_values =\n",
       "array([0.55087912, 0.55087912, 0.55087912, 0.55087912, 0.55087912,\n",
       "       0.55087912, 0.55087912, 0.55087912, 0.55087912, 0.55087912,\n",
       "       0.55087912, 0.55087912, 0.55087912, 0.55087912, 0.55087912,\n",
       "       0.55087912, 0.55087912, 0.55087912, 0.55087912, 0.55087912,\n",
       "       0.55087912, 0.55087912, 0.55087912, 0.55087912, 0.55087912,\n",
       "       0.55087912, 0.55087912, 0.55087912, 0.55087912, 0.55087912,\n",
       "       0.55087912, 0.55087912, 0.55087912, 0.55087912, 0.55087912,\n",
       "       0.55087912, 0.55087912, 0.55087912, 0.55087912, 0.55087912,\n",
       "       0.55087912, 0.55087912, 0.55087912, 0.55087912, 0.55087912,\n",
       "       0.55087912, 0.55087912, 0.55087912, 0.55087912, 0.55087912,\n",
       "       0.55087912, 0.55087912, 0.55087912, 0.55087912, 0.55087912,\n",
       "       0.55087912, 0.55087912, 0.55087912, 0.55087912, 0.55087912,\n",
       "       0.55087912, 0.55087912, 0.55087912, 0.55087912, 0.55087912,\n",
       "       0.55087912, 0.55087912, 0.55087912, 0.55087912, 0.55087912,\n",
       "       0.55087912, 0.55087912, 0.55087912, 0.55087912, 0.55087912,\n",
       "       0.55087912, 0.55087912, 0.55087912, 0.55087912, 0.55087912,\n",
       "       0.55087912, 0.55087912, 0.55087912, 0.55087912, 0.55087912,\n",
       "       0.55087912, 0.55087912, 0.55087912, 0.55087912, 0.55087912,\n",
       "       0.55087912])\n",
       "\n",
       ".data =\n",
       "array([[ 70.,   1., 145., ...,   0.,   0.,   1.],\n",
       "       [ 64.,   1., 170., ...,   0.,   0.,   1.],\n",
       "       [ 59.,   1., 170., ...,   0.,   0.,   1.],\n",
       "       ...,\n",
       "       [ 51.,   1., 125., ...,   0.,   1.,   0.],\n",
       "       [ 67.,   1., 120., ...,   0.,   1.,   0.],\n",
       "       [ 77.,   1., 125., ...,   0.,   1.,   0.]])"
      ]
     },
     "execution_count": 20,
     "metadata": {},
     "output_type": "execute_result"
    }
   ],
   "source": [
    "import shap\n",
    "shap_explainer = shap.explainers.Tree(forest, data=X, model_output=\"probability\")\n",
    "shap_values = shap_explainer(X)[:,:,1]\n",
    "shap_values"
   ]
  },
  {
   "cell_type": "code",
   "execution_count": 22,
   "id": "720872c8",
   "metadata": {},
   "outputs": [
    {
     "data": {
      "text/plain": [
       "<AxesSubplot:xlabel='name'>"
      ]
     },
     "execution_count": 22,
     "metadata": {},
     "output_type": "execute_result"
    },
    {
     "data": {
      "image/png": "[encoded data removed]",
      "text/plain": [
       "<Figure size 432x288 with 1 Axes>"
      ]
     },
     "metadata": {
      "needs_background": "light"
     },
     "output_type": "display_data"
    }
   ],
   "source": [
    "rf_resultX = pd.DataFrame(shap_values.values, columns = forest.feature_names_in_)\n",
    "\n",
    "vals = np.abs(rf_resultX.values).mean(0)\n",
    "\n",
    "shap_importance = pd.DataFrame(list(zip(forest.feature_names_in_, vals)),\n",
    "                                  columns=['name','importance_shap'])\n",
    "shap_importance.sort_values(by=['importance_shap'],\n",
    "                               ascending=False, inplace=True)\n",
    "shap_importance.plot.bar(x='name')"
   ]
  },
  {
   "cell_type": "code",
   "execution_count": null,
   "id": "aa211a6c",
   "metadata": {},
   "outputs": [],
   "source": []
  }
 ],
 "metadata": {
  "kernelspec": {
   "display_name": "Python 3 (ipykernel)",
   "language": "python",
   "name": "python3"
  },
  "language_info": {
   "codemirror_mode": {
    "name": "ipython",
    "version": 3
   },
   "file_extension": ".py",
   "mimetype": "text/x-python",
   "name": "python",
   "nbconvert_exporter": "python",
   "pygments_lexer": "ipython3",
   "version": "3.9.12"
  }
 },
 "nbformat": 4,
 "nbformat_minor": 5
}
