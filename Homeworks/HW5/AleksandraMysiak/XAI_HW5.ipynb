{
 "cells": [
  {
   "cell_type": "markdown",
   "metadata": {
    "id": "QLQ8tgKfwVTb",
    "tags": []
   },
   "source": [
    "# Explainable AI, Homework 5, Aleksandra Mysiak\n",
    "Permutation-based Variable Importance analysis for the [heart disease dataset](https://www.kaggle.com/datasets/rashikrahmanpritom/heart-attack-analysis-prediction-dataset)."
   ]
  },
  {
   "cell_type": "markdown",
   "metadata": {},
   "source": [
    "## PVI for the previously selected model\n",
    "The main model analysed here is the same one that was used in previous notebooks. It's an XGBoostClassifier, with hyperparameters `n_estimators=200` and `max_depth=4`.\n",
    "\n",
    "We can see a tie between the two most important variables -- `thall_2` and `oldpeak`. The two seem to be significantly more important than the other variables, with another noticeable break around `caa_2` and `cp_3`. Surprisingly, other values of the `thall` feature are not in the top 10, indicating the existence of a single, most telling value.\n",
    "\n",
    "Overall, the absolute values of importances seem to be pretty low, which might indicate that no single value is enough to explain the model's behaviour -- or, more precisely, the changes in loss over all test observations. For a model that features interactions, this is not a surprising result."
   ]
  },
  {
   "cell_type": "markdown",
   "metadata": {},
   "source": [
    "![](xgboost_4.png)"
   ]
  },
  {
   "cell_type": "markdown",
   "metadata": {},
   "source": [
    "## PVI comparison between different models\n",
    "In this section, we will take a look at PVI results for 4 different models: 3 XGBoost classifiers, with different `max_depth` values, and a single logistic regression model. Below we have a table with accuracy and F1 scores on the test set for the 4 models.\n",
    "\n",
    "\n",
    "| Model                | Accuracy | F1    |\n",
    "|----------------------|----------|-------|\n",
    "| XGBoost, max_depth=2 | 0.787    | 0.817 |\n",
    "| XGBoost, max_depth=4 | 0.754    | 0.795 |\n",
    "| XGBoost, max_depth=6 | 0.754    | 0.795 |\n",
    "| Logistic regression  | 0.852    | 0.866 |\n",
    "\n",
    "We can see that the XGBoost models seem to overfit, as a higher `max_depth` indicates a higher model flexibility."
   ]
  },
  {
   "cell_type": "markdown",
   "metadata": {},
   "source": [
    "Looking at PVI plots, for the XGBoost models, we can see that the top 10 sets do not differ much, with IoU between both pairs ((2, 4) and (4, 6)) of sets of 0.82 (9 elements in common). The ordering of the features changes a bit, with each plot having a different best feature. This is not surprising, as even for models trained with the same hyperparameters, but different seeds, the importances can differ.\n",
    "\n",
    "Another noticeable thing about the XGBoost plots is that the absolute values of the highest importances go up with the models' flexibility. This feels counterintuitive, as a less flexible model could focus on a smaller set of predictors more, without capturing nuances of multiple features. This intuition turns out to be invalid in this case -- presumably due to the models' ability to include interactions. In this case, we might also interpret this as a sign of overfitting, as the model over-prioritizes certain features.\n",
    "\n",
    "For logistic regression, the value of importance for the top feature is noticeably higher than for XGBoost models. This is understandable for a simple model with no interactions, since singular features are the only factors responsible for the entire loss drop.\n",
    "\n",
    "We can see that the set of top 10 features is a bit different, with 8 out of 10 appearing in any of the top 10s for XGBoost models.\n",
    "\n",
    "Interestingly, the `thall_2` feature (or any other `thall` value) that seems to be very important for all XGBoost models is not included in the top 10 for logistic regression. This might be a sign of it mainly being important in interactions with other features. In general, it could also indicate that the shape of the relation between this variable and the illness risk is non-trivial and cannot be captured by a simple model, but since this is a binary feature, it is not the case here."
   ]
  },
  {
   "cell_type": "markdown",
   "metadata": {},
   "source": [
    "![](xgboost_2.png)\n",
    "![](xgboost_4.png)\n",
    "![](xgboost_6.png)\n",
    "![](logistic.png)"
   ]
  },
  {
   "cell_type": "markdown",
   "metadata": {},
   "source": [
    "## PVI and XGBoost 'gain' importance comparison\n",
    "The `gain` importance in XGBoost measures improvement of model's accuracy when adding variables. Below, we have two plots of top 10 variables for the same XGBoost model, as scored using two methods:\n",
    "* PVI, \n",
    "* XGBoost `gain`. \n",
    "\n",
    "We can see that the values here are of different orders of magnitude, and their absolute values are not comparable, since they measure different changes. We can, however, analyse the results qualitatively.\n",
    "\n",
    "Both methods point to the same variable as the most important one. There are, however, vast differences between rankings of other variables in the two top tens, with the IoU of the two sets at just 0.43 (6 shared elements). The most contrasting variable seems to be `oldpeak`, which is very close to the best value when using PVI, and at the bottom of the `gain` ranking. This tells us that the two methods of variable importance measurement measure different effects that are not very well correlated, suggesting that the notion of \"variable importance\" is not universal and well-defined, and depends on chosen methodology."
   ]
  },
  {
   "cell_type": "markdown",
   "metadata": {},
   "source": [
    "![](xgboost_4.png)"
   ]
  },
  {
   "cell_type": "markdown",
   "metadata": {},
   "source": [
    "![](gain.png)"
   ]
  },
  {
   "cell_type": "markdown",
   "metadata": {},
   "source": [
    "## PVI and SHAP comparison\n",
    "Below, we have two plots of top 10 most important variables for the same XGBoost model, as measured in two ways:\n",
    "* Using PVI,\n",
    "* Averaging absolute values of TreeSHAP for all test set examples.\n",
    "\n",
    "Once again, the values here measure different effects, so we cannot compare the numbers quantitatively.\n",
    "\n",
    "Qualitatively, once again, the two methods chose the same feature as the most important one. This seems to suggest that, although the concept of \"variable importance\" differs between methods, the `thall_2` feature is in fact the most informative for our model.\n",
    "\n",
    "Other than that, there are once again quite a few differences between the rankings. The IoU of the sets is 0.54. Interestingly, the 7 shared elements are the top 7 of the PVI-ranked variables. There seems to be a bit less discrepancy here than in the previous case. The most extreme difference seems, again, quite noticeable: the `chol` variable, which has the 2nd-highest averaged SHAP contribution, is not featured in the PVI top 10 at all.\n",
    "\n",
    "Once again, we can draw the conclusion that \"variable importance\" depends a lot on the method we choose, since different methods\n",
    "1. Measure changes of different values (e.g. loss, accuracy, prediction value), and\n",
    "2. Yield differing results.\n",
    "\n",
    "This suggests a need to specify which method we are using when talking about importance, and also a need to understand the differences between those methods."
   ]
  },
  {
   "cell_type": "markdown",
   "metadata": {},
   "source": [
    "![](xgboost_4.png)\n",
    "![](shap.png)"
   ]
  },
  {
   "cell_type": "markdown",
   "metadata": {
    "id": "LB31ByGmqkoD",
    "jp-MarkdownHeadingCollapsed": true,
    "tags": []
   },
   "source": [
    "# Appendix"
   ]
  },
  {
   "cell_type": "code",
   "execution_count": 1,
   "metadata": {
    "id": "tINYtxvlynds"
   },
   "outputs": [],
   "source": [
    "import pandas as pd\n",
    "from sklearn.preprocessing import StandardScaler\n",
    "from sklearn.linear_model import LogisticRegression\n",
    "from sklearn.model_selection import train_test_split\n",
    "from sklearn.pipeline import Pipeline\n",
    "import xgboost\n",
    "import dalex as dx\n",
    "import plotly.express as px\n",
    "import shap\n",
    "import numpy as np\n",
    "\n",
    "import warnings\n",
    "warnings.filterwarnings(\"ignore\")"
   ]
  },
  {
   "cell_type": "code",
   "execution_count": 2,
   "metadata": {
    "id": "d5OVzLk312Ns"
   },
   "outputs": [],
   "source": [
    "DATA_PATH = \"../heart.csv\"\n",
    "CATEGORICAL_COLUMNS = ['sex', 'cp', 'fbs', 'restecg', 'caa', 'exng', 'slp', 'thall']\n",
    "TARGET_COLUMN = 'output'"
   ]
  },
  {
   "cell_type": "markdown",
   "metadata": {
    "id": "UYAZDn0HIuTA"
   },
   "source": [
    "## Read in and prepare data"
   ]
  },
  {
   "cell_type": "code",
   "execution_count": 3,
   "metadata": {
    "colab": {
     "base_uri": "https://localhost:8080/",
     "height": 206
    },
    "id": "L5RwzJ_D2Yub",
    "outputId": "ae4adb4e-7a08-471b-8ef1-d80f7f1c634b"
   },
   "outputs": [
    {
     "data": {
      "text/html": [
       "<div>\n",
       "<style scoped>\n",
       "    .dataframe tbody tr th:only-of-type {\n",
       "        vertical-align: middle;\n",
       "    }\n",
       "\n",
       "    .dataframe tbody tr th {\n",
       "        vertical-align: top;\n",
       "    }\n",
       "\n",
       "    .dataframe thead th {\n",
       "        text-align: right;\n",
       "    }\n",
       "</style>\n",
       "<table border=\"1\" class=\"dataframe\">\n",
       "  <thead>\n",
       "    <tr style=\"text-align: right;\">\n",
       "      <th></th>\n",
       "      <th>age</th>\n",
       "      <th>sex</th>\n",
       "      <th>cp</th>\n",
       "      <th>trtbps</th>\n",
       "      <th>chol</th>\n",
       "      <th>fbs</th>\n",
       "      <th>restecg</th>\n",
       "      <th>thalachh</th>\n",
       "      <th>exng</th>\n",
       "      <th>oldpeak</th>\n",
       "      <th>slp</th>\n",
       "      <th>caa</th>\n",
       "      <th>thall</th>\n",
       "      <th>output</th>\n",
       "    </tr>\n",
       "  </thead>\n",
       "  <tbody>\n",
       "    <tr>\n",
       "      <th>0</th>\n",
       "      <td>63</td>\n",
       "      <td>1</td>\n",
       "      <td>3</td>\n",
       "      <td>145</td>\n",
       "      <td>233</td>\n",
       "      <td>1</td>\n",
       "      <td>0</td>\n",
       "      <td>150</td>\n",
       "      <td>0</td>\n",
       "      <td>2.3</td>\n",
       "      <td>0</td>\n",
       "      <td>0</td>\n",
       "      <td>1</td>\n",
       "      <td>1</td>\n",
       "    </tr>\n",
       "    <tr>\n",
       "      <th>1</th>\n",
       "      <td>37</td>\n",
       "      <td>1</td>\n",
       "      <td>2</td>\n",
       "      <td>130</td>\n",
       "      <td>250</td>\n",
       "      <td>0</td>\n",
       "      <td>1</td>\n",
       "      <td>187</td>\n",
       "      <td>0</td>\n",
       "      <td>3.5</td>\n",
       "      <td>0</td>\n",
       "      <td>0</td>\n",
       "      <td>2</td>\n",
       "      <td>1</td>\n",
       "    </tr>\n",
       "    <tr>\n",
       "      <th>2</th>\n",
       "      <td>41</td>\n",
       "      <td>0</td>\n",
       "      <td>1</td>\n",
       "      <td>130</td>\n",
       "      <td>204</td>\n",
       "      <td>0</td>\n",
       "      <td>0</td>\n",
       "      <td>172</td>\n",
       "      <td>0</td>\n",
       "      <td>1.4</td>\n",
       "      <td>2</td>\n",
       "      <td>0</td>\n",
       "      <td>2</td>\n",
       "      <td>1</td>\n",
       "    </tr>\n",
       "    <tr>\n",
       "      <th>3</th>\n",
       "      <td>56</td>\n",
       "      <td>1</td>\n",
       "      <td>1</td>\n",
       "      <td>120</td>\n",
       "      <td>236</td>\n",
       "      <td>0</td>\n",
       "      <td>1</td>\n",
       "      <td>178</td>\n",
       "      <td>0</td>\n",
       "      <td>0.8</td>\n",
       "      <td>2</td>\n",
       "      <td>0</td>\n",
       "      <td>2</td>\n",
       "      <td>1</td>\n",
       "    </tr>\n",
       "    <tr>\n",
       "      <th>4</th>\n",
       "      <td>57</td>\n",
       "      <td>0</td>\n",
       "      <td>0</td>\n",
       "      <td>120</td>\n",
       "      <td>354</td>\n",
       "      <td>0</td>\n",
       "      <td>1</td>\n",
       "      <td>163</td>\n",
       "      <td>1</td>\n",
       "      <td>0.6</td>\n",
       "      <td>2</td>\n",
       "      <td>0</td>\n",
       "      <td>2</td>\n",
       "      <td>1</td>\n",
       "    </tr>\n",
       "  </tbody>\n",
       "</table>\n",
       "</div>"
      ],
      "text/plain": [
       "   age  sex  cp  trtbps  chol  fbs  restecg  thalachh  exng  oldpeak  slp  \\\n",
       "0   63    1   3     145   233    1        0       150     0      2.3    0   \n",
       "1   37    1   2     130   250    0        1       187     0      3.5    0   \n",
       "2   41    0   1     130   204    0        0       172     0      1.4    2   \n",
       "3   56    1   1     120   236    0        1       178     0      0.8    2   \n",
       "4   57    0   0     120   354    0        1       163     1      0.6    2   \n",
       "\n",
       "   caa  thall  output  \n",
       "0    0      1       1  \n",
       "1    0      2       1  \n",
       "2    0      2       1  \n",
       "3    0      2       1  \n",
       "4    0      2       1  "
      ]
     },
     "execution_count": 3,
     "metadata": {},
     "output_type": "execute_result"
    }
   ],
   "source": [
    "df = pd.read_csv(DATA_PATH)\n",
    "df.head()"
   ]
  },
  {
   "cell_type": "code",
   "execution_count": 4,
   "metadata": {
    "colab": {
     "base_uri": "https://localhost:8080/",
     "height": 300
    },
    "id": "dPd0QgZuZV6m",
    "outputId": "6a6eb017-70fd-4362-a2d6-b4976205e2ca"
   },
   "outputs": [
    {
     "data": {
      "text/html": [
       "<div>\n",
       "<style scoped>\n",
       "    .dataframe tbody tr th:only-of-type {\n",
       "        vertical-align: middle;\n",
       "    }\n",
       "\n",
       "    .dataframe tbody tr th {\n",
       "        vertical-align: top;\n",
       "    }\n",
       "\n",
       "    .dataframe thead th {\n",
       "        text-align: right;\n",
       "    }\n",
       "</style>\n",
       "<table border=\"1\" class=\"dataframe\">\n",
       "  <thead>\n",
       "    <tr style=\"text-align: right;\">\n",
       "      <th></th>\n",
       "      <th>age</th>\n",
       "      <th>sex</th>\n",
       "      <th>cp</th>\n",
       "      <th>trtbps</th>\n",
       "      <th>chol</th>\n",
       "      <th>fbs</th>\n",
       "      <th>restecg</th>\n",
       "      <th>thalachh</th>\n",
       "      <th>exng</th>\n",
       "      <th>oldpeak</th>\n",
       "      <th>slp</th>\n",
       "      <th>caa</th>\n",
       "      <th>thall</th>\n",
       "      <th>output</th>\n",
       "    </tr>\n",
       "  </thead>\n",
       "  <tbody>\n",
       "    <tr>\n",
       "      <th>count</th>\n",
       "      <td>303.000000</td>\n",
       "      <td>303.000000</td>\n",
       "      <td>303.000000</td>\n",
       "      <td>303.000000</td>\n",
       "      <td>303.000000</td>\n",
       "      <td>303.000000</td>\n",
       "      <td>303.000000</td>\n",
       "      <td>303.000000</td>\n",
       "      <td>303.000000</td>\n",
       "      <td>303.000000</td>\n",
       "      <td>303.000000</td>\n",
       "      <td>303.000000</td>\n",
       "      <td>303.000000</td>\n",
       "      <td>303.000000</td>\n",
       "    </tr>\n",
       "    <tr>\n",
       "      <th>mean</th>\n",
       "      <td>54.366337</td>\n",
       "      <td>0.683168</td>\n",
       "      <td>0.966997</td>\n",
       "      <td>131.623762</td>\n",
       "      <td>246.264026</td>\n",
       "      <td>0.148515</td>\n",
       "      <td>0.528053</td>\n",
       "      <td>149.646865</td>\n",
       "      <td>0.326733</td>\n",
       "      <td>1.039604</td>\n",
       "      <td>1.399340</td>\n",
       "      <td>0.729373</td>\n",
       "      <td>2.313531</td>\n",
       "      <td>0.544554</td>\n",
       "    </tr>\n",
       "    <tr>\n",
       "      <th>std</th>\n",
       "      <td>9.082101</td>\n",
       "      <td>0.466011</td>\n",
       "      <td>1.032052</td>\n",
       "      <td>17.538143</td>\n",
       "      <td>51.830751</td>\n",
       "      <td>0.356198</td>\n",
       "      <td>0.525860</td>\n",
       "      <td>22.905161</td>\n",
       "      <td>0.469794</td>\n",
       "      <td>1.161075</td>\n",
       "      <td>0.616226</td>\n",
       "      <td>1.022606</td>\n",
       "      <td>0.612277</td>\n",
       "      <td>0.498835</td>\n",
       "    </tr>\n",
       "    <tr>\n",
       "      <th>min</th>\n",
       "      <td>29.000000</td>\n",
       "      <td>0.000000</td>\n",
       "      <td>0.000000</td>\n",
       "      <td>94.000000</td>\n",
       "      <td>126.000000</td>\n",
       "      <td>0.000000</td>\n",
       "      <td>0.000000</td>\n",
       "      <td>71.000000</td>\n",
       "      <td>0.000000</td>\n",
       "      <td>0.000000</td>\n",
       "      <td>0.000000</td>\n",
       "      <td>0.000000</td>\n",
       "      <td>0.000000</td>\n",
       "      <td>0.000000</td>\n",
       "    </tr>\n",
       "    <tr>\n",
       "      <th>25%</th>\n",
       "      <td>47.500000</td>\n",
       "      <td>0.000000</td>\n",
       "      <td>0.000000</td>\n",
       "      <td>120.000000</td>\n",
       "      <td>211.000000</td>\n",
       "      <td>0.000000</td>\n",
       "      <td>0.000000</td>\n",
       "      <td>133.500000</td>\n",
       "      <td>0.000000</td>\n",
       "      <td>0.000000</td>\n",
       "      <td>1.000000</td>\n",
       "      <td>0.000000</td>\n",
       "      <td>2.000000</td>\n",
       "      <td>0.000000</td>\n",
       "    </tr>\n",
       "    <tr>\n",
       "      <th>50%</th>\n",
       "      <td>55.000000</td>\n",
       "      <td>1.000000</td>\n",
       "      <td>1.000000</td>\n",
       "      <td>130.000000</td>\n",
       "      <td>240.000000</td>\n",
       "      <td>0.000000</td>\n",
       "      <td>1.000000</td>\n",
       "      <td>153.000000</td>\n",
       "      <td>0.000000</td>\n",
       "      <td>0.800000</td>\n",
       "      <td>1.000000</td>\n",
       "      <td>0.000000</td>\n",
       "      <td>2.000000</td>\n",
       "      <td>1.000000</td>\n",
       "    </tr>\n",
       "    <tr>\n",
       "      <th>75%</th>\n",
       "      <td>61.000000</td>\n",
       "      <td>1.000000</td>\n",
       "      <td>2.000000</td>\n",
       "      <td>140.000000</td>\n",
       "      <td>274.500000</td>\n",
       "      <td>0.000000</td>\n",
       "      <td>1.000000</td>\n",
       "      <td>166.000000</td>\n",
       "      <td>1.000000</td>\n",
       "      <td>1.600000</td>\n",
       "      <td>2.000000</td>\n",
       "      <td>1.000000</td>\n",
       "      <td>3.000000</td>\n",
       "      <td>1.000000</td>\n",
       "    </tr>\n",
       "    <tr>\n",
       "      <th>max</th>\n",
       "      <td>77.000000</td>\n",
       "      <td>1.000000</td>\n",
       "      <td>3.000000</td>\n",
       "      <td>200.000000</td>\n",
       "      <td>564.000000</td>\n",
       "      <td>1.000000</td>\n",
       "      <td>2.000000</td>\n",
       "      <td>202.000000</td>\n",
       "      <td>1.000000</td>\n",
       "      <td>6.200000</td>\n",
       "      <td>2.000000</td>\n",
       "      <td>4.000000</td>\n",
       "      <td>3.000000</td>\n",
       "      <td>1.000000</td>\n",
       "    </tr>\n",
       "  </tbody>\n",
       "</table>\n",
       "</div>"
      ],
      "text/plain": [
       "              age         sex          cp      trtbps        chol         fbs  \\\n",
       "count  303.000000  303.000000  303.000000  303.000000  303.000000  303.000000   \n",
       "mean    54.366337    0.683168    0.966997  131.623762  246.264026    0.148515   \n",
       "std      9.082101    0.466011    1.032052   17.538143   51.830751    0.356198   \n",
       "min     29.000000    0.000000    0.000000   94.000000  126.000000    0.000000   \n",
       "25%     47.500000    0.000000    0.000000  120.000000  211.000000    0.000000   \n",
       "50%     55.000000    1.000000    1.000000  130.000000  240.000000    0.000000   \n",
       "75%     61.000000    1.000000    2.000000  140.000000  274.500000    0.000000   \n",
       "max     77.000000    1.000000    3.000000  200.000000  564.000000    1.000000   \n",
       "\n",
       "          restecg    thalachh        exng     oldpeak         slp         caa  \\\n",
       "count  303.000000  303.000000  303.000000  303.000000  303.000000  303.000000   \n",
       "mean     0.528053  149.646865    0.326733    1.039604    1.399340    0.729373   \n",
       "std      0.525860   22.905161    0.469794    1.161075    0.616226    1.022606   \n",
       "min      0.000000   71.000000    0.000000    0.000000    0.000000    0.000000   \n",
       "25%      0.000000  133.500000    0.000000    0.000000    1.000000    0.000000   \n",
       "50%      1.000000  153.000000    0.000000    0.800000    1.000000    0.000000   \n",
       "75%      1.000000  166.000000    1.000000    1.600000    2.000000    1.000000   \n",
       "max      2.000000  202.000000    1.000000    6.200000    2.000000    4.000000   \n",
       "\n",
       "            thall      output  \n",
       "count  303.000000  303.000000  \n",
       "mean     2.313531    0.544554  \n",
       "std      0.612277    0.498835  \n",
       "min      0.000000    0.000000  \n",
       "25%      2.000000    0.000000  \n",
       "50%      2.000000    1.000000  \n",
       "75%      3.000000    1.000000  \n",
       "max      3.000000    1.000000  "
      ]
     },
     "execution_count": 4,
     "metadata": {},
     "output_type": "execute_result"
    }
   ],
   "source": [
    "df.describe()"
   ]
  },
  {
   "cell_type": "code",
   "execution_count": 5,
   "metadata": {
    "id": "ia0mHytlN6_Y"
   },
   "outputs": [],
   "source": [
    "for column in CATEGORICAL_COLUMNS:\n",
    "    df[column] = df[column].astype(str)"
   ]
  },
  {
   "cell_type": "markdown",
   "metadata": {
    "id": "o3RPmDaOIytH"
   },
   "source": [
    "#### Encode categorical features"
   ]
  },
  {
   "cell_type": "code",
   "execution_count": 6,
   "metadata": {
    "colab": {
     "base_uri": "https://localhost:8080/"
    },
    "id": "CDn4kpJV7ROc",
    "outputId": "961764f9-220d-4fbb-cc86-0bfc5619b1c9"
   },
   "outputs": [
    {
     "data": {
      "text/plain": [
       "Index(['age', 'trtbps', 'chol', 'thalachh', 'oldpeak', 'output', 'sex_1',\n",
       "       'cp_1', 'cp_2', 'cp_3', 'fbs_1', 'restecg_1', 'restecg_2', 'exng_1',\n",
       "       'slp_1', 'slp_2', 'caa_1', 'caa_2', 'caa_3', 'caa_4', 'thall_1',\n",
       "       'thall_2', 'thall_3'],\n",
       "      dtype='object')"
      ]
     },
     "execution_count": 6,
     "metadata": {},
     "output_type": "execute_result"
    }
   ],
   "source": [
    "df = pd.get_dummies(df, drop_first=True)\n",
    "df.columns"
   ]
  },
  {
   "cell_type": "markdown",
   "metadata": {
    "id": "ydlsUAqWI839"
   },
   "source": [
    "#### Select X and y"
   ]
  },
  {
   "cell_type": "code",
   "execution_count": 7,
   "metadata": {
    "id": "0URtoolk9HJW"
   },
   "outputs": [],
   "source": [
    "X = df.drop(columns = [TARGET_COLUMN])"
   ]
  },
  {
   "cell_type": "code",
   "execution_count": 8,
   "metadata": {
    "id": "9ok6C0sAJ3qo"
   },
   "outputs": [],
   "source": [
    "y = df[TARGET_COLUMN]"
   ]
  },
  {
   "cell_type": "code",
   "execution_count": 9,
   "metadata": {
    "id": "dXnRPttTPOD5"
   },
   "outputs": [],
   "source": [
    "X_train, X_test, y_train, y_test = train_test_split(X, y, test_size=0.2, random_state=42, stratify=y)"
   ]
  },
  {
   "cell_type": "markdown",
   "metadata": {
    "id": "hAJ9g3cuRwiV"
   },
   "source": [
    "## 0. For the selected data set, train at least one tree-based ensemble model, e.g. random forest, gbdt, xgboost.\n"
   ]
  },
  {
   "cell_type": "code",
   "execution_count": 10,
   "metadata": {
    "id": "vj09yPv_RUsO",
    "tags": []
   },
   "outputs": [],
   "source": [
    "xgboost_model = xgboost.XGBClassifier(\n",
    "    n_estimators=200, \n",
    "    max_depth=4, \n",
    "    use_label_encoder=False, \n",
    "    eval_metric=\"logloss\",\n",
    "    importance_type=\"gain\"\n",
    ")"
   ]
  },
  {
   "cell_type": "code",
   "execution_count": 11,
   "metadata": {
    "colab": {
     "base_uri": "https://localhost:8080/"
    },
    "id": "3I5z19aERrbJ",
    "outputId": "6761f78f-626c-4a06-f6fd-df75ef8dd519"
   },
   "outputs": [
    {
     "data": {
      "text/html": [
       "<style>#sk-container-id-1 {color: black;background-color: white;}#sk-container-id-1 pre{padding: 0;}#sk-container-id-1 div.sk-toggleable {background-color: white;}#sk-container-id-1 label.sk-toggleable__label {cursor: pointer;display: block;width: 100%;margin-bottom: 0;padding: 0.3em;box-sizing: border-box;text-align: center;}#sk-container-id-1 label.sk-toggleable__label-arrow:before {content: \"▸\";float: left;margin-right: 0.25em;color: #696969;}#sk-container-id-1 label.sk-toggleable__label-arrow:hover:before {color: black;}#sk-container-id-1 div.sk-estimator:hover label.sk-toggleable__label-arrow:before {color: black;}#sk-container-id-1 div.sk-toggleable__content {max-height: 0;max-width: 0;overflow: hidden;text-align: left;background-color: #f0f8ff;}#sk-container-id-1 div.sk-toggleable__content pre {margin: 0.2em;color: black;border-radius: 0.25em;background-color: #f0f8ff;}#sk-container-id-1 input.sk-toggleable__control:checked~div.sk-toggleable__content {max-height: 200px;max-width: 100%;overflow: auto;}#sk-container-id-1 input.sk-toggleable__control:checked~label.sk-toggleable__label-arrow:before {content: \"▾\";}#sk-container-id-1 div.sk-estimator input.sk-toggleable__control:checked~label.sk-toggleable__label {background-color: #d4ebff;}#sk-container-id-1 div.sk-label input.sk-toggleable__control:checked~label.sk-toggleable__label {background-color: #d4ebff;}#sk-container-id-1 input.sk-hidden--visually {border: 0;clip: rect(1px 1px 1px 1px);clip: rect(1px, 1px, 1px, 1px);height: 1px;margin: -1px;overflow: hidden;padding: 0;position: absolute;width: 1px;}#sk-container-id-1 div.sk-estimator {font-family: monospace;background-color: #f0f8ff;border: 1px dotted black;border-radius: 0.25em;box-sizing: border-box;margin-bottom: 0.5em;}#sk-container-id-1 div.sk-estimator:hover {background-color: #d4ebff;}#sk-container-id-1 div.sk-parallel-item::after {content: \"\";width: 100%;border-bottom: 1px solid gray;flex-grow: 1;}#sk-container-id-1 div.sk-label:hover label.sk-toggleable__label {background-color: #d4ebff;}#sk-container-id-1 div.sk-serial::before {content: \"\";position: absolute;border-left: 1px solid gray;box-sizing: border-box;top: 0;bottom: 0;left: 50%;z-index: 0;}#sk-container-id-1 div.sk-serial {display: flex;flex-direction: column;align-items: center;background-color: white;padding-right: 0.2em;padding-left: 0.2em;position: relative;}#sk-container-id-1 div.sk-item {position: relative;z-index: 1;}#sk-container-id-1 div.sk-parallel {display: flex;align-items: stretch;justify-content: center;background-color: white;position: relative;}#sk-container-id-1 div.sk-item::before, #sk-container-id-1 div.sk-parallel-item::before {content: \"\";position: absolute;border-left: 1px solid gray;box-sizing: border-box;top: 0;bottom: 0;left: 50%;z-index: -1;}#sk-container-id-1 div.sk-parallel-item {display: flex;flex-direction: column;z-index: 1;position: relative;background-color: white;}#sk-container-id-1 div.sk-parallel-item:first-child::after {align-self: flex-end;width: 50%;}#sk-container-id-1 div.sk-parallel-item:last-child::after {align-self: flex-start;width: 50%;}#sk-container-id-1 div.sk-parallel-item:only-child::after {width: 0;}#sk-container-id-1 div.sk-dashed-wrapped {border: 1px dashed gray;margin: 0 0.4em 0.5em 0.4em;box-sizing: border-box;padding-bottom: 0.4em;background-color: white;}#sk-container-id-1 div.sk-label label {font-family: monospace;font-weight: bold;display: inline-block;line-height: 1.2em;}#sk-container-id-1 div.sk-label-container {text-align: center;}#sk-container-id-1 div.sk-container {/* jupyter's `normalize.less` sets `[hidden] { display: none; }` but bootstrap.min.css set `[hidden] { display: none !important; }` so we also need the `!important` here to be able to override the default hidden behavior on the sphinx rendered scikit-learn.org. See: https://github.com/scikit-learn/scikit-learn/issues/21755 */display: inline-block !important;position: relative;}#sk-container-id-1 div.sk-text-repr-fallback {display: none;}</style><div id=\"sk-container-id-1\" class=\"sk-top-container\"><div class=\"sk-text-repr-fallback\"><pre>XGBClassifier(base_score=0.5, booster=&#x27;gbtree&#x27;, callbacks=None,\n",
       "              colsample_bylevel=1, colsample_bynode=1, colsample_bytree=1,\n",
       "              early_stopping_rounds=None, enable_categorical=False,\n",
       "              eval_metric=&#x27;logloss&#x27;, gamma=0, gpu_id=-1,\n",
       "              grow_policy=&#x27;depthwise&#x27;, importance_type=&#x27;gain&#x27;,\n",
       "              interaction_constraints=&#x27;&#x27;, learning_rate=0.300000012,\n",
       "              max_bin=256, max_cat_to_onehot=4, max_delta_step=0, max_depth=4,\n",
       "              max_leaves=0, min_child_weight=1, missing=nan,\n",
       "              monotone_constraints=&#x27;()&#x27;, n_estimators=200, n_jobs=0,\n",
       "              num_parallel_tree=1, predictor=&#x27;auto&#x27;, random_state=0,\n",
       "              reg_alpha=0, reg_lambda=1, ...)</pre><b>In a Jupyter environment, please rerun this cell to show the HTML representation or trust the notebook. <br />On GitHub, the HTML representation is unable to render, please try loading this page with nbviewer.org.</b></div><div class=\"sk-container\" hidden><div class=\"sk-item\"><div class=\"sk-estimator sk-toggleable\"><input class=\"sk-toggleable__control sk-hidden--visually\" id=\"sk-estimator-id-1\" type=\"checkbox\" checked><label for=\"sk-estimator-id-1\" class=\"sk-toggleable__label sk-toggleable__label-arrow\">XGBClassifier</label><div class=\"sk-toggleable__content\"><pre>XGBClassifier(base_score=0.5, booster=&#x27;gbtree&#x27;, callbacks=None,\n",
       "              colsample_bylevel=1, colsample_bynode=1, colsample_bytree=1,\n",
       "              early_stopping_rounds=None, enable_categorical=False,\n",
       "              eval_metric=&#x27;logloss&#x27;, gamma=0, gpu_id=-1,\n",
       "              grow_policy=&#x27;depthwise&#x27;, importance_type=&#x27;gain&#x27;,\n",
       "              interaction_constraints=&#x27;&#x27;, learning_rate=0.300000012,\n",
       "              max_bin=256, max_cat_to_onehot=4, max_delta_step=0, max_depth=4,\n",
       "              max_leaves=0, min_child_weight=1, missing=nan,\n",
       "              monotone_constraints=&#x27;()&#x27;, n_estimators=200, n_jobs=0,\n",
       "              num_parallel_tree=1, predictor=&#x27;auto&#x27;, random_state=0,\n",
       "              reg_alpha=0, reg_lambda=1, ...)</pre></div></div></div></div></div>"
      ],
      "text/plain": [
       "XGBClassifier(base_score=0.5, booster='gbtree', callbacks=None,\n",
       "              colsample_bylevel=1, colsample_bynode=1, colsample_bytree=1,\n",
       "              early_stopping_rounds=None, enable_categorical=False,\n",
       "              eval_metric='logloss', gamma=0, gpu_id=-1,\n",
       "              grow_policy='depthwise', importance_type='gain',\n",
       "              interaction_constraints='', learning_rate=0.300000012,\n",
       "              max_bin=256, max_cat_to_onehot=4, max_delta_step=0, max_depth=4,\n",
       "              max_leaves=0, min_child_weight=1, missing=nan,\n",
       "              monotone_constraints='()', n_estimators=200, n_jobs=0,\n",
       "              num_parallel_tree=1, predictor='auto', random_state=0,\n",
       "              reg_alpha=0, reg_lambda=1, ...)"
      ]
     },
     "execution_count": 11,
     "metadata": {},
     "output_type": "execute_result"
    }
   ],
   "source": [
    "xgboost_model.fit(X_train, y_train)"
   ]
  },
  {
   "cell_type": "markdown",
   "metadata": {
    "id": "ZM12WEqeq9to"
   },
   "source": [
    "## 1. Calculate Permutation-based Variable Importance for the selected model.\n"
   ]
  },
  {
   "cell_type": "code",
   "execution_count": 12,
   "metadata": {},
   "outputs": [
    {
     "name": "stdout",
     "output_type": "stream",
     "text": [
      "Preparation of a new explainer is initiated\n",
      "\n",
      "  -> data              : 61 rows 22 cols\n",
      "  -> target variable   : Parameter 'y' was a pandas.Series. Converted to a numpy.ndarray.\n",
      "  -> target variable   : 61 values\n",
      "  -> model_class       : xgboost.sklearn.XGBClassifier (default)\n",
      "  -> label             : Not specified, model's class short name will be used. (default)\n",
      "  -> predict function  : <function pf_xgboost_classifier_categorical at 0x7ff39634ce50> will be used\n",
      "  -> predict function  : Accepts only pandas.DataFrame, numpy.ndarray causes problems.\n",
      "  -> predicted values  : min = 8.96e-05, mean = 0.622, max = 1.0\n",
      "  -> model type        : classification will be used (default)\n",
      "  -> residual function : difference between y and yhat (default)\n",
      "  -> residuals         : min = -0.997, mean = -0.081, max = 0.938\n",
      "  -> model_info        : package xgboost\n",
      "\n",
      "A new explainer has been created!\n"
     ]
    }
   ],
   "source": [
    "def pf_xgboost_classifier_categorical(model, df):\n",
    "    df.loc[:, df.dtypes == 'object'] =\\\n",
    "        df.select_dtypes(['object'])\\\n",
    "        .apply(lambda x: x.astype('category'))\n",
    "    return model.predict_proba(df)[:, 1]\n",
    "\n",
    "explainer = dx.Explainer(xgboost_model, X_test, y_test, predict_function=pf_xgboost_classifier_categorical)"
   ]
  },
  {
   "cell_type": "code",
   "execution_count": 13,
   "metadata": {},
   "outputs": [],
   "source": [
    "pvi = explainer.model_parts(random_state=0, label=\"XGBoost with max_depth = 4\")"
   ]
  },
  {
   "cell_type": "code",
   "execution_count": 59,
   "metadata": {},
   "outputs": [
    {
     "data": {
      "application/vnd.plotly.v1+json": {
       "config": {
        "plotlyServerURL": "https://plot.ly"
       },
       "data": [
        {
         "base": 0.15800865800865793,
         "hoverinfo": "text",
         "hoverlabel": {
          "bgcolor": "rgba(0, 0, 0, 0.8)"
         },
         "hovertext": [
          "Model: XGBoost with max_depth = 4 loss after<br>variable: thall_2 is permuted: 0.203<br>Drop-out loss change: +0.045",
          "Model: XGBoost with max_depth = 4 loss after<br>variable: oldpeak is permuted: 0.203<br>Drop-out loss change: +0.045",
          "Model: XGBoost with max_depth = 4 loss after<br>variable: caa_1 is permuted: 0.183<br>Drop-out loss change: +0.025",
          "Model: XGBoost with max_depth = 4 loss after<br>variable: thalachh is permuted: 0.179<br>Drop-out loss change: +0.021",
          "Model: XGBoost with max_depth = 4 loss after<br>variable: age is permuted: 0.177<br>Drop-out loss change: +0.019",
          "Model: XGBoost with max_depth = 4 loss after<br>variable: cp_2 is permuted: 0.177<br>Drop-out loss change: +0.019",
          "Model: XGBoost with max_depth = 4 loss after<br>variable: sex_1 is permuted: 0.175<br>Drop-out loss change: +0.017",
          "Model: XGBoost with max_depth = 4 loss after<br>variable: caa_2 is permuted: 0.174<br>Drop-out loss change: +0.016",
          "Model: XGBoost with max_depth = 4 loss after<br>variable: cp_3 is permuted: 0.171<br>Drop-out loss change: +0.013",
          "Model: XGBoost with max_depth = 4 loss after<br>variable: slp_1 is permuted: 0.164<br>Drop-out loss change: +0.006"
         ],
         "marker": {
          "color": "#46bac2"
         },
         "orientation": "h",
         "showlegend": false,
         "text": [
          "+0.045",
          "+0.045",
          "+0.025",
          "+0.021",
          "+0.019",
          "+0.019",
          "+0.017",
          "+0.016",
          "+0.013",
          "+0.006"
         ],
         "textposition": "outside",
         "type": "bar",
         "x": [
          0.0454545454545455,
          0.045346320346320385,
          0.0254329004329005,
          0.02077922077922084,
          0.019480519480519515,
          0.018939393939394006,
          0.01742424242424251,
          0.015909090909090956,
          0.012878787878787934,
          0.0057359307359308165
         ],
         "xaxis": "x",
         "y": [
          "thall_2",
          "oldpeak",
          "caa_1",
          "thalachh",
          "age",
          "cp_2",
          "sex_1",
          "caa_2",
          "cp_3",
          "slp_1"
         ],
         "yaxis": "y"
        }
       ],
       "layout": {
        "annotations": [
         {
          "font": {
           "size": 16
          },
          "showarrow": false,
          "text": "XGBoost with max_depth = 4",
          "x": 0.5,
          "xanchor": "center",
          "xref": "paper",
          "y": 1,
          "yanchor": "bottom",
          "yref": "paper"
         },
         {
          "font": {
           "size": 16
          },
          "showarrow": false,
          "text": "drop-out loss",
          "x": 0.5,
          "xanchor": "center",
          "xref": "paper",
          "y": 0,
          "yanchor": "top",
          "yref": "paper",
          "yshift": -30
         }
        ],
        "autosize": true,
        "font": {
         "color": "#371ea3"
        },
        "margin": {
         "b": 71,
         "r": 30,
         "t": 78
        },
        "shapes": [
         {
          "line": {
           "color": "#371ea3",
           "dash": "dot",
           "width": 1.5
          },
          "type": "line",
          "x0": 0.15800865800865793,
          "x1": 0.15800865800865793,
          "xref": "x",
          "y0": -1,
          "y1": 10,
          "yref": "y"
         }
        ],
        "template": {
         "data": {
          "scatter": [
           {
            "type": "scatter"
           }
          ]
         }
        },
        "title": {
         "text": "Variable Importance",
         "x": 0.15
        },
        "xaxis": {
         "anchor": "y",
         "automargin": true,
         "domain": [
          0,
          1
         ],
         "fixedrange": true,
         "gridwidth": 2,
         "range": [
          0.1195779220779221,
          0.21440476190476188
         ],
         "tickcolor": "white",
         "ticklen": 3,
         "ticks": "outside",
         "type": "linear",
         "zeroline": false
        },
        "yaxis": {
         "anchor": "x",
         "automargin": true,
         "autorange": true,
         "domain": [
          0,
          1
         ],
         "fixedrange": true,
         "gridwidth": 2,
         "range": [
          10.035483870967742,
          -1.0354838709677419
         ],
         "tickcolor": "white",
         "ticklen": 10,
         "ticks": "outside",
         "type": "category"
        }
       }
      },
      "image/png": "[encoded data removed]",
      "text/html": [
       "<div>                            <div id=\"5a114020-be37-488e-8220-e3333c832d08\" class=\"plotly-graph-div\" style=\"height:383.0px; width:100%;\"></div>            <script type=\"text/javascript\">                require([\"plotly\"], function(Plotly) {                    window.PLOTLYENV=window.PLOTLYENV || {};                                    if (document.getElementById(\"5a114020-be37-488e-8220-e3333c832d08\")) {                    Plotly.newPlot(                        \"5a114020-be37-488e-8220-e3333c832d08\",                        [{\"base\":0.15800865800865793,\"hoverinfo\":\"text\",\"hoverlabel\":{\"bgcolor\":\"rgba(0,0,0,0.8)\"},\"hovertext\":[\"Model: XGBoost with max_depth = 4 loss after<br>variable: thall_2 is permuted: 0.203<br>Drop-out loss change: +0.045\",\"Model: XGBoost with max_depth = 4 loss after<br>variable: oldpeak is permuted: 0.203<br>Drop-out loss change: +0.045\",\"Model: XGBoost with max_depth = 4 loss after<br>variable: caa_1 is permuted: 0.183<br>Drop-out loss change: +0.025\",\"Model: XGBoost with max_depth = 4 loss after<br>variable: thalachh is permuted: 0.179<br>Drop-out loss change: +0.021\",\"Model: XGBoost with max_depth = 4 loss after<br>variable: age is permuted: 0.177<br>Drop-out loss change: +0.019\",\"Model: XGBoost with max_depth = 4 loss after<br>variable: cp_2 is permuted: 0.177<br>Drop-out loss change: +0.019\",\"Model: XGBoost with max_depth = 4 loss after<br>variable: sex_1 is permuted: 0.175<br>Drop-out loss change: +0.017\",\"Model: XGBoost with max_depth = 4 loss after<br>variable: caa_2 is permuted: 0.174<br>Drop-out loss change: +0.016\",\"Model: XGBoost with max_depth = 4 loss after<br>variable: cp_3 is permuted: 0.171<br>Drop-out loss change: +0.013\",\"Model: XGBoost with max_depth = 4 loss after<br>variable: slp_1 is permuted: 0.164<br>Drop-out loss change: +0.006\"],\"marker\":{\"color\":\"#46bac2\"},\"orientation\":\"h\",\"showlegend\":false,\"text\":[\"+0.045\",\"+0.045\",\"+0.025\",\"+0.021\",\"+0.019\",\"+0.019\",\"+0.017\",\"+0.016\",\"+0.013\",\"+0.006\"],\"textposition\":\"outside\",\"x\":[0.0454545454545455,0.045346320346320385,0.0254329004329005,0.02077922077922084,0.019480519480519515,0.018939393939394006,0.01742424242424251,0.015909090909090956,0.012878787878787934,0.0057359307359308165],\"y\":[\"thall_2\",\"oldpeak\",\"caa_1\",\"thalachh\",\"age\",\"cp_2\",\"sex_1\",\"caa_2\",\"cp_3\",\"slp_1\"],\"type\":\"bar\",\"xaxis\":\"x\",\"yaxis\":\"y\"}],                        {\"template\":{\"data\":{\"scatter\":[{\"type\":\"scatter\"}]}},\"xaxis\":{\"anchor\":\"y\",\"domain\":[0.0,1.0],\"type\":\"linear\",\"gridwidth\":2,\"zeroline\":false,\"automargin\":true,\"ticks\":\"outside\",\"tickcolor\":\"white\",\"ticklen\":3,\"fixedrange\":true,\"range\":[0.1195779220779221,0.21440476190476188]},\"yaxis\":{\"anchor\":\"x\",\"domain\":[0.0,1.0],\"type\":\"category\",\"autorange\":\"reversed\",\"gridwidth\":2,\"automargin\":true,\"ticks\":\"outside\",\"tickcolor\":\"white\",\"ticklen\":10,\"fixedrange\":true},\"annotations\":[{\"font\":{\"size\":16},\"showarrow\":false,\"text\":\"XGBoost with max_depth = 4\",\"x\":0.5,\"xanchor\":\"center\",\"xref\":\"paper\",\"y\":1.0,\"yanchor\":\"bottom\",\"yref\":\"paper\"},{\"font\":{\"size\":16},\"showarrow\":false,\"text\":\"drop-out loss\",\"x\":0.5,\"xanchor\":\"center\",\"xref\":\"paper\",\"y\":0,\"yanchor\":\"top\",\"yref\":\"paper\",\"yshift\":-30}],\"shapes\":[{\"line\":{\"color\":\"#371ea3\",\"dash\":\"dot\",\"width\":1.5},\"type\":\"line\",\"x0\":0.15800865800865793,\"x1\":0.15800865800865793,\"xref\":\"x\",\"y0\":-1,\"y1\":10,\"yref\":\"y\"}],\"title\":{\"text\":\"Variable Importance\",\"x\":0.15},\"font\":{\"color\":\"#371ea3\"},\"margin\":{\"t\":78,\"b\":71,\"r\":30},\"height\":383.0},                        {\"responsive\": true}                    ).then(function(){\n",
       "                            \n",
       "var gd = document.getElementById('5a114020-be37-488e-8220-e3333c832d08');\n",
       "var x = new MutationObserver(function (mutations, observer) {{\n",
       "        var display = window.getComputedStyle(gd).display;\n",
       "        if (!display || display === 'none') {{\n",
       "            console.log([gd, 'removed!']);\n",
       "            Plotly.purge(gd);\n",
       "            observer.disconnect();\n",
       "        }}\n",
       "}});\n",
       "\n",
       "// Listen for the removal of the full notebook cells\n",
       "var notebookContainer = gd.closest('#notebook-container');\n",
       "if (notebookContainer) {{\n",
       "    x.observe(notebookContainer, {childList: true});\n",
       "}}\n",
       "\n",
       "// Listen for the clearing of the current output cell\n",
       "var outputEl = gd.closest('.output');\n",
       "if (outputEl) {{\n",
       "    x.observe(outputEl, {childList: true});\n",
       "}}\n",
       "\n",
       "                        })                };                });            </script>        </div>"
      ]
     },
     "metadata": {},
     "output_type": "display_data"
    }
   ],
   "source": [
    "pvi.plot(show=False)"
   ]
  },
  {
   "cell_type": "markdown",
   "metadata": {},
   "source": [
    "## 2. Train three more candidate models (different variable transformations, different model architectures, hyperparameters) and compare their rankings of important features using PVI. What are the differences? Why?"
   ]
  },
  {
   "cell_type": "code",
   "execution_count": 15,
   "metadata": {},
   "outputs": [],
   "source": [
    "xgboost_model_2 = xgboost.XGBClassifier(\n",
    "    n_estimators=200, \n",
    "    max_depth=6, \n",
    "    use_label_encoder=False, \n",
    "    eval_metric=\"logloss\"\n",
    ")"
   ]
  },
  {
   "cell_type": "code",
   "execution_count": 16,
   "metadata": {},
   "outputs": [
    {
     "data": {
      "text/html": [
       "<style>#sk-container-id-2 {color: black;background-color: white;}#sk-container-id-2 pre{padding: 0;}#sk-container-id-2 div.sk-toggleable {background-color: white;}#sk-container-id-2 label.sk-toggleable__label {cursor: pointer;display: block;width: 100%;margin-bottom: 0;padding: 0.3em;box-sizing: border-box;text-align: center;}#sk-container-id-2 label.sk-toggleable__label-arrow:before {content: \"▸\";float: left;margin-right: 0.25em;color: #696969;}#sk-container-id-2 label.sk-toggleable__label-arrow:hover:before {color: black;}#sk-container-id-2 div.sk-estimator:hover label.sk-toggleable__label-arrow:before {color: black;}#sk-container-id-2 div.sk-toggleable__content {max-height: 0;max-width: 0;overflow: hidden;text-align: left;background-color: #f0f8ff;}#sk-container-id-2 div.sk-toggleable__content pre {margin: 0.2em;color: black;border-radius: 0.25em;background-color: #f0f8ff;}#sk-container-id-2 input.sk-toggleable__control:checked~div.sk-toggleable__content {max-height: 200px;max-width: 100%;overflow: auto;}#sk-container-id-2 input.sk-toggleable__control:checked~label.sk-toggleable__label-arrow:before {content: \"▾\";}#sk-container-id-2 div.sk-estimator input.sk-toggleable__control:checked~label.sk-toggleable__label {background-color: #d4ebff;}#sk-container-id-2 div.sk-label input.sk-toggleable__control:checked~label.sk-toggleable__label {background-color: #d4ebff;}#sk-container-id-2 input.sk-hidden--visually {border: 0;clip: rect(1px 1px 1px 1px);clip: rect(1px, 1px, 1px, 1px);height: 1px;margin: -1px;overflow: hidden;padding: 0;position: absolute;width: 1px;}#sk-container-id-2 div.sk-estimator {font-family: monospace;background-color: #f0f8ff;border: 1px dotted black;border-radius: 0.25em;box-sizing: border-box;margin-bottom: 0.5em;}#sk-container-id-2 div.sk-estimator:hover {background-color: #d4ebff;}#sk-container-id-2 div.sk-parallel-item::after {content: \"\";width: 100%;border-bottom: 1px solid gray;flex-grow: 1;}#sk-container-id-2 div.sk-label:hover label.sk-toggleable__label {background-color: #d4ebff;}#sk-container-id-2 div.sk-serial::before {content: \"\";position: absolute;border-left: 1px solid gray;box-sizing: border-box;top: 0;bottom: 0;left: 50%;z-index: 0;}#sk-container-id-2 div.sk-serial {display: flex;flex-direction: column;align-items: center;background-color: white;padding-right: 0.2em;padding-left: 0.2em;position: relative;}#sk-container-id-2 div.sk-item {position: relative;z-index: 1;}#sk-container-id-2 div.sk-parallel {display: flex;align-items: stretch;justify-content: center;background-color: white;position: relative;}#sk-container-id-2 div.sk-item::before, #sk-container-id-2 div.sk-parallel-item::before {content: \"\";position: absolute;border-left: 1px solid gray;box-sizing: border-box;top: 0;bottom: 0;left: 50%;z-index: -1;}#sk-container-id-2 div.sk-parallel-item {display: flex;flex-direction: column;z-index: 1;position: relative;background-color: white;}#sk-container-id-2 div.sk-parallel-item:first-child::after {align-self: flex-end;width: 50%;}#sk-container-id-2 div.sk-parallel-item:last-child::after {align-self: flex-start;width: 50%;}#sk-container-id-2 div.sk-parallel-item:only-child::after {width: 0;}#sk-container-id-2 div.sk-dashed-wrapped {border: 1px dashed gray;margin: 0 0.4em 0.5em 0.4em;box-sizing: border-box;padding-bottom: 0.4em;background-color: white;}#sk-container-id-2 div.sk-label label {font-family: monospace;font-weight: bold;display: inline-block;line-height: 1.2em;}#sk-container-id-2 div.sk-label-container {text-align: center;}#sk-container-id-2 div.sk-container {/* jupyter's `normalize.less` sets `[hidden] { display: none; }` but bootstrap.min.css set `[hidden] { display: none !important; }` so we also need the `!important` here to be able to override the default hidden behavior on the sphinx rendered scikit-learn.org. See: https://github.com/scikit-learn/scikit-learn/issues/21755 */display: inline-block !important;position: relative;}#sk-container-id-2 div.sk-text-repr-fallback {display: none;}</style><div id=\"sk-container-id-2\" class=\"sk-top-container\"><div class=\"sk-text-repr-fallback\"><pre>XGBClassifier(base_score=0.5, booster=&#x27;gbtree&#x27;, callbacks=None,\n",
       "              colsample_bylevel=1, colsample_bynode=1, colsample_bytree=1,\n",
       "              early_stopping_rounds=None, enable_categorical=False,\n",
       "              eval_metric=&#x27;logloss&#x27;, gamma=0, gpu_id=-1,\n",
       "              grow_policy=&#x27;depthwise&#x27;, importance_type=None,\n",
       "              interaction_constraints=&#x27;&#x27;, learning_rate=0.300000012,\n",
       "              max_bin=256, max_cat_to_onehot=4, max_delta_step=0, max_depth=6,\n",
       "              max_leaves=0, min_child_weight=1, missing=nan,\n",
       "              monotone_constraints=&#x27;()&#x27;, n_estimators=200, n_jobs=0,\n",
       "              num_parallel_tree=1, predictor=&#x27;auto&#x27;, random_state=0,\n",
       "              reg_alpha=0, reg_lambda=1, ...)</pre><b>In a Jupyter environment, please rerun this cell to show the HTML representation or trust the notebook. <br />On GitHub, the HTML representation is unable to render, please try loading this page with nbviewer.org.</b></div><div class=\"sk-container\" hidden><div class=\"sk-item\"><div class=\"sk-estimator sk-toggleable\"><input class=\"sk-toggleable__control sk-hidden--visually\" id=\"sk-estimator-id-2\" type=\"checkbox\" checked><label for=\"sk-estimator-id-2\" class=\"sk-toggleable__label sk-toggleable__label-arrow\">XGBClassifier</label><div class=\"sk-toggleable__content\"><pre>XGBClassifier(base_score=0.5, booster=&#x27;gbtree&#x27;, callbacks=None,\n",
       "              colsample_bylevel=1, colsample_bynode=1, colsample_bytree=1,\n",
       "              early_stopping_rounds=None, enable_categorical=False,\n",
       "              eval_metric=&#x27;logloss&#x27;, gamma=0, gpu_id=-1,\n",
       "              grow_policy=&#x27;depthwise&#x27;, importance_type=None,\n",
       "              interaction_constraints=&#x27;&#x27;, learning_rate=0.300000012,\n",
       "              max_bin=256, max_cat_to_onehot=4, max_delta_step=0, max_depth=6,\n",
       "              max_leaves=0, min_child_weight=1, missing=nan,\n",
       "              monotone_constraints=&#x27;()&#x27;, n_estimators=200, n_jobs=0,\n",
       "              num_parallel_tree=1, predictor=&#x27;auto&#x27;, random_state=0,\n",
       "              reg_alpha=0, reg_lambda=1, ...)</pre></div></div></div></div></div>"
      ],
      "text/plain": [
       "XGBClassifier(base_score=0.5, booster='gbtree', callbacks=None,\n",
       "              colsample_bylevel=1, colsample_bynode=1, colsample_bytree=1,\n",
       "              early_stopping_rounds=None, enable_categorical=False,\n",
       "              eval_metric='logloss', gamma=0, gpu_id=-1,\n",
       "              grow_policy='depthwise', importance_type=None,\n",
       "              interaction_constraints='', learning_rate=0.300000012,\n",
       "              max_bin=256, max_cat_to_onehot=4, max_delta_step=0, max_depth=6,\n",
       "              max_leaves=0, min_child_weight=1, missing=nan,\n",
       "              monotone_constraints='()', n_estimators=200, n_jobs=0,\n",
       "              num_parallel_tree=1, predictor='auto', random_state=0,\n",
       "              reg_alpha=0, reg_lambda=1, ...)"
      ]
     },
     "execution_count": 16,
     "metadata": {},
     "output_type": "execute_result"
    }
   ],
   "source": [
    "xgboost_model_2.fit(X_train, y_train)"
   ]
  },
  {
   "cell_type": "code",
   "execution_count": 17,
   "metadata": {},
   "outputs": [
    {
     "name": "stdout",
     "output_type": "stream",
     "text": [
      "Preparation of a new explainer is initiated\n",
      "\n",
      "  -> data              : 61 rows 22 cols\n",
      "  -> target variable   : Parameter 'y' was a pandas.Series. Converted to a numpy.ndarray.\n",
      "  -> target variable   : 61 values\n",
      "  -> model_class       : xgboost.sklearn.XGBClassifier (default)\n",
      "  -> label             : Not specified, model's class short name will be used. (default)\n",
      "  -> predict function  : <function pf_xgboost_classifier_categorical at 0x7ff39634ce50> will be used\n",
      "  -> predict function  : Accepts only pandas.DataFrame, numpy.ndarray causes problems.\n",
      "  -> predicted values  : min = 0.000117, mean = 0.632, max = 1.0\n",
      "  -> model type        : classification will be used (default)\n",
      "  -> residual function : difference between y and yhat (default)\n",
      "  -> residuals         : min = -0.999, mean = -0.091, max = 0.961\n",
      "  -> model_info        : package xgboost\n",
      "\n",
      "A new explainer has been created!\n"
     ]
    }
   ],
   "source": [
    "explainer_2 = dx.Explainer(xgboost_model_2, X_test, y_test, predict_function=pf_xgboost_classifier_categorical)"
   ]
  },
  {
   "cell_type": "code",
   "execution_count": 18,
   "metadata": {},
   "outputs": [],
   "source": [
    "pvi_2 = explainer_2.model_parts(random_state=0, label=\"XGBoost with max_depth = 6\")"
   ]
  },
  {
   "cell_type": "code",
   "execution_count": 19,
   "metadata": {},
   "outputs": [
    {
     "data": {
      "text/html": [
       "<div>\n",
       "<style scoped>\n",
       "    .dataframe tbody tr th:only-of-type {\n",
       "        vertical-align: middle;\n",
       "    }\n",
       "\n",
       "    .dataframe tbody tr th {\n",
       "        vertical-align: top;\n",
       "    }\n",
       "\n",
       "    .dataframe thead th {\n",
       "        text-align: right;\n",
       "    }\n",
       "</style>\n",
       "<table border=\"1\" class=\"dataframe\">\n",
       "  <thead>\n",
       "    <tr style=\"text-align: right;\">\n",
       "      <th></th>\n",
       "      <th>recall</th>\n",
       "      <th>precision</th>\n",
       "      <th>f1</th>\n",
       "      <th>accuracy</th>\n",
       "      <th>auc</th>\n",
       "    </tr>\n",
       "  </thead>\n",
       "  <tbody>\n",
       "    <tr>\n",
       "      <th>XGBClassifier</th>\n",
       "      <td>0.878788</td>\n",
       "      <td>0.725</td>\n",
       "      <td>0.794521</td>\n",
       "      <td>0.754098</td>\n",
       "      <td>0.841991</td>\n",
       "    </tr>\n",
       "  </tbody>\n",
       "</table>\n",
       "</div>"
      ],
      "text/plain": [
       "<dalex.model_explanations._model_performance.object.ModelPerformance at 0x7ff38e5f3f40>"
      ]
     },
     "execution_count": 19,
     "metadata": {},
     "output_type": "execute_result"
    }
   ],
   "source": [
    "explainer.model_performance()"
   ]
  },
  {
   "cell_type": "code",
   "execution_count": 20,
   "metadata": {},
   "outputs": [
    {
     "data": {
      "text/html": [
       "<div>\n",
       "<style scoped>\n",
       "    .dataframe tbody tr th:only-of-type {\n",
       "        vertical-align: middle;\n",
       "    }\n",
       "\n",
       "    .dataframe tbody tr th {\n",
       "        vertical-align: top;\n",
       "    }\n",
       "\n",
       "    .dataframe thead th {\n",
       "        text-align: right;\n",
       "    }\n",
       "</style>\n",
       "<table border=\"1\" class=\"dataframe\">\n",
       "  <thead>\n",
       "    <tr style=\"text-align: right;\">\n",
       "      <th></th>\n",
       "      <th>recall</th>\n",
       "      <th>precision</th>\n",
       "      <th>f1</th>\n",
       "      <th>accuracy</th>\n",
       "      <th>auc</th>\n",
       "    </tr>\n",
       "  </thead>\n",
       "  <tbody>\n",
       "    <tr>\n",
       "      <th>XGBClassifier</th>\n",
       "      <td>0.878788</td>\n",
       "      <td>0.725</td>\n",
       "      <td>0.794521</td>\n",
       "      <td>0.754098</td>\n",
       "      <td>0.841991</td>\n",
       "    </tr>\n",
       "  </tbody>\n",
       "</table>\n",
       "</div>"
      ],
      "text/plain": [
       "<dalex.model_explanations._model_performance.object.ModelPerformance at 0x7ff38cd97ee0>"
      ]
     },
     "execution_count": 20,
     "metadata": {},
     "output_type": "execute_result"
    }
   ],
   "source": [
    "explainer_2.model_performance()"
   ]
  },
  {
   "cell_type": "code",
   "execution_count": 58,
   "metadata": {},
   "outputs": [
    {
     "data": {
      "application/vnd.plotly.v1+json": {
       "config": {
        "plotlyServerURL": "https://plot.ly"
       },
       "data": [
        {
         "base": 0.15800865800865802,
         "hoverinfo": "text",
         "hoverlabel": {
          "bgcolor": "rgba(0, 0, 0, 0.8)"
         },
         "hovertext": [
          "Model: XGBoost with max_depth = 6 loss after<br>variable: oldpeak is permuted: 0.213<br>Drop-out loss change: +0.055",
          "Model: XGBoost with max_depth = 6 loss after<br>variable: thall_2 is permuted: 0.21<br>Drop-out loss change: +0.052",
          "Model: XGBoost with max_depth = 6 loss after<br>variable: thalachh is permuted: 0.186<br>Drop-out loss change: +0.028",
          "Model: XGBoost with max_depth = 6 loss after<br>variable: caa_1 is permuted: 0.185<br>Drop-out loss change: +0.027",
          "Model: XGBoost with max_depth = 6 loss after<br>variable: sex_1 is permuted: 0.184<br>Drop-out loss change: +0.026",
          "Model: XGBoost with max_depth = 6 loss after<br>variable: age is permuted: 0.182<br>Drop-out loss change: +0.024",
          "Model: XGBoost with max_depth = 6 loss after<br>variable: slp_1 is permuted: 0.171<br>Drop-out loss change: +0.013",
          "Model: XGBoost with max_depth = 6 loss after<br>variable: cp_3 is permuted: 0.171<br>Drop-out loss change: +0.013",
          "Model: XGBoost with max_depth = 6 loss after<br>variable: caa_2 is permuted: 0.168<br>Drop-out loss change: +0.01",
          "Model: XGBoost with max_depth = 6 loss after<br>variable: exng_1 is permuted: 0.168<br>Drop-out loss change: +0.01"
         ],
         "marker": {
          "color": "#46bac2"
         },
         "orientation": "h",
         "showlegend": false,
         "text": [
          "+0.055",
          "+0.052",
          "+0.028",
          "+0.027",
          "+0.026",
          "+0.024",
          "+0.013",
          "+0.013",
          "+0.01",
          "+0.01"
         ],
         "textposition": "outside",
         "type": "bar",
         "x": [
          0.055411255411255356,
          0.0518398268398268,
          0.028246753246753242,
          0.02673160173160169,
          0.02575757575757573,
          0.024134199134199175,
          0.012770562770562766,
          0.012770562770562738,
          0.009956709956709942,
          0.009740259740259744
         ],
         "xaxis": "x",
         "y": [
          "oldpeak",
          "thall_2",
          "thalachh",
          "caa_1",
          "sex_1",
          "age",
          "slp_1",
          "cp_3",
          "caa_2",
          "exng_1"
         ],
         "yaxis": "y"
        }
       ],
       "layout": {
        "annotations": [
         {
          "font": {
           "size": 16
          },
          "showarrow": false,
          "text": "XGBoost with max_depth = 6",
          "x": 0.5,
          "xanchor": "center",
          "xref": "paper",
          "y": 1,
          "yanchor": "bottom",
          "yref": "paper"
         },
         {
          "font": {
           "size": 16
          },
          "showarrow": false,
          "text": "drop-out loss",
          "x": 0.5,
          "xanchor": "center",
          "xref": "paper",
          "y": 0,
          "yanchor": "top",
          "yref": "paper",
          "yshift": -30
         }
        ],
        "autosize": true,
        "font": {
         "color": "#371ea3"
        },
        "margin": {
         "b": 71,
         "r": 30,
         "t": 78
        },
        "shapes": [
         {
          "line": {
           "color": "#371ea3",
           "dash": "dot",
           "width": 1.5
          },
          "type": "line",
          "x0": 0.15800865800865802,
          "x1": 0.15800865800865802,
          "xref": "x",
          "y0": -1,
          "y1": 10,
          "yref": "y"
         }
        ],
        "template": {
         "data": {
          "scatter": [
           {
            "type": "scatter"
           }
          ]
         }
        },
        "title": {
         "text": "Variable Importance",
         "x": 0.15
        },
        "xaxis": {
         "anchor": "y",
         "automargin": true,
         "domain": [
          0,
          1
         ],
         "fixedrange": true,
         "gridwidth": 2,
         "range": [
          0.11310606060606054,
          0.22650432900432896
         ],
         "tickcolor": "white",
         "ticklen": 3,
         "ticks": "outside",
         "type": "linear",
         "zeroline": false
        },
        "yaxis": {
         "anchor": "x",
         "automargin": true,
         "autorange": true,
         "domain": [
          0,
          1
         ],
         "fixedrange": true,
         "gridwidth": 2,
         "range": [
          10.035483870967742,
          -1.0354838709677419
         ],
         "tickcolor": "white",
         "ticklen": 10,
         "ticks": "outside",
         "type": "category"
        }
       }
      },
      "image/png": "[encoded data removed]",
      "text/html": [
       "<div>                            <div id=\"9864dca9-febd-4df5-ae06-eb7745fbd075\" class=\"plotly-graph-div\" style=\"height:383.0px; width:100%;\"></div>            <script type=\"text/javascript\">                require([\"plotly\"], function(Plotly) {                    window.PLOTLYENV=window.PLOTLYENV || {};                                    if (document.getElementById(\"9864dca9-febd-4df5-ae06-eb7745fbd075\")) {                    Plotly.newPlot(                        \"9864dca9-febd-4df5-ae06-eb7745fbd075\",                        [{\"base\":0.15800865800865802,\"hoverinfo\":\"text\",\"hoverlabel\":{\"bgcolor\":\"rgba(0,0,0,0.8)\"},\"hovertext\":[\"Model: XGBoost with max_depth = 6 loss after<br>variable: oldpeak is permuted: 0.213<br>Drop-out loss change: +0.055\",\"Model: XGBoost with max_depth = 6 loss after<br>variable: thall_2 is permuted: 0.21<br>Drop-out loss change: +0.052\",\"Model: XGBoost with max_depth = 6 loss after<br>variable: thalachh is permuted: 0.186<br>Drop-out loss change: +0.028\",\"Model: XGBoost with max_depth = 6 loss after<br>variable: caa_1 is permuted: 0.185<br>Drop-out loss change: +0.027\",\"Model: XGBoost with max_depth = 6 loss after<br>variable: sex_1 is permuted: 0.184<br>Drop-out loss change: +0.026\",\"Model: XGBoost with max_depth = 6 loss after<br>variable: age is permuted: 0.182<br>Drop-out loss change: +0.024\",\"Model: XGBoost with max_depth = 6 loss after<br>variable: slp_1 is permuted: 0.171<br>Drop-out loss change: +0.013\",\"Model: XGBoost with max_depth = 6 loss after<br>variable: cp_3 is permuted: 0.171<br>Drop-out loss change: +0.013\",\"Model: XGBoost with max_depth = 6 loss after<br>variable: caa_2 is permuted: 0.168<br>Drop-out loss change: +0.01\",\"Model: XGBoost with max_depth = 6 loss after<br>variable: exng_1 is permuted: 0.168<br>Drop-out loss change: +0.01\"],\"marker\":{\"color\":\"#46bac2\"},\"orientation\":\"h\",\"showlegend\":false,\"text\":[\"+0.055\",\"+0.052\",\"+0.028\",\"+0.027\",\"+0.026\",\"+0.024\",\"+0.013\",\"+0.013\",\"+0.01\",\"+0.01\"],\"textposition\":\"outside\",\"x\":[0.055411255411255356,0.0518398268398268,0.028246753246753242,0.02673160173160169,0.02575757575757573,0.024134199134199175,0.012770562770562766,0.012770562770562738,0.009956709956709942,0.009740259740259744],\"y\":[\"oldpeak\",\"thall_2\",\"thalachh\",\"caa_1\",\"sex_1\",\"age\",\"slp_1\",\"cp_3\",\"caa_2\",\"exng_1\"],\"type\":\"bar\",\"xaxis\":\"x\",\"yaxis\":\"y\"}],                        {\"template\":{\"data\":{\"scatter\":[{\"type\":\"scatter\"}]}},\"xaxis\":{\"anchor\":\"y\",\"domain\":[0.0,1.0],\"type\":\"linear\",\"gridwidth\":2,\"zeroline\":false,\"automargin\":true,\"ticks\":\"outside\",\"tickcolor\":\"white\",\"ticklen\":3,\"fixedrange\":true,\"range\":[0.11310606060606054,0.22650432900432896]},\"yaxis\":{\"anchor\":\"x\",\"domain\":[0.0,1.0],\"type\":\"category\",\"autorange\":\"reversed\",\"gridwidth\":2,\"automargin\":true,\"ticks\":\"outside\",\"tickcolor\":\"white\",\"ticklen\":10,\"fixedrange\":true},\"annotations\":[{\"font\":{\"size\":16},\"showarrow\":false,\"text\":\"XGBoost with max_depth = 6\",\"x\":0.5,\"xanchor\":\"center\",\"xref\":\"paper\",\"y\":1.0,\"yanchor\":\"bottom\",\"yref\":\"paper\"},{\"font\":{\"size\":16},\"showarrow\":false,\"text\":\"drop-out loss\",\"x\":0.5,\"xanchor\":\"center\",\"xref\":\"paper\",\"y\":0,\"yanchor\":\"top\",\"yref\":\"paper\",\"yshift\":-30}],\"shapes\":[{\"line\":{\"color\":\"#371ea3\",\"dash\":\"dot\",\"width\":1.5},\"type\":\"line\",\"x0\":0.15800865800865802,\"x1\":0.15800865800865802,\"xref\":\"x\",\"y0\":-1,\"y1\":10,\"yref\":\"y\"}],\"title\":{\"text\":\"Variable Importance\",\"x\":0.15},\"font\":{\"color\":\"#371ea3\"},\"margin\":{\"t\":78,\"b\":71,\"r\":30},\"height\":383.0},                        {\"responsive\": true}                    ).then(function(){\n",
       "                            \n",
       "var gd = document.getElementById('9864dca9-febd-4df5-ae06-eb7745fbd075');\n",
       "var x = new MutationObserver(function (mutations, observer) {{\n",
       "        var display = window.getComputedStyle(gd).display;\n",
       "        if (!display || display === 'none') {{\n",
       "            console.log([gd, 'removed!']);\n",
       "            Plotly.purge(gd);\n",
       "            observer.disconnect();\n",
       "        }}\n",
       "}});\n",
       "\n",
       "// Listen for the removal of the full notebook cells\n",
       "var notebookContainer = gd.closest('#notebook-container');\n",
       "if (notebookContainer) {{\n",
       "    x.observe(notebookContainer, {childList: true});\n",
       "}}\n",
       "\n",
       "// Listen for the clearing of the current output cell\n",
       "var outputEl = gd.closest('.output');\n",
       "if (outputEl) {{\n",
       "    x.observe(outputEl, {childList: true});\n",
       "}}\n",
       "\n",
       "                        })                };                });            </script>        </div>"
      ]
     },
     "metadata": {},
     "output_type": "display_data"
    }
   ],
   "source": [
    "pvi_2.plot(show=False)"
   ]
  },
  {
   "cell_type": "code",
   "execution_count": 22,
   "metadata": {},
   "outputs": [],
   "source": [
    "xgboost_model_3 = xgboost.XGBClassifier(\n",
    "    n_estimators=200, \n",
    "    max_depth=2, \n",
    "    use_label_encoder=False, \n",
    "    eval_metric=\"logloss\"\n",
    ")"
   ]
  },
  {
   "cell_type": "code",
   "execution_count": 23,
   "metadata": {},
   "outputs": [
    {
     "data": {
      "text/html": [
       "<style>#sk-container-id-3 {color: black;background-color: white;}#sk-container-id-3 pre{padding: 0;}#sk-container-id-3 div.sk-toggleable {background-color: white;}#sk-container-id-3 label.sk-toggleable__label {cursor: pointer;display: block;width: 100%;margin-bottom: 0;padding: 0.3em;box-sizing: border-box;text-align: center;}#sk-container-id-3 label.sk-toggleable__label-arrow:before {content: \"▸\";float: left;margin-right: 0.25em;color: #696969;}#sk-container-id-3 label.sk-toggleable__label-arrow:hover:before {color: black;}#sk-container-id-3 div.sk-estimator:hover label.sk-toggleable__label-arrow:before {color: black;}#sk-container-id-3 div.sk-toggleable__content {max-height: 0;max-width: 0;overflow: hidden;text-align: left;background-color: #f0f8ff;}#sk-container-id-3 div.sk-toggleable__content pre {margin: 0.2em;color: black;border-radius: 0.25em;background-color: #f0f8ff;}#sk-container-id-3 input.sk-toggleable__control:checked~div.sk-toggleable__content {max-height: 200px;max-width: 100%;overflow: auto;}#sk-container-id-3 input.sk-toggleable__control:checked~label.sk-toggleable__label-arrow:before {content: \"▾\";}#sk-container-id-3 div.sk-estimator input.sk-toggleable__control:checked~label.sk-toggleable__label {background-color: #d4ebff;}#sk-container-id-3 div.sk-label input.sk-toggleable__control:checked~label.sk-toggleable__label {background-color: #d4ebff;}#sk-container-id-3 input.sk-hidden--visually {border: 0;clip: rect(1px 1px 1px 1px);clip: rect(1px, 1px, 1px, 1px);height: 1px;margin: -1px;overflow: hidden;padding: 0;position: absolute;width: 1px;}#sk-container-id-3 div.sk-estimator {font-family: monospace;background-color: #f0f8ff;border: 1px dotted black;border-radius: 0.25em;box-sizing: border-box;margin-bottom: 0.5em;}#sk-container-id-3 div.sk-estimator:hover {background-color: #d4ebff;}#sk-container-id-3 div.sk-parallel-item::after {content: \"\";width: 100%;border-bottom: 1px solid gray;flex-grow: 1;}#sk-container-id-3 div.sk-label:hover label.sk-toggleable__label {background-color: #d4ebff;}#sk-container-id-3 div.sk-serial::before {content: \"\";position: absolute;border-left: 1px solid gray;box-sizing: border-box;top: 0;bottom: 0;left: 50%;z-index: 0;}#sk-container-id-3 div.sk-serial {display: flex;flex-direction: column;align-items: center;background-color: white;padding-right: 0.2em;padding-left: 0.2em;position: relative;}#sk-container-id-3 div.sk-item {position: relative;z-index: 1;}#sk-container-id-3 div.sk-parallel {display: flex;align-items: stretch;justify-content: center;background-color: white;position: relative;}#sk-container-id-3 div.sk-item::before, #sk-container-id-3 div.sk-parallel-item::before {content: \"\";position: absolute;border-left: 1px solid gray;box-sizing: border-box;top: 0;bottom: 0;left: 50%;z-index: -1;}#sk-container-id-3 div.sk-parallel-item {display: flex;flex-direction: column;z-index: 1;position: relative;background-color: white;}#sk-container-id-3 div.sk-parallel-item:first-child::after {align-self: flex-end;width: 50%;}#sk-container-id-3 div.sk-parallel-item:last-child::after {align-self: flex-start;width: 50%;}#sk-container-id-3 div.sk-parallel-item:only-child::after {width: 0;}#sk-container-id-3 div.sk-dashed-wrapped {border: 1px dashed gray;margin: 0 0.4em 0.5em 0.4em;box-sizing: border-box;padding-bottom: 0.4em;background-color: white;}#sk-container-id-3 div.sk-label label {font-family: monospace;font-weight: bold;display: inline-block;line-height: 1.2em;}#sk-container-id-3 div.sk-label-container {text-align: center;}#sk-container-id-3 div.sk-container {/* jupyter's `normalize.less` sets `[hidden] { display: none; }` but bootstrap.min.css set `[hidden] { display: none !important; }` so we also need the `!important` here to be able to override the default hidden behavior on the sphinx rendered scikit-learn.org. See: https://github.com/scikit-learn/scikit-learn/issues/21755 */display: inline-block !important;position: relative;}#sk-container-id-3 div.sk-text-repr-fallback {display: none;}</style><div id=\"sk-container-id-3\" class=\"sk-top-container\"><div class=\"sk-text-repr-fallback\"><pre>XGBClassifier(base_score=0.5, booster=&#x27;gbtree&#x27;, callbacks=None,\n",
       "              colsample_bylevel=1, colsample_bynode=1, colsample_bytree=1,\n",
       "              early_stopping_rounds=None, enable_categorical=False,\n",
       "              eval_metric=&#x27;logloss&#x27;, gamma=0, gpu_id=-1,\n",
       "              grow_policy=&#x27;depthwise&#x27;, importance_type=None,\n",
       "              interaction_constraints=&#x27;&#x27;, learning_rate=0.300000012,\n",
       "              max_bin=256, max_cat_to_onehot=4, max_delta_step=0, max_depth=2,\n",
       "              max_leaves=0, min_child_weight=1, missing=nan,\n",
       "              monotone_constraints=&#x27;()&#x27;, n_estimators=200, n_jobs=0,\n",
       "              num_parallel_tree=1, predictor=&#x27;auto&#x27;, random_state=0,\n",
       "              reg_alpha=0, reg_lambda=1, ...)</pre><b>In a Jupyter environment, please rerun this cell to show the HTML representation or trust the notebook. <br />On GitHub, the HTML representation is unable to render, please try loading this page with nbviewer.org.</b></div><div class=\"sk-container\" hidden><div class=\"sk-item\"><div class=\"sk-estimator sk-toggleable\"><input class=\"sk-toggleable__control sk-hidden--visually\" id=\"sk-estimator-id-3\" type=\"checkbox\" checked><label for=\"sk-estimator-id-3\" class=\"sk-toggleable__label sk-toggleable__label-arrow\">XGBClassifier</label><div class=\"sk-toggleable__content\"><pre>XGBClassifier(base_score=0.5, booster=&#x27;gbtree&#x27;, callbacks=None,\n",
       "              colsample_bylevel=1, colsample_bynode=1, colsample_bytree=1,\n",
       "              early_stopping_rounds=None, enable_categorical=False,\n",
       "              eval_metric=&#x27;logloss&#x27;, gamma=0, gpu_id=-1,\n",
       "              grow_policy=&#x27;depthwise&#x27;, importance_type=None,\n",
       "              interaction_constraints=&#x27;&#x27;, learning_rate=0.300000012,\n",
       "              max_bin=256, max_cat_to_onehot=4, max_delta_step=0, max_depth=2,\n",
       "              max_leaves=0, min_child_weight=1, missing=nan,\n",
       "              monotone_constraints=&#x27;()&#x27;, n_estimators=200, n_jobs=0,\n",
       "              num_parallel_tree=1, predictor=&#x27;auto&#x27;, random_state=0,\n",
       "              reg_alpha=0, reg_lambda=1, ...)</pre></div></div></div></div></div>"
      ],
      "text/plain": [
       "XGBClassifier(base_score=0.5, booster='gbtree', callbacks=None,\n",
       "              colsample_bylevel=1, colsample_bynode=1, colsample_bytree=1,\n",
       "              early_stopping_rounds=None, enable_categorical=False,\n",
       "              eval_metric='logloss', gamma=0, gpu_id=-1,\n",
       "              grow_policy='depthwise', importance_type=None,\n",
       "              interaction_constraints='', learning_rate=0.300000012,\n",
       "              max_bin=256, max_cat_to_onehot=4, max_delta_step=0, max_depth=2,\n",
       "              max_leaves=0, min_child_weight=1, missing=nan,\n",
       "              monotone_constraints='()', n_estimators=200, n_jobs=0,\n",
       "              num_parallel_tree=1, predictor='auto', random_state=0,\n",
       "              reg_alpha=0, reg_lambda=1, ...)"
      ]
     },
     "execution_count": 23,
     "metadata": {},
     "output_type": "execute_result"
    }
   ],
   "source": [
    "xgboost_model_3.fit(X_train, y_train)"
   ]
  },
  {
   "cell_type": "code",
   "execution_count": 24,
   "metadata": {},
   "outputs": [
    {
     "name": "stdout",
     "output_type": "stream",
     "text": [
      "Preparation of a new explainer is initiated\n",
      "\n",
      "  -> data              : 61 rows 22 cols\n",
      "  -> target variable   : Parameter 'y' was a pandas.Series. Converted to a numpy.ndarray.\n",
      "  -> target variable   : 61 values\n",
      "  -> model_class       : xgboost.sklearn.XGBClassifier (default)\n",
      "  -> label             : Not specified, model's class short name will be used. (default)\n",
      "  -> predict function  : <function pf_xgboost_classifier_categorical at 0x7ff39634ce50> will be used\n",
      "  -> predict function  : Accepts only pandas.DataFrame, numpy.ndarray causes problems.\n",
      "  -> predicted values  : min = 5.55e-05, mean = 0.599, max = 1.0\n",
      "  -> model type        : classification will be used (default)\n",
      "  -> residual function : difference between y and yhat (default)\n",
      "  -> residuals         : min = -0.996, mean = -0.0577, max = 0.964\n",
      "  -> model_info        : package xgboost\n",
      "\n",
      "A new explainer has been created!\n"
     ]
    }
   ],
   "source": [
    "explainer_3 = dx.Explainer(xgboost_model_3, X_test, y_test, predict_function=pf_xgboost_classifier_categorical)"
   ]
  },
  {
   "cell_type": "code",
   "execution_count": 25,
   "metadata": {},
   "outputs": [
    {
     "data": {
      "text/html": [
       "<div>\n",
       "<style scoped>\n",
       "    .dataframe tbody tr th:only-of-type {\n",
       "        vertical-align: middle;\n",
       "    }\n",
       "\n",
       "    .dataframe tbody tr th {\n",
       "        vertical-align: top;\n",
       "    }\n",
       "\n",
       "    .dataframe thead th {\n",
       "        text-align: right;\n",
       "    }\n",
       "</style>\n",
       "<table border=\"1\" class=\"dataframe\">\n",
       "  <thead>\n",
       "    <tr style=\"text-align: right;\">\n",
       "      <th></th>\n",
       "      <th>recall</th>\n",
       "      <th>precision</th>\n",
       "      <th>f1</th>\n",
       "      <th>accuracy</th>\n",
       "      <th>auc</th>\n",
       "    </tr>\n",
       "  </thead>\n",
       "  <tbody>\n",
       "    <tr>\n",
       "      <th>XGBClassifier</th>\n",
       "      <td>0.878788</td>\n",
       "      <td>0.763158</td>\n",
       "      <td>0.816901</td>\n",
       "      <td>0.786885</td>\n",
       "      <td>0.829004</td>\n",
       "    </tr>\n",
       "  </tbody>\n",
       "</table>\n",
       "</div>"
      ],
      "text/plain": [
       "<dalex.model_explanations._model_performance.object.ModelPerformance at 0x7ff38cdbc520>"
      ]
     },
     "execution_count": 25,
     "metadata": {},
     "output_type": "execute_result"
    }
   ],
   "source": [
    "explainer_3.model_performance()"
   ]
  },
  {
   "cell_type": "code",
   "execution_count": 26,
   "metadata": {},
   "outputs": [],
   "source": [
    "pvi_3 = explainer_3.model_parts(random_state=0, label=\"XGBoost with max_depth = 2\")"
   ]
  },
  {
   "cell_type": "code",
   "execution_count": 57,
   "metadata": {},
   "outputs": [
    {
     "data": {
      "application/vnd.plotly.v1+json": {
       "config": {
        "displaylogo": false,
        "modeBarButtonsToRemove": [
         "sendDataToCloud",
         "lasso2d",
         "autoScale2d",
         "select2d",
         "zoom2d",
         "pan2d",
         "zoomIn2d",
         "zoomOut2d",
         "resetScale2d",
         "toggleSpikelines",
         "hoverCompareCartesian",
         "hoverClosestCartesian"
        ],
        "plotlyServerURL": "https://plot.ly",
        "staticPlot": false,
        "toImageButtonOptions": {
         "height": null,
         "width": null
        }
       },
       "data": [
        {
         "base": 0.17099567099567103,
         "hoverinfo": "text",
         "hoverlabel": {
          "bgcolor": "rgba(0, 0, 0, 0.8)"
         },
         "hovertext": [
          "Model: XGBoost with max_depth = 2 loss after<br>variable: caa_1 is permuted: 0.207<br>Drop-out loss change: +0.036",
          "Model: XGBoost with max_depth = 2 loss after<br>variable: caa_2 is permuted: 0.205<br>Drop-out loss change: +0.034",
          "Model: XGBoost with max_depth = 2 loss after<br>variable: thall_2 is permuted: 0.197<br>Drop-out loss change: +0.026",
          "Model: XGBoost with max_depth = 2 loss after<br>variable: oldpeak is permuted: 0.196<br>Drop-out loss change: +0.025",
          "Model: XGBoost with max_depth = 2 loss after<br>variable: sex_1 is permuted: 0.191<br>Drop-out loss change: +0.02",
          "Model: XGBoost with max_depth = 2 loss after<br>variable: thalachh is permuted: 0.189<br>Drop-out loss change: +0.018",
          "Model: XGBoost with max_depth = 2 loss after<br>variable: age is permuted: 0.185<br>Drop-out loss change: +0.015",
          "Model: XGBoost with max_depth = 2 loss after<br>variable: cp_2 is permuted: 0.183<br>Drop-out loss change: +0.012",
          "Model: XGBoost with max_depth = 2 loss after<br>variable: cp_1 is permuted: 0.182<br>Drop-out loss change: +0.011",
          "Model: XGBoost with max_depth = 2 loss after<br>variable: cp_3 is permuted: 0.181<br>Drop-out loss change: +0.01"
         ],
         "marker": {
          "color": "#46bac2"
         },
         "orientation": "h",
         "showlegend": false,
         "text": [
          "+0.036",
          "+0.034",
          "+0.026",
          "+0.025",
          "+0.02",
          "+0.018",
          "+0.015",
          "+0.012",
          "+0.011",
          "+0.01"
         ],
         "textposition": "outside",
         "type": "bar",
         "x": [
          0.03647186147186146,
          0.033549783549783496,
          0.0259740259740259,
          0.024891774891774854,
          0.02045454545454542,
          0.01839826839826833,
          0.014502164502164433,
          0.011688311688311637,
          0.01136363636363627,
          0.010173160173160112
         ],
         "xaxis": "x",
         "y": [
          "caa_1",
          "caa_2",
          "thall_2",
          "oldpeak",
          "sex_1",
          "thalachh",
          "age",
          "cp_2",
          "cp_1",
          "cp_3"
         ],
         "yaxis": "y"
        }
       ],
       "layout": {
        "annotations": [
         {
          "font": {
           "size": 16
          },
          "showarrow": false,
          "text": "XGBoost with max_depth = 2",
          "x": 0.5,
          "xanchor": "center",
          "xref": "paper",
          "y": 1,
          "yanchor": "bottom",
          "yref": "paper"
         },
         {
          "font": {
           "size": 16
          },
          "showarrow": false,
          "text": "drop-out loss",
          "x": 0.5,
          "xanchor": "center",
          "xref": "paper",
          "y": 0,
          "yanchor": "top",
          "yref": "paper",
          "yshift": -30
         }
        ],
        "autosize": true,
        "font": {
         "color": "#371ea3"
        },
        "margin": {
         "b": 71,
         "r": 30,
         "t": 78
        },
        "shapes": [
         {
          "line": {
           "color": "#371ea3",
           "dash": "dot",
           "width": 1.5
          },
          "type": "line",
          "x0": 0.17099567099567103,
          "x1": 0.17099567099567103,
          "xref": "x",
          "y0": -1,
          "y1": 10,
          "yref": "y"
         }
        ],
        "template": {
         "data": {
          "scatter": [
           {
            "type": "scatter"
           }
          ]
         }
        },
        "title": {
         "text": "Variable Importance",
         "x": 0.15
        },
        "xaxis": {
         "anchor": "y",
         "automargin": true,
         "domain": [
          0,
          1
         ],
         "fixedrange": true,
         "gridwidth": 2,
         "range": [
          0.13938852813852814,
          0.21634740259740262
         ],
         "tickcolor": "white",
         "ticklen": 3,
         "ticks": "outside",
         "type": "linear",
         "zeroline": false
        },
        "yaxis": {
         "anchor": "x",
         "automargin": true,
         "autorange": true,
         "domain": [
          0,
          1
         ],
         "fixedrange": true,
         "gridwidth": 2,
         "range": [
          10.035483870967742,
          -1.0354838709677419
         ],
         "tickcolor": "white",
         "ticklen": 10,
         "ticks": "outside",
         "type": "category"
        }
       }
      },
      "image/png": "[encoded data removed]",
      "text/html": [
       "<div>                            <div id=\"81968fa6-1528-4504-aea6-72fcbcee16db\" class=\"plotly-graph-div\" style=\"height:383.0px; width:100%;\"></div>            <script type=\"text/javascript\">                require([\"plotly\"], function(Plotly) {                    window.PLOTLYENV=window.PLOTLYENV || {};                                    if (document.getElementById(\"81968fa6-1528-4504-aea6-72fcbcee16db\")) {                    Plotly.newPlot(                        \"81968fa6-1528-4504-aea6-72fcbcee16db\",                        [{\"base\":0.17099567099567103,\"hoverinfo\":\"text\",\"hoverlabel\":{\"bgcolor\":\"rgba(0,0,0,0.8)\"},\"hovertext\":[\"Model: XGBoost with max_depth = 2 loss after<br>variable: caa_1 is permuted: 0.207<br>Drop-out loss change: +0.036\",\"Model: XGBoost with max_depth = 2 loss after<br>variable: caa_2 is permuted: 0.205<br>Drop-out loss change: +0.034\",\"Model: XGBoost with max_depth = 2 loss after<br>variable: thall_2 is permuted: 0.197<br>Drop-out loss change: +0.026\",\"Model: XGBoost with max_depth = 2 loss after<br>variable: oldpeak is permuted: 0.196<br>Drop-out loss change: +0.025\",\"Model: XGBoost with max_depth = 2 loss after<br>variable: sex_1 is permuted: 0.191<br>Drop-out loss change: +0.02\",\"Model: XGBoost with max_depth = 2 loss after<br>variable: thalachh is permuted: 0.189<br>Drop-out loss change: +0.018\",\"Model: XGBoost with max_depth = 2 loss after<br>variable: age is permuted: 0.185<br>Drop-out loss change: +0.015\",\"Model: XGBoost with max_depth = 2 loss after<br>variable: cp_2 is permuted: 0.183<br>Drop-out loss change: +0.012\",\"Model: XGBoost with max_depth = 2 loss after<br>variable: cp_1 is permuted: 0.182<br>Drop-out loss change: +0.011\",\"Model: XGBoost with max_depth = 2 loss after<br>variable: cp_3 is permuted: 0.181<br>Drop-out loss change: +0.01\"],\"marker\":{\"color\":\"#46bac2\"},\"orientation\":\"h\",\"showlegend\":false,\"text\":[\"+0.036\",\"+0.034\",\"+0.026\",\"+0.025\",\"+0.02\",\"+0.018\",\"+0.015\",\"+0.012\",\"+0.011\",\"+0.01\"],\"textposition\":\"outside\",\"x\":[0.03647186147186146,0.033549783549783496,0.0259740259740259,0.024891774891774854,0.02045454545454542,0.01839826839826833,0.014502164502164433,0.011688311688311637,0.01136363636363627,0.010173160173160112],\"y\":[\"caa_1\",\"caa_2\",\"thall_2\",\"oldpeak\",\"sex_1\",\"thalachh\",\"age\",\"cp_2\",\"cp_1\",\"cp_3\"],\"type\":\"bar\",\"xaxis\":\"x\",\"yaxis\":\"y\"}],                        {\"template\":{\"data\":{\"scatter\":[{\"type\":\"scatter\"}]}},\"xaxis\":{\"anchor\":\"y\",\"domain\":[0.0,1.0],\"type\":\"linear\",\"gridwidth\":2,\"zeroline\":false,\"automargin\":true,\"ticks\":\"outside\",\"tickcolor\":\"white\",\"ticklen\":3,\"fixedrange\":true,\"range\":[0.13938852813852814,0.21634740259740262]},\"yaxis\":{\"anchor\":\"x\",\"domain\":[0.0,1.0],\"type\":\"category\",\"autorange\":\"reversed\",\"gridwidth\":2,\"automargin\":true,\"ticks\":\"outside\",\"tickcolor\":\"white\",\"ticklen\":10,\"fixedrange\":true},\"annotations\":[{\"font\":{\"size\":16},\"showarrow\":false,\"text\":\"XGBoost with max_depth = 2\",\"x\":0.5,\"xanchor\":\"center\",\"xref\":\"paper\",\"y\":1.0,\"yanchor\":\"bottom\",\"yref\":\"paper\"},{\"font\":{\"size\":16},\"showarrow\":false,\"text\":\"drop-out loss\",\"x\":0.5,\"xanchor\":\"center\",\"xref\":\"paper\",\"y\":0,\"yanchor\":\"top\",\"yref\":\"paper\",\"yshift\":-30}],\"shapes\":[{\"line\":{\"color\":\"#371ea3\",\"dash\":\"dot\",\"width\":1.5},\"type\":\"line\",\"x0\":0.17099567099567103,\"x1\":0.17099567099567103,\"xref\":\"x\",\"y0\":-1,\"y1\":10,\"yref\":\"y\"}],\"title\":{\"text\":\"Variable Importance\",\"x\":0.15},\"font\":{\"color\":\"#371ea3\"},\"margin\":{\"t\":78,\"b\":71,\"r\":30},\"height\":383.0},                        {\"displaylogo\": false, \"staticPlot\": false, \"toImageButtonOptions\": {\"height\": null, \"width\": null}, \"modeBarButtonsToRemove\": [\"sendDataToCloud\", \"lasso2d\", \"autoScale2d\", \"select2d\", \"zoom2d\", \"pan2d\", \"zoomIn2d\", \"zoomOut2d\", \"resetScale2d\", \"toggleSpikelines\", \"hoverCompareCartesian\", \"hoverClosestCartesian\"], \"responsive\": true}                    ).then(function(){\n",
       "                            \n",
       "var gd = document.getElementById('81968fa6-1528-4504-aea6-72fcbcee16db');\n",
       "var x = new MutationObserver(function (mutations, observer) {{\n",
       "        var display = window.getComputedStyle(gd).display;\n",
       "        if (!display || display === 'none') {{\n",
       "            console.log([gd, 'removed!']);\n",
       "            Plotly.purge(gd);\n",
       "            observer.disconnect();\n",
       "        }}\n",
       "}});\n",
       "\n",
       "// Listen for the removal of the full notebook cells\n",
       "var notebookContainer = gd.closest('#notebook-container');\n",
       "if (notebookContainer) {{\n",
       "    x.observe(notebookContainer, {childList: true});\n",
       "}}\n",
       "\n",
       "// Listen for the clearing of the current output cell\n",
       "var outputEl = gd.closest('.output');\n",
       "if (outputEl) {{\n",
       "    x.observe(outputEl, {childList: true});\n",
       "}}\n",
       "\n",
       "                        })                };                });            </script>        </div>"
      ]
     },
     "metadata": {},
     "output_type": "display_data"
    }
   ],
   "source": [
    "pvi_3.plot()"
   ]
  },
  {
   "cell_type": "code",
   "execution_count": 56,
   "metadata": {},
   "outputs": [
    {
     "data": {
      "application/vnd.plotly.v1+json": {
       "config": {
        "plotlyServerURL": "https://plot.ly"
       },
       "data": [
        {
         "base": 0.17099567099567103,
         "hoverinfo": "text",
         "hoverlabel": {
          "bgcolor": "rgba(0, 0, 0, 0.8)"
         },
         "hovertext": [
          "Model: XGBoost with max_depth = 2 loss after<br>variable: oldpeak is permuted: 0.196<br>Drop-out loss change: +0.025",
          "Model: XGBoost with max_depth = 2 loss after<br>variable: thall_2 is permuted: 0.197<br>Drop-out loss change: +0.026",
          "Model: XGBoost with max_depth = 2 loss after<br>variable: caa_1 is permuted: 0.207<br>Drop-out loss change: +0.036",
          "Model: XGBoost with max_depth = 2 loss after<br>variable: thalachh is permuted: 0.189<br>Drop-out loss change: +0.018",
          "Model: XGBoost with max_depth = 2 loss after<br>variable: sex_1 is permuted: 0.191<br>Drop-out loss change: +0.02",
          "Model: XGBoost with max_depth = 2 loss after<br>variable: caa_2 is permuted: 0.205<br>Drop-out loss change: +0.034",
          "Model: XGBoost with max_depth = 2 loss after<br>variable: age is permuted: 0.185<br>Drop-out loss change: +0.015",
          "Model: XGBoost with max_depth = 2 loss after<br>variable: cp_2 is permuted: 0.183<br>Drop-out loss change: +0.012",
          "Model: XGBoost with max_depth = 2 loss after<br>variable: cp_3 is permuted: 0.181<br>Drop-out loss change: +0.01",
          "Model: XGBoost with max_depth = 2 loss after<br>variable: cp_1 is permuted: 0.182<br>Drop-out loss change: +0.011"
         ],
         "marker": {
          "color": "#8bdcbe"
         },
         "orientation": "h",
         "showlegend": false,
         "text": [
          "+0.025",
          "+0.026",
          "+0.036",
          "+0.018",
          "+0.02",
          "+0.034",
          "+0.015",
          "+0.012",
          "+0.01",
          "+0.011"
         ],
         "textposition": "outside",
         "type": "bar",
         "x": [
          0.024891774891774854,
          0.0259740259740259,
          0.03647186147186146,
          0.01839826839826833,
          0.02045454545454542,
          0.033549783549783496,
          0.014502164502164433,
          0.011688311688311637,
          0.010173160173160112,
          0.01136363636363627
         ],
         "xaxis": "x",
         "y": [
          "oldpeak",
          "thall_2",
          "caa_1",
          "thalachh",
          "sex_1",
          "caa_2",
          "age",
          "cp_2",
          "cp_3",
          "cp_1"
         ],
         "yaxis": "y"
        },
        {
         "base": 0.15800865800865802,
         "hoverinfo": "text",
         "hoverlabel": {
          "bgcolor": "rgba(0, 0, 0, 0.8)"
         },
         "hovertext": [
          "Model: XGBoost with max_depth = 6 loss after<br>variable: oldpeak is permuted: 0.213<br>Drop-out loss change: +0.055",
          "Model: XGBoost with max_depth = 6 loss after<br>variable: thall_2 is permuted: 0.21<br>Drop-out loss change: +0.052",
          "Model: XGBoost with max_depth = 6 loss after<br>variable: caa_1 is permuted: 0.185<br>Drop-out loss change: +0.027",
          "Model: XGBoost with max_depth = 6 loss after<br>variable: thalachh is permuted: 0.186<br>Drop-out loss change: +0.028",
          "Model: XGBoost with max_depth = 6 loss after<br>variable: sex_1 is permuted: 0.184<br>Drop-out loss change: +0.026",
          "Model: XGBoost with max_depth = 6 loss after<br>variable: caa_2 is permuted: 0.168<br>Drop-out loss change: +0.01",
          "Model: XGBoost with max_depth = 6 loss after<br>variable: age is permuted: 0.182<br>Drop-out loss change: +0.024",
          "Model: XGBoost with max_depth = 6 loss after<br>variable: cp_3 is permuted: 0.171<br>Drop-out loss change: +0.013",
          "Model: XGBoost with max_depth = 6 loss after<br>variable: exng_1 is permuted: 0.168<br>Drop-out loss change: +0.01",
          "Model: XGBoost with max_depth = 6 loss after<br>variable: slp_1 is permuted: 0.171<br>Drop-out loss change: +0.013"
         ],
         "marker": {
          "color": "#4378bf"
         },
         "orientation": "h",
         "showlegend": false,
         "text": [
          "+0.055",
          "+0.052",
          "+0.027",
          "+0.028",
          "+0.026",
          "+0.01",
          "+0.024",
          "+0.013",
          "+0.01",
          "+0.013"
         ],
         "textposition": "outside",
         "type": "bar",
         "x": [
          0.055411255411255356,
          0.0518398268398268,
          0.02673160173160169,
          0.028246753246753242,
          0.02575757575757573,
          0.009956709956709942,
          0.024134199134199175,
          0.012770562770562738,
          0.009740259740259744,
          0.012770562770562766
         ],
         "xaxis": "x2",
         "y": [
          "oldpeak",
          "thall_2",
          "caa_1",
          "thalachh",
          "sex_1",
          "caa_2",
          "age",
          "cp_3",
          "exng_1",
          "slp_1"
         ],
         "yaxis": "y2"
        },
        {
         "base": 0.15800865800865793,
         "hoverinfo": "text",
         "hoverlabel": {
          "bgcolor": "rgba(0, 0, 0, 0.8)"
         },
         "hovertext": [
          "Model: XGBoost with max_depth = 4 loss after<br>variable: oldpeak is permuted: 0.203<br>Drop-out loss change: +0.045",
          "Model: XGBoost with max_depth = 4 loss after<br>variable: thall_2 is permuted: 0.203<br>Drop-out loss change: +0.045",
          "Model: XGBoost with max_depth = 4 loss after<br>variable: caa_1 is permuted: 0.183<br>Drop-out loss change: +0.025",
          "Model: XGBoost with max_depth = 4 loss after<br>variable: thalachh is permuted: 0.179<br>Drop-out loss change: +0.021",
          "Model: XGBoost with max_depth = 4 loss after<br>variable: sex_1 is permuted: 0.175<br>Drop-out loss change: +0.017",
          "Model: XGBoost with max_depth = 4 loss after<br>variable: caa_2 is permuted: 0.174<br>Drop-out loss change: +0.016",
          "Model: XGBoost with max_depth = 4 loss after<br>variable: age is permuted: 0.177<br>Drop-out loss change: +0.019",
          "Model: XGBoost with max_depth = 4 loss after<br>variable: cp_2 is permuted: 0.177<br>Drop-out loss change: +0.019",
          "Model: XGBoost with max_depth = 4 loss after<br>variable: cp_3 is permuted: 0.171<br>Drop-out loss change: +0.013",
          "Model: XGBoost with max_depth = 4 loss after<br>variable: slp_1 is permuted: 0.164<br>Drop-out loss change: +0.006"
         ],
         "marker": {
          "color": "#46bac2"
         },
         "orientation": "h",
         "showlegend": false,
         "text": [
          "+0.045",
          "+0.045",
          "+0.025",
          "+0.021",
          "+0.017",
          "+0.016",
          "+0.019",
          "+0.019",
          "+0.013",
          "+0.006"
         ],
         "textposition": "outside",
         "type": "bar",
         "x": [
          0.045346320346320385,
          0.0454545454545455,
          0.0254329004329005,
          0.02077922077922084,
          0.01742424242424251,
          0.015909090909090956,
          0.019480519480519515,
          0.018939393939394006,
          0.012878787878787934,
          0.0057359307359308165
         ],
         "xaxis": "x3",
         "y": [
          "oldpeak",
          "thall_2",
          "caa_1",
          "thalachh",
          "sex_1",
          "caa_2",
          "age",
          "cp_2",
          "cp_3",
          "slp_1"
         ],
         "yaxis": "y3"
        }
       ],
       "layout": {
        "annotations": [
         {
          "font": {
           "size": 16
          },
          "showarrow": false,
          "text": "XGBoost with max_depth = 2",
          "x": 0.5,
          "xanchor": "center",
          "xref": "paper",
          "y": 1,
          "yanchor": "bottom",
          "yref": "paper"
         },
         {
          "font": {
           "size": 16
          },
          "showarrow": false,
          "text": "XGBoost with max_depth = 6",
          "x": 0.5,
          "xanchor": "center",
          "xref": "paper",
          "y": 0.6444444444444445,
          "yanchor": "bottom",
          "yref": "paper"
         },
         {
          "font": {
           "size": 16
          },
          "showarrow": false,
          "text": "XGBoost with max_depth = 4",
          "x": 0.5,
          "xanchor": "center",
          "xref": "paper",
          "y": 0.2888888888888889,
          "yanchor": "bottom",
          "yref": "paper"
         },
         {
          "font": {
           "size": 16
          },
          "showarrow": false,
          "text": "drop-out loss",
          "x": 0.5,
          "xanchor": "center",
          "xref": "paper",
          "y": 0,
          "yanchor": "top",
          "yref": "paper",
          "yshift": -30
         }
        ],
        "autosize": true,
        "font": {
         "color": "#371ea3"
        },
        "margin": {
         "b": 71,
         "r": 30,
         "t": 78
        },
        "shapes": [
         {
          "line": {
           "color": "#371ea3",
           "dash": "dot",
           "width": 1.5
          },
          "type": "line",
          "x0": 0.17099567099567103,
          "x1": 0.17099567099567103,
          "xref": "x",
          "y0": -1,
          "y1": 10,
          "yref": "y"
         },
         {
          "line": {
           "color": "#371ea3",
           "dash": "dot",
           "width": 1.5
          },
          "type": "line",
          "x0": 0.15800865800865802,
          "x1": 0.15800865800865802,
          "xref": "x2",
          "y0": -1,
          "y1": 10,
          "yref": "y2"
         },
         {
          "line": {
           "color": "#371ea3",
           "dash": "dot",
           "width": 1.5
          },
          "type": "line",
          "x0": 0.15800865800865793,
          "x1": 0.15800865800865793,
          "xref": "x3",
          "y0": -1,
          "y1": 10,
          "yref": "y3"
         }
        ],
        "template": {
         "data": {
          "scatter": [
           {
            "type": "scatter"
           }
          ]
         }
        },
        "title": {
         "text": "Variable Importance",
         "x": 0.15
        },
        "xaxis": {
         "anchor": "y",
         "automargin": true,
         "domain": [
          0,
          1
         ],
         "fixedrange": true,
         "gridwidth": 2,
         "matches": "x3",
         "range": [
          0.11310606060606054,
          0.22650432900432896
         ],
         "showticklabels": false,
         "tickcolor": "white",
         "ticklen": 3,
         "ticks": "outside",
         "type": "linear",
         "zeroline": false
        },
        "xaxis2": {
         "anchor": "y2",
         "automargin": true,
         "domain": [
          0,
          1
         ],
         "fixedrange": true,
         "gridwidth": 2,
         "matches": "x3",
         "range": [
          0.11310606060606054,
          0.22650432900432896
         ],
         "showticklabels": false,
         "tickcolor": "white",
         "ticklen": 3,
         "ticks": "outside",
         "type": "linear",
         "zeroline": false
        },
        "xaxis3": {
         "anchor": "y3",
         "automargin": true,
         "domain": [
          0,
          1
         ],
         "fixedrange": true,
         "gridwidth": 2,
         "range": [
          0.11310606060606054,
          0.22650432900432896
         ],
         "tickcolor": "white",
         "ticklen": 3,
         "ticks": "outside",
         "type": "linear",
         "zeroline": false
        },
        "yaxis": {
         "anchor": "x",
         "automargin": true,
         "autorange": true,
         "domain": [
          0.7111111111111111,
          1
         ],
         "fixedrange": true,
         "gridwidth": 2,
         "range": [
          10.034126947649032,
          -1.0341269476490325
         ],
         "tickcolor": "white",
         "ticklen": 10,
         "ticks": "outside",
         "type": "category"
        },
        "yaxis2": {
         "anchor": "x2",
         "automargin": true,
         "autorange": true,
         "domain": [
          0.35555555555555557,
          0.6444444444444445
         ],
         "fixedrange": true,
         "gridwidth": 2,
         "range": [
          10.034126947649032,
          -1.0341269476490325
         ],
         "tickcolor": "white",
         "ticklen": 10,
         "ticks": "outside",
         "type": "category"
        },
        "yaxis3": {
         "anchor": "x3",
         "automargin": true,
         "autorange": true,
         "domain": [
          0,
          0.2888888888888889
         ],
         "fixedrange": true,
         "gridwidth": 2,
         "range": [
          10.034126947649032,
          -1.0341269476490325
         ],
         "tickcolor": "white",
         "ticklen": 10,
         "ticks": "outside",
         "type": "category"
        }
       }
      },
      "image/png": "[encoded data removed]",
      "text/html": [
       "<div>                            <div id=\"3f521f8d-2c5f-4a4b-ba6a-54439219bbd9\" class=\"plotly-graph-div\" style=\"height:991.0px; width:100%;\"></div>            <script type=\"text/javascript\">                require([\"plotly\"], function(Plotly) {                    window.PLOTLYENV=window.PLOTLYENV || {};                                    if (document.getElementById(\"3f521f8d-2c5f-4a4b-ba6a-54439219bbd9\")) {                    Plotly.newPlot(                        \"3f521f8d-2c5f-4a4b-ba6a-54439219bbd9\",                        [{\"base\":0.17099567099567103,\"hoverinfo\":\"text\",\"hoverlabel\":{\"bgcolor\":\"rgba(0,0,0,0.8)\"},\"hovertext\":[\"Model: XGBoost with max_depth = 2 loss after<br>variable: oldpeak is permuted: 0.196<br>Drop-out loss change: +0.025\",\"Model: XGBoost with max_depth = 2 loss after<br>variable: thall_2 is permuted: 0.197<br>Drop-out loss change: +0.026\",\"Model: XGBoost with max_depth = 2 loss after<br>variable: caa_1 is permuted: 0.207<br>Drop-out loss change: +0.036\",\"Model: XGBoost with max_depth = 2 loss after<br>variable: thalachh is permuted: 0.189<br>Drop-out loss change: +0.018\",\"Model: XGBoost with max_depth = 2 loss after<br>variable: sex_1 is permuted: 0.191<br>Drop-out loss change: +0.02\",\"Model: XGBoost with max_depth = 2 loss after<br>variable: caa_2 is permuted: 0.205<br>Drop-out loss change: +0.034\",\"Model: XGBoost with max_depth = 2 loss after<br>variable: age is permuted: 0.185<br>Drop-out loss change: +0.015\",\"Model: XGBoost with max_depth = 2 loss after<br>variable: cp_2 is permuted: 0.183<br>Drop-out loss change: +0.012\",\"Model: XGBoost with max_depth = 2 loss after<br>variable: cp_3 is permuted: 0.181<br>Drop-out loss change: +0.01\",\"Model: XGBoost with max_depth = 2 loss after<br>variable: cp_1 is permuted: 0.182<br>Drop-out loss change: +0.011\"],\"marker\":{\"color\":\"#8bdcbe\"},\"orientation\":\"h\",\"showlegend\":false,\"text\":[\"+0.025\",\"+0.026\",\"+0.036\",\"+0.018\",\"+0.02\",\"+0.034\",\"+0.015\",\"+0.012\",\"+0.01\",\"+0.011\"],\"textposition\":\"outside\",\"x\":[0.024891774891774854,0.0259740259740259,0.03647186147186146,0.01839826839826833,0.02045454545454542,0.033549783549783496,0.014502164502164433,0.011688311688311637,0.010173160173160112,0.01136363636363627],\"y\":[\"oldpeak\",\"thall_2\",\"caa_1\",\"thalachh\",\"sex_1\",\"caa_2\",\"age\",\"cp_2\",\"cp_3\",\"cp_1\"],\"type\":\"bar\",\"xaxis\":\"x\",\"yaxis\":\"y\"},{\"base\":0.15800865800865802,\"hoverinfo\":\"text\",\"hoverlabel\":{\"bgcolor\":\"rgba(0,0,0,0.8)\"},\"hovertext\":[\"Model: XGBoost with max_depth = 6 loss after<br>variable: oldpeak is permuted: 0.213<br>Drop-out loss change: +0.055\",\"Model: XGBoost with max_depth = 6 loss after<br>variable: thall_2 is permuted: 0.21<br>Drop-out loss change: +0.052\",\"Model: XGBoost with max_depth = 6 loss after<br>variable: caa_1 is permuted: 0.185<br>Drop-out loss change: +0.027\",\"Model: XGBoost with max_depth = 6 loss after<br>variable: thalachh is permuted: 0.186<br>Drop-out loss change: +0.028\",\"Model: XGBoost with max_depth = 6 loss after<br>variable: sex_1 is permuted: 0.184<br>Drop-out loss change: +0.026\",\"Model: XGBoost with max_depth = 6 loss after<br>variable: caa_2 is permuted: 0.168<br>Drop-out loss change: +0.01\",\"Model: XGBoost with max_depth = 6 loss after<br>variable: age is permuted: 0.182<br>Drop-out loss change: +0.024\",\"Model: XGBoost with max_depth = 6 loss after<br>variable: cp_3 is permuted: 0.171<br>Drop-out loss change: +0.013\",\"Model: XGBoost with max_depth = 6 loss after<br>variable: exng_1 is permuted: 0.168<br>Drop-out loss change: +0.01\",\"Model: XGBoost with max_depth = 6 loss after<br>variable: slp_1 is permuted: 0.171<br>Drop-out loss change: +0.013\"],\"marker\":{\"color\":\"#4378bf\"},\"orientation\":\"h\",\"showlegend\":false,\"text\":[\"+0.055\",\"+0.052\",\"+0.027\",\"+0.028\",\"+0.026\",\"+0.01\",\"+0.024\",\"+0.013\",\"+0.01\",\"+0.013\"],\"textposition\":\"outside\",\"x\":[0.055411255411255356,0.0518398268398268,0.02673160173160169,0.028246753246753242,0.02575757575757573,0.009956709956709942,0.024134199134199175,0.012770562770562738,0.009740259740259744,0.012770562770562766],\"y\":[\"oldpeak\",\"thall_2\",\"caa_1\",\"thalachh\",\"sex_1\",\"caa_2\",\"age\",\"cp_3\",\"exng_1\",\"slp_1\"],\"type\":\"bar\",\"xaxis\":\"x2\",\"yaxis\":\"y2\"},{\"base\":0.15800865800865793,\"hoverinfo\":\"text\",\"hoverlabel\":{\"bgcolor\":\"rgba(0,0,0,0.8)\"},\"hovertext\":[\"Model: XGBoost with max_depth = 4 loss after<br>variable: oldpeak is permuted: 0.203<br>Drop-out loss change: +0.045\",\"Model: XGBoost with max_depth = 4 loss after<br>variable: thall_2 is permuted: 0.203<br>Drop-out loss change: +0.045\",\"Model: XGBoost with max_depth = 4 loss after<br>variable: caa_1 is permuted: 0.183<br>Drop-out loss change: +0.025\",\"Model: XGBoost with max_depth = 4 loss after<br>variable: thalachh is permuted: 0.179<br>Drop-out loss change: +0.021\",\"Model: XGBoost with max_depth = 4 loss after<br>variable: sex_1 is permuted: 0.175<br>Drop-out loss change: +0.017\",\"Model: XGBoost with max_depth = 4 loss after<br>variable: caa_2 is permuted: 0.174<br>Drop-out loss change: +0.016\",\"Model: XGBoost with max_depth = 4 loss after<br>variable: age is permuted: 0.177<br>Drop-out loss change: +0.019\",\"Model: XGBoost with max_depth = 4 loss after<br>variable: cp_2 is permuted: 0.177<br>Drop-out loss change: +0.019\",\"Model: XGBoost with max_depth = 4 loss after<br>variable: cp_3 is permuted: 0.171<br>Drop-out loss change: +0.013\",\"Model: XGBoost with max_depth = 4 loss after<br>variable: slp_1 is permuted: 0.164<br>Drop-out loss change: +0.006\"],\"marker\":{\"color\":\"#46bac2\"},\"orientation\":\"h\",\"showlegend\":false,\"text\":[\"+0.045\",\"+0.045\",\"+0.025\",\"+0.021\",\"+0.017\",\"+0.016\",\"+0.019\",\"+0.019\",\"+0.013\",\"+0.006\"],\"textposition\":\"outside\",\"x\":[0.045346320346320385,0.0454545454545455,0.0254329004329005,0.02077922077922084,0.01742424242424251,0.015909090909090956,0.019480519480519515,0.018939393939394006,0.012878787878787934,0.0057359307359308165],\"y\":[\"oldpeak\",\"thall_2\",\"caa_1\",\"thalachh\",\"sex_1\",\"caa_2\",\"age\",\"cp_2\",\"cp_3\",\"slp_1\"],\"type\":\"bar\",\"xaxis\":\"x3\",\"yaxis\":\"y3\"}],                        {\"template\":{\"data\":{\"scatter\":[{\"type\":\"scatter\"}]}},\"xaxis\":{\"anchor\":\"y\",\"domain\":[0.0,1.0],\"matches\":\"x3\",\"showticklabels\":false,\"type\":\"linear\",\"gridwidth\":2,\"zeroline\":false,\"automargin\":true,\"ticks\":\"outside\",\"tickcolor\":\"white\",\"ticklen\":3,\"fixedrange\":true,\"range\":[0.11310606060606054,0.22650432900432896]},\"yaxis\":{\"anchor\":\"x\",\"domain\":[0.7111111111111111,1.0],\"type\":\"category\",\"autorange\":\"reversed\",\"gridwidth\":2,\"automargin\":true,\"ticks\":\"outside\",\"tickcolor\":\"white\",\"ticklen\":10,\"fixedrange\":true},\"xaxis2\":{\"anchor\":\"y2\",\"domain\":[0.0,1.0],\"matches\":\"x3\",\"showticklabels\":false,\"type\":\"linear\",\"gridwidth\":2,\"zeroline\":false,\"automargin\":true,\"ticks\":\"outside\",\"tickcolor\":\"white\",\"ticklen\":3,\"fixedrange\":true,\"range\":[0.11310606060606054,0.22650432900432896]},\"yaxis2\":{\"anchor\":\"x2\",\"domain\":[0.35555555555555557,0.6444444444444445],\"type\":\"category\",\"autorange\":\"reversed\",\"gridwidth\":2,\"automargin\":true,\"ticks\":\"outside\",\"tickcolor\":\"white\",\"ticklen\":10,\"fixedrange\":true},\"xaxis3\":{\"anchor\":\"y3\",\"domain\":[0.0,1.0],\"type\":\"linear\",\"gridwidth\":2,\"zeroline\":false,\"automargin\":true,\"ticks\":\"outside\",\"tickcolor\":\"white\",\"ticklen\":3,\"fixedrange\":true,\"range\":[0.11310606060606054,0.22650432900432896]},\"yaxis3\":{\"anchor\":\"x3\",\"domain\":[0.0,0.2888888888888889],\"type\":\"category\",\"autorange\":\"reversed\",\"gridwidth\":2,\"automargin\":true,\"ticks\":\"outside\",\"tickcolor\":\"white\",\"ticklen\":10,\"fixedrange\":true},\"annotations\":[{\"font\":{\"size\":16},\"showarrow\":false,\"text\":\"XGBoost with max_depth = 2\",\"x\":0.5,\"xanchor\":\"center\",\"xref\":\"paper\",\"y\":1.0,\"yanchor\":\"bottom\",\"yref\":\"paper\"},{\"font\":{\"size\":16},\"showarrow\":false,\"text\":\"XGBoost with max_depth = 6\",\"x\":0.5,\"xanchor\":\"center\",\"xref\":\"paper\",\"y\":0.6444444444444445,\"yanchor\":\"bottom\",\"yref\":\"paper\"},{\"font\":{\"size\":16},\"showarrow\":false,\"text\":\"XGBoost with max_depth = 4\",\"x\":0.5,\"xanchor\":\"center\",\"xref\":\"paper\",\"y\":0.2888888888888889,\"yanchor\":\"bottom\",\"yref\":\"paper\"},{\"font\":{\"size\":16},\"showarrow\":false,\"text\":\"drop-out loss\",\"x\":0.5,\"xanchor\":\"center\",\"xref\":\"paper\",\"y\":0,\"yanchor\":\"top\",\"yref\":\"paper\",\"yshift\":-30}],\"shapes\":[{\"line\":{\"color\":\"#371ea3\",\"dash\":\"dot\",\"width\":1.5},\"type\":\"line\",\"x0\":0.17099567099567103,\"x1\":0.17099567099567103,\"xref\":\"x\",\"y0\":-1,\"y1\":10,\"yref\":\"y\"},{\"line\":{\"color\":\"#371ea3\",\"dash\":\"dot\",\"width\":1.5},\"type\":\"line\",\"x0\":0.15800865800865802,\"x1\":0.15800865800865802,\"xref\":\"x2\",\"y0\":-1,\"y1\":10,\"yref\":\"y2\"},{\"line\":{\"color\":\"#371ea3\",\"dash\":\"dot\",\"width\":1.5},\"type\":\"line\",\"x0\":0.15800865800865793,\"x1\":0.15800865800865793,\"xref\":\"x3\",\"y0\":-1,\"y1\":10,\"yref\":\"y3\"}],\"title\":{\"text\":\"Variable Importance\",\"x\":0.15},\"font\":{\"color\":\"#371ea3\"},\"margin\":{\"t\":78,\"b\":71,\"r\":30},\"height\":991.0},                        {\"responsive\": true}                    ).then(function(){\n",
       "                            \n",
       "var gd = document.getElementById('3f521f8d-2c5f-4a4b-ba6a-54439219bbd9');\n",
       "var x = new MutationObserver(function (mutations, observer) {{\n",
       "        var display = window.getComputedStyle(gd).display;\n",
       "        if (!display || display === 'none') {{\n",
       "            console.log([gd, 'removed!']);\n",
       "            Plotly.purge(gd);\n",
       "            observer.disconnect();\n",
       "        }}\n",
       "}});\n",
       "\n",
       "// Listen for the removal of the full notebook cells\n",
       "var notebookContainer = gd.closest('#notebook-container');\n",
       "if (notebookContainer) {{\n",
       "    x.observe(notebookContainer, {childList: true});\n",
       "}}\n",
       "\n",
       "// Listen for the clearing of the current output cell\n",
       "var outputEl = gd.closest('.output');\n",
       "if (outputEl) {{\n",
       "    x.observe(outputEl, {childList: true});\n",
       "}}\n",
       "\n",
       "                        })                };                });            </script>        </div>"
      ]
     },
     "metadata": {},
     "output_type": "display_data"
    }
   ],
   "source": [
    "pvi_3.plot([pvi_2, pvi], show=False)"
   ]
  },
  {
   "cell_type": "code",
   "execution_count": 28,
   "metadata": {},
   "outputs": [],
   "source": [
    "logistic_regression = Pipeline([('scaler', StandardScaler()), ('log', LogisticRegression())])"
   ]
  },
  {
   "cell_type": "code",
   "execution_count": 29,
   "metadata": {},
   "outputs": [
    {
     "data": {
      "text/html": [
       "<style>#sk-container-id-4 {color: black;background-color: white;}#sk-container-id-4 pre{padding: 0;}#sk-container-id-4 div.sk-toggleable {background-color: white;}#sk-container-id-4 label.sk-toggleable__label {cursor: pointer;display: block;width: 100%;margin-bottom: 0;padding: 0.3em;box-sizing: border-box;text-align: center;}#sk-container-id-4 label.sk-toggleable__label-arrow:before {content: \"▸\";float: left;margin-right: 0.25em;color: #696969;}#sk-container-id-4 label.sk-toggleable__label-arrow:hover:before {color: black;}#sk-container-id-4 div.sk-estimator:hover label.sk-toggleable__label-arrow:before {color: black;}#sk-container-id-4 div.sk-toggleable__content {max-height: 0;max-width: 0;overflow: hidden;text-align: left;background-color: #f0f8ff;}#sk-container-id-4 div.sk-toggleable__content pre {margin: 0.2em;color: black;border-radius: 0.25em;background-color: #f0f8ff;}#sk-container-id-4 input.sk-toggleable__control:checked~div.sk-toggleable__content {max-height: 200px;max-width: 100%;overflow: auto;}#sk-container-id-4 input.sk-toggleable__control:checked~label.sk-toggleable__label-arrow:before {content: \"▾\";}#sk-container-id-4 div.sk-estimator input.sk-toggleable__control:checked~label.sk-toggleable__label {background-color: #d4ebff;}#sk-container-id-4 div.sk-label input.sk-toggleable__control:checked~label.sk-toggleable__label {background-color: #d4ebff;}#sk-container-id-4 input.sk-hidden--visually {border: 0;clip: rect(1px 1px 1px 1px);clip: rect(1px, 1px, 1px, 1px);height: 1px;margin: -1px;overflow: hidden;padding: 0;position: absolute;width: 1px;}#sk-container-id-4 div.sk-estimator {font-family: monospace;background-color: #f0f8ff;border: 1px dotted black;border-radius: 0.25em;box-sizing: border-box;margin-bottom: 0.5em;}#sk-container-id-4 div.sk-estimator:hover {background-color: #d4ebff;}#sk-container-id-4 div.sk-parallel-item::after {content: \"\";width: 100%;border-bottom: 1px solid gray;flex-grow: 1;}#sk-container-id-4 div.sk-label:hover label.sk-toggleable__label {background-color: #d4ebff;}#sk-container-id-4 div.sk-serial::before {content: \"\";position: absolute;border-left: 1px solid gray;box-sizing: border-box;top: 0;bottom: 0;left: 50%;z-index: 0;}#sk-container-id-4 div.sk-serial {display: flex;flex-direction: column;align-items: center;background-color: white;padding-right: 0.2em;padding-left: 0.2em;position: relative;}#sk-container-id-4 div.sk-item {position: relative;z-index: 1;}#sk-container-id-4 div.sk-parallel {display: flex;align-items: stretch;justify-content: center;background-color: white;position: relative;}#sk-container-id-4 div.sk-item::before, #sk-container-id-4 div.sk-parallel-item::before {content: \"\";position: absolute;border-left: 1px solid gray;box-sizing: border-box;top: 0;bottom: 0;left: 50%;z-index: -1;}#sk-container-id-4 div.sk-parallel-item {display: flex;flex-direction: column;z-index: 1;position: relative;background-color: white;}#sk-container-id-4 div.sk-parallel-item:first-child::after {align-self: flex-end;width: 50%;}#sk-container-id-4 div.sk-parallel-item:last-child::after {align-self: flex-start;width: 50%;}#sk-container-id-4 div.sk-parallel-item:only-child::after {width: 0;}#sk-container-id-4 div.sk-dashed-wrapped {border: 1px dashed gray;margin: 0 0.4em 0.5em 0.4em;box-sizing: border-box;padding-bottom: 0.4em;background-color: white;}#sk-container-id-4 div.sk-label label {font-family: monospace;font-weight: bold;display: inline-block;line-height: 1.2em;}#sk-container-id-4 div.sk-label-container {text-align: center;}#sk-container-id-4 div.sk-container {/* jupyter's `normalize.less` sets `[hidden] { display: none; }` but bootstrap.min.css set `[hidden] { display: none !important; }` so we also need the `!important` here to be able to override the default hidden behavior on the sphinx rendered scikit-learn.org. See: https://github.com/scikit-learn/scikit-learn/issues/21755 */display: inline-block !important;position: relative;}#sk-container-id-4 div.sk-text-repr-fallback {display: none;}</style><div id=\"sk-container-id-4\" class=\"sk-top-container\"><div class=\"sk-text-repr-fallback\"><pre>Pipeline(steps=[(&#x27;scaler&#x27;, StandardScaler()), (&#x27;log&#x27;, LogisticRegression())])</pre><b>In a Jupyter environment, please rerun this cell to show the HTML representation or trust the notebook. <br />On GitHub, the HTML representation is unable to render, please try loading this page with nbviewer.org.</b></div><div class=\"sk-container\" hidden><div class=\"sk-item sk-dashed-wrapped\"><div class=\"sk-label-container\"><div class=\"sk-label sk-toggleable\"><input class=\"sk-toggleable__control sk-hidden--visually\" id=\"sk-estimator-id-4\" type=\"checkbox\" ><label for=\"sk-estimator-id-4\" class=\"sk-toggleable__label sk-toggleable__label-arrow\">Pipeline</label><div class=\"sk-toggleable__content\"><pre>Pipeline(steps=[(&#x27;scaler&#x27;, StandardScaler()), (&#x27;log&#x27;, LogisticRegression())])</pre></div></div></div><div class=\"sk-serial\"><div class=\"sk-item\"><div class=\"sk-estimator sk-toggleable\"><input class=\"sk-toggleable__control sk-hidden--visually\" id=\"sk-estimator-id-5\" type=\"checkbox\" ><label for=\"sk-estimator-id-5\" class=\"sk-toggleable__label sk-toggleable__label-arrow\">StandardScaler</label><div class=\"sk-toggleable__content\"><pre>StandardScaler()</pre></div></div></div><div class=\"sk-item\"><div class=\"sk-estimator sk-toggleable\"><input class=\"sk-toggleable__control sk-hidden--visually\" id=\"sk-estimator-id-6\" type=\"checkbox\" ><label for=\"sk-estimator-id-6\" class=\"sk-toggleable__label sk-toggleable__label-arrow\">LogisticRegression</label><div class=\"sk-toggleable__content\"><pre>LogisticRegression()</pre></div></div></div></div></div></div></div>"
      ],
      "text/plain": [
       "Pipeline(steps=[('scaler', StandardScaler()), ('log', LogisticRegression())])"
      ]
     },
     "execution_count": 29,
     "metadata": {},
     "output_type": "execute_result"
    }
   ],
   "source": [
    "logistic_regression.fit(X_train, y_train)"
   ]
  },
  {
   "cell_type": "code",
   "execution_count": 30,
   "metadata": {},
   "outputs": [],
   "source": [
    "logistic_explainer = dx.Explainer(logistic_regression, X_test, y_test, label=\"logistic regression\", verbose=False)"
   ]
  },
  {
   "cell_type": "code",
   "execution_count": 31,
   "metadata": {},
   "outputs": [
    {
     "data": {
      "text/html": [
       "<div>\n",
       "<style scoped>\n",
       "    .dataframe tbody tr th:only-of-type {\n",
       "        vertical-align: middle;\n",
       "    }\n",
       "\n",
       "    .dataframe tbody tr th {\n",
       "        vertical-align: top;\n",
       "    }\n",
       "\n",
       "    .dataframe thead th {\n",
       "        text-align: right;\n",
       "    }\n",
       "</style>\n",
       "<table border=\"1\" class=\"dataframe\">\n",
       "  <thead>\n",
       "    <tr style=\"text-align: right;\">\n",
       "      <th></th>\n",
       "      <th>recall</th>\n",
       "      <th>precision</th>\n",
       "      <th>f1</th>\n",
       "      <th>accuracy</th>\n",
       "      <th>auc</th>\n",
       "    </tr>\n",
       "  </thead>\n",
       "  <tbody>\n",
       "    <tr>\n",
       "      <th>logistic regression</th>\n",
       "      <td>0.878788</td>\n",
       "      <td>0.852941</td>\n",
       "      <td>0.865672</td>\n",
       "      <td>0.852459</td>\n",
       "      <td>0.91342</td>\n",
       "    </tr>\n",
       "  </tbody>\n",
       "</table>\n",
       "</div>"
      ],
      "text/plain": [
       "<dalex.model_explanations._model_performance.object.ModelPerformance at 0x7ff38cdbc190>"
      ]
     },
     "execution_count": 31,
     "metadata": {},
     "output_type": "execute_result"
    }
   ],
   "source": [
    "logistic_explainer.model_performance()"
   ]
  },
  {
   "cell_type": "code",
   "execution_count": 32,
   "metadata": {},
   "outputs": [],
   "source": [
    "pvi_4 = logistic_explainer.model_parts(random_state=0)"
   ]
  },
  {
   "cell_type": "code",
   "execution_count": 64,
   "metadata": {},
   "outputs": [
    {
     "data": {
      "application/vnd.plotly.v1+json": {
       "config": {
        "displaylogo": false,
        "modeBarButtonsToRemove": [
         "sendDataToCloud",
         "lasso2d",
         "autoScale2d",
         "select2d",
         "zoom2d",
         "pan2d",
         "zoomIn2d",
         "zoomOut2d",
         "resetScale2d",
         "toggleSpikelines",
         "hoverCompareCartesian",
         "hoverClosestCartesian"
        ],
        "plotlyServerURL": "https://plot.ly",
        "staticPlot": false,
        "toImageButtonOptions": {
         "height": null,
         "width": null
        }
       },
       "data": [
        {
         "base": 0.08658008658008653,
         "hoverinfo": "text",
         "hoverlabel": {
          "bgcolor": "rgba(0, 0, 0, 0.8)"
         },
         "hovertext": [
          "Model: logistic regression loss after<br>variable: caa_2 is permuted: 0.149<br>Drop-out loss change: +0.062",
          "Model: logistic regression loss after<br>variable: sex_1 is permuted: 0.129<br>Drop-out loss change: +0.042",
          "Model: logistic regression loss after<br>variable: caa_1 is permuted: 0.119<br>Drop-out loss change: +0.032",
          "Model: logistic regression loss after<br>variable: cp_3 is permuted: 0.115<br>Drop-out loss change: +0.028",
          "Model: logistic regression loss after<br>variable: cp_2 is permuted: 0.111<br>Drop-out loss change: +0.024",
          "Model: logistic regression loss after<br>variable: caa_3 is permuted: 0.106<br>Drop-out loss change: +0.02",
          "Model: logistic regression loss after<br>variable: oldpeak is permuted: 0.103<br>Drop-out loss change: +0.017",
          "Model: logistic regression loss after<br>variable: cp_1 is permuted: 0.102<br>Drop-out loss change: +0.015",
          "Model: logistic regression loss after<br>variable: thalachh is permuted: 0.102<br>Drop-out loss change: +0.015",
          "Model: logistic regression loss after<br>variable: trtbps is permuted: 0.099<br>Drop-out loss change: +0.012"
         ],
         "marker": {
          "color": "#46bac2"
         },
         "orientation": "h",
         "showlegend": false,
         "text": [
          "+0.062",
          "+0.042",
          "+0.032",
          "+0.028",
          "+0.024",
          "+0.02",
          "+0.017",
          "+0.015",
          "+0.015",
          "+0.012"
         ],
         "textposition": "outside",
         "type": "bar",
         "x": [
          0.06201298701298702,
          0.04242424242424245,
          0.03225108225108231,
          0.028030303030303044,
          0.02424242424242426,
          0.019805194805194826,
          0.01666666666666669,
          0.01515151515151518,
          0.015043290043290108,
          0.012229437229437243
         ],
         "xaxis": "x",
         "y": [
          "caa_2",
          "sex_1",
          "caa_1",
          "cp_3",
          "cp_2",
          "caa_3",
          "oldpeak",
          "cp_1",
          "thalachh",
          "trtbps"
         ],
         "yaxis": "y"
        }
       ],
       "layout": {
        "annotations": [
         {
          "font": {
           "size": 16
          },
          "showarrow": false,
          "text": "logistic regression",
          "x": 0.5,
          "xanchor": "center",
          "xref": "paper",
          "y": 1,
          "yanchor": "bottom",
          "yref": "paper"
         },
         {
          "font": {
           "size": 16
          },
          "showarrow": false,
          "text": "drop-out loss",
          "x": 0.5,
          "xanchor": "center",
          "xref": "paper",
          "y": 0,
          "yanchor": "top",
          "yref": "paper",
          "yshift": -30
         }
        ],
        "autosize": true,
        "font": {
         "color": "#371ea3"
        },
        "margin": {
         "b": 71,
         "r": 30,
         "t": 78
        },
        "shapes": [
         {
          "line": {
           "color": "#371ea3",
           "dash": "dot",
           "width": 1.5
          },
          "type": "line",
          "x0": 0.08658008658008653,
          "x1": 0.08658008658008653,
          "xref": "x",
          "y0": -1,
          "y1": 10,
          "yref": "y"
         }
        ],
        "template": {
         "data": {
          "scatter": [
           {
            "type": "scatter"
           }
          ]
         }
        },
        "title": {
         "text": "Variable Importance",
         "x": 0.15
        },
        "xaxis": {
         "anchor": "y",
         "automargin": true,
         "domain": [
          0,
          1
         ],
         "fixedrange": true,
         "gridwidth": 2,
         "range": [
          0.049274891774891735,
          0.161547619047619
         ],
         "tickcolor": "white",
         "ticklen": 3,
         "ticks": "outside",
         "type": "linear",
         "zeroline": false
        },
        "yaxis": {
         "anchor": "x",
         "automargin": true,
         "autorange": true,
         "domain": [
          0,
          1
         ],
         "fixedrange": true,
         "gridwidth": 2,
         "range": [
          10.035483870967742,
          -1.0354838709677419
         ],
         "tickcolor": "white",
         "ticklen": 10,
         "ticks": "outside",
         "type": "category"
        }
       }
      },
      "image/png": "[encoded data removed]",
      "text/html": [
       "<div>                            <div id=\"63092a95-84e9-4d2c-a7e5-d98c711018c5\" class=\"plotly-graph-div\" style=\"height:383.0px; width:100%;\"></div>            <script type=\"text/javascript\">                require([\"plotly\"], function(Plotly) {                    window.PLOTLYENV=window.PLOTLYENV || {};                                    if (document.getElementById(\"63092a95-84e9-4d2c-a7e5-d98c711018c5\")) {                    Plotly.newPlot(                        \"63092a95-84e9-4d2c-a7e5-d98c711018c5\",                        [{\"base\":0.08658008658008653,\"hoverinfo\":\"text\",\"hoverlabel\":{\"bgcolor\":\"rgba(0,0,0,0.8)\"},\"hovertext\":[\"Model: logistic regression loss after<br>variable: caa_2 is permuted: 0.149<br>Drop-out loss change: +0.062\",\"Model: logistic regression loss after<br>variable: sex_1 is permuted: 0.129<br>Drop-out loss change: +0.042\",\"Model: logistic regression loss after<br>variable: caa_1 is permuted: 0.119<br>Drop-out loss change: +0.032\",\"Model: logistic regression loss after<br>variable: cp_3 is permuted: 0.115<br>Drop-out loss change: +0.028\",\"Model: logistic regression loss after<br>variable: cp_2 is permuted: 0.111<br>Drop-out loss change: +0.024\",\"Model: logistic regression loss after<br>variable: caa_3 is permuted: 0.106<br>Drop-out loss change: +0.02\",\"Model: logistic regression loss after<br>variable: oldpeak is permuted: 0.103<br>Drop-out loss change: +0.017\",\"Model: logistic regression loss after<br>variable: cp_1 is permuted: 0.102<br>Drop-out loss change: +0.015\",\"Model: logistic regression loss after<br>variable: thalachh is permuted: 0.102<br>Drop-out loss change: +0.015\",\"Model: logistic regression loss after<br>variable: trtbps is permuted: 0.099<br>Drop-out loss change: +0.012\"],\"marker\":{\"color\":\"#46bac2\"},\"orientation\":\"h\",\"showlegend\":false,\"text\":[\"+0.062\",\"+0.042\",\"+0.032\",\"+0.028\",\"+0.024\",\"+0.02\",\"+0.017\",\"+0.015\",\"+0.015\",\"+0.012\"],\"textposition\":\"outside\",\"x\":[0.06201298701298702,0.04242424242424245,0.03225108225108231,0.028030303030303044,0.02424242424242426,0.019805194805194826,0.01666666666666669,0.01515151515151518,0.015043290043290108,0.012229437229437243],\"y\":[\"caa_2\",\"sex_1\",\"caa_1\",\"cp_3\",\"cp_2\",\"caa_3\",\"oldpeak\",\"cp_1\",\"thalachh\",\"trtbps\"],\"type\":\"bar\",\"xaxis\":\"x\",\"yaxis\":\"y\"}],                        {\"template\":{\"data\":{\"scatter\":[{\"type\":\"scatter\"}]}},\"xaxis\":{\"anchor\":\"y\",\"domain\":[0.0,1.0],\"type\":\"linear\",\"gridwidth\":2,\"zeroline\":false,\"automargin\":true,\"ticks\":\"outside\",\"tickcolor\":\"white\",\"ticklen\":3,\"fixedrange\":true,\"range\":[0.049274891774891735,0.161547619047619]},\"yaxis\":{\"anchor\":\"x\",\"domain\":[0.0,1.0],\"type\":\"category\",\"autorange\":\"reversed\",\"gridwidth\":2,\"automargin\":true,\"ticks\":\"outside\",\"tickcolor\":\"white\",\"ticklen\":10,\"fixedrange\":true},\"annotations\":[{\"font\":{\"size\":16},\"showarrow\":false,\"text\":\"logistic regression\",\"x\":0.5,\"xanchor\":\"center\",\"xref\":\"paper\",\"y\":1.0,\"yanchor\":\"bottom\",\"yref\":\"paper\"},{\"font\":{\"size\":16},\"showarrow\":false,\"text\":\"drop-out loss\",\"x\":0.5,\"xanchor\":\"center\",\"xref\":\"paper\",\"y\":0,\"yanchor\":\"top\",\"yref\":\"paper\",\"yshift\":-30}],\"shapes\":[{\"line\":{\"color\":\"#371ea3\",\"dash\":\"dot\",\"width\":1.5},\"type\":\"line\",\"x0\":0.08658008658008653,\"x1\":0.08658008658008653,\"xref\":\"x\",\"y0\":-1,\"y1\":10,\"yref\":\"y\"}],\"title\":{\"text\":\"Variable Importance\",\"x\":0.15},\"font\":{\"color\":\"#371ea3\"},\"margin\":{\"t\":78,\"b\":71,\"r\":30},\"height\":383.0},                        {\"displaylogo\": false, \"staticPlot\": false, \"toImageButtonOptions\": {\"height\": null, \"width\": null}, \"modeBarButtonsToRemove\": [\"sendDataToCloud\", \"lasso2d\", \"autoScale2d\", \"select2d\", \"zoom2d\", \"pan2d\", \"zoomIn2d\", \"zoomOut2d\", \"resetScale2d\", \"toggleSpikelines\", \"hoverCompareCartesian\", \"hoverClosestCartesian\"], \"responsive\": true}                    ).then(function(){\n",
       "                            \n",
       "var gd = document.getElementById('63092a95-84e9-4d2c-a7e5-d98c711018c5');\n",
       "var x = new MutationObserver(function (mutations, observer) {{\n",
       "        var display = window.getComputedStyle(gd).display;\n",
       "        if (!display || display === 'none') {{\n",
       "            console.log([gd, 'removed!']);\n",
       "            Plotly.purge(gd);\n",
       "            observer.disconnect();\n",
       "        }}\n",
       "}});\n",
       "\n",
       "// Listen for the removal of the full notebook cells\n",
       "var notebookContainer = gd.closest('#notebook-container');\n",
       "if (notebookContainer) {{\n",
       "    x.observe(notebookContainer, {childList: true});\n",
       "}}\n",
       "\n",
       "// Listen for the clearing of the current output cell\n",
       "var outputEl = gd.closest('.output');\n",
       "if (outputEl) {{\n",
       "    x.observe(outputEl, {childList: true});\n",
       "}}\n",
       "\n",
       "                        })                };                });            </script>        </div>"
      ]
     },
     "metadata": {},
     "output_type": "display_data"
    }
   ],
   "source": [
    "pvi_4.plot()"
   ]
  },
  {
   "cell_type": "code",
   "execution_count": 63,
   "metadata": {},
   "outputs": [
    {
     "data": {
      "application/vnd.plotly.v1+json": {
       "config": {
        "plotlyServerURL": "https://plot.ly"
       },
       "data": [
        {
         "base": 0.08658008658008653,
         "hoverinfo": "text",
         "hoverlabel": {
          "bgcolor": "rgba(0, 0, 0, 0.8)"
         },
         "hovertext": [
          "Model: logistic regression loss after<br>variable: oldpeak is permuted: 0.103<br>Drop-out loss change: +0.017",
          "Model: logistic regression loss after<br>variable: caa_2 is permuted: 0.149<br>Drop-out loss change: +0.062",
          "Model: logistic regression loss after<br>variable: caa_1 is permuted: 0.119<br>Drop-out loss change: +0.032",
          "Model: logistic regression loss after<br>variable: sex_1 is permuted: 0.129<br>Drop-out loss change: +0.042",
          "Model: logistic regression loss after<br>variable: thalachh is permuted: 0.102<br>Drop-out loss change: +0.015",
          "Model: logistic regression loss after<br>variable: cp_3 is permuted: 0.115<br>Drop-out loss change: +0.028",
          "Model: logistic regression loss after<br>variable: cp_2 is permuted: 0.111<br>Drop-out loss change: +0.024",
          "Model: logistic regression loss after<br>variable: cp_1 is permuted: 0.102<br>Drop-out loss change: +0.015",
          "Model: logistic regression loss after<br>variable: caa_3 is permuted: 0.106<br>Drop-out loss change: +0.02",
          "Model: logistic regression loss after<br>variable: trtbps is permuted: 0.099<br>Drop-out loss change: +0.012"
         ],
         "marker": {
          "color": "#46bac2"
         },
         "orientation": "h",
         "showlegend": false,
         "text": [
          "+0.017",
          "+0.062",
          "+0.032",
          "+0.042",
          "+0.015",
          "+0.028",
          "+0.024",
          "+0.015",
          "+0.02",
          "+0.012"
         ],
         "textposition": "outside",
         "type": "bar",
         "x": [
          0.01666666666666669,
          0.06201298701298702,
          0.03225108225108231,
          0.04242424242424245,
          0.015043290043290108,
          0.028030303030303044,
          0.02424242424242426,
          0.01515151515151518,
          0.019805194805194826,
          0.012229437229437243
         ],
         "xaxis": "x",
         "y": [
          "oldpeak",
          "caa_2",
          "caa_1",
          "sex_1",
          "thalachh",
          "cp_3",
          "cp_2",
          "cp_1",
          "caa_3",
          "trtbps"
         ],
         "yaxis": "y"
        },
        {
         "base": 0.17099567099567103,
         "hoverinfo": "text",
         "hoverlabel": {
          "bgcolor": "rgba(0, 0, 0, 0.8)"
         },
         "hovertext": [
          "Model: XGBoost with max_depth = 2 loss after<br>variable: oldpeak is permuted: 0.196<br>Drop-out loss change: +0.025",
          "Model: XGBoost with max_depth = 2 loss after<br>variable: thall_2 is permuted: 0.197<br>Drop-out loss change: +0.026",
          "Model: XGBoost with max_depth = 2 loss after<br>variable: caa_2 is permuted: 0.205<br>Drop-out loss change: +0.034",
          "Model: XGBoost with max_depth = 2 loss after<br>variable: caa_1 is permuted: 0.207<br>Drop-out loss change: +0.036",
          "Model: XGBoost with max_depth = 2 loss after<br>variable: sex_1 is permuted: 0.191<br>Drop-out loss change: +0.02",
          "Model: XGBoost with max_depth = 2 loss after<br>variable: thalachh is permuted: 0.189<br>Drop-out loss change: +0.018",
          "Model: XGBoost with max_depth = 2 loss after<br>variable: cp_3 is permuted: 0.181<br>Drop-out loss change: +0.01",
          "Model: XGBoost with max_depth = 2 loss after<br>variable: age is permuted: 0.185<br>Drop-out loss change: +0.015",
          "Model: XGBoost with max_depth = 2 loss after<br>variable: cp_2 is permuted: 0.183<br>Drop-out loss change: +0.012",
          "Model: XGBoost with max_depth = 2 loss after<br>variable: cp_1 is permuted: 0.182<br>Drop-out loss change: +0.011"
         ],
         "marker": {
          "color": "#371ea3"
         },
         "orientation": "h",
         "showlegend": false,
         "text": [
          "+0.025",
          "+0.026",
          "+0.034",
          "+0.036",
          "+0.02",
          "+0.018",
          "+0.01",
          "+0.015",
          "+0.012",
          "+0.011"
         ],
         "textposition": "outside",
         "type": "bar",
         "x": [
          0.024891774891774854,
          0.0259740259740259,
          0.033549783549783496,
          0.03647186147186146,
          0.02045454545454542,
          0.01839826839826833,
          0.010173160173160112,
          0.014502164502164433,
          0.011688311688311637,
          0.01136363636363627
         ],
         "xaxis": "x2",
         "y": [
          "oldpeak",
          "thall_2",
          "caa_2",
          "caa_1",
          "sex_1",
          "thalachh",
          "cp_3",
          "age",
          "cp_2",
          "cp_1"
         ],
         "yaxis": "y2"
        },
        {
         "base": 0.15800865800865793,
         "hoverinfo": "text",
         "hoverlabel": {
          "bgcolor": "rgba(0, 0, 0, 0.8)"
         },
         "hovertext": [
          "Model: XGBoost with max_depth = 4 loss after<br>variable: oldpeak is permuted: 0.203<br>Drop-out loss change: +0.045",
          "Model: XGBoost with max_depth = 4 loss after<br>variable: thall_2 is permuted: 0.203<br>Drop-out loss change: +0.045",
          "Model: XGBoost with max_depth = 4 loss after<br>variable: caa_2 is permuted: 0.174<br>Drop-out loss change: +0.016",
          "Model: XGBoost with max_depth = 4 loss after<br>variable: caa_1 is permuted: 0.183<br>Drop-out loss change: +0.025",
          "Model: XGBoost with max_depth = 4 loss after<br>variable: sex_1 is permuted: 0.175<br>Drop-out loss change: +0.017",
          "Model: XGBoost with max_depth = 4 loss after<br>variable: thalachh is permuted: 0.179<br>Drop-out loss change: +0.021",
          "Model: XGBoost with max_depth = 4 loss after<br>variable: cp_3 is permuted: 0.171<br>Drop-out loss change: +0.013",
          "Model: XGBoost with max_depth = 4 loss after<br>variable: age is permuted: 0.177<br>Drop-out loss change: +0.019",
          "Model: XGBoost with max_depth = 4 loss after<br>variable: cp_2 is permuted: 0.177<br>Drop-out loss change: +0.019",
          "Model: XGBoost with max_depth = 4 loss after<br>variable: slp_1 is permuted: 0.164<br>Drop-out loss change: +0.006"
         ],
         "marker": {
          "color": "#8bdcbe"
         },
         "orientation": "h",
         "showlegend": false,
         "text": [
          "+0.045",
          "+0.045",
          "+0.016",
          "+0.025",
          "+0.017",
          "+0.021",
          "+0.013",
          "+0.019",
          "+0.019",
          "+0.006"
         ],
         "textposition": "outside",
         "type": "bar",
         "x": [
          0.045346320346320385,
          0.0454545454545455,
          0.015909090909090956,
          0.0254329004329005,
          0.01742424242424251,
          0.02077922077922084,
          0.012878787878787934,
          0.019480519480519515,
          0.018939393939394006,
          0.0057359307359308165
         ],
         "xaxis": "x3",
         "y": [
          "oldpeak",
          "thall_2",
          "caa_2",
          "caa_1",
          "sex_1",
          "thalachh",
          "cp_3",
          "age",
          "cp_2",
          "slp_1"
         ],
         "yaxis": "y3"
        },
        {
         "base": 0.15800865800865802,
         "hoverinfo": "text",
         "hoverlabel": {
          "bgcolor": "rgba(0, 0, 0, 0.8)"
         },
         "hovertext": [
          "Model: XGBoost with max_depth = 6 loss after<br>variable: oldpeak is permuted: 0.213<br>Drop-out loss change: +0.055",
          "Model: XGBoost with max_depth = 6 loss after<br>variable: thall_2 is permuted: 0.21<br>Drop-out loss change: +0.052",
          "Model: XGBoost with max_depth = 6 loss after<br>variable: caa_2 is permuted: 0.168<br>Drop-out loss change: +0.01",
          "Model: XGBoost with max_depth = 6 loss after<br>variable: caa_1 is permuted: 0.185<br>Drop-out loss change: +0.027",
          "Model: XGBoost with max_depth = 6 loss after<br>variable: sex_1 is permuted: 0.184<br>Drop-out loss change: +0.026",
          "Model: XGBoost with max_depth = 6 loss after<br>variable: thalachh is permuted: 0.186<br>Drop-out loss change: +0.028",
          "Model: XGBoost with max_depth = 6 loss after<br>variable: cp_3 is permuted: 0.171<br>Drop-out loss change: +0.013",
          "Model: XGBoost with max_depth = 6 loss after<br>variable: age is permuted: 0.182<br>Drop-out loss change: +0.024",
          "Model: XGBoost with max_depth = 6 loss after<br>variable: slp_1 is permuted: 0.171<br>Drop-out loss change: +0.013",
          "Model: XGBoost with max_depth = 6 loss after<br>variable: exng_1 is permuted: 0.168<br>Drop-out loss change: +0.01"
         ],
         "marker": {
          "color": "#4378bf"
         },
         "orientation": "h",
         "showlegend": false,
         "text": [
          "+0.055",
          "+0.052",
          "+0.01",
          "+0.027",
          "+0.026",
          "+0.028",
          "+0.013",
          "+0.024",
          "+0.013",
          "+0.01"
         ],
         "textposition": "outside",
         "type": "bar",
         "x": [
          0.055411255411255356,
          0.0518398268398268,
          0.009956709956709942,
          0.02673160173160169,
          0.02575757575757573,
          0.028246753246753242,
          0.012770562770562738,
          0.024134199134199175,
          0.012770562770562766,
          0.009740259740259744
         ],
         "xaxis": "x4",
         "y": [
          "oldpeak",
          "thall_2",
          "caa_2",
          "caa_1",
          "sex_1",
          "thalachh",
          "cp_3",
          "age",
          "slp_1",
          "exng_1"
         ],
         "yaxis": "y4"
        }
       ],
       "layout": {
        "annotations": [
         {
          "font": {
           "size": 16
          },
          "showarrow": false,
          "text": "logistic regression",
          "x": 0.5,
          "xanchor": "center",
          "xref": "paper",
          "y": 1,
          "yanchor": "bottom",
          "yref": "paper"
         },
         {
          "font": {
           "size": 16
          },
          "showarrow": false,
          "text": "XGBoost with max_depth = 2",
          "x": 0.5,
          "xanchor": "center",
          "xref": "paper",
          "y": 0.7375,
          "yanchor": "bottom",
          "yref": "paper"
         },
         {
          "font": {
           "size": 16
          },
          "showarrow": false,
          "text": "XGBoost with max_depth = 4",
          "x": 0.5,
          "xanchor": "center",
          "xref": "paper",
          "y": 0.475,
          "yanchor": "bottom",
          "yref": "paper"
         },
         {
          "font": {
           "size": 16
          },
          "showarrow": false,
          "text": "XGBoost with max_depth = 6",
          "x": 0.5,
          "xanchor": "center",
          "xref": "paper",
          "y": 0.2125,
          "yanchor": "bottom",
          "yref": "paper"
         },
         {
          "font": {
           "size": 16
          },
          "showarrow": false,
          "text": "drop-out loss",
          "x": 0.5,
          "xanchor": "center",
          "xref": "paper",
          "y": 0,
          "yanchor": "top",
          "yref": "paper",
          "yshift": -30
         }
        ],
        "autosize": true,
        "font": {
         "color": "#371ea3"
        },
        "margin": {
         "b": 71,
         "r": 30,
         "t": 78
        },
        "shapes": [
         {
          "line": {
           "color": "#371ea3",
           "dash": "dot",
           "width": 1.5
          },
          "type": "line",
          "x0": 0.08658008658008653,
          "x1": 0.08658008658008653,
          "xref": "x",
          "y0": -1,
          "y1": 10,
          "yref": "y"
         },
         {
          "line": {
           "color": "#371ea3",
           "dash": "dot",
           "width": 1.5
          },
          "type": "line",
          "x0": 0.17099567099567103,
          "x1": 0.17099567099567103,
          "xref": "x2",
          "y0": -1,
          "y1": 10,
          "yref": "y2"
         },
         {
          "line": {
           "color": "#371ea3",
           "dash": "dot",
           "width": 1.5
          },
          "type": "line",
          "x0": 0.15800865800865793,
          "x1": 0.15800865800865793,
          "xref": "x3",
          "y0": -1,
          "y1": 10,
          "yref": "y3"
         },
         {
          "line": {
           "color": "#371ea3",
           "dash": "dot",
           "width": 1.5
          },
          "type": "line",
          "x0": 0.15800865800865802,
          "x1": 0.15800865800865802,
          "xref": "x4",
          "y0": -1,
          "y1": 10,
          "yref": "y4"
         }
        ],
        "template": {
         "data": {
          "scatter": [
           {
            "type": "scatter"
           }
          ]
         }
        },
        "title": {
         "text": "Variable Importance",
         "x": 0.15
        },
        "xaxis": {
         "anchor": "y",
         "automargin": true,
         "domain": [
          0,
          1
         ],
         "fixedrange": true,
         "gridwidth": 2,
         "matches": "x4",
         "range": [
          0.03955086580086577,
          0.2360984848484848
         ],
         "showticklabels": false,
         "tickcolor": "white",
         "ticklen": 3,
         "ticks": "outside",
         "type": "linear",
         "zeroline": false
        },
        "xaxis2": {
         "anchor": "y2",
         "automargin": true,
         "domain": [
          0,
          1
         ],
         "fixedrange": true,
         "gridwidth": 2,
         "matches": "x4",
         "range": [
          0.03955086580086577,
          0.2360984848484848
         ],
         "showticklabels": false,
         "tickcolor": "white",
         "ticklen": 3,
         "ticks": "outside",
         "type": "linear",
         "zeroline": false
        },
        "xaxis3": {
         "anchor": "y3",
         "automargin": true,
         "domain": [
          0,
          1
         ],
         "fixedrange": true,
         "gridwidth": 2,
         "matches": "x4",
         "range": [
          0.03955086580086577,
          0.2360984848484848
         ],
         "showticklabels": false,
         "tickcolor": "white",
         "ticklen": 3,
         "ticks": "outside",
         "type": "linear",
         "zeroline": false
        },
        "xaxis4": {
         "anchor": "y4",
         "automargin": true,
         "domain": [
          0,
          1
         ],
         "fixedrange": true,
         "gridwidth": 2,
         "range": [
          0.03955086580086577,
          0.2360984848484848
         ],
         "tickcolor": "white",
         "ticklen": 3,
         "ticks": "outside",
         "type": "linear",
         "zeroline": false
        },
        "yaxis": {
         "anchor": "x",
         "automargin": true,
         "autorange": true,
         "domain": [
          0.7875,
          1
         ],
         "fixedrange": true,
         "gridwidth": 2,
         "range": [
          10.034087387666563,
          -1.0340873876665633
         ],
         "tickcolor": "white",
         "ticklen": 10,
         "ticks": "outside",
         "type": "category"
        },
        "yaxis2": {
         "anchor": "x2",
         "automargin": true,
         "autorange": true,
         "domain": [
          0.525,
          0.7375
         ],
         "fixedrange": true,
         "gridwidth": 2,
         "range": [
          10.034087387666563,
          -1.0340873876665633
         ],
         "tickcolor": "white",
         "ticklen": 10,
         "ticks": "outside",
         "type": "category"
        },
        "yaxis3": {
         "anchor": "x3",
         "automargin": true,
         "autorange": true,
         "domain": [
          0.2625,
          0.475
         ],
         "fixedrange": true,
         "gridwidth": 2,
         "range": [
          10.034087387666563,
          -1.0340873876665633
         ],
         "tickcolor": "white",
         "ticklen": 10,
         "ticks": "outside",
         "type": "category"
        },
        "yaxis4": {
         "anchor": "x4",
         "automargin": true,
         "autorange": true,
         "domain": [
          0,
          0.2125
         ],
         "fixedrange": true,
         "gridwidth": 2,
         "range": [
          10.034087387666563,
          -1.0340873876665633
         ],
         "tickcolor": "white",
         "ticklen": 10,
         "ticks": "outside",
         "type": "category"
        }
       }
      },
      "image/png": "[encoded data removed]",
      "text/html": [
       "<div>                            <div id=\"2b9cc389-7e0c-4b5d-b96b-02f93b2ea5de\" class=\"plotly-graph-div\" style=\"height:1295.0px; width:100%;\"></div>            <script type=\"text/javascript\">                require([\"plotly\"], function(Plotly) {                    window.PLOTLYENV=window.PLOTLYENV || {};                                    if (document.getElementById(\"2b9cc389-7e0c-4b5d-b96b-02f93b2ea5de\")) {                    Plotly.newPlot(                        \"2b9cc389-7e0c-4b5d-b96b-02f93b2ea5de\",                        [{\"base\":0.08658008658008653,\"hoverinfo\":\"text\",\"hoverlabel\":{\"bgcolor\":\"rgba(0,0,0,0.8)\"},\"hovertext\":[\"Model: logistic regression loss after<br>variable: oldpeak is permuted: 0.103<br>Drop-out loss change: +0.017\",\"Model: logistic regression loss after<br>variable: caa_2 is permuted: 0.149<br>Drop-out loss change: +0.062\",\"Model: logistic regression loss after<br>variable: caa_1 is permuted: 0.119<br>Drop-out loss change: +0.032\",\"Model: logistic regression loss after<br>variable: sex_1 is permuted: 0.129<br>Drop-out loss change: +0.042\",\"Model: logistic regression loss after<br>variable: thalachh is permuted: 0.102<br>Drop-out loss change: +0.015\",\"Model: logistic regression loss after<br>variable: cp_3 is permuted: 0.115<br>Drop-out loss change: +0.028\",\"Model: logistic regression loss after<br>variable: cp_2 is permuted: 0.111<br>Drop-out loss change: +0.024\",\"Model: logistic regression loss after<br>variable: cp_1 is permuted: 0.102<br>Drop-out loss change: +0.015\",\"Model: logistic regression loss after<br>variable: caa_3 is permuted: 0.106<br>Drop-out loss change: +0.02\",\"Model: logistic regression loss after<br>variable: trtbps is permuted: 0.099<br>Drop-out loss change: +0.012\"],\"marker\":{\"color\":\"#46bac2\"},\"orientation\":\"h\",\"showlegend\":false,\"text\":[\"+0.017\",\"+0.062\",\"+0.032\",\"+0.042\",\"+0.015\",\"+0.028\",\"+0.024\",\"+0.015\",\"+0.02\",\"+0.012\"],\"textposition\":\"outside\",\"x\":[0.01666666666666669,0.06201298701298702,0.03225108225108231,0.04242424242424245,0.015043290043290108,0.028030303030303044,0.02424242424242426,0.01515151515151518,0.019805194805194826,0.012229437229437243],\"y\":[\"oldpeak\",\"caa_2\",\"caa_1\",\"sex_1\",\"thalachh\",\"cp_3\",\"cp_2\",\"cp_1\",\"caa_3\",\"trtbps\"],\"type\":\"bar\",\"xaxis\":\"x\",\"yaxis\":\"y\"},{\"base\":0.17099567099567103,\"hoverinfo\":\"text\",\"hoverlabel\":{\"bgcolor\":\"rgba(0,0,0,0.8)\"},\"hovertext\":[\"Model: XGBoost with max_depth = 2 loss after<br>variable: oldpeak is permuted: 0.196<br>Drop-out loss change: +0.025\",\"Model: XGBoost with max_depth = 2 loss after<br>variable: thall_2 is permuted: 0.197<br>Drop-out loss change: +0.026\",\"Model: XGBoost with max_depth = 2 loss after<br>variable: caa_2 is permuted: 0.205<br>Drop-out loss change: +0.034\",\"Model: XGBoost with max_depth = 2 loss after<br>variable: caa_1 is permuted: 0.207<br>Drop-out loss change: +0.036\",\"Model: XGBoost with max_depth = 2 loss after<br>variable: sex_1 is permuted: 0.191<br>Drop-out loss change: +0.02\",\"Model: XGBoost with max_depth = 2 loss after<br>variable: thalachh is permuted: 0.189<br>Drop-out loss change: +0.018\",\"Model: XGBoost with max_depth = 2 loss after<br>variable: cp_3 is permuted: 0.181<br>Drop-out loss change: +0.01\",\"Model: XGBoost with max_depth = 2 loss after<br>variable: age is permuted: 0.185<br>Drop-out loss change: +0.015\",\"Model: XGBoost with max_depth = 2 loss after<br>variable: cp_2 is permuted: 0.183<br>Drop-out loss change: +0.012\",\"Model: XGBoost with max_depth = 2 loss after<br>variable: cp_1 is permuted: 0.182<br>Drop-out loss change: +0.011\"],\"marker\":{\"color\":\"#371ea3\"},\"orientation\":\"h\",\"showlegend\":false,\"text\":[\"+0.025\",\"+0.026\",\"+0.034\",\"+0.036\",\"+0.02\",\"+0.018\",\"+0.01\",\"+0.015\",\"+0.012\",\"+0.011\"],\"textposition\":\"outside\",\"x\":[0.024891774891774854,0.0259740259740259,0.033549783549783496,0.03647186147186146,0.02045454545454542,0.01839826839826833,0.010173160173160112,0.014502164502164433,0.011688311688311637,0.01136363636363627],\"y\":[\"oldpeak\",\"thall_2\",\"caa_2\",\"caa_1\",\"sex_1\",\"thalachh\",\"cp_3\",\"age\",\"cp_2\",\"cp_1\"],\"type\":\"bar\",\"xaxis\":\"x2\",\"yaxis\":\"y2\"},{\"base\":0.15800865800865793,\"hoverinfo\":\"text\",\"hoverlabel\":{\"bgcolor\":\"rgba(0,0,0,0.8)\"},\"hovertext\":[\"Model: XGBoost with max_depth = 4 loss after<br>variable: oldpeak is permuted: 0.203<br>Drop-out loss change: +0.045\",\"Model: XGBoost with max_depth = 4 loss after<br>variable: thall_2 is permuted: 0.203<br>Drop-out loss change: +0.045\",\"Model: XGBoost with max_depth = 4 loss after<br>variable: caa_2 is permuted: 0.174<br>Drop-out loss change: +0.016\",\"Model: XGBoost with max_depth = 4 loss after<br>variable: caa_1 is permuted: 0.183<br>Drop-out loss change: +0.025\",\"Model: XGBoost with max_depth = 4 loss after<br>variable: sex_1 is permuted: 0.175<br>Drop-out loss change: +0.017\",\"Model: XGBoost with max_depth = 4 loss after<br>variable: thalachh is permuted: 0.179<br>Drop-out loss change: +0.021\",\"Model: XGBoost with max_depth = 4 loss after<br>variable: cp_3 is permuted: 0.171<br>Drop-out loss change: +0.013\",\"Model: XGBoost with max_depth = 4 loss after<br>variable: age is permuted: 0.177<br>Drop-out loss change: +0.019\",\"Model: XGBoost with max_depth = 4 loss after<br>variable: cp_2 is permuted: 0.177<br>Drop-out loss change: +0.019\",\"Model: XGBoost with max_depth = 4 loss after<br>variable: slp_1 is permuted: 0.164<br>Drop-out loss change: +0.006\"],\"marker\":{\"color\":\"#8bdcbe\"},\"orientation\":\"h\",\"showlegend\":false,\"text\":[\"+0.045\",\"+0.045\",\"+0.016\",\"+0.025\",\"+0.017\",\"+0.021\",\"+0.013\",\"+0.019\",\"+0.019\",\"+0.006\"],\"textposition\":\"outside\",\"x\":[0.045346320346320385,0.0454545454545455,0.015909090909090956,0.0254329004329005,0.01742424242424251,0.02077922077922084,0.012878787878787934,0.019480519480519515,0.018939393939394006,0.0057359307359308165],\"y\":[\"oldpeak\",\"thall_2\",\"caa_2\",\"caa_1\",\"sex_1\",\"thalachh\",\"cp_3\",\"age\",\"cp_2\",\"slp_1\"],\"type\":\"bar\",\"xaxis\":\"x3\",\"yaxis\":\"y3\"},{\"base\":0.15800865800865802,\"hoverinfo\":\"text\",\"hoverlabel\":{\"bgcolor\":\"rgba(0,0,0,0.8)\"},\"hovertext\":[\"Model: XGBoost with max_depth = 6 loss after<br>variable: oldpeak is permuted: 0.213<br>Drop-out loss change: +0.055\",\"Model: XGBoost with max_depth = 6 loss after<br>variable: thall_2 is permuted: 0.21<br>Drop-out loss change: +0.052\",\"Model: XGBoost with max_depth = 6 loss after<br>variable: caa_2 is permuted: 0.168<br>Drop-out loss change: +0.01\",\"Model: XGBoost with max_depth = 6 loss after<br>variable: caa_1 is permuted: 0.185<br>Drop-out loss change: +0.027\",\"Model: XGBoost with max_depth = 6 loss after<br>variable: sex_1 is permuted: 0.184<br>Drop-out loss change: +0.026\",\"Model: XGBoost with max_depth = 6 loss after<br>variable: thalachh is permuted: 0.186<br>Drop-out loss change: +0.028\",\"Model: XGBoost with max_depth = 6 loss after<br>variable: cp_3 is permuted: 0.171<br>Drop-out loss change: +0.013\",\"Model: XGBoost with max_depth = 6 loss after<br>variable: age is permuted: 0.182<br>Drop-out loss change: +0.024\",\"Model: XGBoost with max_depth = 6 loss after<br>variable: slp_1 is permuted: 0.171<br>Drop-out loss change: +0.013\",\"Model: XGBoost with max_depth = 6 loss after<br>variable: exng_1 is permuted: 0.168<br>Drop-out loss change: +0.01\"],\"marker\":{\"color\":\"#4378bf\"},\"orientation\":\"h\",\"showlegend\":false,\"text\":[\"+0.055\",\"+0.052\",\"+0.01\",\"+0.027\",\"+0.026\",\"+0.028\",\"+0.013\",\"+0.024\",\"+0.013\",\"+0.01\"],\"textposition\":\"outside\",\"x\":[0.055411255411255356,0.0518398268398268,0.009956709956709942,0.02673160173160169,0.02575757575757573,0.028246753246753242,0.012770562770562738,0.024134199134199175,0.012770562770562766,0.009740259740259744],\"y\":[\"oldpeak\",\"thall_2\",\"caa_2\",\"caa_1\",\"sex_1\",\"thalachh\",\"cp_3\",\"age\",\"slp_1\",\"exng_1\"],\"type\":\"bar\",\"xaxis\":\"x4\",\"yaxis\":\"y4\"}],                        {\"template\":{\"data\":{\"scatter\":[{\"type\":\"scatter\"}]}},\"xaxis\":{\"anchor\":\"y\",\"domain\":[0.0,1.0],\"matches\":\"x4\",\"showticklabels\":false,\"type\":\"linear\",\"gridwidth\":2,\"zeroline\":false,\"automargin\":true,\"ticks\":\"outside\",\"tickcolor\":\"white\",\"ticklen\":3,\"fixedrange\":true,\"range\":[0.03955086580086577,0.2360984848484848]},\"yaxis\":{\"anchor\":\"x\",\"domain\":[0.7875,1.0],\"type\":\"category\",\"autorange\":\"reversed\",\"gridwidth\":2,\"automargin\":true,\"ticks\":\"outside\",\"tickcolor\":\"white\",\"ticklen\":10,\"fixedrange\":true},\"xaxis2\":{\"anchor\":\"y2\",\"domain\":[0.0,1.0],\"matches\":\"x4\",\"showticklabels\":false,\"type\":\"linear\",\"gridwidth\":2,\"zeroline\":false,\"automargin\":true,\"ticks\":\"outside\",\"tickcolor\":\"white\",\"ticklen\":3,\"fixedrange\":true,\"range\":[0.03955086580086577,0.2360984848484848]},\"yaxis2\":{\"anchor\":\"x2\",\"domain\":[0.525,0.7375],\"type\":\"category\",\"autorange\":\"reversed\",\"gridwidth\":2,\"automargin\":true,\"ticks\":\"outside\",\"tickcolor\":\"white\",\"ticklen\":10,\"fixedrange\":true},\"xaxis3\":{\"anchor\":\"y3\",\"domain\":[0.0,1.0],\"matches\":\"x4\",\"showticklabels\":false,\"type\":\"linear\",\"gridwidth\":2,\"zeroline\":false,\"automargin\":true,\"ticks\":\"outside\",\"tickcolor\":\"white\",\"ticklen\":3,\"fixedrange\":true,\"range\":[0.03955086580086577,0.2360984848484848]},\"yaxis3\":{\"anchor\":\"x3\",\"domain\":[0.2625,0.475],\"type\":\"category\",\"autorange\":\"reversed\",\"gridwidth\":2,\"automargin\":true,\"ticks\":\"outside\",\"tickcolor\":\"white\",\"ticklen\":10,\"fixedrange\":true},\"xaxis4\":{\"anchor\":\"y4\",\"domain\":[0.0,1.0],\"type\":\"linear\",\"gridwidth\":2,\"zeroline\":false,\"automargin\":true,\"ticks\":\"outside\",\"tickcolor\":\"white\",\"ticklen\":3,\"fixedrange\":true,\"range\":[0.03955086580086577,0.2360984848484848]},\"yaxis4\":{\"anchor\":\"x4\",\"domain\":[0.0,0.2125],\"type\":\"category\",\"autorange\":\"reversed\",\"gridwidth\":2,\"automargin\":true,\"ticks\":\"outside\",\"tickcolor\":\"white\",\"ticklen\":10,\"fixedrange\":true},\"annotations\":[{\"font\":{\"size\":16},\"showarrow\":false,\"text\":\"logistic regression\",\"x\":0.5,\"xanchor\":\"center\",\"xref\":\"paper\",\"y\":1.0,\"yanchor\":\"bottom\",\"yref\":\"paper\"},{\"font\":{\"size\":16},\"showarrow\":false,\"text\":\"XGBoost with max_depth = 2\",\"x\":0.5,\"xanchor\":\"center\",\"xref\":\"paper\",\"y\":0.7375,\"yanchor\":\"bottom\",\"yref\":\"paper\"},{\"font\":{\"size\":16},\"showarrow\":false,\"text\":\"XGBoost with max_depth = 4\",\"x\":0.5,\"xanchor\":\"center\",\"xref\":\"paper\",\"y\":0.475,\"yanchor\":\"bottom\",\"yref\":\"paper\"},{\"font\":{\"size\":16},\"showarrow\":false,\"text\":\"XGBoost with max_depth = 6\",\"x\":0.5,\"xanchor\":\"center\",\"xref\":\"paper\",\"y\":0.2125,\"yanchor\":\"bottom\",\"yref\":\"paper\"},{\"font\":{\"size\":16},\"showarrow\":false,\"text\":\"drop-out loss\",\"x\":0.5,\"xanchor\":\"center\",\"xref\":\"paper\",\"y\":0,\"yanchor\":\"top\",\"yref\":\"paper\",\"yshift\":-30}],\"shapes\":[{\"line\":{\"color\":\"#371ea3\",\"dash\":\"dot\",\"width\":1.5},\"type\":\"line\",\"x0\":0.08658008658008653,\"x1\":0.08658008658008653,\"xref\":\"x\",\"y0\":-1,\"y1\":10,\"yref\":\"y\"},{\"line\":{\"color\":\"#371ea3\",\"dash\":\"dot\",\"width\":1.5},\"type\":\"line\",\"x0\":0.17099567099567103,\"x1\":0.17099567099567103,\"xref\":\"x2\",\"y0\":-1,\"y1\":10,\"yref\":\"y2\"},{\"line\":{\"color\":\"#371ea3\",\"dash\":\"dot\",\"width\":1.5},\"type\":\"line\",\"x0\":0.15800865800865793,\"x1\":0.15800865800865793,\"xref\":\"x3\",\"y0\":-1,\"y1\":10,\"yref\":\"y3\"},{\"line\":{\"color\":\"#371ea3\",\"dash\":\"dot\",\"width\":1.5},\"type\":\"line\",\"x0\":0.15800865800865802,\"x1\":0.15800865800865802,\"xref\":\"x4\",\"y0\":-1,\"y1\":10,\"yref\":\"y4\"}],\"title\":{\"text\":\"Variable Importance\",\"x\":0.15},\"font\":{\"color\":\"#371ea3\"},\"margin\":{\"t\":78,\"b\":71,\"r\":30},\"height\":1295.0},                        {\"responsive\": true}                    ).then(function(){\n",
       "                            \n",
       "var gd = document.getElementById('2b9cc389-7e0c-4b5d-b96b-02f93b2ea5de');\n",
       "var x = new MutationObserver(function (mutations, observer) {{\n",
       "        var display = window.getComputedStyle(gd).display;\n",
       "        if (!display || display === 'none') {{\n",
       "            console.log([gd, 'removed!']);\n",
       "            Plotly.purge(gd);\n",
       "            observer.disconnect();\n",
       "        }}\n",
       "}});\n",
       "\n",
       "// Listen for the removal of the full notebook cells\n",
       "var notebookContainer = gd.closest('#notebook-container');\n",
       "if (notebookContainer) {{\n",
       "    x.observe(notebookContainer, {childList: true});\n",
       "}}\n",
       "\n",
       "// Listen for the clearing of the current output cell\n",
       "var outputEl = gd.closest('.output');\n",
       "if (outputEl) {{\n",
       "    x.observe(outputEl, {childList: true});\n",
       "}}\n",
       "\n",
       "                        })                };                });            </script>        </div>"
      ]
     },
     "metadata": {},
     "output_type": "display_data"
    }
   ],
   "source": [
    "pvi_4.plot([pvi_3, pvi, pvi_2], show=False)"
   ]
  },
  {
   "cell_type": "markdown",
   "metadata": {},
   "source": [
    "## 3. For the tree-based model from (1), compare PVI with:\n",
    "\n",
    "###    A) the traditional feature importance measures for trees: Gini impurity etc.; what is implemented in a given library: see e.g. the feature_importances_ attribute in xgboost and sklearn.\n"
   ]
  },
  {
   "cell_type": "code",
   "execution_count": 34,
   "metadata": {},
   "outputs": [],
   "source": [
    "importance_df = pd.DataFrame(data=dict(name=xgboost_model.feature_names_in_, importance=xgboost_model.feature_importances_))"
   ]
  },
  {
   "cell_type": "code",
   "execution_count": 51,
   "metadata": {},
   "outputs": [
    {
     "data": {
      "text/plain": [
       "'gain'"
      ]
     },
     "execution_count": 51,
     "metadata": {},
     "output_type": "execute_result"
    }
   ],
   "source": [
    "xgboost_model.importance_type"
   ]
  },
  {
   "cell_type": "code",
   "execution_count": 35,
   "metadata": {},
   "outputs": [],
   "source": [
    "importance_df = importance_df.sort_values(by=\"importance\", ascending=False)\n",
    "importance_df = importance_df.head(10).iloc[::-1]"
   ]
  },
  {
   "cell_type": "code",
   "execution_count": 61,
   "metadata": {},
   "outputs": [
    {
     "data": {
      "application/vnd.plotly.v1+json": {
       "config": {
        "plotlyServerURL": "https://plot.ly"
       },
       "data": [
        {
         "alignmentgroup": "True",
         "hovertemplate": "importance=%{x}<br>name=%{y}<extra></extra>",
         "legendgroup": "",
         "marker": {
          "color": "#636efa",
          "pattern": {
           "shape": ""
          }
         },
         "name": "",
         "offsetgroup": "",
         "orientation": "h",
         "showlegend": false,
         "textposition": "auto",
         "type": "bar",
         "x": [
          0.03445468097925186,
          0.04372347891330719,
          0.04513803496956825,
          0.054082367569208145,
          0.06284450739622116,
          0.06373462080955505,
          0.06383544206619263,
          0.10558072477579117,
          0.10872481018304825,
          0.2500300407409668
         ],
         "xaxis": "x",
         "y": [
          "oldpeak",
          "caa_1",
          "sex_1",
          "cp_2",
          "slp_2",
          "cp_1",
          "cp_3",
          "exng_1",
          "thall_1",
          "thall_2"
         ],
         "yaxis": "y"
        }
       ],
       "layout": {
        "autosize": false,
        "barmode": "relative",
        "height": 450,
        "legend": {
         "tracegroupgap": 0
        },
        "template": {
         "data": {
          "bar": [
           {
            "error_x": {
             "color": "#2a3f5f"
            },
            "error_y": {
             "color": "#2a3f5f"
            },
            "marker": {
             "line": {
              "color": "#E5ECF6",
              "width": 0.5
             },
             "pattern": {
              "fillmode": "overlay",
              "size": 10,
              "solidity": 0.2
             }
            },
            "type": "bar"
           }
          ],
          "barpolar": [
           {
            "marker": {
             "line": {
              "color": "#E5ECF6",
              "width": 0.5
             },
             "pattern": {
              "fillmode": "overlay",
              "size": 10,
              "solidity": 0.2
             }
            },
            "type": "barpolar"
           }
          ],
          "carpet": [
           {
            "aaxis": {
             "endlinecolor": "#2a3f5f",
             "gridcolor": "white",
             "linecolor": "white",
             "minorgridcolor": "white",
             "startlinecolor": "#2a3f5f"
            },
            "baxis": {
             "endlinecolor": "#2a3f5f",
             "gridcolor": "white",
             "linecolor": "white",
             "minorgridcolor": "white",
             "startlinecolor": "#2a3f5f"
            },
            "type": "carpet"
           }
          ],
          "choropleth": [
           {
            "colorbar": {
             "outlinewidth": 0,
             "ticks": ""
            },
            "type": "choropleth"
           }
          ],
          "contour": [
           {
            "colorbar": {
             "outlinewidth": 0,
             "ticks": ""
            },
            "colorscale": [
             [
              0,
              "#0d0887"
             ],
             [
              0.1111111111111111,
              "#46039f"
             ],
             [
              0.2222222222222222,
              "#7201a8"
             ],
             [
              0.3333333333333333,
              "#9c179e"
             ],
             [
              0.4444444444444444,
              "#bd3786"
             ],
             [
              0.5555555555555556,
              "#d8576b"
             ],
             [
              0.6666666666666666,
              "#ed7953"
             ],
             [
              0.7777777777777778,
              "#fb9f3a"
             ],
             [
              0.8888888888888888,
              "#fdca26"
             ],
             [
              1,
              "#f0f921"
             ]
            ],
            "type": "contour"
           }
          ],
          "contourcarpet": [
           {
            "colorbar": {
             "outlinewidth": 0,
             "ticks": ""
            },
            "type": "contourcarpet"
           }
          ],
          "heatmap": [
           {
            "colorbar": {
             "outlinewidth": 0,
             "ticks": ""
            },
            "colorscale": [
             [
              0,
              "#0d0887"
             ],
             [
              0.1111111111111111,
              "#46039f"
             ],
             [
              0.2222222222222222,
              "#7201a8"
             ],
             [
              0.3333333333333333,
              "#9c179e"
             ],
             [
              0.4444444444444444,
              "#bd3786"
             ],
             [
              0.5555555555555556,
              "#d8576b"
             ],
             [
              0.6666666666666666,
              "#ed7953"
             ],
             [
              0.7777777777777778,
              "#fb9f3a"
             ],
             [
              0.8888888888888888,
              "#fdca26"
             ],
             [
              1,
              "#f0f921"
             ]
            ],
            "type": "heatmap"
           }
          ],
          "heatmapgl": [
           {
            "colorbar": {
             "outlinewidth": 0,
             "ticks": ""
            },
            "colorscale": [
             [
              0,
              "#0d0887"
             ],
             [
              0.1111111111111111,
              "#46039f"
             ],
             [
              0.2222222222222222,
              "#7201a8"
             ],
             [
              0.3333333333333333,
              "#9c179e"
             ],
             [
              0.4444444444444444,
              "#bd3786"
             ],
             [
              0.5555555555555556,
              "#d8576b"
             ],
             [
              0.6666666666666666,
              "#ed7953"
             ],
             [
              0.7777777777777778,
              "#fb9f3a"
             ],
             [
              0.8888888888888888,
              "#fdca26"
             ],
             [
              1,
              "#f0f921"
             ]
            ],
            "type": "heatmapgl"
           }
          ],
          "histogram": [
           {
            "marker": {
             "pattern": {
              "fillmode": "overlay",
              "size": 10,
              "solidity": 0.2
             }
            },
            "type": "histogram"
           }
          ],
          "histogram2d": [
           {
            "colorbar": {
             "outlinewidth": 0,
             "ticks": ""
            },
            "colorscale": [
             [
              0,
              "#0d0887"
             ],
             [
              0.1111111111111111,
              "#46039f"
             ],
             [
              0.2222222222222222,
              "#7201a8"
             ],
             [
              0.3333333333333333,
              "#9c179e"
             ],
             [
              0.4444444444444444,
              "#bd3786"
             ],
             [
              0.5555555555555556,
              "#d8576b"
             ],
             [
              0.6666666666666666,
              "#ed7953"
             ],
             [
              0.7777777777777778,
              "#fb9f3a"
             ],
             [
              0.8888888888888888,
              "#fdca26"
             ],
             [
              1,
              "#f0f921"
             ]
            ],
            "type": "histogram2d"
           }
          ],
          "histogram2dcontour": [
           {
            "colorbar": {
             "outlinewidth": 0,
             "ticks": ""
            },
            "colorscale": [
             [
              0,
              "#0d0887"
             ],
             [
              0.1111111111111111,
              "#46039f"
             ],
             [
              0.2222222222222222,
              "#7201a8"
             ],
             [
              0.3333333333333333,
              "#9c179e"
             ],
             [
              0.4444444444444444,
              "#bd3786"
             ],
             [
              0.5555555555555556,
              "#d8576b"
             ],
             [
              0.6666666666666666,
              "#ed7953"
             ],
             [
              0.7777777777777778,
              "#fb9f3a"
             ],
             [
              0.8888888888888888,
              "#fdca26"
             ],
             [
              1,
              "#f0f921"
             ]
            ],
            "type": "histogram2dcontour"
           }
          ],
          "mesh3d": [
           {
            "colorbar": {
             "outlinewidth": 0,
             "ticks": ""
            },
            "type": "mesh3d"
           }
          ],
          "parcoords": [
           {
            "line": {
             "colorbar": {
              "outlinewidth": 0,
              "ticks": ""
             }
            },
            "type": "parcoords"
           }
          ],
          "pie": [
           {
            "automargin": true,
            "type": "pie"
           }
          ],
          "scatter": [
           {
            "fillpattern": {
             "fillmode": "overlay",
             "size": 10,
             "solidity": 0.2
            },
            "type": "scatter"
           }
          ],
          "scatter3d": [
           {
            "line": {
             "colorbar": {
              "outlinewidth": 0,
              "ticks": ""
             }
            },
            "marker": {
             "colorbar": {
              "outlinewidth": 0,
              "ticks": ""
             }
            },
            "type": "scatter3d"
           }
          ],
          "scattercarpet": [
           {
            "marker": {
             "colorbar": {
              "outlinewidth": 0,
              "ticks": ""
             }
            },
            "type": "scattercarpet"
           }
          ],
          "scattergeo": [
           {
            "marker": {
             "colorbar": {
              "outlinewidth": 0,
              "ticks": ""
             }
            },
            "type": "scattergeo"
           }
          ],
          "scattergl": [
           {
            "marker": {
             "colorbar": {
              "outlinewidth": 0,
              "ticks": ""
             }
            },
            "type": "scattergl"
           }
          ],
          "scattermapbox": [
           {
            "marker": {
             "colorbar": {
              "outlinewidth": 0,
              "ticks": ""
             }
            },
            "type": "scattermapbox"
           }
          ],
          "scatterpolar": [
           {
            "marker": {
             "colorbar": {
              "outlinewidth": 0,
              "ticks": ""
             }
            },
            "type": "scatterpolar"
           }
          ],
          "scatterpolargl": [
           {
            "marker": {
             "colorbar": {
              "outlinewidth": 0,
              "ticks": ""
             }
            },
            "type": "scatterpolargl"
           }
          ],
          "scatterternary": [
           {
            "marker": {
             "colorbar": {
              "outlinewidth": 0,
              "ticks": ""
             }
            },
            "type": "scatterternary"
           }
          ],
          "surface": [
           {
            "colorbar": {
             "outlinewidth": 0,
             "ticks": ""
            },
            "colorscale": [
             [
              0,
              "#0d0887"
             ],
             [
              0.1111111111111111,
              "#46039f"
             ],
             [
              0.2222222222222222,
              "#7201a8"
             ],
             [
              0.3333333333333333,
              "#9c179e"
             ],
             [
              0.4444444444444444,
              "#bd3786"
             ],
             [
              0.5555555555555556,
              "#d8576b"
             ],
             [
              0.6666666666666666,
              "#ed7953"
             ],
             [
              0.7777777777777778,
              "#fb9f3a"
             ],
             [
              0.8888888888888888,
              "#fdca26"
             ],
             [
              1,
              "#f0f921"
             ]
            ],
            "type": "surface"
           }
          ],
          "table": [
           {
            "cells": {
             "fill": {
              "color": "#EBF0F8"
             },
             "line": {
              "color": "white"
             }
            },
            "header": {
             "fill": {
              "color": "#C8D4E3"
             },
             "line": {
              "color": "white"
             }
            },
            "type": "table"
           }
          ]
         },
         "layout": {
          "annotationdefaults": {
           "arrowcolor": "#2a3f5f",
           "arrowhead": 0,
           "arrowwidth": 1
          },
          "autotypenumbers": "strict",
          "coloraxis": {
           "colorbar": {
            "outlinewidth": 0,
            "ticks": ""
           }
          },
          "colorscale": {
           "diverging": [
            [
             0,
             "#8e0152"
            ],
            [
             0.1,
             "#c51b7d"
            ],
            [
             0.2,
             "#de77ae"
            ],
            [
             0.3,
             "#f1b6da"
            ],
            [
             0.4,
             "#fde0ef"
            ],
            [
             0.5,
             "#f7f7f7"
            ],
            [
             0.6,
             "#e6f5d0"
            ],
            [
             0.7,
             "#b8e186"
            ],
            [
             0.8,
             "#7fbc41"
            ],
            [
             0.9,
             "#4d9221"
            ],
            [
             1,
             "#276419"
            ]
           ],
           "sequential": [
            [
             0,
             "#0d0887"
            ],
            [
             0.1111111111111111,
             "#46039f"
            ],
            [
             0.2222222222222222,
             "#7201a8"
            ],
            [
             0.3333333333333333,
             "#9c179e"
            ],
            [
             0.4444444444444444,
             "#bd3786"
            ],
            [
             0.5555555555555556,
             "#d8576b"
            ],
            [
             0.6666666666666666,
             "#ed7953"
            ],
            [
             0.7777777777777778,
             "#fb9f3a"
            ],
            [
             0.8888888888888888,
             "#fdca26"
            ],
            [
             1,
             "#f0f921"
            ]
           ],
           "sequentialminus": [
            [
             0,
             "#0d0887"
            ],
            [
             0.1111111111111111,
             "#46039f"
            ],
            [
             0.2222222222222222,
             "#7201a8"
            ],
            [
             0.3333333333333333,
             "#9c179e"
            ],
            [
             0.4444444444444444,
             "#bd3786"
            ],
            [
             0.5555555555555556,
             "#d8576b"
            ],
            [
             0.6666666666666666,
             "#ed7953"
            ],
            [
             0.7777777777777778,
             "#fb9f3a"
            ],
            [
             0.8888888888888888,
             "#fdca26"
            ],
            [
             1,
             "#f0f921"
            ]
           ]
          },
          "colorway": [
           "#636efa",
           "#EF553B",
           "#00cc96",
           "#ab63fa",
           "#FFA15A",
           "#19d3f3",
           "#FF6692",
           "#B6E880",
           "#FF97FF",
           "#FECB52"
          ],
          "font": {
           "color": "#2a3f5f"
          },
          "geo": {
           "bgcolor": "white",
           "lakecolor": "white",
           "landcolor": "#E5ECF6",
           "showlakes": true,
           "showland": true,
           "subunitcolor": "white"
          },
          "hoverlabel": {
           "align": "left"
          },
          "hovermode": "closest",
          "mapbox": {
           "style": "light"
          },
          "paper_bgcolor": "white",
          "plot_bgcolor": "#E5ECF6",
          "polar": {
           "angularaxis": {
            "gridcolor": "white",
            "linecolor": "white",
            "ticks": ""
           },
           "bgcolor": "#E5ECF6",
           "radialaxis": {
            "gridcolor": "white",
            "linecolor": "white",
            "ticks": ""
           }
          },
          "scene": {
           "xaxis": {
            "backgroundcolor": "#E5ECF6",
            "gridcolor": "white",
            "gridwidth": 2,
            "linecolor": "white",
            "showbackground": true,
            "ticks": "",
            "zerolinecolor": "white"
           },
           "yaxis": {
            "backgroundcolor": "#E5ECF6",
            "gridcolor": "white",
            "gridwidth": 2,
            "linecolor": "white",
            "showbackground": true,
            "ticks": "",
            "zerolinecolor": "white"
           },
           "zaxis": {
            "backgroundcolor": "#E5ECF6",
            "gridcolor": "white",
            "gridwidth": 2,
            "linecolor": "white",
            "showbackground": true,
            "ticks": "",
            "zerolinecolor": "white"
           }
          },
          "shapedefaults": {
           "line": {
            "color": "#2a3f5f"
           }
          },
          "ternary": {
           "aaxis": {
            "gridcolor": "white",
            "linecolor": "white",
            "ticks": ""
           },
           "baxis": {
            "gridcolor": "white",
            "linecolor": "white",
            "ticks": ""
           },
           "bgcolor": "#E5ECF6",
           "caxis": {
            "gridcolor": "white",
            "linecolor": "white",
            "ticks": ""
           }
          },
          "title": {
           "x": 0.05
          },
          "xaxis": {
           "automargin": true,
           "gridcolor": "white",
           "linecolor": "white",
           "ticks": "",
           "title": {
            "standoff": 15
           },
           "zerolinecolor": "white",
           "zerolinewidth": 2
          },
          "yaxis": {
           "automargin": true,
           "gridcolor": "white",
           "linecolor": "white",
           "ticks": "",
           "title": {
            "standoff": 15
           },
           "zerolinecolor": "white",
           "zerolinewidth": 2
          }
         }
        },
        "title": {
         "text": "XGBoost 'gain' importance"
        },
        "width": 600,
        "xaxis": {
         "anchor": "y",
         "autorange": true,
         "domain": [
          0,
          1
         ],
         "range": [
          0,
          0.26318951656943873
         ],
         "title": {
          "text": "importance"
         },
         "type": "linear"
        },
        "yaxis": {
         "anchor": "x",
         "autorange": true,
         "domain": [
          0,
          1
         ],
         "range": [
          -0.5,
          9.5
         ],
         "title": {
          "text": "name"
         },
         "type": "category"
        }
       }
      },
      "image/png": "[encoded data removed]",
      "text/html": [
       "<div>                            <div id=\"18a56c4c-6e70-47be-9501-f894cd68f8f3\" class=\"plotly-graph-div\" style=\"height:450px; width:600px;\"></div>            <script type=\"text/javascript\">                require([\"plotly\"], function(Plotly) {                    window.PLOTLYENV=window.PLOTLYENV || {};                                    if (document.getElementById(\"18a56c4c-6e70-47be-9501-f894cd68f8f3\")) {                    Plotly.newPlot(                        \"18a56c4c-6e70-47be-9501-f894cd68f8f3\",                        [{\"alignmentgroup\":\"True\",\"hovertemplate\":\"importance=%{x}<br>name=%{y}<extra></extra>\",\"legendgroup\":\"\",\"marker\":{\"color\":\"#636efa\",\"pattern\":{\"shape\":\"\"}},\"name\":\"\",\"offsetgroup\":\"\",\"orientation\":\"h\",\"showlegend\":false,\"textposition\":\"auto\",\"x\":[0.03445468097925186,0.04372347891330719,0.04513803496956825,0.054082367569208145,0.06284450739622116,0.06373462080955505,0.06383544206619263,0.10558072477579117,0.10872481018304825,0.2500300407409668],\"xaxis\":\"x\",\"y\":[\"oldpeak\",\"caa_1\",\"sex_1\",\"cp_2\",\"slp_2\",\"cp_1\",\"cp_3\",\"exng_1\",\"thall_1\",\"thall_2\"],\"yaxis\":\"y\",\"type\":\"bar\"}],                        {\"template\":{\"data\":{\"histogram2dcontour\":[{\"type\":\"histogram2dcontour\",\"colorbar\":{\"outlinewidth\":0,\"ticks\":\"\"},\"colorscale\":[[0.0,\"#0d0887\"],[0.1111111111111111,\"#46039f\"],[0.2222222222222222,\"#7201a8\"],[0.3333333333333333,\"#9c179e\"],[0.4444444444444444,\"#bd3786\"],[0.5555555555555556,\"#d8576b\"],[0.6666666666666666,\"#ed7953\"],[0.7777777777777778,\"#fb9f3a\"],[0.8888888888888888,\"#fdca26\"],[1.0,\"#f0f921\"]]}],\"choropleth\":[{\"type\":\"choropleth\",\"colorbar\":{\"outlinewidth\":0,\"ticks\":\"\"}}],\"histogram2d\":[{\"type\":\"histogram2d\",\"colorbar\":{\"outlinewidth\":0,\"ticks\":\"\"},\"colorscale\":[[0.0,\"#0d0887\"],[0.1111111111111111,\"#46039f\"],[0.2222222222222222,\"#7201a8\"],[0.3333333333333333,\"#9c179e\"],[0.4444444444444444,\"#bd3786\"],[0.5555555555555556,\"#d8576b\"],[0.6666666666666666,\"#ed7953\"],[0.7777777777777778,\"#fb9f3a\"],[0.8888888888888888,\"#fdca26\"],[1.0,\"#f0f921\"]]}],\"heatmap\":[{\"type\":\"heatmap\",\"colorbar\":{\"outlinewidth\":0,\"ticks\":\"\"},\"colorscale\":[[0.0,\"#0d0887\"],[0.1111111111111111,\"#46039f\"],[0.2222222222222222,\"#7201a8\"],[0.3333333333333333,\"#9c179e\"],[0.4444444444444444,\"#bd3786\"],[0.5555555555555556,\"#d8576b\"],[0.6666666666666666,\"#ed7953\"],[0.7777777777777778,\"#fb9f3a\"],[0.8888888888888888,\"#fdca26\"],[1.0,\"#f0f921\"]]}],\"heatmapgl\":[{\"type\":\"heatmapgl\",\"colorbar\":{\"outlinewidth\":0,\"ticks\":\"\"},\"colorscale\":[[0.0,\"#0d0887\"],[0.1111111111111111,\"#46039f\"],[0.2222222222222222,\"#7201a8\"],[0.3333333333333333,\"#9c179e\"],[0.4444444444444444,\"#bd3786\"],[0.5555555555555556,\"#d8576b\"],[0.6666666666666666,\"#ed7953\"],[0.7777777777777778,\"#fb9f3a\"],[0.8888888888888888,\"#fdca26\"],[1.0,\"#f0f921\"]]}],\"contourcarpet\":[{\"type\":\"contourcarpet\",\"colorbar\":{\"outlinewidth\":0,\"ticks\":\"\"}}],\"contour\":[{\"type\":\"contour\",\"colorbar\":{\"outlinewidth\":0,\"ticks\":\"\"},\"colorscale\":[[0.0,\"#0d0887\"],[0.1111111111111111,\"#46039f\"],[0.2222222222222222,\"#7201a8\"],[0.3333333333333333,\"#9c179e\"],[0.4444444444444444,\"#bd3786\"],[0.5555555555555556,\"#d8576b\"],[0.6666666666666666,\"#ed7953\"],[0.7777777777777778,\"#fb9f3a\"],[0.8888888888888888,\"#fdca26\"],[1.0,\"#f0f921\"]]}],\"surface\":[{\"type\":\"surface\",\"colorbar\":{\"outlinewidth\":0,\"ticks\":\"\"},\"colorscale\":[[0.0,\"#0d0887\"],[0.1111111111111111,\"#46039f\"],[0.2222222222222222,\"#7201a8\"],[0.3333333333333333,\"#9c179e\"],[0.4444444444444444,\"#bd3786\"],[0.5555555555555556,\"#d8576b\"],[0.6666666666666666,\"#ed7953\"],[0.7777777777777778,\"#fb9f3a\"],[0.8888888888888888,\"#fdca26\"],[1.0,\"#f0f921\"]]}],\"mesh3d\":[{\"type\":\"mesh3d\",\"colorbar\":{\"outlinewidth\":0,\"ticks\":\"\"}}],\"scatter\":[{\"fillpattern\":{\"fillmode\":\"overlay\",\"size\":10,\"solidity\":0.2},\"type\":\"scatter\"}],\"parcoords\":[{\"type\":\"parcoords\",\"line\":{\"colorbar\":{\"outlinewidth\":0,\"ticks\":\"\"}}}],\"scatterpolargl\":[{\"type\":\"scatterpolargl\",\"marker\":{\"colorbar\":{\"outlinewidth\":0,\"ticks\":\"\"}}}],\"bar\":[{\"error_x\":{\"color\":\"#2a3f5f\"},\"error_y\":{\"color\":\"#2a3f5f\"},\"marker\":{\"line\":{\"color\":\"#E5ECF6\",\"width\":0.5},\"pattern\":{\"fillmode\":\"overlay\",\"size\":10,\"solidity\":0.2}},\"type\":\"bar\"}],\"scattergeo\":[{\"type\":\"scattergeo\",\"marker\":{\"colorbar\":{\"outlinewidth\":0,\"ticks\":\"\"}}}],\"scatterpolar\":[{\"type\":\"scatterpolar\",\"marker\":{\"colorbar\":{\"outlinewidth\":0,\"ticks\":\"\"}}}],\"histogram\":[{\"marker\":{\"pattern\":{\"fillmode\":\"overlay\",\"size\":10,\"solidity\":0.2}},\"type\":\"histogram\"}],\"scattergl\":[{\"type\":\"scattergl\",\"marker\":{\"colorbar\":{\"outlinewidth\":0,\"ticks\":\"\"}}}],\"scatter3d\":[{\"type\":\"scatter3d\",\"line\":{\"colorbar\":{\"outlinewidth\":0,\"ticks\":\"\"}},\"marker\":{\"colorbar\":{\"outlinewidth\":0,\"ticks\":\"\"}}}],\"scattermapbox\":[{\"type\":\"scattermapbox\",\"marker\":{\"colorbar\":{\"outlinewidth\":0,\"ticks\":\"\"}}}],\"scatterternary\":[{\"type\":\"scatterternary\",\"marker\":{\"colorbar\":{\"outlinewidth\":0,\"ticks\":\"\"}}}],\"scattercarpet\":[{\"type\":\"scattercarpet\",\"marker\":{\"colorbar\":{\"outlinewidth\":0,\"ticks\":\"\"}}}],\"carpet\":[{\"aaxis\":{\"endlinecolor\":\"#2a3f5f\",\"gridcolor\":\"white\",\"linecolor\":\"white\",\"minorgridcolor\":\"white\",\"startlinecolor\":\"#2a3f5f\"},\"baxis\":{\"endlinecolor\":\"#2a3f5f\",\"gridcolor\":\"white\",\"linecolor\":\"white\",\"minorgridcolor\":\"white\",\"startlinecolor\":\"#2a3f5f\"},\"type\":\"carpet\"}],\"table\":[{\"cells\":{\"fill\":{\"color\":\"#EBF0F8\"},\"line\":{\"color\":\"white\"}},\"header\":{\"fill\":{\"color\":\"#C8D4E3\"},\"line\":{\"color\":\"white\"}},\"type\":\"table\"}],\"barpolar\":[{\"marker\":{\"line\":{\"color\":\"#E5ECF6\",\"width\":0.5},\"pattern\":{\"fillmode\":\"overlay\",\"size\":10,\"solidity\":0.2}},\"type\":\"barpolar\"}],\"pie\":[{\"automargin\":true,\"type\":\"pie\"}]},\"layout\":{\"autotypenumbers\":\"strict\",\"colorway\":[\"#636efa\",\"#EF553B\",\"#00cc96\",\"#ab63fa\",\"#FFA15A\",\"#19d3f3\",\"#FF6692\",\"#B6E880\",\"#FF97FF\",\"#FECB52\"],\"font\":{\"color\":\"#2a3f5f\"},\"hovermode\":\"closest\",\"hoverlabel\":{\"align\":\"left\"},\"paper_bgcolor\":\"white\",\"plot_bgcolor\":\"#E5ECF6\",\"polar\":{\"bgcolor\":\"#E5ECF6\",\"angularaxis\":{\"gridcolor\":\"white\",\"linecolor\":\"white\",\"ticks\":\"\"},\"radialaxis\":{\"gridcolor\":\"white\",\"linecolor\":\"white\",\"ticks\":\"\"}},\"ternary\":{\"bgcolor\":\"#E5ECF6\",\"aaxis\":{\"gridcolor\":\"white\",\"linecolor\":\"white\",\"ticks\":\"\"},\"baxis\":{\"gridcolor\":\"white\",\"linecolor\":\"white\",\"ticks\":\"\"},\"caxis\":{\"gridcolor\":\"white\",\"linecolor\":\"white\",\"ticks\":\"\"}},\"coloraxis\":{\"colorbar\":{\"outlinewidth\":0,\"ticks\":\"\"}},\"colorscale\":{\"sequential\":[[0.0,\"#0d0887\"],[0.1111111111111111,\"#46039f\"],[0.2222222222222222,\"#7201a8\"],[0.3333333333333333,\"#9c179e\"],[0.4444444444444444,\"#bd3786\"],[0.5555555555555556,\"#d8576b\"],[0.6666666666666666,\"#ed7953\"],[0.7777777777777778,\"#fb9f3a\"],[0.8888888888888888,\"#fdca26\"],[1.0,\"#f0f921\"]],\"sequentialminus\":[[0.0,\"#0d0887\"],[0.1111111111111111,\"#46039f\"],[0.2222222222222222,\"#7201a8\"],[0.3333333333333333,\"#9c179e\"],[0.4444444444444444,\"#bd3786\"],[0.5555555555555556,\"#d8576b\"],[0.6666666666666666,\"#ed7953\"],[0.7777777777777778,\"#fb9f3a\"],[0.8888888888888888,\"#fdca26\"],[1.0,\"#f0f921\"]],\"diverging\":[[0,\"#8e0152\"],[0.1,\"#c51b7d\"],[0.2,\"#de77ae\"],[0.3,\"#f1b6da\"],[0.4,\"#fde0ef\"],[0.5,\"#f7f7f7\"],[0.6,\"#e6f5d0\"],[0.7,\"#b8e186\"],[0.8,\"#7fbc41\"],[0.9,\"#4d9221\"],[1,\"#276419\"]]},\"xaxis\":{\"gridcolor\":\"white\",\"linecolor\":\"white\",\"ticks\":\"\",\"title\":{\"standoff\":15},\"zerolinecolor\":\"white\",\"automargin\":true,\"zerolinewidth\":2},\"yaxis\":{\"gridcolor\":\"white\",\"linecolor\":\"white\",\"ticks\":\"\",\"title\":{\"standoff\":15},\"zerolinecolor\":\"white\",\"automargin\":true,\"zerolinewidth\":2},\"scene\":{\"xaxis\":{\"backgroundcolor\":\"#E5ECF6\",\"gridcolor\":\"white\",\"linecolor\":\"white\",\"showbackground\":true,\"ticks\":\"\",\"zerolinecolor\":\"white\",\"gridwidth\":2},\"yaxis\":{\"backgroundcolor\":\"#E5ECF6\",\"gridcolor\":\"white\",\"linecolor\":\"white\",\"showbackground\":true,\"ticks\":\"\",\"zerolinecolor\":\"white\",\"gridwidth\":2},\"zaxis\":{\"backgroundcolor\":\"#E5ECF6\",\"gridcolor\":\"white\",\"linecolor\":\"white\",\"showbackground\":true,\"ticks\":\"\",\"zerolinecolor\":\"white\",\"gridwidth\":2}},\"shapedefaults\":{\"line\":{\"color\":\"#2a3f5f\"}},\"annotationdefaults\":{\"arrowcolor\":\"#2a3f5f\",\"arrowhead\":0,\"arrowwidth\":1},\"geo\":{\"bgcolor\":\"white\",\"landcolor\":\"#E5ECF6\",\"subunitcolor\":\"white\",\"showland\":true,\"showlakes\":true,\"lakecolor\":\"white\"},\"title\":{\"x\":0.05},\"mapbox\":{\"style\":\"light\"}}},\"xaxis\":{\"anchor\":\"y\",\"domain\":[0.0,1.0],\"title\":{\"text\":\"importance\"}},\"yaxis\":{\"anchor\":\"x\",\"domain\":[0.0,1.0],\"title\":{\"text\":\"name\"}},\"legend\":{\"tracegroupgap\":0},\"title\":{\"text\":\"XGBoost 'gain' importance\"},\"barmode\":\"relative\",\"autosize\":false,\"width\":600,\"height\":450},                        {\"responsive\": true}                    ).then(function(){\n",
       "                            \n",
       "var gd = document.getElementById('18a56c4c-6e70-47be-9501-f894cd68f8f3');\n",
       "var x = new MutationObserver(function (mutations, observer) {{\n",
       "        var display = window.getComputedStyle(gd).display;\n",
       "        if (!display || display === 'none') {{\n",
       "            console.log([gd, 'removed!']);\n",
       "            Plotly.purge(gd);\n",
       "            observer.disconnect();\n",
       "        }}\n",
       "}});\n",
       "\n",
       "// Listen for the removal of the full notebook cells\n",
       "var notebookContainer = gd.closest('#notebook-container');\n",
       "if (notebookContainer) {{\n",
       "    x.observe(notebookContainer, {childList: true});\n",
       "}}\n",
       "\n",
       "// Listen for the clearing of the current output cell\n",
       "var outputEl = gd.closest('.output');\n",
       "if (outputEl) {{\n",
       "    x.observe(outputEl, {childList: true});\n",
       "}}\n",
       "\n",
       "                        })                };                });            </script>        </div>"
      ]
     },
     "metadata": {},
     "output_type": "display_data"
    }
   ],
   "source": [
    "px.bar(data_frame=importance_df, x=\"importance\", y=\"name\", title=\"XGBoost 'gain' importance\").update_layout(autosize=False, width=600, height=450)"
   ]
  },
  {
   "cell_type": "markdown",
   "metadata": {},
   "source": [
    "###    B) [in Python] SHAP variable importance based on the TreeSHAP algorithm available in the shap package.\n"
   ]
  },
  {
   "cell_type": "code",
   "execution_count": 37,
   "metadata": {},
   "outputs": [],
   "source": [
    "shap_explainer = shap.explainers.Tree(xgboost_model, data=X_train, model_output=\"probability\")"
   ]
  },
  {
   "cell_type": "code",
   "execution_count": 38,
   "metadata": {},
   "outputs": [],
   "source": [
    "shap_values = shap_explainer(X_test)"
   ]
  },
  {
   "cell_type": "code",
   "execution_count": 39,
   "metadata": {},
   "outputs": [
    {
     "data": {
      "text/plain": [
       "(61, 22)"
      ]
     },
     "execution_count": 39,
     "metadata": {},
     "output_type": "execute_result"
    }
   ],
   "source": [
    "shap_values.values.shape"
   ]
  },
  {
   "cell_type": "code",
   "execution_count": 40,
   "metadata": {},
   "outputs": [],
   "source": [
    "vals = shap_values.values"
   ]
  },
  {
   "cell_type": "code",
   "execution_count": 41,
   "metadata": {},
   "outputs": [],
   "source": [
    "shap_importances = np.abs(vals).mean(axis=0)"
   ]
  },
  {
   "cell_type": "code",
   "execution_count": 42,
   "metadata": {},
   "outputs": [
    {
     "data": {
      "text/plain": [
       "(22,)"
      ]
     },
     "execution_count": 42,
     "metadata": {},
     "output_type": "execute_result"
    }
   ],
   "source": [
    "shap_importances.shape"
   ]
  },
  {
   "cell_type": "code",
   "execution_count": 43,
   "metadata": {},
   "outputs": [],
   "source": [
    "shap_df = pd.DataFrame(data=dict(name=xgboost_model.feature_names_in_, importance=shap_importances))"
   ]
  },
  {
   "cell_type": "code",
   "execution_count": 44,
   "metadata": {},
   "outputs": [],
   "source": [
    "shap_df = shap_df.sort_values(by=\"importance\", ascending=False)\n",
    "shap_df = shap_df.head(10).iloc[::-1]"
   ]
  },
  {
   "cell_type": "code",
   "execution_count": 55,
   "metadata": {},
   "outputs": [
    {
     "data": {
      "application/vnd.plotly.v1+json": {
       "config": {
        "plotlyServerURL": "https://plot.ly"
       },
       "data": [
        {
         "alignmentgroup": "True",
         "hovertemplate": "importance=%{x}<br>name=%{y}<extra></extra>",
         "legendgroup": "",
         "marker": {
          "color": "#636efa",
          "pattern": {
           "shape": ""
          }
         },
         "name": "",
         "offsetgroup": "",
         "orientation": "h",
         "showlegend": false,
         "textposition": "auto",
         "type": "bar",
         "x": [
          0.03394915224277027,
          0.03965242211830293,
          0.04456358595149663,
          0.045411376106018884,
          0.04679356075421777,
          0.05798350517436272,
          0.05874213140827784,
          0.07672253994722493,
          0.08549764838208901,
          0.11547722786881
         ],
         "xaxis": "x",
         "y": [
          "exng_1",
          "sex_1",
          "age",
          "cp_2",
          "caa_1",
          "thalachh",
          "thall_3",
          "oldpeak",
          "chol",
          "thall_2"
         ],
         "yaxis": "y"
        }
       ],
       "layout": {
        "autosize": false,
        "barmode": "relative",
        "height": 450,
        "legend": {
         "tracegroupgap": 0
        },
        "template": {
         "data": {
          "bar": [
           {
            "error_x": {
             "color": "#2a3f5f"
            },
            "error_y": {
             "color": "#2a3f5f"
            },
            "marker": {
             "line": {
              "color": "#E5ECF6",
              "width": 0.5
             },
             "pattern": {
              "fillmode": "overlay",
              "size": 10,
              "solidity": 0.2
             }
            },
            "type": "bar"
           }
          ],
          "barpolar": [
           {
            "marker": {
             "line": {
              "color": "#E5ECF6",
              "width": 0.5
             },
             "pattern": {
              "fillmode": "overlay",
              "size": 10,
              "solidity": 0.2
             }
            },
            "type": "barpolar"
           }
          ],
          "carpet": [
           {
            "aaxis": {
             "endlinecolor": "#2a3f5f",
             "gridcolor": "white",
             "linecolor": "white",
             "minorgridcolor": "white",
             "startlinecolor": "#2a3f5f"
            },
            "baxis": {
             "endlinecolor": "#2a3f5f",
             "gridcolor": "white",
             "linecolor": "white",
             "minorgridcolor": "white",
             "startlinecolor": "#2a3f5f"
            },
            "type": "carpet"
           }
          ],
          "choropleth": [
           {
            "colorbar": {
             "outlinewidth": 0,
             "ticks": ""
            },
            "type": "choropleth"
           }
          ],
          "contour": [
           {
            "colorbar": {
             "outlinewidth": 0,
             "ticks": ""
            },
            "colorscale": [
             [
              0,
              "#0d0887"
             ],
             [
              0.1111111111111111,
              "#46039f"
             ],
             [
              0.2222222222222222,
              "#7201a8"
             ],
             [
              0.3333333333333333,
              "#9c179e"
             ],
             [
              0.4444444444444444,
              "#bd3786"
             ],
             [
              0.5555555555555556,
              "#d8576b"
             ],
             [
              0.6666666666666666,
              "#ed7953"
             ],
             [
              0.7777777777777778,
              "#fb9f3a"
             ],
             [
              0.8888888888888888,
              "#fdca26"
             ],
             [
              1,
              "#f0f921"
             ]
            ],
            "type": "contour"
           }
          ],
          "contourcarpet": [
           {
            "colorbar": {
             "outlinewidth": 0,
             "ticks": ""
            },
            "type": "contourcarpet"
           }
          ],
          "heatmap": [
           {
            "colorbar": {
             "outlinewidth": 0,
             "ticks": ""
            },
            "colorscale": [
             [
              0,
              "#0d0887"
             ],
             [
              0.1111111111111111,
              "#46039f"
             ],
             [
              0.2222222222222222,
              "#7201a8"
             ],
             [
              0.3333333333333333,
              "#9c179e"
             ],
             [
              0.4444444444444444,
              "#bd3786"
             ],
             [
              0.5555555555555556,
              "#d8576b"
             ],
             [
              0.6666666666666666,
              "#ed7953"
             ],
             [
              0.7777777777777778,
              "#fb9f3a"
             ],
             [
              0.8888888888888888,
              "#fdca26"
             ],
             [
              1,
              "#f0f921"
             ]
            ],
            "type": "heatmap"
           }
          ],
          "heatmapgl": [
           {
            "colorbar": {
             "outlinewidth": 0,
             "ticks": ""
            },
            "colorscale": [
             [
              0,
              "#0d0887"
             ],
             [
              0.1111111111111111,
              "#46039f"
             ],
             [
              0.2222222222222222,
              "#7201a8"
             ],
             [
              0.3333333333333333,
              "#9c179e"
             ],
             [
              0.4444444444444444,
              "#bd3786"
             ],
             [
              0.5555555555555556,
              "#d8576b"
             ],
             [
              0.6666666666666666,
              "#ed7953"
             ],
             [
              0.7777777777777778,
              "#fb9f3a"
             ],
             [
              0.8888888888888888,
              "#fdca26"
             ],
             [
              1,
              "#f0f921"
             ]
            ],
            "type": "heatmapgl"
           }
          ],
          "histogram": [
           {
            "marker": {
             "pattern": {
              "fillmode": "overlay",
              "size": 10,
              "solidity": 0.2
             }
            },
            "type": "histogram"
           }
          ],
          "histogram2d": [
           {
            "colorbar": {
             "outlinewidth": 0,
             "ticks": ""
            },
            "colorscale": [
             [
              0,
              "#0d0887"
             ],
             [
              0.1111111111111111,
              "#46039f"
             ],
             [
              0.2222222222222222,
              "#7201a8"
             ],
             [
              0.3333333333333333,
              "#9c179e"
             ],
             [
              0.4444444444444444,
              "#bd3786"
             ],
             [
              0.5555555555555556,
              "#d8576b"
             ],
             [
              0.6666666666666666,
              "#ed7953"
             ],
             [
              0.7777777777777778,
              "#fb9f3a"
             ],
             [
              0.8888888888888888,
              "#fdca26"
             ],
             [
              1,
              "#f0f921"
             ]
            ],
            "type": "histogram2d"
           }
          ],
          "histogram2dcontour": [
           {
            "colorbar": {
             "outlinewidth": 0,
             "ticks": ""
            },
            "colorscale": [
             [
              0,
              "#0d0887"
             ],
             [
              0.1111111111111111,
              "#46039f"
             ],
             [
              0.2222222222222222,
              "#7201a8"
             ],
             [
              0.3333333333333333,
              "#9c179e"
             ],
             [
              0.4444444444444444,
              "#bd3786"
             ],
             [
              0.5555555555555556,
              "#d8576b"
             ],
             [
              0.6666666666666666,
              "#ed7953"
             ],
             [
              0.7777777777777778,
              "#fb9f3a"
             ],
             [
              0.8888888888888888,
              "#fdca26"
             ],
             [
              1,
              "#f0f921"
             ]
            ],
            "type": "histogram2dcontour"
           }
          ],
          "mesh3d": [
           {
            "colorbar": {
             "outlinewidth": 0,
             "ticks": ""
            },
            "type": "mesh3d"
           }
          ],
          "parcoords": [
           {
            "line": {
             "colorbar": {
              "outlinewidth": 0,
              "ticks": ""
             }
            },
            "type": "parcoords"
           }
          ],
          "pie": [
           {
            "automargin": true,
            "type": "pie"
           }
          ],
          "scatter": [
           {
            "fillpattern": {
             "fillmode": "overlay",
             "size": 10,
             "solidity": 0.2
            },
            "type": "scatter"
           }
          ],
          "scatter3d": [
           {
            "line": {
             "colorbar": {
              "outlinewidth": 0,
              "ticks": ""
             }
            },
            "marker": {
             "colorbar": {
              "outlinewidth": 0,
              "ticks": ""
             }
            },
            "type": "scatter3d"
           }
          ],
          "scattercarpet": [
           {
            "marker": {
             "colorbar": {
              "outlinewidth": 0,
              "ticks": ""
             }
            },
            "type": "scattercarpet"
           }
          ],
          "scattergeo": [
           {
            "marker": {
             "colorbar": {
              "outlinewidth": 0,
              "ticks": ""
             }
            },
            "type": "scattergeo"
           }
          ],
          "scattergl": [
           {
            "marker": {
             "colorbar": {
              "outlinewidth": 0,
              "ticks": ""
             }
            },
            "type": "scattergl"
           }
          ],
          "scattermapbox": [
           {
            "marker": {
             "colorbar": {
              "outlinewidth": 0,
              "ticks": ""
             }
            },
            "type": "scattermapbox"
           }
          ],
          "scatterpolar": [
           {
            "marker": {
             "colorbar": {
              "outlinewidth": 0,
              "ticks": ""
             }
            },
            "type": "scatterpolar"
           }
          ],
          "scatterpolargl": [
           {
            "marker": {
             "colorbar": {
              "outlinewidth": 0,
              "ticks": ""
             }
            },
            "type": "scatterpolargl"
           }
          ],
          "scatterternary": [
           {
            "marker": {
             "colorbar": {
              "outlinewidth": 0,
              "ticks": ""
             }
            },
            "type": "scatterternary"
           }
          ],
          "surface": [
           {
            "colorbar": {
             "outlinewidth": 0,
             "ticks": ""
            },
            "colorscale": [
             [
              0,
              "#0d0887"
             ],
             [
              0.1111111111111111,
              "#46039f"
             ],
             [
              0.2222222222222222,
              "#7201a8"
             ],
             [
              0.3333333333333333,
              "#9c179e"
             ],
             [
              0.4444444444444444,
              "#bd3786"
             ],
             [
              0.5555555555555556,
              "#d8576b"
             ],
             [
              0.6666666666666666,
              "#ed7953"
             ],
             [
              0.7777777777777778,
              "#fb9f3a"
             ],
             [
              0.8888888888888888,
              "#fdca26"
             ],
             [
              1,
              "#f0f921"
             ]
            ],
            "type": "surface"
           }
          ],
          "table": [
           {
            "cells": {
             "fill": {
              "color": "#EBF0F8"
             },
             "line": {
              "color": "white"
             }
            },
            "header": {
             "fill": {
              "color": "#C8D4E3"
             },
             "line": {
              "color": "white"
             }
            },
            "type": "table"
           }
          ]
         },
         "layout": {
          "annotationdefaults": {
           "arrowcolor": "#2a3f5f",
           "arrowhead": 0,
           "arrowwidth": 1
          },
          "autotypenumbers": "strict",
          "coloraxis": {
           "colorbar": {
            "outlinewidth": 0,
            "ticks": ""
           }
          },
          "colorscale": {
           "diverging": [
            [
             0,
             "#8e0152"
            ],
            [
             0.1,
             "#c51b7d"
            ],
            [
             0.2,
             "#de77ae"
            ],
            [
             0.3,
             "#f1b6da"
            ],
            [
             0.4,
             "#fde0ef"
            ],
            [
             0.5,
             "#f7f7f7"
            ],
            [
             0.6,
             "#e6f5d0"
            ],
            [
             0.7,
             "#b8e186"
            ],
            [
             0.8,
             "#7fbc41"
            ],
            [
             0.9,
             "#4d9221"
            ],
            [
             1,
             "#276419"
            ]
           ],
           "sequential": [
            [
             0,
             "#0d0887"
            ],
            [
             0.1111111111111111,
             "#46039f"
            ],
            [
             0.2222222222222222,
             "#7201a8"
            ],
            [
             0.3333333333333333,
             "#9c179e"
            ],
            [
             0.4444444444444444,
             "#bd3786"
            ],
            [
             0.5555555555555556,
             "#d8576b"
            ],
            [
             0.6666666666666666,
             "#ed7953"
            ],
            [
             0.7777777777777778,
             "#fb9f3a"
            ],
            [
             0.8888888888888888,
             "#fdca26"
            ],
            [
             1,
             "#f0f921"
            ]
           ],
           "sequentialminus": [
            [
             0,
             "#0d0887"
            ],
            [
             0.1111111111111111,
             "#46039f"
            ],
            [
             0.2222222222222222,
             "#7201a8"
            ],
            [
             0.3333333333333333,
             "#9c179e"
            ],
            [
             0.4444444444444444,
             "#bd3786"
            ],
            [
             0.5555555555555556,
             "#d8576b"
            ],
            [
             0.6666666666666666,
             "#ed7953"
            ],
            [
             0.7777777777777778,
             "#fb9f3a"
            ],
            [
             0.8888888888888888,
             "#fdca26"
            ],
            [
             1,
             "#f0f921"
            ]
           ]
          },
          "colorway": [
           "#636efa",
           "#EF553B",
           "#00cc96",
           "#ab63fa",
           "#FFA15A",
           "#19d3f3",
           "#FF6692",
           "#B6E880",
           "#FF97FF",
           "#FECB52"
          ],
          "font": {
           "color": "#2a3f5f"
          },
          "geo": {
           "bgcolor": "white",
           "lakecolor": "white",
           "landcolor": "#E5ECF6",
           "showlakes": true,
           "showland": true,
           "subunitcolor": "white"
          },
          "hoverlabel": {
           "align": "left"
          },
          "hovermode": "closest",
          "mapbox": {
           "style": "light"
          },
          "paper_bgcolor": "white",
          "plot_bgcolor": "#E5ECF6",
          "polar": {
           "angularaxis": {
            "gridcolor": "white",
            "linecolor": "white",
            "ticks": ""
           },
           "bgcolor": "#E5ECF6",
           "radialaxis": {
            "gridcolor": "white",
            "linecolor": "white",
            "ticks": ""
           }
          },
          "scene": {
           "xaxis": {
            "backgroundcolor": "#E5ECF6",
            "gridcolor": "white",
            "gridwidth": 2,
            "linecolor": "white",
            "showbackground": true,
            "ticks": "",
            "zerolinecolor": "white"
           },
           "yaxis": {
            "backgroundcolor": "#E5ECF6",
            "gridcolor": "white",
            "gridwidth": 2,
            "linecolor": "white",
            "showbackground": true,
            "ticks": "",
            "zerolinecolor": "white"
           },
           "zaxis": {
            "backgroundcolor": "#E5ECF6",
            "gridcolor": "white",
            "gridwidth": 2,
            "linecolor": "white",
            "showbackground": true,
            "ticks": "",
            "zerolinecolor": "white"
           }
          },
          "shapedefaults": {
           "line": {
            "color": "#2a3f5f"
           }
          },
          "ternary": {
           "aaxis": {
            "gridcolor": "white",
            "linecolor": "white",
            "ticks": ""
           },
           "baxis": {
            "gridcolor": "white",
            "linecolor": "white",
            "ticks": ""
           },
           "bgcolor": "#E5ECF6",
           "caxis": {
            "gridcolor": "white",
            "linecolor": "white",
            "ticks": ""
           }
          },
          "title": {
           "x": 0.05
          },
          "xaxis": {
           "automargin": true,
           "gridcolor": "white",
           "linecolor": "white",
           "ticks": "",
           "title": {
            "standoff": 15
           },
           "zerolinecolor": "white",
           "zerolinewidth": 2
          },
          "yaxis": {
           "automargin": true,
           "gridcolor": "white",
           "linecolor": "white",
           "ticks": "",
           "title": {
            "standoff": 15
           },
           "zerolinecolor": "white",
           "zerolinewidth": 2
          }
         }
        },
        "title": {
         "text": "Averaged absolute TreeSHAP"
        },
        "width": 600,
        "xaxis": {
         "anchor": "y",
         "autorange": true,
         "domain": [
          0,
          1
         ],
         "range": [
          0,
          0.12155497670401053
         ],
         "title": {
          "text": "importance"
         },
         "type": "linear"
        },
        "yaxis": {
         "anchor": "x",
         "autorange": true,
         "domain": [
          0,
          1
         ],
         "range": [
          -0.5,
          9.5
         ],
         "title": {
          "text": "name"
         },
         "type": "category"
        }
       }
      },
      "image/png": "[encoded data removed]",
      "text/html": [
       "<div>                            <div id=\"6c2ab006-8fd9-46ff-9a4d-a5096fc2e6a5\" class=\"plotly-graph-div\" style=\"height:450px; width:600px;\"></div>            <script type=\"text/javascript\">                require([\"plotly\"], function(Plotly) {                    window.PLOTLYENV=window.PLOTLYENV || {};                                    if (document.getElementById(\"6c2ab006-8fd9-46ff-9a4d-a5096fc2e6a5\")) {                    Plotly.newPlot(                        \"6c2ab006-8fd9-46ff-9a4d-a5096fc2e6a5\",                        [{\"alignmentgroup\":\"True\",\"hovertemplate\":\"importance=%{x}<br>name=%{y}<extra></extra>\",\"legendgroup\":\"\",\"marker\":{\"color\":\"#636efa\",\"pattern\":{\"shape\":\"\"}},\"name\":\"\",\"offsetgroup\":\"\",\"orientation\":\"h\",\"showlegend\":false,\"textposition\":\"auto\",\"x\":[0.03394915224277027,0.03965242211830293,0.04456358595149663,0.045411376106018884,0.04679356075421777,0.05798350517436272,0.05874213140827784,0.07672253994722493,0.08549764838208901,0.11547722786881],\"xaxis\":\"x\",\"y\":[\"exng_1\",\"sex_1\",\"age\",\"cp_2\",\"caa_1\",\"thalachh\",\"thall_3\",\"oldpeak\",\"chol\",\"thall_2\"],\"yaxis\":\"y\",\"type\":\"bar\"}],                        {\"template\":{\"data\":{\"histogram2dcontour\":[{\"type\":\"histogram2dcontour\",\"colorbar\":{\"outlinewidth\":0,\"ticks\":\"\"},\"colorscale\":[[0.0,\"#0d0887\"],[0.1111111111111111,\"#46039f\"],[0.2222222222222222,\"#7201a8\"],[0.3333333333333333,\"#9c179e\"],[0.4444444444444444,\"#bd3786\"],[0.5555555555555556,\"#d8576b\"],[0.6666666666666666,\"#ed7953\"],[0.7777777777777778,\"#fb9f3a\"],[0.8888888888888888,\"#fdca26\"],[1.0,\"#f0f921\"]]}],\"choropleth\":[{\"type\":\"choropleth\",\"colorbar\":{\"outlinewidth\":0,\"ticks\":\"\"}}],\"histogram2d\":[{\"type\":\"histogram2d\",\"colorbar\":{\"outlinewidth\":0,\"ticks\":\"\"},\"colorscale\":[[0.0,\"#0d0887\"],[0.1111111111111111,\"#46039f\"],[0.2222222222222222,\"#7201a8\"],[0.3333333333333333,\"#9c179e\"],[0.4444444444444444,\"#bd3786\"],[0.5555555555555556,\"#d8576b\"],[0.6666666666666666,\"#ed7953\"],[0.7777777777777778,\"#fb9f3a\"],[0.8888888888888888,\"#fdca26\"],[1.0,\"#f0f921\"]]}],\"heatmap\":[{\"type\":\"heatmap\",\"colorbar\":{\"outlinewidth\":0,\"ticks\":\"\"},\"colorscale\":[[0.0,\"#0d0887\"],[0.1111111111111111,\"#46039f\"],[0.2222222222222222,\"#7201a8\"],[0.3333333333333333,\"#9c179e\"],[0.4444444444444444,\"#bd3786\"],[0.5555555555555556,\"#d8576b\"],[0.6666666666666666,\"#ed7953\"],[0.7777777777777778,\"#fb9f3a\"],[0.8888888888888888,\"#fdca26\"],[1.0,\"#f0f921\"]]}],\"heatmapgl\":[{\"type\":\"heatmapgl\",\"colorbar\":{\"outlinewidth\":0,\"ticks\":\"\"},\"colorscale\":[[0.0,\"#0d0887\"],[0.1111111111111111,\"#46039f\"],[0.2222222222222222,\"#7201a8\"],[0.3333333333333333,\"#9c179e\"],[0.4444444444444444,\"#bd3786\"],[0.5555555555555556,\"#d8576b\"],[0.6666666666666666,\"#ed7953\"],[0.7777777777777778,\"#fb9f3a\"],[0.8888888888888888,\"#fdca26\"],[1.0,\"#f0f921\"]]}],\"contourcarpet\":[{\"type\":\"contourcarpet\",\"colorbar\":{\"outlinewidth\":0,\"ticks\":\"\"}}],\"contour\":[{\"type\":\"contour\",\"colorbar\":{\"outlinewidth\":0,\"ticks\":\"\"},\"colorscale\":[[0.0,\"#0d0887\"],[0.1111111111111111,\"#46039f\"],[0.2222222222222222,\"#7201a8\"],[0.3333333333333333,\"#9c179e\"],[0.4444444444444444,\"#bd3786\"],[0.5555555555555556,\"#d8576b\"],[0.6666666666666666,\"#ed7953\"],[0.7777777777777778,\"#fb9f3a\"],[0.8888888888888888,\"#fdca26\"],[1.0,\"#f0f921\"]]}],\"surface\":[{\"type\":\"surface\",\"colorbar\":{\"outlinewidth\":0,\"ticks\":\"\"},\"colorscale\":[[0.0,\"#0d0887\"],[0.1111111111111111,\"#46039f\"],[0.2222222222222222,\"#7201a8\"],[0.3333333333333333,\"#9c179e\"],[0.4444444444444444,\"#bd3786\"],[0.5555555555555556,\"#d8576b\"],[0.6666666666666666,\"#ed7953\"],[0.7777777777777778,\"#fb9f3a\"],[0.8888888888888888,\"#fdca26\"],[1.0,\"#f0f921\"]]}],\"mesh3d\":[{\"type\":\"mesh3d\",\"colorbar\":{\"outlinewidth\":0,\"ticks\":\"\"}}],\"scatter\":[{\"fillpattern\":{\"fillmode\":\"overlay\",\"size\":10,\"solidity\":0.2},\"type\":\"scatter\"}],\"parcoords\":[{\"type\":\"parcoords\",\"line\":{\"colorbar\":{\"outlinewidth\":0,\"ticks\":\"\"}}}],\"scatterpolargl\":[{\"type\":\"scatterpolargl\",\"marker\":{\"colorbar\":{\"outlinewidth\":0,\"ticks\":\"\"}}}],\"bar\":[{\"error_x\":{\"color\":\"#2a3f5f\"},\"error_y\":{\"color\":\"#2a3f5f\"},\"marker\":{\"line\":{\"color\":\"#E5ECF6\",\"width\":0.5},\"pattern\":{\"fillmode\":\"overlay\",\"size\":10,\"solidity\":0.2}},\"type\":\"bar\"}],\"scattergeo\":[{\"type\":\"scattergeo\",\"marker\":{\"colorbar\":{\"outlinewidth\":0,\"ticks\":\"\"}}}],\"scatterpolar\":[{\"type\":\"scatterpolar\",\"marker\":{\"colorbar\":{\"outlinewidth\":0,\"ticks\":\"\"}}}],\"histogram\":[{\"marker\":{\"pattern\":{\"fillmode\":\"overlay\",\"size\":10,\"solidity\":0.2}},\"type\":\"histogram\"}],\"scattergl\":[{\"type\":\"scattergl\",\"marker\":{\"colorbar\":{\"outlinewidth\":0,\"ticks\":\"\"}}}],\"scatter3d\":[{\"type\":\"scatter3d\",\"line\":{\"colorbar\":{\"outlinewidth\":0,\"ticks\":\"\"}},\"marker\":{\"colorbar\":{\"outlinewidth\":0,\"ticks\":\"\"}}}],\"scattermapbox\":[{\"type\":\"scattermapbox\",\"marker\":{\"colorbar\":{\"outlinewidth\":0,\"ticks\":\"\"}}}],\"scatterternary\":[{\"type\":\"scatterternary\",\"marker\":{\"colorbar\":{\"outlinewidth\":0,\"ticks\":\"\"}}}],\"scattercarpet\":[{\"type\":\"scattercarpet\",\"marker\":{\"colorbar\":{\"outlinewidth\":0,\"ticks\":\"\"}}}],\"carpet\":[{\"aaxis\":{\"endlinecolor\":\"#2a3f5f\",\"gridcolor\":\"white\",\"linecolor\":\"white\",\"minorgridcolor\":\"white\",\"startlinecolor\":\"#2a3f5f\"},\"baxis\":{\"endlinecolor\":\"#2a3f5f\",\"gridcolor\":\"white\",\"linecolor\":\"white\",\"minorgridcolor\":\"white\",\"startlinecolor\":\"#2a3f5f\"},\"type\":\"carpet\"}],\"table\":[{\"cells\":{\"fill\":{\"color\":\"#EBF0F8\"},\"line\":{\"color\":\"white\"}},\"header\":{\"fill\":{\"color\":\"#C8D4E3\"},\"line\":{\"color\":\"white\"}},\"type\":\"table\"}],\"barpolar\":[{\"marker\":{\"line\":{\"color\":\"#E5ECF6\",\"width\":0.5},\"pattern\":{\"fillmode\":\"overlay\",\"size\":10,\"solidity\":0.2}},\"type\":\"barpolar\"}],\"pie\":[{\"automargin\":true,\"type\":\"pie\"}]},\"layout\":{\"autotypenumbers\":\"strict\",\"colorway\":[\"#636efa\",\"#EF553B\",\"#00cc96\",\"#ab63fa\",\"#FFA15A\",\"#19d3f3\",\"#FF6692\",\"#B6E880\",\"#FF97FF\",\"#FECB52\"],\"font\":{\"color\":\"#2a3f5f\"},\"hovermode\":\"closest\",\"hoverlabel\":{\"align\":\"left\"},\"paper_bgcolor\":\"white\",\"plot_bgcolor\":\"#E5ECF6\",\"polar\":{\"bgcolor\":\"#E5ECF6\",\"angularaxis\":{\"gridcolor\":\"white\",\"linecolor\":\"white\",\"ticks\":\"\"},\"radialaxis\":{\"gridcolor\":\"white\",\"linecolor\":\"white\",\"ticks\":\"\"}},\"ternary\":{\"bgcolor\":\"#E5ECF6\",\"aaxis\":{\"gridcolor\":\"white\",\"linecolor\":\"white\",\"ticks\":\"\"},\"baxis\":{\"gridcolor\":\"white\",\"linecolor\":\"white\",\"ticks\":\"\"},\"caxis\":{\"gridcolor\":\"white\",\"linecolor\":\"white\",\"ticks\":\"\"}},\"coloraxis\":{\"colorbar\":{\"outlinewidth\":0,\"ticks\":\"\"}},\"colorscale\":{\"sequential\":[[0.0,\"#0d0887\"],[0.1111111111111111,\"#46039f\"],[0.2222222222222222,\"#7201a8\"],[0.3333333333333333,\"#9c179e\"],[0.4444444444444444,\"#bd3786\"],[0.5555555555555556,\"#d8576b\"],[0.6666666666666666,\"#ed7953\"],[0.7777777777777778,\"#fb9f3a\"],[0.8888888888888888,\"#fdca26\"],[1.0,\"#f0f921\"]],\"sequentialminus\":[[0.0,\"#0d0887\"],[0.1111111111111111,\"#46039f\"],[0.2222222222222222,\"#7201a8\"],[0.3333333333333333,\"#9c179e\"],[0.4444444444444444,\"#bd3786\"],[0.5555555555555556,\"#d8576b\"],[0.6666666666666666,\"#ed7953\"],[0.7777777777777778,\"#fb9f3a\"],[0.8888888888888888,\"#fdca26\"],[1.0,\"#f0f921\"]],\"diverging\":[[0,\"#8e0152\"],[0.1,\"#c51b7d\"],[0.2,\"#de77ae\"],[0.3,\"#f1b6da\"],[0.4,\"#fde0ef\"],[0.5,\"#f7f7f7\"],[0.6,\"#e6f5d0\"],[0.7,\"#b8e186\"],[0.8,\"#7fbc41\"],[0.9,\"#4d9221\"],[1,\"#276419\"]]},\"xaxis\":{\"gridcolor\":\"white\",\"linecolor\":\"white\",\"ticks\":\"\",\"title\":{\"standoff\":15},\"zerolinecolor\":\"white\",\"automargin\":true,\"zerolinewidth\":2},\"yaxis\":{\"gridcolor\":\"white\",\"linecolor\":\"white\",\"ticks\":\"\",\"title\":{\"standoff\":15},\"zerolinecolor\":\"white\",\"automargin\":true,\"zerolinewidth\":2},\"scene\":{\"xaxis\":{\"backgroundcolor\":\"#E5ECF6\",\"gridcolor\":\"white\",\"linecolor\":\"white\",\"showbackground\":true,\"ticks\":\"\",\"zerolinecolor\":\"white\",\"gridwidth\":2},\"yaxis\":{\"backgroundcolor\":\"#E5ECF6\",\"gridcolor\":\"white\",\"linecolor\":\"white\",\"showbackground\":true,\"ticks\":\"\",\"zerolinecolor\":\"white\",\"gridwidth\":2},\"zaxis\":{\"backgroundcolor\":\"#E5ECF6\",\"gridcolor\":\"white\",\"linecolor\":\"white\",\"showbackground\":true,\"ticks\":\"\",\"zerolinecolor\":\"white\",\"gridwidth\":2}},\"shapedefaults\":{\"line\":{\"color\":\"#2a3f5f\"}},\"annotationdefaults\":{\"arrowcolor\":\"#2a3f5f\",\"arrowhead\":0,\"arrowwidth\":1},\"geo\":{\"bgcolor\":\"white\",\"landcolor\":\"#E5ECF6\",\"subunitcolor\":\"white\",\"showland\":true,\"showlakes\":true,\"lakecolor\":\"white\"},\"title\":{\"x\":0.05},\"mapbox\":{\"style\":\"light\"}}},\"xaxis\":{\"anchor\":\"y\",\"domain\":[0.0,1.0],\"title\":{\"text\":\"importance\"}},\"yaxis\":{\"anchor\":\"x\",\"domain\":[0.0,1.0],\"title\":{\"text\":\"name\"}},\"legend\":{\"tracegroupgap\":0},\"title\":{\"text\":\"Averaged absolute TreeSHAP\"},\"barmode\":\"relative\",\"autosize\":false,\"width\":600,\"height\":450},                        {\"responsive\": true}                    ).then(function(){\n",
       "                            \n",
       "var gd = document.getElementById('6c2ab006-8fd9-46ff-9a4d-a5096fc2e6a5');\n",
       "var x = new MutationObserver(function (mutations, observer) {{\n",
       "        var display = window.getComputedStyle(gd).display;\n",
       "        if (!display || display === 'none') {{\n",
       "            console.log([gd, 'removed!']);\n",
       "            Plotly.purge(gd);\n",
       "            observer.disconnect();\n",
       "        }}\n",
       "}});\n",
       "\n",
       "// Listen for the removal of the full notebook cells\n",
       "var notebookContainer = gd.closest('#notebook-container');\n",
       "if (notebookContainer) {{\n",
       "    x.observe(notebookContainer, {childList: true});\n",
       "}}\n",
       "\n",
       "// Listen for the clearing of the current output cell\n",
       "var outputEl = gd.closest('.output');\n",
       "if (outputEl) {{\n",
       "    x.observe(outputEl, {childList: true});\n",
       "}}\n",
       "\n",
       "                        })                };                });            </script>        </div>"
      ]
     },
     "metadata": {},
     "output_type": "display_data"
    }
   ],
   "source": [
    "px.bar(data_frame=shap_df, x=\"importance\", y=\"name\", title=\"Averaged absolute TreeSHAP\").update_layout(autosize=False, width=600, height=450)"
   ]
  }
 ],
 "metadata": {
  "colab": {
   "collapsed_sections": [],
   "provenance": []
  },
  "kernelspec": {
   "display_name": "xai",
   "language": "python",
   "name": "xai"
  },
  "language_info": {
   "codemirror_mode": {
    "name": "ipython",
    "version": 3
   },
   "file_extension": ".py",
   "mimetype": "text/x-python",
   "name": "python",
   "nbconvert_exporter": "python",
   "pygments_lexer": "ipython3",
   "version": "3.8.10"
  }
 },
 "nbformat": 4,
 "nbformat_minor": 4
}
