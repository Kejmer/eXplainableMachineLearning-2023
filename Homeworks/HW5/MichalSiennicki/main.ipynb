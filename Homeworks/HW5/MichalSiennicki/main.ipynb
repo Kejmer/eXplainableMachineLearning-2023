{
 "cells": [
  {
   "cell_type": "markdown",
   "source": [
    "## 1.\n",
    "\n",
    "Here is the Permutation-based Variable Importance plot calculated for the Random Forest (from sklearn) model.\n",
    "\n",
    "As we can see, the `thall` is the most important variable, followed by `cp_0` and `thalchh`.\n",
    "\n",
    "\n",
    "| Variable Importance  |\n",
    "|----------------------|\n",
    "| ![](imgs/1/pvi.png)  |\n"
   ],
   "metadata": {
    "collapsed": false,
    "pycharm": {
     "name": "#%% md\n"
    }
   }
  },
  {
   "cell_type": "markdown",
   "source": [
    "## 2.\n",
    "Here are the PVI for 3 different models:\n",
    " - Random Forest with n_estimators=10 (instead of default 100)\n",
    " - Random Forest with n_estimators=2\n",
    " - Linear Classifier model\n",
    "\n",
    "All those 3 models have lower auc and acc then original model. Mostly because they have smaller power of expression, they can not model the world accurately.\n",
    "\n",
    "The PVI for all Random Forest models (original and two new ones) are quite similar. The PVI mostly differs on the `exng` variable - better model does not think it is important, smaller ones place this variable at the second and the fourth place.\n",
    "\n",
    "The third model is much different. It also looks at variables like `trtbps`, `sex`. That's a small surprise, logistic regression is completely different from random forests.\n",
    "\n",
    "\n",
    "| Random Forest, n_estimators=10 | Random Forest, n_estimators=2 | Linear Classifier                |\n",
    "|--------------------------------|-------------------------------|----------------------------------|\n",
    "| ![](imgs/2/model_10-pvi.png)   | ![](imgs/2/model_2-pvi.png)   | ![](imgs/2/model_linear-pvi.png) |\n"
   ],
   "metadata": {
    "collapsed": false,
    "pycharm": {
     "name": "#%% md\n"
    }
   }
  },
  {
   "cell_type": "markdown",
   "source": [
    "## 3.\n",
    "Here is the comparison between the original PVI, feature importances from sklearn (Gini impurity) and SHAP variable importance (based on the TreeSHAP).\n",
    "\n",
    "Surprisingly, the results are quite similar between those 3 completely different methods. There are of course differences, but for example `thalchh` is in top 3 important variables in all 3 methods.\n",
    "\n",
    "| Original PVI        | Feature Importances (sklearn)       | SHAP                 |\n",
    "|---------------------|-------------------------------------|----------------------|\n",
    "| ![](imgs/1/pvi.png) | ![](imgs/3/feature_importances.png) | ![](imgs/3/shap.png) |\n",
    "\n"
   ],
   "metadata": {
    "collapsed": false,
    "pycharm": {
     "name": "#%% md\n"
    }
   }
  },
  {
   "cell_type": "markdown",
   "source": [
    "# Appendix\n",
    "\n",
    "## 0.\n",
    "Here the data is loaded (same as in previous homework) and a simple model is trained and evaluated. It is Random Forest Classifier from sklearn with default parameters.\n",
    "\n",
    "Loading and preparing the data consists of:\n",
    "- one hot encoding (models like logistic regression require this)\n",
    "- splitting between target (y) and x"
   ],
   "metadata": {
    "collapsed": false,
    "pycharm": {
     "name": "#%% md\n"
    }
   }
  },
  {
   "cell_type": "code",
   "execution_count": 3,
   "outputs": [
    {
     "name": "stdout",
     "output_type": "stream",
     "text": [
      "x_train.shape=(242, 22) x_test.shape=(61, 22) y_train.shape=(242,) y_test.shape=(61,)\n"
     ]
    }
   ],
   "source": [
    "import warnings\n",
    "warnings.simplefilter(action='ignore', category=FutureWarning)\n",
    "warnings.simplefilter(action='ignore', category=UserWarning)\n",
    "\n",
    "import numpy as np\n",
    "import pandas as pd\n",
    "from sklearn.ensemble import RandomForestClassifier\n",
    "from sklearn.linear_model import LogisticRegression\n",
    "from sklearn.metrics import roc_auc_score, accuracy_score\n",
    "from sklearn.model_selection import train_test_split\n",
    "import plotly.express as px\n",
    "import plotly.graph_objects as go\n",
    "import dalex as dx\n",
    "\n",
    "\n",
    "np.random.seed(42)\n",
    "\n",
    "\n",
    "def load_data():\n",
    "    df = pd.read_csv('heart.csv')\n",
    "\n",
    "    # One hot encoding (for linear classifier)\n",
    "    df = pd.get_dummies(df, columns=['caa', 'cp', 'restecg'])\n",
    "\n",
    "    # Get targets\n",
    "    y_all = df['output'].to_numpy()\n",
    "\n",
    "    x_all = df.drop(columns=['output'])\n",
    "\n",
    "    # Split data to train and test\n",
    "    return train_test_split(x_all, y_all, test_size=0.2, random_state=42)\n",
    "\n",
    "\n",
    "x_train, x_test, y_train, y_test = load_data()\n",
    "print(f\"{x_train.shape=}\", f\"{x_test.shape=}\", f\"{y_train.shape=}\", f\"{y_test.shape=}\")"
   ],
   "metadata": {
    "collapsed": false,
    "pycharm": {
     "name": "#%%\n"
    }
   }
  },
  {
   "cell_type": "markdown",
   "source": [
    "Training the models"
   ],
   "metadata": {
    "collapsed": false,
    "pycharm": {
     "name": "#%% md\n"
    }
   }
  },
  {
   "cell_type": "code",
   "execution_count": 2,
   "outputs": [
    {
     "name": "stdout",
     "output_type": "stream",
     "text": [
      "{'auc': 0.8841594827586207, 'accuracy': 0.8852459016393442}\n",
      "{'auc': 0.8216594827586207, 'accuracy': 0.819672131147541}\n",
      "{'auc': 0.7607758620689655, 'accuracy': 0.7540983606557377}\n",
      "{'auc': 0.8685344827586206, 'accuracy': 0.8688524590163934}\n"
     ]
    }
   ],
   "source": [
    "def get_model(verbose=False, model=None, n_estimators=100):\n",
    "    if model is None:\n",
    "        model = RandomForestClassifier(n_estimators=n_estimators)\n",
    "    metrics = {\n",
    "        \"auc\": roc_auc_score,\n",
    "        \"accuracy\": accuracy_score\n",
    "    }\n",
    "    model.fit(x_train, y_train)\n",
    "    pred_test = model.predict(x_test)\n",
    "    if verbose:\n",
    "        print({metric_name: metric_fun(y_test, pred_test) for metric_name, metric_fun in metrics.items()})\n",
    "\n",
    "    return model\n",
    "\n",
    "model = get_model(True)\n",
    "model_10 = get_model(True, n_estimators=10)\n",
    "model_2 = get_model(True, n_estimators=2)\n",
    "model_linear = get_model(True, LogisticRegression())"
   ],
   "metadata": {
    "collapsed": false,
    "pycharm": {
     "name": "#%%\n"
    }
   }
  },
  {
   "cell_type": "markdown",
   "source": [
    "## 1 & 2."
   ],
   "metadata": {
    "collapsed": false,
    "pycharm": {
     "name": "#%% md\n"
    }
   }
  },
  {
   "cell_type": "code",
   "execution_count": 22,
   "outputs": [],
   "source": [
    "def pf_xgboost_classifier_categorical(model, df):\n",
    "    df.loc[:, df.dtypes == 'object'] =\\\n",
    "        df.select_dtypes(['object'])\\\n",
    "        .apply(lambda x: x.astype('category'))\n",
    "    return model.predict_proba(df)[:, 1]\n",
    "\n",
    "def save_plot(_model, name):\n",
    "    explainer = dx.Explainer(_model, x_test, y_test, predict_function=pf_xgboost_classifier_categorical, verbose=False)\n",
    "    explainer.model_parts(random_state=0).plot(show=False).write_image(f\"imgs/{name}\")\n",
    "\n",
    "save_plot(model, \"1/pvi.png\")\n",
    "save_plot(model_2, \"2/model_2-pvi.png\")\n",
    "save_plot(model_10, \"2/model_10-pvi.png\")\n",
    "save_plot(model_linear, \"2/model_linear-pvi.png\")"
   ],
   "metadata": {
    "collapsed": false,
    "pycharm": {
     "name": "#%%\n"
    }
   }
  },
  {
   "cell_type": "markdown",
   "source": [
    "## 3."
   ],
   "metadata": {
    "collapsed": false,
    "pycharm": {
     "name": "#%% md\n"
    }
   }
  },
  {
   "cell_type": "code",
   "execution_count": 30,
   "outputs": [
    {
     "data": {
      "text/plain": "<Figure size 576x684 with 1 Axes>",
      "image/png": "[encoded data removed]"
     },
     "metadata": {
      "needs_background": "light"
     },
     "output_type": "display_data"
    }
   ],
   "source": [
    "df = pd.DataFrame({\"x\": x_train.columns, \"y\": model.feature_importances_})\n",
    "df = df.sort_values(\"y\", ascending=False)\n",
    "px.bar(df, x=\"x\", y=\"y\").write_image(f\"imgs/3/feature_importances.png\")\n",
    "\n",
    "explainer = dx.Explainer(model, x_test, y_test, verbose=False)\n",
    "pvi = explainer.model_parts(type=\"shap_wrapper\", shap_explainer_type=\"TreeExplainer\", check_additivity=False)\n",
    "pvi.plot()\n"
   ],
   "metadata": {
    "collapsed": false,
    "pycharm": {
     "name": "#%%\n"
    }
   }
  }
 ],
 "metadata": {
  "kernelspec": {
   "display_name": "Python 3",
   "language": "python",
   "name": "python3"
  },
  "language_info": {
   "codemirror_mode": {
    "name": "ipython",
    "version": 2
   },
   "file_extension": ".py",
   "mimetype": "text/x-python",
   "name": "python",
   "nbconvert_exporter": "python",
   "pygments_lexer": "ipython2",
   "version": "2.7.6"
  }
 },
 "nbformat": 4,
 "nbformat_minor": 0
}