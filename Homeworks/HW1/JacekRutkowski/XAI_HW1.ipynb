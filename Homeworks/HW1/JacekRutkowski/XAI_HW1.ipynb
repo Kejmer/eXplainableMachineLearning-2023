{
  "cells": [
    {
      "attachments": {},
      "cell_type": "markdown",
      "metadata": {
        "id": "Pp4x2KhpVCel"
      },
      "source": [
        "# **Presentation of experiment results**\n",
        "\n",
        "\n",
        "In the dataset \"Fifa 23 Players Data\" there is given extensive information about football players included in the Fifa computer game and their value in Euro. The task consists in predicting the value of a player based on other features.\n",
        "\n",
        "\n",
        "I trained two models for regression problem of predicting value of footbal player based on various features such as general potential, position played, age. There is a lot of non-numerical data and some of them are at the first sight completely unimportant for the prediction task, so that I simply removed them. The deleted features include full name of a player, url adress to his photo and url adress to the photo of his country flag.\n",
        "\n",
        "In order to achieve better results I scaled the data which are very diverse (it is needed only for neural network training). The first model is a standard neural network based on linear layers together with ReLU activation functions. The second model is XGBoost which achieves 10 times better results in terms of RMSE. As for the training time, XGBoost gives the result almost immediately, but for the neural network it takes a while to perform a backpropagation and train the weights."
      ]
    },
    {
      "cell_type": "markdown",
      "metadata": {
        "id": "XeOo98IvN7LM"
      },
      "source": [
        "Necessary imports"
      ]
    },
    {
      "cell_type": "code",
      "execution_count": null,
      "metadata": {
        "id": "hvMDZ-l8f4Db"
      },
      "outputs": [],
      "source": [
        "import torch\n",
        "import torch.nn as nn\n",
        "import torch.nn.functional as F\n",
        "import torch.optim as optim\n",
        "from torch.utils.data import Dataset\n",
        "from sklearn.model_selection import train_test_split\n",
        "from sklearn.preprocessing import MinMaxScaler\n",
        "import xgboost as xgb\n",
        "from sklearn.metrics import mean_squared_error\n",
        "import matplotlib.pyplot as plt\n",
        "import tensorflow as tf\n",
        "import numpy as np\n",
        "import pandas as pd"
      ]
    },
    {
      "cell_type": "code",
      "execution_count": null,
      "metadata": {
        "colab": {
          "base_uri": "https://localhost:8080/",
          "height": 386
        },
        "id": "DVe4lTvWRUxz",
        "outputId": "88679deb-35d0-49c4-e6dd-108ba5abaf36"
      },
      "outputs": [
        {
          "data": {
            "text/html": [
              "\n",
              "  <div id=\"df-7e58f58b-ab6f-418f-8e14-2bf4a9220008\">\n",
              "    <div class=\"colab-df-container\">\n",
              "      <div>\n",
              "<style scoped>\n",
              "    .dataframe tbody tr th:only-of-type {\n",
              "        vertical-align: middle;\n",
              "    }\n",
              "\n",
              "    .dataframe tbody tr th {\n",
              "        vertical-align: top;\n",
              "    }\n",
              "\n",
              "    .dataframe thead th {\n",
              "        text-align: right;\n",
              "    }\n",
              "</style>\n",
              "<table border=\"1\" class=\"dataframe\">\n",
              "  <thead>\n",
              "    <tr style=\"text-align: right;\">\n",
              "      <th></th>\n",
              "      <th>Known As</th>\n",
              "      <th>Full Name</th>\n",
              "      <th>Overall</th>\n",
              "      <th>Potential</th>\n",
              "      <th>Value(in Euro)</th>\n",
              "      <th>Positions Played</th>\n",
              "      <th>Best Position</th>\n",
              "      <th>Nationality</th>\n",
              "      <th>Image Link</th>\n",
              "      <th>Age</th>\n",
              "      <th>...</th>\n",
              "      <th>LM Rating</th>\n",
              "      <th>CM Rating</th>\n",
              "      <th>RM Rating</th>\n",
              "      <th>LWB Rating</th>\n",
              "      <th>CDM Rating</th>\n",
              "      <th>RWB Rating</th>\n",
              "      <th>LB Rating</th>\n",
              "      <th>CB Rating</th>\n",
              "      <th>RB Rating</th>\n",
              "      <th>GK Rating</th>\n",
              "    </tr>\n",
              "  </thead>\n",
              "  <tbody>\n",
              "    <tr>\n",
              "      <th>0</th>\n",
              "      <td>L. Messi</td>\n",
              "      <td>Lionel Messi</td>\n",
              "      <td>91</td>\n",
              "      <td>91</td>\n",
              "      <td>54000000</td>\n",
              "      <td>RW</td>\n",
              "      <td>CAM</td>\n",
              "      <td>Argentina</td>\n",
              "      <td>https://cdn.sofifa.net/players/158/023/23_60.png</td>\n",
              "      <td>35</td>\n",
              "      <td>...</td>\n",
              "      <td>91</td>\n",
              "      <td>88</td>\n",
              "      <td>91</td>\n",
              "      <td>67</td>\n",
              "      <td>66</td>\n",
              "      <td>67</td>\n",
              "      <td>62</td>\n",
              "      <td>53</td>\n",
              "      <td>62</td>\n",
              "      <td>22</td>\n",
              "    </tr>\n",
              "    <tr>\n",
              "      <th>1</th>\n",
              "      <td>K. Benzema</td>\n",
              "      <td>Karim Benzema</td>\n",
              "      <td>91</td>\n",
              "      <td>91</td>\n",
              "      <td>64000000</td>\n",
              "      <td>CF,ST</td>\n",
              "      <td>CF</td>\n",
              "      <td>France</td>\n",
              "      <td>https://cdn.sofifa.net/players/165/153/23_60.png</td>\n",
              "      <td>34</td>\n",
              "      <td>...</td>\n",
              "      <td>89</td>\n",
              "      <td>84</td>\n",
              "      <td>89</td>\n",
              "      <td>67</td>\n",
              "      <td>67</td>\n",
              "      <td>67</td>\n",
              "      <td>63</td>\n",
              "      <td>58</td>\n",
              "      <td>63</td>\n",
              "      <td>21</td>\n",
              "    </tr>\n",
              "    <tr>\n",
              "      <th>2</th>\n",
              "      <td>R. Lewandowski</td>\n",
              "      <td>Robert Lewandowski</td>\n",
              "      <td>91</td>\n",
              "      <td>91</td>\n",
              "      <td>84000000</td>\n",
              "      <td>ST</td>\n",
              "      <td>ST</td>\n",
              "      <td>Poland</td>\n",
              "      <td>https://cdn.sofifa.net/players/188/545/23_60.png</td>\n",
              "      <td>33</td>\n",
              "      <td>...</td>\n",
              "      <td>86</td>\n",
              "      <td>83</td>\n",
              "      <td>86</td>\n",
              "      <td>67</td>\n",
              "      <td>69</td>\n",
              "      <td>67</td>\n",
              "      <td>64</td>\n",
              "      <td>63</td>\n",
              "      <td>64</td>\n",
              "      <td>22</td>\n",
              "    </tr>\n",
              "    <tr>\n",
              "      <th>3</th>\n",
              "      <td>K. De Bruyne</td>\n",
              "      <td>Kevin De Bruyne</td>\n",
              "      <td>91</td>\n",
              "      <td>91</td>\n",
              "      <td>107500000</td>\n",
              "      <td>CM,CAM</td>\n",
              "      <td>CM</td>\n",
              "      <td>Belgium</td>\n",
              "      <td>https://cdn.sofifa.net/players/192/985/23_60.png</td>\n",
              "      <td>31</td>\n",
              "      <td>...</td>\n",
              "      <td>91</td>\n",
              "      <td>91</td>\n",
              "      <td>91</td>\n",
              "      <td>82</td>\n",
              "      <td>82</td>\n",
              "      <td>82</td>\n",
              "      <td>78</td>\n",
              "      <td>72</td>\n",
              "      <td>78</td>\n",
              "      <td>24</td>\n",
              "    </tr>\n",
              "    <tr>\n",
              "      <th>4</th>\n",
              "      <td>K. Mbappé</td>\n",
              "      <td>Kylian Mbappé</td>\n",
              "      <td>91</td>\n",
              "      <td>95</td>\n",
              "      <td>190500000</td>\n",
              "      <td>ST,LW</td>\n",
              "      <td>ST</td>\n",
              "      <td>France</td>\n",
              "      <td>https://cdn.sofifa.net/players/231/747/23_60.png</td>\n",
              "      <td>23</td>\n",
              "      <td>...</td>\n",
              "      <td>92</td>\n",
              "      <td>84</td>\n",
              "      <td>92</td>\n",
              "      <td>70</td>\n",
              "      <td>66</td>\n",
              "      <td>70</td>\n",
              "      <td>66</td>\n",
              "      <td>57</td>\n",
              "      <td>66</td>\n",
              "      <td>21</td>\n",
              "    </tr>\n",
              "  </tbody>\n",
              "</table>\n",
              "<p>5 rows × 89 columns</p>\n",
              "</div>\n",
              "      <button class=\"colab-df-convert\" onclick=\"convertToInteractive('df-7e58f58b-ab6f-418f-8e14-2bf4a9220008')\"\n",
              "              title=\"Convert this dataframe to an interactive table.\"\n",
              "              style=\"display:none;\">\n",
              "        \n",
              "  <svg xmlns=\"http://www.w3.org/2000/svg\" height=\"24px\"viewBox=\"0 0 24 24\"\n",
              "       width=\"24px\">\n",
              "    <path d=\"M0 0h24v24H0V0z\" fill=\"none\"/>\n",
              "    <path d=\"M18.56 5.44l.94 2.06.94-2.06 2.06-.94-2.06-.94-.94-2.06-.94 2.06-2.06.94zm-11 1L8.5 8.5l.94-2.06 2.06-.94-2.06-.94L8.5 2.5l-.94 2.06-2.06.94zm10 10l.94 2.06.94-2.06 2.06-.94-2.06-.94-.94-2.06-.94 2.06-2.06.94z\"/><path d=\"M17.41 7.96l-1.37-1.37c-.4-.4-.92-.59-1.43-.59-.52 0-1.04.2-1.43.59L10.3 9.45l-7.72 7.72c-.78.78-.78 2.05 0 2.83L4 21.41c.39.39.9.59 1.41.59.51 0 1.02-.2 1.41-.59l7.78-7.78 2.81-2.81c.8-.78.8-2.07 0-2.86zM5.41 20L4 18.59l7.72-7.72 1.47 1.35L5.41 20z\"/>\n",
              "  </svg>\n",
              "      </button>\n",
              "      \n",
              "  <style>\n",
              "    .colab-df-container {\n",
              "      display:flex;\n",
              "      flex-wrap:wrap;\n",
              "      gap: 12px;\n",
              "    }\n",
              "\n",
              "    .colab-df-convert {\n",
              "      background-color: #E8F0FE;\n",
              "      border: none;\n",
              "      border-radius: 50%;\n",
              "      cursor: pointer;\n",
              "      display: none;\n",
              "      fill: #1967D2;\n",
              "      height: 32px;\n",
              "      padding: 0 0 0 0;\n",
              "      width: 32px;\n",
              "    }\n",
              "\n",
              "    .colab-df-convert:hover {\n",
              "      background-color: #E2EBFA;\n",
              "      box-shadow: 0px 1px 2px rgba(60, 64, 67, 0.3), 0px 1px 3px 1px rgba(60, 64, 67, 0.15);\n",
              "      fill: #174EA6;\n",
              "    }\n",
              "\n",
              "    [theme=dark] .colab-df-convert {\n",
              "      background-color: #3B4455;\n",
              "      fill: #D2E3FC;\n",
              "    }\n",
              "\n",
              "    [theme=dark] .colab-df-convert:hover {\n",
              "      background-color: #434B5C;\n",
              "      box-shadow: 0px 1px 3px 1px rgba(0, 0, 0, 0.15);\n",
              "      filter: drop-shadow(0px 1px 2px rgba(0, 0, 0, 0.3));\n",
              "      fill: #FFFFFF;\n",
              "    }\n",
              "  </style>\n",
              "\n",
              "      <script>\n",
              "        const buttonEl =\n",
              "          document.querySelector('#df-7e58f58b-ab6f-418f-8e14-2bf4a9220008 button.colab-df-convert');\n",
              "        buttonEl.style.display =\n",
              "          google.colab.kernel.accessAllowed ? 'block' : 'none';\n",
              "\n",
              "        async function convertToInteractive(key) {\n",
              "          const element = document.querySelector('#df-7e58f58b-ab6f-418f-8e14-2bf4a9220008');\n",
              "          const dataTable =\n",
              "            await google.colab.kernel.invokeFunction('convertToInteractive',\n",
              "                                                     [key], {});\n",
              "          if (!dataTable) return;\n",
              "\n",
              "          const docLinkHtml = 'Like what you see? Visit the ' +\n",
              "            '<a target=\"_blank\" href=https://colab.research.google.com/notebooks/data_table.ipynb>data table notebook</a>'\n",
              "            + ' to learn more about interactive tables.';\n",
              "          element.innerHTML = '';\n",
              "          dataTable['output_type'] = 'display_data';\n",
              "          await google.colab.output.renderOutput(dataTable, element);\n",
              "          const docLink = document.createElement('div');\n",
              "          docLink.innerHTML = docLinkHtml;\n",
              "          element.appendChild(docLink);\n",
              "        }\n",
              "      </script>\n",
              "    </div>\n",
              "  </div>\n",
              "  "
            ],
            "text/plain": [
              "         Known As           Full Name  Overall  Potential  Value(in Euro)  \\\n",
              "0        L. Messi        Lionel Messi       91         91        54000000   \n",
              "1      K. Benzema       Karim Benzema       91         91        64000000   \n",
              "2  R. Lewandowski  Robert Lewandowski       91         91        84000000   \n",
              "3    K. De Bruyne     Kevin De Bruyne       91         91       107500000   \n",
              "4       K. Mbappé       Kylian Mbappé       91         95       190500000   \n",
              "\n",
              "  Positions Played Best Position Nationality  \\\n",
              "0               RW           CAM   Argentina   \n",
              "1            CF,ST            CF      France   \n",
              "2               ST            ST      Poland   \n",
              "3           CM,CAM            CM     Belgium   \n",
              "4            ST,LW            ST      France   \n",
              "\n",
              "                                         Image Link  Age  ...  LM Rating  \\\n",
              "0  https://cdn.sofifa.net/players/158/023/23_60.png   35  ...         91   \n",
              "1  https://cdn.sofifa.net/players/165/153/23_60.png   34  ...         89   \n",
              "2  https://cdn.sofifa.net/players/188/545/23_60.png   33  ...         86   \n",
              "3  https://cdn.sofifa.net/players/192/985/23_60.png   31  ...         91   \n",
              "4  https://cdn.sofifa.net/players/231/747/23_60.png   23  ...         92   \n",
              "\n",
              "   CM Rating  RM Rating  LWB Rating CDM Rating  RWB Rating  LB Rating  \\\n",
              "0         88         91          67         66          67         62   \n",
              "1         84         89          67         67          67         63   \n",
              "2         83         86          67         69          67         64   \n",
              "3         91         91          82         82          82         78   \n",
              "4         84         92          70         66          70         66   \n",
              "\n",
              "  CB Rating RB Rating GK Rating  \n",
              "0        53        62        22  \n",
              "1        58        63        21  \n",
              "2        63        64        22  \n",
              "3        72        78        24  \n",
              "4        57        66        21  \n",
              "\n",
              "[5 rows x 89 columns]"
            ]
          },
          "execution_count": 15,
          "metadata": {},
          "output_type": "execute_result"
        }
      ],
      "source": [
        "df_ = pd.read_csv('Fifa 23 Players Data.csv')\n",
        "df_.head()"
      ]
    },
    {
      "cell_type": "markdown",
      "metadata": {
        "id": "M5lDdf6DOdCI"
      },
      "source": [
        "# **Data preprocessing**\n",
        "I preprocess data in the following way:\n",
        "\n",
        "*   print out all the data of the string type\n",
        "*   remove those of them which seem irrelevant at first glance\n",
        "*   change columns containing strings into numerical values\n",
        "*   normalize the data with sklearn MinMaxScaler\n",
        "\n",
        "\n",
        "\n"
      ]
    },
    {
      "cell_type": "markdown",
      "metadata": {
        "id": "4R9lvw8QPQrf"
      },
      "source": [
        "Printing string columns"
      ]
    },
    {
      "cell_type": "code",
      "execution_count": null,
      "metadata": {
        "colab": {
          "base_uri": "https://localhost:8080/"
        },
        "id": "XZ7t8ov9gyQ9",
        "outputId": "569f95e2-8739-4ec0-ae88-e191d93ee20c"
      },
      "outputs": [
        {
          "name": "stdout",
          "output_type": "stream",
          "text": [
            "<class 'str'>\n",
            "Known As\n",
            "L. Messi\n",
            "<class 'str'>\n",
            "Full Name\n",
            "Lionel Messi\n",
            "<class 'str'>\n",
            "Positions Played\n",
            "RW\n",
            "<class 'str'>\n",
            "Best Position\n",
            "CAM\n",
            "<class 'str'>\n",
            "Nationality\n",
            "Argentina\n",
            "<class 'str'>\n",
            "Image Link\n",
            "https://cdn.sofifa.net/players/158/023/23_60.png\n",
            "<class 'str'>\n",
            "Club Name\n",
            "Paris Saint-Germain\n",
            "<class 'str'>\n",
            "Club Position\n",
            "RW\n",
            "<class 'str'>\n",
            "Contract Until\n",
            "2023\n",
            "<class 'str'>\n",
            "Club Jersey Number\n",
            "30\n",
            "<class 'str'>\n",
            "On Loan\n",
            "-\n",
            "<class 'str'>\n",
            "Preferred Foot\n",
            "Left\n",
            "<class 'str'>\n",
            "National Team Name\n",
            "Argentina\n",
            "<class 'str'>\n",
            "National Team Image Link\n",
            "https://cdn.sofifa.net/flags/ar.png\n",
            "<class 'str'>\n",
            "National Team Position\n",
            "RW\n",
            "<class 'str'>\n",
            "National Team Jersey Number\n",
            "10\n",
            "<class 'str'>\n",
            "Attacking Work Rate\n",
            "Low\n",
            "<class 'str'>\n",
            "Defensive Work Rate\n",
            "Low\n"
          ]
        }
      ],
      "source": [
        "for key in df_.keys():\n",
        "  if type(df_[key][0]) == str:\n",
        "    print(type(df_[key][0]))\n",
        "    print(key)\n",
        "    print(df_[key][0])"
      ]
    },
    {
      "cell_type": "markdown",
      "metadata": {
        "id": "cXttWYLbPUHd"
      },
      "source": [
        "Dropping non important columns"
      ]
    },
    {
      "cell_type": "code",
      "execution_count": null,
      "metadata": {
        "colab": {
          "base_uri": "https://localhost:8080/"
        },
        "id": "5c0P_9A4kQsM",
        "outputId": "c63ec4ad-f6b8-4db9-b0d8-308039462c5b"
      },
      "outputs": [
        {
          "data": {
            "text/plain": [
              "85"
            ]
          },
          "execution_count": 28,
          "metadata": {},
          "output_type": "execute_result"
        }
      ],
      "source": [
        "non_important_columns = [\"Full Name\", \"Known As\", \"Image Link\", \"National Team Image Link\"]\n",
        "#for column_name in non_important_columns:\n",
        "df = df_.drop(non_important_columns, axis=1, inplace=False)\n",
        "len(df.keys())"
      ]
    },
    {
      "cell_type": "markdown",
      "metadata": {
        "id": "PKFKHbUbPXX9"
      },
      "source": [
        "Changing text into numerical data"
      ]
    },
    {
      "cell_type": "code",
      "execution_count": null,
      "metadata": {
        "id": "7TXArrOvjwQP"
      },
      "outputs": [],
      "source": [
        "def handle_non_numerical_data(df):\n",
        "    columns = df.columns.values\n",
        "    for column in columns:\n",
        "        text_digit_vals = {}\n",
        "        def convert_to_int(val):\n",
        "            return text_digit_vals[val]\n",
        "\n",
        "        if df[column].dtype != np.int64 and df[column].dtype != np.float64:\n",
        "            column_contents = df[column].values.tolist()\n",
        "            unique_elements = set(column_contents)\n",
        "            x = 0\n",
        "            for unique in unique_elements:\n",
        "                if unique not in text_digit_vals:\n",
        "                    text_digit_vals[unique] = x\n",
        "                    x+=1\n",
        "\n",
        "            df[column] = list(map(convert_to_int, df[column]))\n",
        "\n",
        "    return df\n",
        "df = handle_non_numerical_data(df)\n",
        "train_set, test_set = train_test_split(df, test_size=0.2)\n",
        "feature_names = [feature for feature in df.keys() if feature != \"Value(in Euro)\"]\n",
        "x_train, y_train = torch.tensor(train_set[feature_names].values), torch.tensor(train_set[\"Value(in Euro)\"].values)\n",
        "x_test, y_test = torch.tensor(test_set[feature_names].values), torch.tensor(test_set[\"Value(in Euro)\"].values)\n",
        "\n",
        "def normalize(data):\n",
        "  scaler = MinMaxScaler()\n",
        "  scaler.fit(data)\n",
        "  return scaler.transform(data)\n",
        "\n",
        "x_train= normalize(x_train)\n",
        "y_train = normalize(y_train.unsqueeze(1))\n",
        "x_test = normalize(x_test)\n",
        "y_test = normalize(y_test.unsqueeze(1))"
      ]
    },
    {
      "attachments": {},
      "cell_type": "markdown",
      "metadata": {},
      "source": [
        "# **Training of the neural network**"
      ]
    },
    {
      "cell_type": "markdown",
      "metadata": {
        "id": "1erU-MCQPcZm"
      },
      "source": [
        "Definition of neural network to be trained"
      ]
    },
    {
      "cell_type": "code",
      "execution_count": null,
      "metadata": {
        "id": "zWyd32nRpPhn"
      },
      "outputs": [],
      "source": [
        "class Net(nn.Module):\n",
        "  def __init__(self, in_features, out_features):\n",
        "    super(Net, self).__init__()\n",
        "    self.in_features = in_features\n",
        "    self.out_features = out_features\n",
        "    self.hid1 = nn.Linear(in_features, 64)\n",
        "    self.hid2 = nn.Linear(64, 16)\n",
        "    self.oupt = nn.Linear(16, 1)\n",
        "\n",
        "    nn.init.xavier_uniform_(self.hid1.weight)\n",
        "    nn.init.zeros_(self.hid1.bias)\n",
        "    nn.init.xavier_uniform_(self.hid2.weight)\n",
        "    nn.init.zeros_(self.hid2.bias)\n",
        "    nn.init.xavier_uniform_(self.oupt.weight)\n",
        "    nn.init.zeros_(self.oupt.bias)\n",
        "\n",
        "  def forward(self, x):\n",
        "    z = F.relu(self.hid1(x))\n",
        "    z = F.relu(self.hid2(z))\n",
        "    z = self.oupt(z)  \n",
        "    return z"
      ]
    },
    {
      "cell_type": "markdown",
      "metadata": {
        "id": "0igKvgpNPyWQ"
      },
      "source": [
        "Preparing the dataset for pytorch setup"
      ]
    },
    {
      "cell_type": "code",
      "execution_count": null,
      "metadata": {
        "id": "mJRxlv4UvEUR"
      },
      "outputs": [],
      "source": [
        "class CustomDataset(Dataset):\n",
        "    def __init__(self, x, y):\n",
        "        self.costs = y\n",
        "        self.features = x\n",
        "\n",
        "    def __len__(self):\n",
        "        return len(self.costs)\n",
        "\n",
        "    def __getitem__(self, idx):\n",
        "        feature = self.features[idx]\n",
        "        cost = self.costs[idx]\n",
        "        return feature, cost\n",
        "train_loader = torch.utils.data.DataLoader(CustomDataset(x_train, y_train), batch_size=32, shuffle=True)\n",
        "test_loader = torch.utils.data.DataLoader(CustomDataset(x_test, y_test), batch_size=32, shuffle=True)"
      ]
    },
    {
      "cell_type": "markdown",
      "metadata": {
        "id": "Pwn5Dpy4P4qd"
      },
      "source": [
        "Training of the neural network"
      ]
    },
    {
      "cell_type": "code",
      "execution_count": null,
      "metadata": {
        "id": "8j1AZbV8s-pg"
      },
      "outputs": [],
      "source": [
        "def train_model(num_epochs=100):\n",
        "    device = device = torch.device('cuda' if torch.cuda.is_available() else 'cpu')\n",
        "    model = Net(x_train.shape[1], 1).to(device)\n",
        "    loss_function = nn.MSELoss()\n",
        "    optimizer = optim.Adam(model.parameters())\n",
        "    losses_test = []\n",
        "\n",
        "    for epoch in range(num_epochs):\n",
        "\n",
        "        loss_test = []\n",
        "        loss_ = 0\n",
        "        for features, cost in train_loader:\n",
        "            model.zero_grad()\n",
        "            preds = model(features.float().to(device))            \n",
        "            loss = torch.sqrt(loss_function(preds,cost.float().to(device)))\n",
        "            loss_ += loss.item()\n",
        "            loss.backward()\n",
        "            \n",
        "            optimizer.step()\n",
        "        with torch.no_grad():\n",
        "          loss = 0\n",
        "          for features, cost in test_loader:\n",
        "              features = features.to(torch.float32)\n",
        "              preds = model(features.float().to(device))\n",
        "              loss += torch.sqrt(loss_function(preds,cost.float().to(device)))\n",
        "              loss_test.append(loss)\n",
        "          losses_test.append(torch.tensor(loss_test).mean())\n",
        "        if epoch%(num_epochs//10) == 0:\n",
        "          print(f'Test loss in the {epoch}th epoch: {torch.tensor(losses_test).mean()}')\n",
        "    \n",
        "    plt.plot(list(range(num_epochs)), losses_test, 'g', label='test loss')\n",
        "    plt.title('Training and test loss')\n",
        "    plt.xlabel('Epochs')\n",
        "    plt.ylabel('Loss')\n",
        "    plt.legend()\n",
        "    plt.show()\n",
        "    return losses_test"
      ]
    },
    {
      "cell_type": "code",
      "execution_count": null,
      "metadata": {
        "colab": {
          "base_uri": "https://localhost:8080/",
          "height": 469
        },
        "id": "pLTK66pEySVF",
        "outputId": "e3c446f0-63d8-437a-ce63-1154059ba54e"
      },
      "outputs": [
        {
          "name": "stdout",
          "output_type": "stream",
          "text": [
            "Test loss in the 0th epoch: 3.6502485275268555\n",
            "Test loss in the 10th epoch: 1.6197651624679565\n",
            "Test loss in the 20th epoch: 1.320192575454712\n",
            "Test loss in the 30th epoch: 1.194486379623413\n",
            "Test loss in the 40th epoch: 1.125713586807251\n",
            "Test loss in the 50th epoch: 1.0816707611083984\n",
            "Test loss in the 60th epoch: 1.0341722965240479\n",
            "Test loss in the 70th epoch: 0.9772336483001709\n",
            "Test loss in the 80th epoch: 0.9431598782539368\n",
            "Test loss in the 90th epoch: 0.9033498167991638\n"
          ]
        },
        {
          "data": {
            "image/png": "[encoded data removed]",
            "text/plain": [
              "<Figure size 432x288 with 1 Axes>"
            ]
          },
          "metadata": {
            "needs_background": "light"
          },
          "output_type": "display_data"
        }
      ],
      "source": [
        "losses_test = train_model(num_epochs=100)"
      ]
    },
    {
      "attachments": {},
      "cell_type": "markdown",
      "metadata": {},
      "source": [
        "# **XGBoost training**"
      ]
    },
    {
      "attachments": {},
      "cell_type": "markdown",
      "metadata": {
        "id": "CvWG0n78CpE3"
      },
      "source": [
        "\n",
        "\n",
        "In this cell I reorganize the data to fit the XGBoost setup, that is I simply reshape the target variable.\n",
        "\n"
      ]
    },
    {
      "cell_type": "code",
      "execution_count": null,
      "metadata": {
        "id": "O8CVM1dO3z3A"
      },
      "outputs": [],
      "source": [
        "X = df[feature_names]\n",
        "y = df[\"Value(in Euro)\"]\n",
        "data_dmatrix = xgb.DMatrix(data=X,label=y)\n",
        "X_train, X_test, y_train, y_test = train_test_split(X, y, test_size=0.2, random_state=123)\n",
        "X_train= normalize(X_train)\n",
        "y_train = normalize(y_train.values.reshape(-1,1))\n",
        "X_test = normalize(X_test)\n",
        "y_test = normalize(y_test.values.reshape(-1,1))"
      ]
    },
    {
      "cell_type": "markdown",
      "metadata": {
        "id": "tfQcjBoJQK7q"
      },
      "source": [
        "XGBoost training"
      ]
    },
    {
      "cell_type": "code",
      "execution_count": null,
      "metadata": {
        "colab": {
          "base_uri": "https://localhost:8080/"
        },
        "id": "NA3qFWO7KgDa",
        "outputId": "c073c5a3-ac5f-4163-8d16-5b93150e881b"
      },
      "outputs": [
        {
          "name": "stdout",
          "output_type": "stream",
          "text": [
            "[12:31:01] WARNING: /workspace/src/objective/regression_obj.cu:152: reg:linear is now deprecated in favor of reg:squarederror.\n"
          ]
        }
      ],
      "source": [
        "xg_reg = xgb.XGBRegressor(objective ='reg:linear', colsample_bytree = 0.3, learning_rate = 0.1,\n",
        "                max_depth = 5, alpha = 10, n_estimators = 10)\n",
        "xg_reg.fit(X_train,y_train)\n",
        "\n",
        "preds = xg_reg.predict(X_test)"
      ]
    },
    {
      "cell_type": "markdown",
      "metadata": {
        "id": "eb43Q0q_QOFi"
      },
      "source": [
        "Comparison between XGBoost and neural network by their root mean square error"
      ]
    },
    {
      "cell_type": "code",
      "execution_count": null,
      "metadata": {
        "colab": {
          "base_uri": "https://localhost:8080/"
        },
        "id": "1L9B3L6sKnON",
        "outputId": "2338bbe0-1f30-4c99-bfbd-1935b523eee2"
      },
      "outputs": [
        {
          "name": "stdout",
          "output_type": "stream",
          "text": [
            "RMSE XGB: 0.1653453940109935, RMSE NN: 0.9462847113609314, ratio: 0.17473112046718597\n"
          ]
        }
      ],
      "source": [
        "rmse = np.sqrt(mean_squared_error(y_test, preds))\n",
        "print(f'RMSE XGB: {rmse}, RMSE NN: {losses_test[-1]}, ratio: {rmse/losses_test[-1]}')"
      ]
    },
    {
      "attachments": {},
      "cell_type": "markdown",
      "metadata": {},
      "source": [
        "XGBoost achieved much better results and it worked considerably faster. The reason for this is the fact that the data are heterogenous. Tree-based methods treat features independently and produce rules for each of the features. On the other hand, neural network treats features jointly, by multiplying each of them by some weights. When features are heterogenous, mixing them linearly is very difficult.\n"
      ]
    }
  ],
  "metadata": {
    "accelerator": "GPU",
    "colab": {
      "collapsed_sections": [],
      "provenance": []
    },
    "kernelspec": {
      "display_name": "xai_env",
      "language": "python",
      "name": "python3"
    },
    "language_info": {
      "codemirror_mode": {
        "name": "ipython",
        "version": 3
      },
      "file_extension": ".py",
      "mimetype": "text/x-python",
      "name": "python",
      "nbconvert_exporter": "python",
      "pygments_lexer": "ipython3",
      "version": "3.7.6"
    },
    "vscode": {
      "interpreter": {
        "hash": "af6808631b646a2ea9f8520b5c8cf5ced62fc365bea1d03b49f21ebd9b9b925b"
      }
    }
  },
  "nbformat": 4,
  "nbformat_minor": 0
}
