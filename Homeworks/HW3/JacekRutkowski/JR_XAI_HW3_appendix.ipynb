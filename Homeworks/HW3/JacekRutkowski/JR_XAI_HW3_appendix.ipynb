{
  "nbformat": 4,
  "nbformat_minor": 0,
  "metadata": {
    "colab": {
      "provenance": [],
      "collapsed_sections": []
    },
    "kernelspec": {
      "name": "python3",
      "display_name": "Python 3"
    },
    "language_info": {
      "name": "python"
    }
  },
  "cells": [
    {
      "cell_type": "code",
      "execution_count": 79,
      "metadata": {
        "id": "hvMDZ-l8f4Db"
      },
      "outputs": [],
      "source": [
        "import torch\n",
        "import torch.nn as nn\n",
        "import torch.nn.functional as F\n",
        "import torch.optim as optim\n",
        "from torch.utils.data import Dataset\n",
        "from sklearn.model_selection import train_test_split\n",
        "from sklearn.linear_model import LinearRegression\n",
        "from sklearn.preprocessing import MinMaxScaler\n",
        "import lime\n",
        "import xgboost as xgb\n",
        "from sklearn.metrics import mean_squared_error\n",
        "import matplotlib.pyplot as plt\n",
        "import tensorflow as tf\n",
        "import numpy as np\n",
        "import pandas as pd\n",
        "import warnings\n",
        "warnings.filterwarnings(\"ignore\")\n",
        "from lime import lime_tabular"
      ]
    },
    {
      "cell_type": "markdown",
      "source": [
        "# **1.** \n",
        "At the beginning I remove columns which are irrelevant and change strings to numerical variables. Then I split the data into the training and test sets. Next, I train XGBoost model for predicting value of a player."
      ],
      "metadata": {
        "id": "B-R-7R5orVMm"
      }
    },
    {
      "cell_type": "code",
      "source": [
        "df_ = pd.read_csv('Fifa 23 Players Data.csv')\n",
        "df_.head()"
      ],
      "metadata": {
        "id": "DVe4lTvWRUxz",
        "colab": {
          "base_uri": "https://localhost:8080/",
          "height": 386
        },
        "outputId": "a3298c16-4bcd-48ee-a6f7-c542b9ac33c5"
      },
      "execution_count": 3,
      "outputs": [
        {
          "output_type": "execute_result",
          "data": {
            "text/plain": [
              "         Known As           Full Name  Overall  Potential  Value(in Euro)  \\\n",
              "0        L. Messi        Lionel Messi       91         91        54000000   \n",
              "1      K. Benzema       Karim Benzema       91         91        64000000   \n",
              "2  R. Lewandowski  Robert Lewandowski       91         91        84000000   \n",
              "3    K. De Bruyne     Kevin De Bruyne       91         91       107500000   \n",
              "4       K. Mbappé       Kylian Mbappé       91         95       190500000   \n",
              "\n",
              "  Positions Played Best Position Nationality  \\\n",
              "0               RW           CAM   Argentina   \n",
              "1            CF,ST            CF      France   \n",
              "2               ST            ST      Poland   \n",
              "3           CM,CAM            CM     Belgium   \n",
              "4            ST,LW            ST      France   \n",
              "\n",
              "                                         Image Link  Age  ...  LM Rating  \\\n",
              "0  https://cdn.sofifa.net/players/158/023/23_60.png   35  ...         91   \n",
              "1  https://cdn.sofifa.net/players/165/153/23_60.png   34  ...         89   \n",
              "2  https://cdn.sofifa.net/players/188/545/23_60.png   33  ...         86   \n",
              "3  https://cdn.sofifa.net/players/192/985/23_60.png   31  ...         91   \n",
              "4  https://cdn.sofifa.net/players/231/747/23_60.png   23  ...         92   \n",
              "\n",
              "   CM Rating  RM Rating  LWB Rating CDM Rating  RWB Rating  LB Rating  \\\n",
              "0         88         91          67         66          67         62   \n",
              "1         84         89          67         67          67         63   \n",
              "2         83         86          67         69          67         64   \n",
              "3         91         91          82         82          82         78   \n",
              "4         84         92          70         66          70         66   \n",
              "\n",
              "  CB Rating RB Rating GK Rating  \n",
              "0        53        62        22  \n",
              "1        58        63        21  \n",
              "2        63        64        22  \n",
              "3        72        78        24  \n",
              "4        57        66        21  \n",
              "\n",
              "[5 rows x 89 columns]"
            ],
            "text/html": [
              "\n",
              "  <div id=\"df-9f9dba3f-1f4c-4409-b084-9f8f562acee0\">\n",
              "    <div class=\"colab-df-container\">\n",
              "      <div>\n",
              "<style scoped>\n",
              "    .dataframe tbody tr th:only-of-type {\n",
              "        vertical-align: middle;\n",
              "    }\n",
              "\n",
              "    .dataframe tbody tr th {\n",
              "        vertical-align: top;\n",
              "    }\n",
              "\n",
              "    .dataframe thead th {\n",
              "        text-align: right;\n",
              "    }\n",
              "</style>\n",
              "<table border=\"1\" class=\"dataframe\">\n",
              "  <thead>\n",
              "    <tr style=\"text-align: right;\">\n",
              "      <th></th>\n",
              "      <th>Known As</th>\n",
              "      <th>Full Name</th>\n",
              "      <th>Overall</th>\n",
              "      <th>Potential</th>\n",
              "      <th>Value(in Euro)</th>\n",
              "      <th>Positions Played</th>\n",
              "      <th>Best Position</th>\n",
              "      <th>Nationality</th>\n",
              "      <th>Image Link</th>\n",
              "      <th>Age</th>\n",
              "      <th>...</th>\n",
              "      <th>LM Rating</th>\n",
              "      <th>CM Rating</th>\n",
              "      <th>RM Rating</th>\n",
              "      <th>LWB Rating</th>\n",
              "      <th>CDM Rating</th>\n",
              "      <th>RWB Rating</th>\n",
              "      <th>LB Rating</th>\n",
              "      <th>CB Rating</th>\n",
              "      <th>RB Rating</th>\n",
              "      <th>GK Rating</th>\n",
              "    </tr>\n",
              "  </thead>\n",
              "  <tbody>\n",
              "    <tr>\n",
              "      <th>0</th>\n",
              "      <td>L. Messi</td>\n",
              "      <td>Lionel Messi</td>\n",
              "      <td>91</td>\n",
              "      <td>91</td>\n",
              "      <td>54000000</td>\n",
              "      <td>RW</td>\n",
              "      <td>CAM</td>\n",
              "      <td>Argentina</td>\n",
              "      <td>https://cdn.sofifa.net/players/158/023/23_60.png</td>\n",
              "      <td>35</td>\n",
              "      <td>...</td>\n",
              "      <td>91</td>\n",
              "      <td>88</td>\n",
              "      <td>91</td>\n",
              "      <td>67</td>\n",
              "      <td>66</td>\n",
              "      <td>67</td>\n",
              "      <td>62</td>\n",
              "      <td>53</td>\n",
              "      <td>62</td>\n",
              "      <td>22</td>\n",
              "    </tr>\n",
              "    <tr>\n",
              "      <th>1</th>\n",
              "      <td>K. Benzema</td>\n",
              "      <td>Karim Benzema</td>\n",
              "      <td>91</td>\n",
              "      <td>91</td>\n",
              "      <td>64000000</td>\n",
              "      <td>CF,ST</td>\n",
              "      <td>CF</td>\n",
              "      <td>France</td>\n",
              "      <td>https://cdn.sofifa.net/players/165/153/23_60.png</td>\n",
              "      <td>34</td>\n",
              "      <td>...</td>\n",
              "      <td>89</td>\n",
              "      <td>84</td>\n",
              "      <td>89</td>\n",
              "      <td>67</td>\n",
              "      <td>67</td>\n",
              "      <td>67</td>\n",
              "      <td>63</td>\n",
              "      <td>58</td>\n",
              "      <td>63</td>\n",
              "      <td>21</td>\n",
              "    </tr>\n",
              "    <tr>\n",
              "      <th>2</th>\n",
              "      <td>R. Lewandowski</td>\n",
              "      <td>Robert Lewandowski</td>\n",
              "      <td>91</td>\n",
              "      <td>91</td>\n",
              "      <td>84000000</td>\n",
              "      <td>ST</td>\n",
              "      <td>ST</td>\n",
              "      <td>Poland</td>\n",
              "      <td>https://cdn.sofifa.net/players/188/545/23_60.png</td>\n",
              "      <td>33</td>\n",
              "      <td>...</td>\n",
              "      <td>86</td>\n",
              "      <td>83</td>\n",
              "      <td>86</td>\n",
              "      <td>67</td>\n",
              "      <td>69</td>\n",
              "      <td>67</td>\n",
              "      <td>64</td>\n",
              "      <td>63</td>\n",
              "      <td>64</td>\n",
              "      <td>22</td>\n",
              "    </tr>\n",
              "    <tr>\n",
              "      <th>3</th>\n",
              "      <td>K. De Bruyne</td>\n",
              "      <td>Kevin De Bruyne</td>\n",
              "      <td>91</td>\n",
              "      <td>91</td>\n",
              "      <td>107500000</td>\n",
              "      <td>CM,CAM</td>\n",
              "      <td>CM</td>\n",
              "      <td>Belgium</td>\n",
              "      <td>https://cdn.sofifa.net/players/192/985/23_60.png</td>\n",
              "      <td>31</td>\n",
              "      <td>...</td>\n",
              "      <td>91</td>\n",
              "      <td>91</td>\n",
              "      <td>91</td>\n",
              "      <td>82</td>\n",
              "      <td>82</td>\n",
              "      <td>82</td>\n",
              "      <td>78</td>\n",
              "      <td>72</td>\n",
              "      <td>78</td>\n",
              "      <td>24</td>\n",
              "    </tr>\n",
              "    <tr>\n",
              "      <th>4</th>\n",
              "      <td>K. Mbappé</td>\n",
              "      <td>Kylian Mbappé</td>\n",
              "      <td>91</td>\n",
              "      <td>95</td>\n",
              "      <td>190500000</td>\n",
              "      <td>ST,LW</td>\n",
              "      <td>ST</td>\n",
              "      <td>France</td>\n",
              "      <td>https://cdn.sofifa.net/players/231/747/23_60.png</td>\n",
              "      <td>23</td>\n",
              "      <td>...</td>\n",
              "      <td>92</td>\n",
              "      <td>84</td>\n",
              "      <td>92</td>\n",
              "      <td>70</td>\n",
              "      <td>66</td>\n",
              "      <td>70</td>\n",
              "      <td>66</td>\n",
              "      <td>57</td>\n",
              "      <td>66</td>\n",
              "      <td>21</td>\n",
              "    </tr>\n",
              "  </tbody>\n",
              "</table>\n",
              "<p>5 rows × 89 columns</p>\n",
              "</div>\n",
              "      <button class=\"colab-df-convert\" onclick=\"convertToInteractive('df-9f9dba3f-1f4c-4409-b084-9f8f562acee0')\"\n",
              "              title=\"Convert this dataframe to an interactive table.\"\n",
              "              style=\"display:none;\">\n",
              "        \n",
              "  <svg xmlns=\"http://www.w3.org/2000/svg\" height=\"24px\"viewBox=\"0 0 24 24\"\n",
              "       width=\"24px\">\n",
              "    <path d=\"M0 0h24v24H0V0z\" fill=\"none\"/>\n",
              "    <path d=\"M18.56 5.44l.94 2.06.94-2.06 2.06-.94-2.06-.94-.94-2.06-.94 2.06-2.06.94zm-11 1L8.5 8.5l.94-2.06 2.06-.94-2.06-.94L8.5 2.5l-.94 2.06-2.06.94zm10 10l.94 2.06.94-2.06 2.06-.94-2.06-.94-.94-2.06-.94 2.06-2.06.94z\"/><path d=\"M17.41 7.96l-1.37-1.37c-.4-.4-.92-.59-1.43-.59-.52 0-1.04.2-1.43.59L10.3 9.45l-7.72 7.72c-.78.78-.78 2.05 0 2.83L4 21.41c.39.39.9.59 1.41.59.51 0 1.02-.2 1.41-.59l7.78-7.78 2.81-2.81c.8-.78.8-2.07 0-2.86zM5.41 20L4 18.59l7.72-7.72 1.47 1.35L5.41 20z\"/>\n",
              "  </svg>\n",
              "      </button>\n",
              "      \n",
              "  <style>\n",
              "    .colab-df-container {\n",
              "      display:flex;\n",
              "      flex-wrap:wrap;\n",
              "      gap: 12px;\n",
              "    }\n",
              "\n",
              "    .colab-df-convert {\n",
              "      background-color: #E8F0FE;\n",
              "      border: none;\n",
              "      border-radius: 50%;\n",
              "      cursor: pointer;\n",
              "      display: none;\n",
              "      fill: #1967D2;\n",
              "      height: 32px;\n",
              "      padding: 0 0 0 0;\n",
              "      width: 32px;\n",
              "    }\n",
              "\n",
              "    .colab-df-convert:hover {\n",
              "      background-color: #E2EBFA;\n",
              "      box-shadow: 0px 1px 2px rgba(60, 64, 67, 0.3), 0px 1px 3px 1px rgba(60, 64, 67, 0.15);\n",
              "      fill: #174EA6;\n",
              "    }\n",
              "\n",
              "    [theme=dark] .colab-df-convert {\n",
              "      background-color: #3B4455;\n",
              "      fill: #D2E3FC;\n",
              "    }\n",
              "\n",
              "    [theme=dark] .colab-df-convert:hover {\n",
              "      background-color: #434B5C;\n",
              "      box-shadow: 0px 1px 3px 1px rgba(0, 0, 0, 0.15);\n",
              "      filter: drop-shadow(0px 1px 2px rgba(0, 0, 0, 0.3));\n",
              "      fill: #FFFFFF;\n",
              "    }\n",
              "  </style>\n",
              "\n",
              "      <script>\n",
              "        const buttonEl =\n",
              "          document.querySelector('#df-9f9dba3f-1f4c-4409-b084-9f8f562acee0 button.colab-df-convert');\n",
              "        buttonEl.style.display =\n",
              "          google.colab.kernel.accessAllowed ? 'block' : 'none';\n",
              "\n",
              "        async function convertToInteractive(key) {\n",
              "          const element = document.querySelector('#df-9f9dba3f-1f4c-4409-b084-9f8f562acee0');\n",
              "          const dataTable =\n",
              "            await google.colab.kernel.invokeFunction('convertToInteractive',\n",
              "                                                     [key], {});\n",
              "          if (!dataTable) return;\n",
              "\n",
              "          const docLinkHtml = 'Like what you see? Visit the ' +\n",
              "            '<a target=\"_blank\" href=https://colab.research.google.com/notebooks/data_table.ipynb>data table notebook</a>'\n",
              "            + ' to learn more about interactive tables.';\n",
              "          element.innerHTML = '';\n",
              "          dataTable['output_type'] = 'display_data';\n",
              "          await google.colab.output.renderOutput(dataTable, element);\n",
              "          const docLink = document.createElement('div');\n",
              "          docLink.innerHTML = docLinkHtml;\n",
              "          element.appendChild(docLink);\n",
              "        }\n",
              "      </script>\n",
              "    </div>\n",
              "  </div>\n",
              "  "
            ]
          },
          "metadata": {},
          "execution_count": 3
        }
      ]
    },
    {
      "cell_type": "code",
      "source": [
        "non_important_columns = [\"Full Name\", \"Known As\", \"Image Link\", \"National Team Image Link\"]\n",
        "\n",
        "df = df_.drop(non_important_columns, axis=1, inplace=False)\n",
        "def handle_non_numerical_data(df):\n",
        "    columns = df.columns.values\n",
        "    for column in columns:\n",
        "        text_digit_vals = {}\n",
        "        def convert_to_int(val):\n",
        "            return text_digit_vals[val]\n",
        "\n",
        "        if df[column].dtype != np.int64 and df[column].dtype != np.float64:\n",
        "            column_contents = df[column].values.tolist()\n",
        "            unique_elements = set(column_contents)\n",
        "            x = 0\n",
        "            for unique in unique_elements:\n",
        "                if unique not in text_digit_vals:\n",
        "                    text_digit_vals[unique] = x\n",
        "                    x+=1\n",
        "\n",
        "            df[column] = list(map(convert_to_int, df[column]))\n",
        "\n",
        "    return df\n",
        "df = handle_non_numerical_data(df).dropna()\n",
        "\n",
        "feature_names = sorted([feature for feature in df.keys() if feature != \"Value(in Euro)\"])\n",
        "\n",
        "y = pd.DataFrame(df['Value(in Euro)'])\n",
        "X = df[feature_names]\n",
        "data_dmatrix = xgb.DMatrix(data=X,label=y)\n",
        "X_train, X_test, y_train, y_test = train_test_split(X.values, y.values, test_size=0.2, random_state=123)"
      ],
      "metadata": {
        "id": "5c0P_9A4kQsM"
      },
      "execution_count": 5,
      "outputs": []
    },
    {
      "cell_type": "markdown",
      "source": [
        "Training of XGBoost"
      ],
      "metadata": {
        "id": "02Qpp7M7s1OG"
      }
    },
    {
      "cell_type": "code",
      "source": [
        "xg_reg = xgb.XGBRegressor(objective ='reg:linear', colsample_bytree = 0.3, learning_rate = 0.1,\n",
        "                max_depth = 5, alpha = 10, n_estimators = 10)\n",
        "xg_reg.fit(X_train,y_train)\n",
        "\n",
        "preds = xg_reg.predict(X_test)"
      ],
      "metadata": {
        "colab": {
          "base_uri": "https://localhost:8080/"
        },
        "id": "NA3qFWO7KgDa",
        "outputId": "25c21f12-3d48-47a5-a80a-6bce99bf5daf"
      },
      "execution_count": 6,
      "outputs": [
        {
          "output_type": "stream",
          "name": "stdout",
          "text": [
            "[17:35:59] WARNING: /workspace/src/objective/regression_obj.cu:152: reg:linear is now deprecated in favor of reg:squarederror.\n"
          ]
        }
      ]
    },
    {
      "cell_type": "markdown",
      "source": [
        "Predictions for some players"
      ],
      "metadata": {
        "id": "1E_Agbo0s5wD"
      }
    },
    {
      "cell_type": "code",
      "source": [
        "print(f'Predictions of value for 5-th, 0-th and 10th players are {preds[0]}, {preds[1]}, {preds[1]}')"
      ],
      "metadata": {
        "colab": {
          "base_uri": "https://localhost:8080/"
        },
        "id": "O4c8Lqt-WDH_",
        "outputId": "78aedae5-8896-46c6-86a6-fad1469bea9f"
      },
      "execution_count": 15,
      "outputs": [
        {
          "output_type": "stream",
          "name": "stdout",
          "text": [
            "Predictions of value for 5-th, 0-th and 10th players are 864751.0, 1269038.875, 1269038.875\n"
          ]
        }
      ]
    },
    {
      "cell_type": "markdown",
      "source": [
        "# **2.** \n",
        "Calculaction of the decompositions of chosen predictions"
      ],
      "metadata": {
        "id": "zEn2VJ09t1aX"
      }
    },
    {
      "cell_type": "code",
      "source": [
        "explainer = lime.lime_tabular.LimeTabularExplainer(X_train, feature_names=feature_names, class_names=['Value(in Euro)'], verbose=True, mode='regression')\n",
        "def show_lime(id):\n",
        "  exp = explainer.explain_instance(X_test[id], xg_reg.predict, num_features=10)\n",
        "  _ = exp.as_pyplot_figure()\n",
        "[show_lime(i) for i in range(3)]"
      ],
      "metadata": {
        "id": "znRYsLXcYt6h"
      },
      "execution_count": null,
      "outputs": []
    },
    {
      "cell_type": "markdown",
      "source": [
        "# **3.** Stability of explanations: comparison of LIME decompositions\n"
      ],
      "metadata": {
        "id": "ZaN8qkIS7vUP"
      }
    },
    {
      "cell_type": "code",
      "source": [
        "for i in range(3):\n",
        "  show_lime(i)\n",
        "  show_lime(i)"
      ],
      "metadata": {
        "id": "f3ZOrTD67szF"
      },
      "execution_count": null,
      "outputs": []
    },
    {
      "cell_type": "markdown",
      "source": [
        "# **4.** \n",
        "Comparison of the LIME and SHAP explanations\n"
      ],
      "metadata": {
        "id": "3pkY4GXtaAtw"
      }
    },
    {
      "cell_type": "code",
      "source": [
        "import shap\n",
        "shap.initjs()\n",
        "shap_explainer = shap.TreeExplainer(xg_reg, X_train)\n",
        "def show_shap(id):\n",
        "  df_id = X_test[id:id+1]\n",
        "  shap_values = shap_explainer(df_id)[0,:]\n",
        "  shap.plots.waterfall(shap_values)\n",
        "\n",
        "for id in range(3):\n",
        "  show_lime(id)"
      ],
      "metadata": {
        "id": "Sht6sZLKxlx8"
      },
      "execution_count": null,
      "outputs": []
    },
    {
      "cell_type": "code",
      "source": [
        "X_train, X_test, y_train, y_test = train_test_split(X, y, test_size=0.2, random_state=123)\n",
        "\n",
        "shap_explainer = shap.Explainer(xg_reg, X_train)\n",
        "\n",
        "def show_shap(id):\n",
        "  df_id = X_test[id:id+1]\n",
        "  shap_values = shap_explainer(df_id)[0,:]\n",
        "  shap.plots.waterfall(shap_values)\n",
        "for id in range(3):\n",
        "  show_shap(id)"
      ],
      "metadata": {
        "id": "HAwjj1CA_t4J"
      },
      "execution_count": null,
      "outputs": []
    },
    {
      "cell_type": "markdown",
      "source": [
        "# **5.** \n",
        "Comparison of LIME for XGBoost and simple linear regression\n"
      ],
      "metadata": {
        "id": "tUNfqD1g0MoD"
      }
    },
    {
      "cell_type": "markdown",
      "source": [
        "Training of linear regression"
      ],
      "metadata": {
        "id": "jrpPfUQc_33x"
      }
    },
    {
      "cell_type": "code",
      "source": [
        "\n",
        "X_train_lin, X_test_lin, y_train_lin, y_test_lin = train_test_split(X, y, test_size=0.2, random_state=123)\n",
        "\n",
        "scaler = MinMaxScaler()\n",
        "scaler.fit(X_train)\n",
        "X_train_lin = scaler.transform(X_train_lin)\n",
        "y_train_lin = y_train_lin.values.reshape(-1,1)\n",
        "X_test_lin = scaler.transform(X_test)\n",
        "y_test_lin = y_test.values.reshape(-1,1)\n",
        "reg = LinearRegression().fit(X_train_lin, y_train_lin.reshape(-1,1))\n",
        "\n",
        "y_pred = reg.predict(X_test_lin)"
      ],
      "metadata": {
        "id": "od1RRAFXaAHL"
      },
      "execution_count": 75,
      "outputs": []
    },
    {
      "cell_type": "markdown",
      "source": [
        "Explanations for XGBoost and linear model"
      ],
      "metadata": {
        "id": "OJ0Knjwe_8vU"
      }
    },
    {
      "cell_type": "code",
      "source": [
        "explainer = lime.lime_tabular.LimeTabularExplainer(X_train_lin, feature_names=feature_names, class_names=['Value(in Euro)'], verbose=True, mode='regression')\n",
        "\n",
        "def show_lime_linear(id):\n",
        "  exp = explainer.explain_instance(X_test_lin[id], reg.predict, num_features=10)\n",
        "  _ = exp.as_pyplot_figure()\n",
        "\n",
        "for id in range(3):\n",
        "  show_lime_linear(id)"
      ],
      "metadata": {
        "id": "84Reum8Abxk7"
      },
      "execution_count": null,
      "outputs": []
    }
  ]
}