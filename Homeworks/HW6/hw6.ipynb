{
 "cells": [
  {
   "cell_type": "markdown",
   "metadata": {},
   "source": [
    "# Task 1"
   ]
  },
  {
   "cell_type": "markdown",
   "metadata": {},
   "source": [
    "### Demographic Parity\n",
    "\n",
    "P(Y^=1|A=Blue) = 65/100 = 0.65\\\n",
    "P(Y^=1|A=Red) = 0.5\n",
    "\n",
    "Demographic parity = 0.65/0.5 = 1.3 > 1.25\\\n",
    "So it fails the four-fifth rule."
   ]
  },
  {
   "cell_type": "markdown",
   "metadata": {},
   "source": [
    "### Equal Opportunity\n",
    "\n",
    "P(Y^=1|A=Blue, Y=1) = 60/(60+20) = 3/4\n",
    "P(Y^=1|A=Red, Y=1) = 1/2\n",
    "\n",
    "Demographic parity = (3/4)/(1/2) = 3/2 > 1.25\n",
    "So it fails the four-fifth rule."
   ]
  },
  {
   "cell_type": "markdown",
   "metadata": {},
   "source": [
    "### Predictive rate parity \n",
    "\n",
    "P(Y=1|A=Blue, Y^=1) = 60/65\\\n",
    "P(Y=1|A=Red, Y^=1) = 1/2\n",
    "\n",
    "Predictive rate parity = 120/65 > 1.7 > 1.25\\\n",
    "So it fails the four-fifth rule."
   ]
  },
  {
   "cell_type": "markdown",
   "metadata": {},
   "source": [
    "### How to improve?\n",
    "\n",
    "Increase the number of red participants by having more seats available for them with either reducing number of blue participants or creating more empty spaces."
   ]
  },
  {
   "cell_type": "markdown",
   "metadata": {},
   "source": [
    "# Task 2\n",
    "\n",
    "Skip, too overworked."
   ]
  }
 ],
 "metadata": {
  "language_info": {
   "name": "python"
  },
  "orig_nbformat": 4
 },
 "nbformat": 4,
 "nbformat_minor": 2
}
