{
  "cells": [
    {
      "cell_type": "markdown",
      "metadata": {
        "id": "HmFzhfxsxbm1"
      },
      "source": [
        "# Task 1"
      ]
    },
    {
      "cell_type": "markdown",
      "source": [
        "Demographic parity:\n",
        "\n",
        "$$P(Y^*|A=Blue)/P(Y^*|A=Red) = 0.65 \\cdot 2 = 1.3$$ \n",
        "\n",
        "$$P(Y*|A=Blue, Y=1) = \\frac34$$\n",
        "\n",
        "$$P(Y*|A=Red, Y=1) = \\frac12$$\n",
        "\n",
        "\n",
        "Equal opportunity:\n",
        "\n",
        "$$P(Y^*|A=Blue, Y=1)/P(Y^*|A=Red, Y=1) = 3/4 \\cdot 2 = 1.5 $$\n",
        "\n",
        "$$P(Y|A=Blue, Y*=1) = 60/65$$\n",
        "\n",
        "$$P(Y|A=Red, Y*=1) = \\frac12$$\n",
        "\n",
        "\n",
        "Predictive rate parity\n",
        "\n",
        "$$P(Y|A=Blue, Y*=1)/P(Y|A=Red, Y*=1) = 120/65$$\n",
        "\n"
      ],
      "metadata": {
        "id": "7kC3ljj13s-4"
      }
    },
    {
      "cell_type": "code",
      "source": [
        "!pip install -q interpret\n",
        "!pip install -U kaleido\n",
        "!pip install shap\n",
        "!pip install dalex"
      ],
      "metadata": {
        "colab": {
          "base_uri": "https://localhost:8080/"
        },
        "id": "umBuQSy2xlha",
        "outputId": "3112b510-4b40-4bc7-bc2a-f73cd14dbb16"
      },
      "execution_count": 66,
      "outputs": [
        {
          "output_type": "stream",
          "name": "stdout",
          "text": [
            "Looking in indexes: https://pypi.org/simple, https://us-python.pkg.dev/colab-wheels/public/simple/\n",
            "Requirement already satisfied: kaleido in /usr/local/lib/python3.8/dist-packages (0.2.1)\n",
            "Looking in indexes: https://pypi.org/simple, https://us-python.pkg.dev/colab-wheels/public/simple/\n",
            "Requirement already satisfied: shap in /usr/local/lib/python3.8/dist-packages (0.41.0)\n",
            "Requirement already satisfied: numpy in /usr/local/lib/python3.8/dist-packages (from shap) (1.21.6)\n",
            "Requirement already satisfied: packaging>20.9 in /usr/local/lib/python3.8/dist-packages (from shap) (21.3)\n",
            "Requirement already satisfied: slicer==0.0.7 in /usr/local/lib/python3.8/dist-packages (from shap) (0.0.7)\n",
            "Requirement already satisfied: tqdm>4.25.0 in /usr/local/lib/python3.8/dist-packages (from shap) (4.64.1)\n",
            "Requirement already satisfied: scikit-learn in /usr/local/lib/python3.8/dist-packages (from shap) (1.0.2)\n",
            "Requirement already satisfied: cloudpickle in /usr/local/lib/python3.8/dist-packages (from shap) (1.5.0)\n",
            "Requirement already satisfied: numba in /usr/local/lib/python3.8/dist-packages (from shap) (0.56.4)\n",
            "Requirement already satisfied: scipy in /usr/local/lib/python3.8/dist-packages (from shap) (1.7.3)\n",
            "Requirement already satisfied: pandas in /usr/local/lib/python3.8/dist-packages (from shap) (1.3.5)\n",
            "Requirement already satisfied: pyparsing!=3.0.5,>=2.0.2 in /usr/local/lib/python3.8/dist-packages (from packaging>20.9->shap) (3.0.9)\n",
            "Requirement already satisfied: setuptools in /usr/local/lib/python3.8/dist-packages (from numba->shap) (57.4.0)\n",
            "Requirement already satisfied: importlib-metadata in /usr/local/lib/python3.8/dist-packages (from numba->shap) (4.13.0)\n",
            "Requirement already satisfied: llvmlite<0.40,>=0.39.0dev0 in /usr/local/lib/python3.8/dist-packages (from numba->shap) (0.39.1)\n",
            "Requirement already satisfied: zipp>=0.5 in /usr/local/lib/python3.8/dist-packages (from importlib-metadata->numba->shap) (3.11.0)\n",
            "Requirement already satisfied: pytz>=2017.3 in /usr/local/lib/python3.8/dist-packages (from pandas->shap) (2022.6)\n",
            "Requirement already satisfied: python-dateutil>=2.7.3 in /usr/local/lib/python3.8/dist-packages (from pandas->shap) (2.8.2)\n",
            "Requirement already satisfied: six>=1.5 in /usr/local/lib/python3.8/dist-packages (from python-dateutil>=2.7.3->pandas->shap) (1.15.0)\n",
            "Requirement already satisfied: joblib>=0.11 in /usr/local/lib/python3.8/dist-packages (from scikit-learn->shap) (1.2.0)\n",
            "Requirement already satisfied: threadpoolctl>=2.0.0 in /usr/local/lib/python3.8/dist-packages (from scikit-learn->shap) (3.1.0)\n",
            "Looking in indexes: https://pypi.org/simple, https://us-python.pkg.dev/colab-wheels/public/simple/\n",
            "Requirement already satisfied: dalex in /usr/local/lib/python3.8/dist-packages (1.5.0)\n",
            "Requirement already satisfied: pandas>=1.2.5 in /usr/local/lib/python3.8/dist-packages (from dalex) (1.3.5)\n",
            "Requirement already satisfied: setuptools in /usr/local/lib/python3.8/dist-packages (from dalex) (57.4.0)\n",
            "Requirement already satisfied: plotly>=5.1.0 in /usr/local/lib/python3.8/dist-packages (from dalex) (5.5.0)\n",
            "Requirement already satisfied: tqdm>=4.61.2 in /usr/local/lib/python3.8/dist-packages (from dalex) (4.64.1)\n",
            "Requirement already satisfied: scipy>=1.6.3 in /usr/local/lib/python3.8/dist-packages (from dalex) (1.7.3)\n",
            "Requirement already satisfied: numpy>=1.20.3 in /usr/local/lib/python3.8/dist-packages (from dalex) (1.21.6)\n",
            "Requirement already satisfied: python-dateutil>=2.7.3 in /usr/local/lib/python3.8/dist-packages (from pandas>=1.2.5->dalex) (2.8.2)\n",
            "Requirement already satisfied: pytz>=2017.3 in /usr/local/lib/python3.8/dist-packages (from pandas>=1.2.5->dalex) (2022.6)\n",
            "Requirement already satisfied: tenacity>=6.2.0 in /usr/local/lib/python3.8/dist-packages (from plotly>=5.1.0->dalex) (8.1.0)\n",
            "Requirement already satisfied: six in /usr/local/lib/python3.8/dist-packages (from plotly>=5.1.0->dalex) (1.15.0)\n"
          ]
        }
      ]
    },
    {
      "cell_type": "markdown",
      "metadata": {
        "id": "Py6UzaEcxbm4"
      },
      "source": [
        "## Libs and data preparing"
      ]
    },
    {
      "cell_type": "code",
      "execution_count": 67,
      "metadata": {
        "id": "jVBObRJhxbm6"
      },
      "outputs": [],
      "source": [
        "import os\n",
        "import pandas as pd"
      ]
    },
    {
      "cell_type": "markdown",
      "source": [],
      "metadata": {
        "id": "7vt_JBsDfOtU"
      }
    },
    {
      "cell_type": "code",
      "source": [
        "df = pd.read_csv('cs-training.csv')"
      ],
      "metadata": {
        "id": "Pw2-udB6hFxV"
      },
      "execution_count": 68,
      "outputs": []
    },
    {
      "cell_type": "code",
      "source": [
        "df.drop('Unnamed: 0', axis=1, inplace=True)\n",
        "df.head()"
      ],
      "metadata": {
        "colab": {
          "base_uri": "https://localhost:8080/",
          "height": 288
        },
        "id": "DXReStc3hfWO",
        "outputId": "9cfeecaf-2cd6-4dcf-8507-c488b4832b4d"
      },
      "execution_count": 69,
      "outputs": [
        {
          "output_type": "execute_result",
          "data": {
            "text/plain": [
              "   SeriousDlqin2yrs  RevolvingUtilizationOfUnsecuredLines  age  \\\n",
              "0                 1                              0.766127   45   \n",
              "1                 0                              0.957151   40   \n",
              "2                 0                              0.658180   38   \n",
              "3                 0                              0.233810   30   \n",
              "4                 0                              0.907239   49   \n",
              "\n",
              "   NumberOfTime30-59DaysPastDueNotWorse  DebtRatio  MonthlyIncome  \\\n",
              "0                                     2   0.802982         9120.0   \n",
              "1                                     0   0.121876         2600.0   \n",
              "2                                     1   0.085113         3042.0   \n",
              "3                                     0   0.036050         3300.0   \n",
              "4                                     1   0.024926        63588.0   \n",
              "\n",
              "   NumberOfOpenCreditLinesAndLoans  NumberOfTimes90DaysLate  \\\n",
              "0                               13                        0   \n",
              "1                                4                        0   \n",
              "2                                2                        1   \n",
              "3                                5                        0   \n",
              "4                                7                        0   \n",
              "\n",
              "   NumberRealEstateLoansOrLines  NumberOfTime60-89DaysPastDueNotWorse  \\\n",
              "0                             6                                     0   \n",
              "1                             0                                     0   \n",
              "2                             0                                     0   \n",
              "3                             0                                     0   \n",
              "4                             1                                     0   \n",
              "\n",
              "   NumberOfDependents  \n",
              "0                 2.0  \n",
              "1                 1.0  \n",
              "2                 0.0  \n",
              "3                 0.0  \n",
              "4                 0.0  "
            ],
            "text/html": [
              "\n",
              "  <div id=\"df-ccb426fc-c52a-4cfd-b7e4-6ac3b42a2f5a\">\n",
              "    <div class=\"colab-df-container\">\n",
              "      <div>\n",
              "<style scoped>\n",
              "    .dataframe tbody tr th:only-of-type {\n",
              "        vertical-align: middle;\n",
              "    }\n",
              "\n",
              "    .dataframe tbody tr th {\n",
              "        vertical-align: top;\n",
              "    }\n",
              "\n",
              "    .dataframe thead th {\n",
              "        text-align: right;\n",
              "    }\n",
              "</style>\n",
              "<table border=\"1\" class=\"dataframe\">\n",
              "  <thead>\n",
              "    <tr style=\"text-align: right;\">\n",
              "      <th></th>\n",
              "      <th>SeriousDlqin2yrs</th>\n",
              "      <th>RevolvingUtilizationOfUnsecuredLines</th>\n",
              "      <th>age</th>\n",
              "      <th>NumberOfTime30-59DaysPastDueNotWorse</th>\n",
              "      <th>DebtRatio</th>\n",
              "      <th>MonthlyIncome</th>\n",
              "      <th>NumberOfOpenCreditLinesAndLoans</th>\n",
              "      <th>NumberOfTimes90DaysLate</th>\n",
              "      <th>NumberRealEstateLoansOrLines</th>\n",
              "      <th>NumberOfTime60-89DaysPastDueNotWorse</th>\n",
              "      <th>NumberOfDependents</th>\n",
              "    </tr>\n",
              "  </thead>\n",
              "  <tbody>\n",
              "    <tr>\n",
              "      <th>0</th>\n",
              "      <td>1</td>\n",
              "      <td>0.766127</td>\n",
              "      <td>45</td>\n",
              "      <td>2</td>\n",
              "      <td>0.802982</td>\n",
              "      <td>9120.0</td>\n",
              "      <td>13</td>\n",
              "      <td>0</td>\n",
              "      <td>6</td>\n",
              "      <td>0</td>\n",
              "      <td>2.0</td>\n",
              "    </tr>\n",
              "    <tr>\n",
              "      <th>1</th>\n",
              "      <td>0</td>\n",
              "      <td>0.957151</td>\n",
              "      <td>40</td>\n",
              "      <td>0</td>\n",
              "      <td>0.121876</td>\n",
              "      <td>2600.0</td>\n",
              "      <td>4</td>\n",
              "      <td>0</td>\n",
              "      <td>0</td>\n",
              "      <td>0</td>\n",
              "      <td>1.0</td>\n",
              "    </tr>\n",
              "    <tr>\n",
              "      <th>2</th>\n",
              "      <td>0</td>\n",
              "      <td>0.658180</td>\n",
              "      <td>38</td>\n",
              "      <td>1</td>\n",
              "      <td>0.085113</td>\n",
              "      <td>3042.0</td>\n",
              "      <td>2</td>\n",
              "      <td>1</td>\n",
              "      <td>0</td>\n",
              "      <td>0</td>\n",
              "      <td>0.0</td>\n",
              "    </tr>\n",
              "    <tr>\n",
              "      <th>3</th>\n",
              "      <td>0</td>\n",
              "      <td>0.233810</td>\n",
              "      <td>30</td>\n",
              "      <td>0</td>\n",
              "      <td>0.036050</td>\n",
              "      <td>3300.0</td>\n",
              "      <td>5</td>\n",
              "      <td>0</td>\n",
              "      <td>0</td>\n",
              "      <td>0</td>\n",
              "      <td>0.0</td>\n",
              "    </tr>\n",
              "    <tr>\n",
              "      <th>4</th>\n",
              "      <td>0</td>\n",
              "      <td>0.907239</td>\n",
              "      <td>49</td>\n",
              "      <td>1</td>\n",
              "      <td>0.024926</td>\n",
              "      <td>63588.0</td>\n",
              "      <td>7</td>\n",
              "      <td>0</td>\n",
              "      <td>1</td>\n",
              "      <td>0</td>\n",
              "      <td>0.0</td>\n",
              "    </tr>\n",
              "  </tbody>\n",
              "</table>\n",
              "</div>\n",
              "      <button class=\"colab-df-convert\" onclick=\"convertToInteractive('df-ccb426fc-c52a-4cfd-b7e4-6ac3b42a2f5a')\"\n",
              "              title=\"Convert this dataframe to an interactive table.\"\n",
              "              style=\"display:none;\">\n",
              "        \n",
              "  <svg xmlns=\"http://www.w3.org/2000/svg\" height=\"24px\"viewBox=\"0 0 24 24\"\n",
              "       width=\"24px\">\n",
              "    <path d=\"M0 0h24v24H0V0z\" fill=\"none\"/>\n",
              "    <path d=\"M18.56 5.44l.94 2.06.94-2.06 2.06-.94-2.06-.94-.94-2.06-.94 2.06-2.06.94zm-11 1L8.5 8.5l.94-2.06 2.06-.94-2.06-.94L8.5 2.5l-.94 2.06-2.06.94zm10 10l.94 2.06.94-2.06 2.06-.94-2.06-.94-.94-2.06-.94 2.06-2.06.94z\"/><path d=\"M17.41 7.96l-1.37-1.37c-.4-.4-.92-.59-1.43-.59-.52 0-1.04.2-1.43.59L10.3 9.45l-7.72 7.72c-.78.78-.78 2.05 0 2.83L4 21.41c.39.39.9.59 1.41.59.51 0 1.02-.2 1.41-.59l7.78-7.78 2.81-2.81c.8-.78.8-2.07 0-2.86zM5.41 20L4 18.59l7.72-7.72 1.47 1.35L5.41 20z\"/>\n",
              "  </svg>\n",
              "      </button>\n",
              "      \n",
              "  <style>\n",
              "    .colab-df-container {\n",
              "      display:flex;\n",
              "      flex-wrap:wrap;\n",
              "      gap: 12px;\n",
              "    }\n",
              "\n",
              "    .colab-df-convert {\n",
              "      background-color: #E8F0FE;\n",
              "      border: none;\n",
              "      border-radius: 50%;\n",
              "      cursor: pointer;\n",
              "      display: none;\n",
              "      fill: #1967D2;\n",
              "      height: 32px;\n",
              "      padding: 0 0 0 0;\n",
              "      width: 32px;\n",
              "    }\n",
              "\n",
              "    .colab-df-convert:hover {\n",
              "      background-color: #E2EBFA;\n",
              "      box-shadow: 0px 1px 2px rgba(60, 64, 67, 0.3), 0px 1px 3px 1px rgba(60, 64, 67, 0.15);\n",
              "      fill: #174EA6;\n",
              "    }\n",
              "\n",
              "    [theme=dark] .colab-df-convert {\n",
              "      background-color: #3B4455;\n",
              "      fill: #D2E3FC;\n",
              "    }\n",
              "\n",
              "    [theme=dark] .colab-df-convert:hover {\n",
              "      background-color: #434B5C;\n",
              "      box-shadow: 0px 1px 3px 1px rgba(0, 0, 0, 0.15);\n",
              "      filter: drop-shadow(0px 1px 2px rgba(0, 0, 0, 0.3));\n",
              "      fill: #FFFFFF;\n",
              "    }\n",
              "  </style>\n",
              "\n",
              "      <script>\n",
              "        const buttonEl =\n",
              "          document.querySelector('#df-ccb426fc-c52a-4cfd-b7e4-6ac3b42a2f5a button.colab-df-convert');\n",
              "        buttonEl.style.display =\n",
              "          google.colab.kernel.accessAllowed ? 'block' : 'none';\n",
              "\n",
              "        async function convertToInteractive(key) {\n",
              "          const element = document.querySelector('#df-ccb426fc-c52a-4cfd-b7e4-6ac3b42a2f5a');\n",
              "          const dataTable =\n",
              "            await google.colab.kernel.invokeFunction('convertToInteractive',\n",
              "                                                     [key], {});\n",
              "          if (!dataTable) return;\n",
              "\n",
              "          const docLinkHtml = 'Like what you see? Visit the ' +\n",
              "            '<a target=\"_blank\" href=https://colab.research.google.com/notebooks/data_table.ipynb>data table notebook</a>'\n",
              "            + ' to learn more about interactive tables.';\n",
              "          element.innerHTML = '';\n",
              "          dataTable['output_type'] = 'display_data';\n",
              "          await google.colab.output.renderOutput(dataTable, element);\n",
              "          const docLink = document.createElement('div');\n",
              "          docLink.innerHTML = docLinkHtml;\n",
              "          element.appendChild(docLink);\n",
              "        }\n",
              "      </script>\n",
              "    </div>\n",
              "  </div>\n",
              "  "
            ]
          },
          "metadata": {},
          "execution_count": 69
        }
      ]
    },
    {
      "cell_type": "code",
      "source": [
        "import numpy as np\n",
        "df = df.fillna(0)\n",
        "random_permutation = np.random.permutation(df.index)\n",
        "X_train = df.loc[random_permutation[:int(len(df)*0.8)]]\n",
        "X_test = df.loc[random_permutation[int(len(df)*0.8):]]\n",
        "\n",
        "y_train = X_train[['SeriousDlqin2yrs']]\n",
        "y_test = X_test[['SeriousDlqin2yrs']]\n",
        "\n",
        "X_train = X_train.drop(['SeriousDlqin2yrs'], axis=1)\n",
        "X_test = X_test.drop(['SeriousDlqin2yrs'], axis=1)"
      ],
      "metadata": {
        "id": "uDVLin_SioTY"
      },
      "execution_count": 70,
      "outputs": []
    },
    {
      "cell_type": "code",
      "source": [
        "X_test.head()"
      ],
      "metadata": {
        "colab": {
          "base_uri": "https://localhost:8080/",
          "height": 288
        },
        "id": "o2mCcEx7nYlm",
        "outputId": "ca22d526-cfbb-4ac2-c524-0af87d1b2920"
      },
      "execution_count": 71,
      "outputs": [
        {
          "output_type": "execute_result",
          "data": {
            "text/plain": [
              "        RevolvingUtilizationOfUnsecuredLines  age  \\\n",
              "122238                              0.414266   56   \n",
              "26985                               0.122709   52   \n",
              "106745                              0.158120   51   \n",
              "44391                               0.873259   79   \n",
              "100802                              0.132910   66   \n",
              "\n",
              "        NumberOfTime30-59DaysPastDueNotWorse  DebtRatio  MonthlyIncome  \\\n",
              "122238                                     1   0.488492         4083.0   \n",
              "26985                                      0   0.433499         5420.0   \n",
              "106745                                     0   0.787219        11250.0   \n",
              "44391                                      0   0.704793         3400.0   \n",
              "100802                                     0   0.256124         6000.0   \n",
              "\n",
              "        NumberOfOpenCreditLinesAndLoans  NumberOfTimes90DaysLate  \\\n",
              "122238                               11                        0   \n",
              "26985                                12                        0   \n",
              "106745                               10                        0   \n",
              "44391                                11                        0   \n",
              "100802                                7                        0   \n",
              "\n",
              "        NumberRealEstateLoansOrLines  NumberOfTime60-89DaysPastDueNotWorse  \\\n",
              "122238                             2                                     0   \n",
              "26985                              2                                     0   \n",
              "106745                             4                                     0   \n",
              "44391                              2                                     0   \n",
              "100802                             1                                     0   \n",
              "\n",
              "        NumberOfDependents  \n",
              "122238                 0.0  \n",
              "26985                  0.0  \n",
              "106745                 1.0  \n",
              "44391                  0.0  \n",
              "100802                 1.0  "
            ],
            "text/html": [
              "\n",
              "  <div id=\"df-2d8ccffc-5071-4bcb-a581-c3ba73f625b5\">\n",
              "    <div class=\"colab-df-container\">\n",
              "      <div>\n",
              "<style scoped>\n",
              "    .dataframe tbody tr th:only-of-type {\n",
              "        vertical-align: middle;\n",
              "    }\n",
              "\n",
              "    .dataframe tbody tr th {\n",
              "        vertical-align: top;\n",
              "    }\n",
              "\n",
              "    .dataframe thead th {\n",
              "        text-align: right;\n",
              "    }\n",
              "</style>\n",
              "<table border=\"1\" class=\"dataframe\">\n",
              "  <thead>\n",
              "    <tr style=\"text-align: right;\">\n",
              "      <th></th>\n",
              "      <th>RevolvingUtilizationOfUnsecuredLines</th>\n",
              "      <th>age</th>\n",
              "      <th>NumberOfTime30-59DaysPastDueNotWorse</th>\n",
              "      <th>DebtRatio</th>\n",
              "      <th>MonthlyIncome</th>\n",
              "      <th>NumberOfOpenCreditLinesAndLoans</th>\n",
              "      <th>NumberOfTimes90DaysLate</th>\n",
              "      <th>NumberRealEstateLoansOrLines</th>\n",
              "      <th>NumberOfTime60-89DaysPastDueNotWorse</th>\n",
              "      <th>NumberOfDependents</th>\n",
              "    </tr>\n",
              "  </thead>\n",
              "  <tbody>\n",
              "    <tr>\n",
              "      <th>122238</th>\n",
              "      <td>0.414266</td>\n",
              "      <td>56</td>\n",
              "      <td>1</td>\n",
              "      <td>0.488492</td>\n",
              "      <td>4083.0</td>\n",
              "      <td>11</td>\n",
              "      <td>0</td>\n",
              "      <td>2</td>\n",
              "      <td>0</td>\n",
              "      <td>0.0</td>\n",
              "    </tr>\n",
              "    <tr>\n",
              "      <th>26985</th>\n",
              "      <td>0.122709</td>\n",
              "      <td>52</td>\n",
              "      <td>0</td>\n",
              "      <td>0.433499</td>\n",
              "      <td>5420.0</td>\n",
              "      <td>12</td>\n",
              "      <td>0</td>\n",
              "      <td>2</td>\n",
              "      <td>0</td>\n",
              "      <td>0.0</td>\n",
              "    </tr>\n",
              "    <tr>\n",
              "      <th>106745</th>\n",
              "      <td>0.158120</td>\n",
              "      <td>51</td>\n",
              "      <td>0</td>\n",
              "      <td>0.787219</td>\n",
              "      <td>11250.0</td>\n",
              "      <td>10</td>\n",
              "      <td>0</td>\n",
              "      <td>4</td>\n",
              "      <td>0</td>\n",
              "      <td>1.0</td>\n",
              "    </tr>\n",
              "    <tr>\n",
              "      <th>44391</th>\n",
              "      <td>0.873259</td>\n",
              "      <td>79</td>\n",
              "      <td>0</td>\n",
              "      <td>0.704793</td>\n",
              "      <td>3400.0</td>\n",
              "      <td>11</td>\n",
              "      <td>0</td>\n",
              "      <td>2</td>\n",
              "      <td>0</td>\n",
              "      <td>0.0</td>\n",
              "    </tr>\n",
              "    <tr>\n",
              "      <th>100802</th>\n",
              "      <td>0.132910</td>\n",
              "      <td>66</td>\n",
              "      <td>0</td>\n",
              "      <td>0.256124</td>\n",
              "      <td>6000.0</td>\n",
              "      <td>7</td>\n",
              "      <td>0</td>\n",
              "      <td>1</td>\n",
              "      <td>0</td>\n",
              "      <td>1.0</td>\n",
              "    </tr>\n",
              "  </tbody>\n",
              "</table>\n",
              "</div>\n",
              "      <button class=\"colab-df-convert\" onclick=\"convertToInteractive('df-2d8ccffc-5071-4bcb-a581-c3ba73f625b5')\"\n",
              "              title=\"Convert this dataframe to an interactive table.\"\n",
              "              style=\"display:none;\">\n",
              "        \n",
              "  <svg xmlns=\"http://www.w3.org/2000/svg\" height=\"24px\"viewBox=\"0 0 24 24\"\n",
              "       width=\"24px\">\n",
              "    <path d=\"M0 0h24v24H0V0z\" fill=\"none\"/>\n",
              "    <path d=\"M18.56 5.44l.94 2.06.94-2.06 2.06-.94-2.06-.94-.94-2.06-.94 2.06-2.06.94zm-11 1L8.5 8.5l.94-2.06 2.06-.94-2.06-.94L8.5 2.5l-.94 2.06-2.06.94zm10 10l.94 2.06.94-2.06 2.06-.94-2.06-.94-.94-2.06-.94 2.06-2.06.94z\"/><path d=\"M17.41 7.96l-1.37-1.37c-.4-.4-.92-.59-1.43-.59-.52 0-1.04.2-1.43.59L10.3 9.45l-7.72 7.72c-.78.78-.78 2.05 0 2.83L4 21.41c.39.39.9.59 1.41.59.51 0 1.02-.2 1.41-.59l7.78-7.78 2.81-2.81c.8-.78.8-2.07 0-2.86zM5.41 20L4 18.59l7.72-7.72 1.47 1.35L5.41 20z\"/>\n",
              "  </svg>\n",
              "      </button>\n",
              "      \n",
              "  <style>\n",
              "    .colab-df-container {\n",
              "      display:flex;\n",
              "      flex-wrap:wrap;\n",
              "      gap: 12px;\n",
              "    }\n",
              "\n",
              "    .colab-df-convert {\n",
              "      background-color: #E8F0FE;\n",
              "      border: none;\n",
              "      border-radius: 50%;\n",
              "      cursor: pointer;\n",
              "      display: none;\n",
              "      fill: #1967D2;\n",
              "      height: 32px;\n",
              "      padding: 0 0 0 0;\n",
              "      width: 32px;\n",
              "    }\n",
              "\n",
              "    .colab-df-convert:hover {\n",
              "      background-color: #E2EBFA;\n",
              "      box-shadow: 0px 1px 2px rgba(60, 64, 67, 0.3), 0px 1px 3px 1px rgba(60, 64, 67, 0.15);\n",
              "      fill: #174EA6;\n",
              "    }\n",
              "\n",
              "    [theme=dark] .colab-df-convert {\n",
              "      background-color: #3B4455;\n",
              "      fill: #D2E3FC;\n",
              "    }\n",
              "\n",
              "    [theme=dark] .colab-df-convert:hover {\n",
              "      background-color: #434B5C;\n",
              "      box-shadow: 0px 1px 3px 1px rgba(0, 0, 0, 0.15);\n",
              "      filter: drop-shadow(0px 1px 2px rgba(0, 0, 0, 0.3));\n",
              "      fill: #FFFFFF;\n",
              "    }\n",
              "  </style>\n",
              "\n",
              "      <script>\n",
              "        const buttonEl =\n",
              "          document.querySelector('#df-2d8ccffc-5071-4bcb-a581-c3ba73f625b5 button.colab-df-convert');\n",
              "        buttonEl.style.display =\n",
              "          google.colab.kernel.accessAllowed ? 'block' : 'none';\n",
              "\n",
              "        async function convertToInteractive(key) {\n",
              "          const element = document.querySelector('#df-2d8ccffc-5071-4bcb-a581-c3ba73f625b5');\n",
              "          const dataTable =\n",
              "            await google.colab.kernel.invokeFunction('convertToInteractive',\n",
              "                                                     [key], {});\n",
              "          if (!dataTable) return;\n",
              "\n",
              "          const docLinkHtml = 'Like what you see? Visit the ' +\n",
              "            '<a target=\"_blank\" href=https://colab.research.google.com/notebooks/data_table.ipynb>data table notebook</a>'\n",
              "            + ' to learn more about interactive tables.';\n",
              "          element.innerHTML = '';\n",
              "          dataTable['output_type'] = 'display_data';\n",
              "          await google.colab.output.renderOutput(dataTable, element);\n",
              "          const docLink = document.createElement('div');\n",
              "          docLink.innerHTML = docLinkHtml;\n",
              "          element.appendChild(docLink);\n",
              "        }\n",
              "      </script>\n",
              "    </div>\n",
              "  </div>\n",
              "  "
            ]
          },
          "metadata": {},
          "execution_count": 71
        }
      ]
    },
    {
      "cell_type": "markdown",
      "metadata": {
        "id": "AyO2t3urxbnD"
      },
      "source": [
        "## Train Models"
      ]
    },
    {
      "cell_type": "code",
      "execution_count": 72,
      "metadata": {
        "id": "iH5Wd-D4xbnD"
      },
      "outputs": [],
      "source": [
        "from interpret.glassbox import ExplainableBoostingClassifier\n",
        "from sklearn.linear_model import LogisticRegression\n",
        "from xgboost import XGBClassifier\n",
        "\n",
        "random_state = 42\n",
        "ebm_search = [{'learning_rate': 0.1}]\n",
        "lr_search = [{}]\n",
        "xgb_search = [{}]\n",
        "\n",
        "ebm_best = None\n",
        "lr_best = None\n",
        "xgb_best = None\n",
        "\n",
        "ebm_best_score = 0\n",
        "lr_best_score = 0\n",
        "xgb_best_score = 0\n",
        "\n",
        "param_search = {'EBM': ebm_search, 'RF': lr_search, 'XGB': xgb_search}\n",
        "models = {'EBM': ExplainableBoostingClassifier, 'RF': LogisticRegression, 'XGB': XGBClassifier}\n",
        "best_ckpts = {'EBM': ebm_best, 'RF': lr_best, 'XGB': xgb_best}\n",
        "best_scores = {'EBM': ebm_best_score, 'RF': lr_best_score, 'XGB': xgb_best_score}"
      ]
    },
    {
      "cell_type": "code",
      "source": [
        "fn = lambda val: float(val)\n"
      ],
      "metadata": {
        "id": "uNL7x4Ei1P_e"
      },
      "execution_count": 73,
      "outputs": []
    },
    {
      "cell_type": "markdown",
      "source": [
        "## Selecting best model"
      ],
      "metadata": {
        "id": "HON78-McCNA6"
      }
    },
    {
      "cell_type": "code",
      "execution_count": 74,
      "metadata": {
        "id": "QjM-DkToxbnD",
        "colab": {
          "base_uri": "https://localhost:8080/"
        },
        "outputId": "c8f8b1ea-ff4c-488a-8ece-7fcdbdde5baa"
      },
      "outputs": [
        {
          "output_type": "stream",
          "name": "stdout",
          "text": [
            "Model name EBM\n",
            "Model name RF\n"
          ]
        },
        {
          "output_type": "stream",
          "name": "stderr",
          "text": [
            "/usr/local/lib/python3.8/dist-packages/sklearn/linear_model/_logistic.py:814: ConvergenceWarning: lbfgs failed to converge (status=1):\n",
            "STOP: TOTAL NO. of ITERATIONS REACHED LIMIT.\n",
            "\n",
            "Increase the number of iterations (max_iter) or scale the data as shown in:\n",
            "    https://scikit-learn.org/stable/modules/preprocessing.html\n",
            "Please also refer to the documentation for alternative solver options:\n",
            "    https://scikit-learn.org/stable/modules/linear_model.html#logistic-regression\n",
            "  n_iter_i = _check_optimize_result(\n"
          ]
        },
        {
          "output_type": "stream",
          "name": "stdout",
          "text": [
            "Model name XGB\n"
          ]
        }
      ],
      "source": [
        "for model_name in param_search.keys():\n",
        "  print('Model name', model_name)  \n",
        "  for params in param_search[model_name]:\n",
        "    model = models[model_name](random_state=random_state, **params)\n",
        "    if model_name == 'EBM':\n",
        "      model.fit(X_train, y_train)\n",
        "    else:\n",
        "      model.fit(X_train, y_train.apply(float, axis=1))\n",
        "    score = model.score(X_test, y_test)\n",
        "    if score > best_scores[model_name] or best_ckpts[model_name] is None:\n",
        "        best_ckpts[model_name] = model\n",
        "        best_scores[model_name] = score"
      ]
    },
    {
      "cell_type": "code",
      "execution_count": 75,
      "metadata": {
        "id": "_PiAmXBVxbnE",
        "colab": {
          "base_uri": "https://localhost:8080/",
          "height": 143
        },
        "outputId": "d6a70d63-d683-4f60-9398-371d8ab1b953"
      },
      "outputs": [
        {
          "output_type": "execute_result",
          "data": {
            "text/plain": [
              "  Model     Score\n",
              "0   EBM  0.935833\n",
              "1    RF  0.932767\n",
              "2   XGB  0.936767"
            ],
            "text/html": [
              "\n",
              "  <div id=\"df-bdabb496-a1d6-4b2c-9164-75a4fa711620\">\n",
              "    <div class=\"colab-df-container\">\n",
              "      <div>\n",
              "<style scoped>\n",
              "    .dataframe tbody tr th:only-of-type {\n",
              "        vertical-align: middle;\n",
              "    }\n",
              "\n",
              "    .dataframe tbody tr th {\n",
              "        vertical-align: top;\n",
              "    }\n",
              "\n",
              "    .dataframe thead th {\n",
              "        text-align: right;\n",
              "    }\n",
              "</style>\n",
              "<table border=\"1\" class=\"dataframe\">\n",
              "  <thead>\n",
              "    <tr style=\"text-align: right;\">\n",
              "      <th></th>\n",
              "      <th>Model</th>\n",
              "      <th>Score</th>\n",
              "    </tr>\n",
              "  </thead>\n",
              "  <tbody>\n",
              "    <tr>\n",
              "      <th>0</th>\n",
              "      <td>EBM</td>\n",
              "      <td>0.935833</td>\n",
              "    </tr>\n",
              "    <tr>\n",
              "      <th>1</th>\n",
              "      <td>RF</td>\n",
              "      <td>0.932767</td>\n",
              "    </tr>\n",
              "    <tr>\n",
              "      <th>2</th>\n",
              "      <td>XGB</td>\n",
              "      <td>0.936767</td>\n",
              "    </tr>\n",
              "  </tbody>\n",
              "</table>\n",
              "</div>\n",
              "      <button class=\"colab-df-convert\" onclick=\"convertToInteractive('df-bdabb496-a1d6-4b2c-9164-75a4fa711620')\"\n",
              "              title=\"Convert this dataframe to an interactive table.\"\n",
              "              style=\"display:none;\">\n",
              "        \n",
              "  <svg xmlns=\"http://www.w3.org/2000/svg\" height=\"24px\"viewBox=\"0 0 24 24\"\n",
              "       width=\"24px\">\n",
              "    <path d=\"M0 0h24v24H0V0z\" fill=\"none\"/>\n",
              "    <path d=\"M18.56 5.44l.94 2.06.94-2.06 2.06-.94-2.06-.94-.94-2.06-.94 2.06-2.06.94zm-11 1L8.5 8.5l.94-2.06 2.06-.94-2.06-.94L8.5 2.5l-.94 2.06-2.06.94zm10 10l.94 2.06.94-2.06 2.06-.94-2.06-.94-.94-2.06-.94 2.06-2.06.94z\"/><path d=\"M17.41 7.96l-1.37-1.37c-.4-.4-.92-.59-1.43-.59-.52 0-1.04.2-1.43.59L10.3 9.45l-7.72 7.72c-.78.78-.78 2.05 0 2.83L4 21.41c.39.39.9.59 1.41.59.51 0 1.02-.2 1.41-.59l7.78-7.78 2.81-2.81c.8-.78.8-2.07 0-2.86zM5.41 20L4 18.59l7.72-7.72 1.47 1.35L5.41 20z\"/>\n",
              "  </svg>\n",
              "      </button>\n",
              "      \n",
              "  <style>\n",
              "    .colab-df-container {\n",
              "      display:flex;\n",
              "      flex-wrap:wrap;\n",
              "      gap: 12px;\n",
              "    }\n",
              "\n",
              "    .colab-df-convert {\n",
              "      background-color: #E8F0FE;\n",
              "      border: none;\n",
              "      border-radius: 50%;\n",
              "      cursor: pointer;\n",
              "      display: none;\n",
              "      fill: #1967D2;\n",
              "      height: 32px;\n",
              "      padding: 0 0 0 0;\n",
              "      width: 32px;\n",
              "    }\n",
              "\n",
              "    .colab-df-convert:hover {\n",
              "      background-color: #E2EBFA;\n",
              "      box-shadow: 0px 1px 2px rgba(60, 64, 67, 0.3), 0px 1px 3px 1px rgba(60, 64, 67, 0.15);\n",
              "      fill: #174EA6;\n",
              "    }\n",
              "\n",
              "    [theme=dark] .colab-df-convert {\n",
              "      background-color: #3B4455;\n",
              "      fill: #D2E3FC;\n",
              "    }\n",
              "\n",
              "    [theme=dark] .colab-df-convert:hover {\n",
              "      background-color: #434B5C;\n",
              "      box-shadow: 0px 1px 3px 1px rgba(0, 0, 0, 0.15);\n",
              "      filter: drop-shadow(0px 1px 2px rgba(0, 0, 0, 0.3));\n",
              "      fill: #FFFFFF;\n",
              "    }\n",
              "  </style>\n",
              "\n",
              "      <script>\n",
              "        const buttonEl =\n",
              "          document.querySelector('#df-bdabb496-a1d6-4b2c-9164-75a4fa711620 button.colab-df-convert');\n",
              "        buttonEl.style.display =\n",
              "          google.colab.kernel.accessAllowed ? 'block' : 'none';\n",
              "\n",
              "        async function convertToInteractive(key) {\n",
              "          const element = document.querySelector('#df-bdabb496-a1d6-4b2c-9164-75a4fa711620');\n",
              "          const dataTable =\n",
              "            await google.colab.kernel.invokeFunction('convertToInteractive',\n",
              "                                                     [key], {});\n",
              "          if (!dataTable) return;\n",
              "\n",
              "          const docLinkHtml = 'Like what you see? Visit the ' +\n",
              "            '<a target=\"_blank\" href=https://colab.research.google.com/notebooks/data_table.ipynb>data table notebook</a>'\n",
              "            + ' to learn more about interactive tables.';\n",
              "          element.innerHTML = '';\n",
              "          dataTable['output_type'] = 'display_data';\n",
              "          await google.colab.output.renderOutput(dataTable, element);\n",
              "          const docLink = document.createElement('div');\n",
              "          docLink.innerHTML = docLinkHtml;\n",
              "          element.appendChild(docLink);\n",
              "        }\n",
              "      </script>\n",
              "    </div>\n",
              "  </div>\n",
              "  "
            ]
          },
          "metadata": {},
          "execution_count": 75
        }
      ],
      "source": [
        "results = pd.DataFrame({'Model': ['EBM', 'RF', 'XGB'], 'Score': [best_scores['EBM'], best_scores['RF'], best_scores['XGB']]})\n",
        "results"
      ]
    },
    {
      "cell_type": "markdown",
      "source": [
        "Final results looks like follow.\n",
        "\n",
        "EBM reference: https://interpret.ml/docs/ebm.html\n",
        "\n",
        "Explainable boosting machines (EBMs) are a type of machine learning algorithm that falls into the category of boosting algorithms. Boosting algorithms are a type of ensemble learning method, which means that they combine multiple weak learners to create a stronger, more accurate model.\n",
        "\n",
        "EBMs work by iteratively training a series of weak learners on the data, with each successive learner attempting to correct the mistakes of the previous one. At each step, the EBM assigns a weight to each training example, with more weight given to examples that were misclassified by the previous learner. This process continues until the EBM reaches a pre-defined stopping point, at which point the final model is a weighted combination of all the weak learners.\n",
        "\n",
        "One of the key benefits of EBMs is that they are generally more explainable than other types of machine learning models. This is because the final model is a combination of relatively simple, interpretable models, which makes it easier to understand how the model is making predictions. Additionally, EBMs typically produce models that are more accurate than a single decision tree, which makes them a popular choice for many real-world applications."
      ],
      "metadata": {
        "id": "7N9LLI32CSIK"
      }
    },
    {
      "cell_type": "markdown",
      "source": [
        "![image.png](data:image/png;base64,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)"
      ],
      "metadata": {
        "id": "NzxA2C7w4M_y"
      }
    },
    {
      "cell_type": "markdown",
      "source": [
        "# Homework 6\n"
      ],
      "metadata": {
        "id": "tj7G9X9KTfCw"
      }
    },
    {
      "cell_type": "markdown",
      "source": [
        "# Task 2.2"
      ],
      "metadata": {
        "id": "K8T3P_FbqruN"
      }
    },
    {
      "cell_type": "code",
      "source": [
        "model = best_ckpts['XGB']\n",
        "import dalex as dx\n",
        "explainer = dx.Explainer(model, X_test, y_test, label=\"XGBClassifier\")\n",
        "explainer.model_performance()\n",
        "\n",
        "protected_variable = X_test.NumberOfDependents\n",
        "privileged_group = 0.0\n",
        "\n",
        "f = explainer.model_fairness(\n",
        "    protected=protected_variable,\n",
        "    privileged=privileged_group,\n",
        ")\n",
        "f.fairness_check(verbose=False)\n"
      ],
      "metadata": {
        "colab": {
          "base_uri": "https://localhost:8080/"
        },
        "id": "PQdcBx9Trwpf",
        "outputId": "bd056878-64bd-4150-81ae-eec50132827f"
      },
      "execution_count": 76,
      "outputs": [
        {
          "output_type": "stream",
          "name": "stdout",
          "text": [
            "Preparation of a new explainer is initiated\n",
            "\n",
            "  -> data              : 30000 rows 10 cols\n",
            "  -> target variable   : Parameter 'y' was a pandas.DataFrame. Converted to a numpy.ndarray.\n",
            "  -> target variable   : 30000 values\n",
            "  -> model_class       : xgboost.sklearn.XGBClassifier (default)\n",
            "  -> label             : XGBClassifier\n",
            "  -> predict function  : <function yhat_proba_default at 0x7ffa4f48de50> will be used (default)\n",
            "  -> predict function  : Accepts only pandas.DataFrame, numpy.ndarray causes problems.\n",
            "  -> predicted values  : min = 0.00566, mean = 0.0672, max = 0.881\n",
            "  -> model type        : classification will be used (default)\n",
            "  -> residual function : difference between y and yhat (default)\n",
            "  -> residuals         : min = -0.831, mean = -5.39e-05, max = 0.994\n",
            "  -> model_info        : package xgboost\n",
            "\n",
            "A new explainer has been created!\n",
            "Bias detected in 4 metrics: TPR, PPV, FPR, STP\n",
            "\n",
            "Conclusion: your model is not fair because 2 or more criteria exceeded acceptable limits set by epsilon.\n",
            "\n",
            "Ratios of metrics, based on '0.0'. Parameter 'epsilon' was set to 0.8 and therefore metrics should be within (0.8, 1.25)\n",
            "          TPR       ACC       PPV    FPR       STP\n",
            "1.0  0.989418  0.986243  1.034653  1.125  1.222222\n",
            "2.0  1.132275  0.976720  0.899340  1.875  1.722222\n",
            "3.0  1.079365  0.970370  0.877888  2.125  1.833333\n",
            "4.0  0.867725  0.941799  0.750825  2.875  2.111111\n",
            "5.0  1.470899  0.943915  0.917492  3.625  3.166667\n",
            "6.0       NaN  0.881481       NaN    NaN       NaN\n",
            "7.0  3.529101  0.992593  1.650165    NaN  6.944444\n",
            "8.0       NaN  1.058201       NaN    NaN       NaN\n",
            "9.0       NaN  1.058201       NaN    NaN       NaN\n"
          ]
        }
      ]
    },
    {
      "cell_type": "markdown",
      "source": [
        "![image.png](data:image/png;base64,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)"
      ],
      "metadata": {
        "id": "qjyhXy834aus"
      }
    },
    {
      "cell_type": "markdown",
      "source": [
        "We see that at the beginning model is no so fair. Based on these results, it appears that the model is not fair because it exceeded acceptable limits set by the epsilon parameter for two or more criteria. The epsilon parameter is a measure of the acceptable amount of deviation from the ideal value for a metric, and in this case, it was set to 0.8. This means that the metrics should be within the range of (0.8, 1.25) in order to be considered fair.\n",
        "\n",
        "However, as the results show, the model exceeded this limit for several criteria, including the true positive rate (TPR), false positive rate (FPR), and specific true positive (STP). This indicates that the model is not fair, as it is not meeting the acceptable limits for these metrics. It is worth noting that the results for the accuracy (ACC) and positive predictive value (PPV) metrics are within the acceptable range, but the overall fairness of the model is still in question due to the performance of the other metrics."
      ],
      "metadata": {
        "id": "gL9Mwbih7KbF"
      }
    },
    {
      "cell_type": "markdown",
      "source": [
        "## Task 2.3"
      ],
      "metadata": {
        "id": "j7fn4U6YtcuN"
      }
    },
    {
      "cell_type": "code",
      "source": [
        "model = best_ckpts['EBM']\n",
        "explainer_ebm = dx.Explainer(model, X_test, y_test, label=\"EBM\")\n",
        "explainer_ebm.model_performance()\n",
        "\n",
        "protected_variable = X_test.NumberOfDependents\n",
        "privileged_group = 0.0\n",
        "\n",
        "f = explainer_ebm.model_fairness(\n",
        "    protected=protected_variable,\n",
        "    privileged=privileged_group,\n",
        ")\n",
        "f.fairness_check(verbose=False)"
      ],
      "metadata": {
        "colab": {
          "base_uri": "https://localhost:8080/"
        },
        "id": "SM7Bq9vTtKAV",
        "outputId": "1a3ad753-abdc-412a-eae8-43c1c58db064"
      },
      "execution_count": 77,
      "outputs": [
        {
          "output_type": "stream",
          "name": "stdout",
          "text": [
            "Preparation of a new explainer is initiated\n",
            "\n",
            "  -> data              : 30000 rows 10 cols\n",
            "  -> target variable   : Parameter 'y' was a pandas.DataFrame. Converted to a numpy.ndarray.\n",
            "  -> target variable   : 30000 values\n",
            "  -> model_class       : interpret.glassbox.ebm.ebm.ExplainableBoostingClassifier (default)\n",
            "  -> label             : EBM\n",
            "  -> predict function  : <function yhat_proba_default at 0x7ffa4f48de50> will be used (default)\n",
            "  -> predict function  : Accepts pandas.DataFrame and numpy.ndarray.\n",
            "  -> predicted values  : min = 0.003, mean = 0.0672, max = 0.898\n",
            "  -> model type        : classification will be used (default)\n",
            "  -> residual function : difference between y and yhat (default)\n",
            "  -> residuals         : min = -0.896, mean = -0.000117, max = 0.994\n",
            "  -> model_info        : package interpret\n",
            "\n",
            "A new explainer has been created!\n",
            "Bias detected in 4 metrics: TPR, PPV, FPR, STP\n",
            "\n",
            "Conclusion: your model is not fair because 2 or more criteria exceeded acceptable limits set by epsilon.\n",
            "\n",
            "Ratios of metrics, based on '0.0'. Parameter 'epsilon' was set to 0.8 and therefore metrics should be within (0.8, 1.25)\n",
            "          TPR       ACC       PPV    FPR       STP\n",
            "1.0  0.923913  0.983051  0.927835  1.500  1.210526\n",
            "2.0  1.211957  0.978814  0.955326  1.875  1.684211\n",
            "3.0  1.342391  0.975636  0.996564  2.125  1.894737\n",
            "4.0  1.070652  0.937500  0.711340  4.125  2.684211\n",
            "5.0  1.510870  0.944915  0.955326  3.625  3.000000\n",
            "6.0       NaN  0.882415       NaN    NaN       NaN\n",
            "7.0  3.625000  0.993644  1.718213    NaN  6.578947\n",
            "8.0       NaN  1.059322       NaN    NaN       NaN\n",
            "9.0       NaN  1.059322       NaN    NaN       NaN\n"
          ]
        }
      ]
    },
    {
      "cell_type": "markdown",
      "source": [
        "![image.png](data:image/png;base64,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)"
      ],
      "metadata": {
        "id": "tKXm-NDC4grH"
      }
    },
    {
      "cell_type": "markdown",
      "source": [
        "One of the key benefits of EBMs is that they are generally more explainable than other types of machine learning models. This is because the final model is a combination of relatively simple, interpretable models, which makes it easier to understand how the model is making predictions. Additionally, EBMs typically produce models that are more accurate than a single decision tree, which makes them a popular choice for many real-world applications.\n",
        "\n"
      ],
      "metadata": {
        "id": "ffPdW-Zl6GKu"
      }
    },
    {
      "cell_type": "markdown",
      "source": [
        "## Task 2.4"
      ],
      "metadata": {
        "id": "ZHNAwxu3te9T"
      }
    },
    {
      "cell_type": "code",
      "source": [
        "from dalex.fairness import reweight\n",
        "\n",
        "sample_weight = reweight(\n",
        "    X_train.NumberOfDependents,\n",
        "    y_train,\n",
        "    verbose=True\n",
        ")\n",
        "\n",
        "model = XGBClassifier()\n",
        "model.fit(X_train, y_train, sample_weight=sample_weight)\n",
        "explainer_rw = dx.Explainer(model, X_test, y_test, label=\"XGBClassifier with reweight\")\n",
        "explainer_rw.model_performance()\n",
        "\n",
        "protected_variable = X_test.NumberOfDependents\n",
        "privileged_group = 0.0\n",
        "\n",
        "f = explainer_rw.model_fairness(\n",
        "    protected=protected_variable,\n",
        "    privileged=privileged_group,\n",
        ")\n",
        "f.fairness_check(verbose=False)"
      ],
      "metadata": {
        "colab": {
          "base_uri": "https://localhost:8080/"
        },
        "id": "FiYaTxrEuEbh",
        "outputId": "c923a889-e91d-4212-a74e-ad14102df492"
      },
      "execution_count": 78,
      "outputs": [
        {
          "output_type": "stream",
          "name": "stdout",
          "text": [
            "Parameter 'y' was a pandas.DataFrame. Converted to a numpy.ndarray.\n",
            "protected Series will be converted to np.ndarray\n",
            "protected array is not string type, converting to string \n"
          ]
        },
        {
          "output_type": "stream",
          "name": "stderr",
          "text": [
            "/usr/local/lib/python3.8/dist-packages/dalex/fairness/_group_fairness/mitigation.py:58: RuntimeWarning: divide by zero encountered in long_scalars\n",
            "  Wsc = (Xs * Xc) / (len(y) * Xsc)\n",
            "/usr/local/lib/python3.8/dist-packages/sklearn/preprocessing/_label.py:98: DataConversionWarning: A column-vector y was passed when a 1d array was expected. Please change the shape of y to (n_samples, ), for example using ravel().\n",
            "  y = column_or_1d(y, warn=True)\n",
            "/usr/local/lib/python3.8/dist-packages/sklearn/preprocessing/_label.py:133: DataConversionWarning: A column-vector y was passed when a 1d array was expected. Please change the shape of y to (n_samples, ), for example using ravel().\n",
            "  y = column_or_1d(y, warn=True)\n"
          ]
        },
        {
          "output_type": "stream",
          "name": "stdout",
          "text": [
            "Preparation of a new explainer is initiated\n",
            "\n",
            "  -> data              : 30000 rows 10 cols\n",
            "  -> target variable   : Parameter 'y' was a pandas.DataFrame. Converted to a numpy.ndarray.\n",
            "  -> target variable   : 30000 values\n",
            "  -> model_class       : xgboost.sklearn.XGBClassifier (default)\n",
            "  -> label             : XGBClassifier with reweight\n",
            "  -> predict function  : <function yhat_proba_default at 0x7ffa4f48de50> will be used (default)\n",
            "  -> predict function  : Accepts only pandas.DataFrame, numpy.ndarray causes problems.\n",
            "  -> predicted values  : min = 0.00558, mean = 0.0671, max = 0.888\n",
            "  -> model type        : classification will be used (default)\n",
            "  -> residual function : difference between y and yhat (default)\n",
            "  -> residuals         : min = -0.822, mean = 3.75e-05, max = 0.994\n",
            "  -> model_info        : package xgboost\n",
            "\n",
            "A new explainer has been created!\n",
            "Bias detected in 4 metrics: TPR, PPV, FPR, STP\n",
            "\n",
            "Conclusion: your model is not fair because 2 or more criteria exceeded acceptable limits set by epsilon.\n",
            "\n",
            "Ratios of metrics, based on '0.0'. Parameter 'epsilon' was set to 0.8 and therefore metrics should be within (0.8, 1.25)\n",
            "          TPR       ACC       PPV  FPR       STP\n",
            "1.0  0.720183  0.985185  1.110526  0.7  0.818182\n",
            "2.0  0.729358  0.977778  1.022807  1.0  1.000000\n",
            "3.0  0.706422  0.971429  0.996491  1.1  1.045455\n",
            "4.0  0.449541  0.941799  0.752632  1.6  1.090909\n",
            "5.0  1.275229  0.943915  0.975439  2.9  2.590909\n",
            "6.0       NaN  0.881481       NaN  NaN       NaN\n",
            "7.0  1.527523  0.925926  1.754386  NaN  2.818182\n",
            "8.0       NaN  1.058201       NaN  NaN       NaN\n",
            "9.0       NaN  1.058201       NaN  NaN       NaN\n"
          ]
        }
      ]
    },
    {
      "cell_type": "markdown",
      "source": [
        "![image.png](data:image/png;base64,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)"
      ],
      "metadata": {
        "id": "OkHmQMfY4xtz"
      }
    },
    {
      "cell_type": "markdown",
      "source": [
        "if a dataset contains data from both men and women, but there are significantly more data points for men than for women, a model trained on this dataset may be biased towards men. To mitigate this bias, the dataset can be weighted to give more importance to the data from women, so that the model pays more attention to this data and is less biased.\n",
        "\n",
        "Overall, the use of dataset weighting can help improve the fairness of a machine learning model by giving more importance to underrepresented groups in the data, helping the model to make more balanced predictions.\n",
        "\n",
        "In this example we see slight change towards fairness however still model is recognized as not fair with regards to algorithm."
      ],
      "metadata": {
        "id": "_jNqKPNI6psC"
      }
    },
    {
      "cell_type": "code",
      "source": [
        "pd.concat([explainer.model_performance().result, explainer_ebm.model_performance().result, explainer_rw.model_performance().result], axis=0)"
      ],
      "metadata": {
        "colab": {
          "base_uri": "https://localhost:8080/",
          "height": 349
        },
        "id": "AhbyrBFhw3R6",
        "outputId": "2dd7bc5c-19d4-4fce-849d-864820e9133d"
      },
      "execution_count": 79,
      "outputs": [
        {
          "output_type": "execute_result",
          "data": {
            "text/plain": [
              "                               recall  precision        f1  accuracy       auc\n",
              "XGBClassifier                0.193741   0.587349  0.291371  0.936767  0.862356\n",
              "EBM                          0.193741   0.563584  0.288355  0.935833  0.862450\n",
              "XGBClassifier with reweight  0.188276   0.578626  0.284108  0.936333  0.861776"
            ],
            "text/html": [
              "\n",
              "  <div id=\"df-9a064cd9-dc17-4caa-8e9e-2605ae1f5add\">\n",
              "    <div class=\"colab-df-container\">\n",
              "      <div>\n",
              "<style scoped>\n",
              "    .dataframe tbody tr th:only-of-type {\n",
              "        vertical-align: middle;\n",
              "    }\n",
              "\n",
              "    .dataframe tbody tr th {\n",
              "        vertical-align: top;\n",
              "    }\n",
              "\n",
              "    .dataframe thead th {\n",
              "        text-align: right;\n",
              "    }\n",
              "</style>\n",
              "<table border=\"1\" class=\"dataframe\">\n",
              "  <thead>\n",
              "    <tr style=\"text-align: right;\">\n",
              "      <th></th>\n",
              "      <th>recall</th>\n",
              "      <th>precision</th>\n",
              "      <th>f1</th>\n",
              "      <th>accuracy</th>\n",
              "      <th>auc</th>\n",
              "    </tr>\n",
              "  </thead>\n",
              "  <tbody>\n",
              "    <tr>\n",
              "      <th>XGBClassifier</th>\n",
              "      <td>0.193741</td>\n",
              "      <td>0.587349</td>\n",
              "      <td>0.291371</td>\n",
              "      <td>0.936767</td>\n",
              "      <td>0.862356</td>\n",
              "    </tr>\n",
              "    <tr>\n",
              "      <th>EBM</th>\n",
              "      <td>0.193741</td>\n",
              "      <td>0.563584</td>\n",
              "      <td>0.288355</td>\n",
              "      <td>0.935833</td>\n",
              "      <td>0.862450</td>\n",
              "    </tr>\n",
              "    <tr>\n",
              "      <th>XGBClassifier with reweight</th>\n",
              "      <td>0.188276</td>\n",
              "      <td>0.578626</td>\n",
              "      <td>0.284108</td>\n",
              "      <td>0.936333</td>\n",
              "      <td>0.861776</td>\n",
              "    </tr>\n",
              "  </tbody>\n",
              "</table>\n",
              "</div>\n",
              "      <button class=\"colab-df-convert\" onclick=\"convertToInteractive('df-9a064cd9-dc17-4caa-8e9e-2605ae1f5add')\"\n",
              "              title=\"Convert this dataframe to an interactive table.\"\n",
              "              style=\"display:none;\">\n",
              "        \n",
              "  <svg xmlns=\"http://www.w3.org/2000/svg\" height=\"24px\"viewBox=\"0 0 24 24\"\n",
              "       width=\"24px\">\n",
              "    <path d=\"M0 0h24v24H0V0z\" fill=\"none\"/>\n",
              "    <path d=\"M18.56 5.44l.94 2.06.94-2.06 2.06-.94-2.06-.94-.94-2.06-.94 2.06-2.06.94zm-11 1L8.5 8.5l.94-2.06 2.06-.94-2.06-.94L8.5 2.5l-.94 2.06-2.06.94zm10 10l.94 2.06.94-2.06 2.06-.94-2.06-.94-.94-2.06-.94 2.06-2.06.94z\"/><path d=\"M17.41 7.96l-1.37-1.37c-.4-.4-.92-.59-1.43-.59-.52 0-1.04.2-1.43.59L10.3 9.45l-7.72 7.72c-.78.78-.78 2.05 0 2.83L4 21.41c.39.39.9.59 1.41.59.51 0 1.02-.2 1.41-.59l7.78-7.78 2.81-2.81c.8-.78.8-2.07 0-2.86zM5.41 20L4 18.59l7.72-7.72 1.47 1.35L5.41 20z\"/>\n",
              "  </svg>\n",
              "      </button>\n",
              "      \n",
              "  <style>\n",
              "    .colab-df-container {\n",
              "      display:flex;\n",
              "      flex-wrap:wrap;\n",
              "      gap: 12px;\n",
              "    }\n",
              "\n",
              "    .colab-df-convert {\n",
              "      background-color: #E8F0FE;\n",
              "      border: none;\n",
              "      border-radius: 50%;\n",
              "      cursor: pointer;\n",
              "      display: none;\n",
              "      fill: #1967D2;\n",
              "      height: 32px;\n",
              "      padding: 0 0 0 0;\n",
              "      width: 32px;\n",
              "    }\n",
              "\n",
              "    .colab-df-convert:hover {\n",
              "      background-color: #E2EBFA;\n",
              "      box-shadow: 0px 1px 2px rgba(60, 64, 67, 0.3), 0px 1px 3px 1px rgba(60, 64, 67, 0.15);\n",
              "      fill: #174EA6;\n",
              "    }\n",
              "\n",
              "    [theme=dark] .colab-df-convert {\n",
              "      background-color: #3B4455;\n",
              "      fill: #D2E3FC;\n",
              "    }\n",
              "\n",
              "    [theme=dark] .colab-df-convert:hover {\n",
              "      background-color: #434B5C;\n",
              "      box-shadow: 0px 1px 3px 1px rgba(0, 0, 0, 0.15);\n",
              "      filter: drop-shadow(0px 1px 2px rgba(0, 0, 0, 0.3));\n",
              "      fill: #FFFFFF;\n",
              "    }\n",
              "  </style>\n",
              "\n",
              "      <script>\n",
              "        const buttonEl =\n",
              "          document.querySelector('#df-9a064cd9-dc17-4caa-8e9e-2605ae1f5add button.colab-df-convert');\n",
              "        buttonEl.style.display =\n",
              "          google.colab.kernel.accessAllowed ? 'block' : 'none';\n",
              "\n",
              "        async function convertToInteractive(key) {\n",
              "          const element = document.querySelector('#df-9a064cd9-dc17-4caa-8e9e-2605ae1f5add');\n",
              "          const dataTable =\n",
              "            await google.colab.kernel.invokeFunction('convertToInteractive',\n",
              "                                                     [key], {});\n",
              "          if (!dataTable) return;\n",
              "\n",
              "          const docLinkHtml = 'Like what you see? Visit the ' +\n",
              "            '<a target=\"_blank\" href=https://colab.research.google.com/notebooks/data_table.ipynb>data table notebook</a>'\n",
              "            + ' to learn more about interactive tables.';\n",
              "          element.innerHTML = '';\n",
              "          dataTable['output_type'] = 'display_data';\n",
              "          await google.colab.output.renderOutput(dataTable, element);\n",
              "          const docLink = document.createElement('div');\n",
              "          docLink.innerHTML = docLinkHtml;\n",
              "          element.appendChild(docLink);\n",
              "        }\n",
              "      </script>\n",
              "    </div>\n",
              "  </div>\n",
              "  "
            ]
          },
          "metadata": {},
          "execution_count": 79
        }
      ]
    },
    {
      "cell_type": "markdown",
      "source": [
        "![image.png](data:image/png;base64,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)"
      ],
      "metadata": {
        "id": "rKQ-87Ah41wj"
      }
    },
    {
      "cell_type": "markdown",
      "source": [
        "Based on these results, there does not appear to be a strong correlation between model fairness and performance. The XGBClassifier and EBM models have similar recall, precision, F1 score, accuracy, and AUC values, but the XGBClassifier with reweight model has slightly lower values for these metrics. This suggests that adding a fairness constraint to the XGBClassifier model may have reduced its overall performance, but not significantly. It is worth noting that this is only a single dataset, so these results may not be representative of the relationship between fairness and performance in general.\n",
        "\n",
        "In second example we see that recall is particularly important in applications where false negatives (i.e. cases where the model predicts that an example is negative when it is actually positive) are more costly than false positives (i.e. cases where the model predicts that an example is positive when it is actually negative). For example, in a medical diagnostic application, it may be more important to avoid missing a positive diagnosis (i.e. a high recall) than to avoid false positives, since the consequences of failing to diagnose a patient can be more severe than wrongly diagnosing a healthy patient."
      ],
      "metadata": {
        "id": "9KSAUzZf5a5a"
      }
    },
    {
      "cell_type": "code",
      "source": [
        "!jupyter nbconvert --to=html Copy_of_mt406390_xai6.ipynb"
      ],
      "metadata": {
        "colab": {
          "base_uri": "https://localhost:8080/"
        },
        "id": "1gu1pJ-MCT2q",
        "outputId": "0a93b255-3701-4759-975c-85bc1b4fcd8c"
      },
      "execution_count": 80,
      "outputs": [
        {
          "output_type": "stream",
          "name": "stdout",
          "text": [
            "[NbConvertApp] WARNING | pattern 'Copy_of_mt406390_xai6.ipynb' matched no files\n",
            "This application is used to convert notebook files (*.ipynb)\n",
            "        to various other formats.\n",
            "\n",
            "        WARNING: THE COMMANDLINE INTERFACE MAY CHANGE IN FUTURE RELEASES.\n",
            "\n",
            "Options\n",
            "=======\n",
            "The options below are convenience aliases to configurable class-options,\n",
            "as listed in the \"Equivalent to\" description-line of the aliases.\n",
            "To see all configurable class-options for some <cmd>, use:\n",
            "    <cmd> --help-all\n",
            "\n",
            "--debug\n",
            "    set log level to logging.DEBUG (maximize logging output)\n",
            "    Equivalent to: [--Application.log_level=10]\n",
            "--show-config\n",
            "    Show the application's configuration (human-readable format)\n",
            "    Equivalent to: [--Application.show_config=True]\n",
            "--show-config-json\n",
            "    Show the application's configuration (json format)\n",
            "    Equivalent to: [--Application.show_config_json=True]\n",
            "--generate-config\n",
            "    generate default config file\n",
            "    Equivalent to: [--JupyterApp.generate_config=True]\n",
            "-y\n",
            "    Answer yes to any questions instead of prompting.\n",
            "    Equivalent to: [--JupyterApp.answer_yes=True]\n",
            "--execute\n",
            "    Execute the notebook prior to export.\n",
            "    Equivalent to: [--ExecutePreprocessor.enabled=True]\n",
            "--allow-errors\n",
            "    Continue notebook execution even if one of the cells throws an error and include the error message in the cell output (the default behaviour is to abort conversion). This flag is only relevant if '--execute' was specified, too.\n",
            "    Equivalent to: [--ExecutePreprocessor.allow_errors=True]\n",
            "--stdin\n",
            "    read a single notebook file from stdin. Write the resulting notebook with default basename 'notebook.*'\n",
            "    Equivalent to: [--NbConvertApp.from_stdin=True]\n",
            "--stdout\n",
            "    Write notebook output to stdout instead of files.\n",
            "    Equivalent to: [--NbConvertApp.writer_class=StdoutWriter]\n",
            "--inplace\n",
            "    Run nbconvert in place, overwriting the existing notebook (only \n",
            "            relevant when converting to notebook format)\n",
            "    Equivalent to: [--NbConvertApp.use_output_suffix=False --NbConvertApp.export_format=notebook --FilesWriter.build_directory=]\n",
            "--clear-output\n",
            "    Clear output of current file and save in place, \n",
            "            overwriting the existing notebook.\n",
            "    Equivalent to: [--NbConvertApp.use_output_suffix=False --NbConvertApp.export_format=notebook --FilesWriter.build_directory= --ClearOutputPreprocessor.enabled=True]\n",
            "--no-prompt\n",
            "    Exclude input and output prompts from converted document.\n",
            "    Equivalent to: [--TemplateExporter.exclude_input_prompt=True --TemplateExporter.exclude_output_prompt=True]\n",
            "--no-input\n",
            "    Exclude input cells and output prompts from converted document. \n",
            "            This mode is ideal for generating code-free reports.\n",
            "    Equivalent to: [--TemplateExporter.exclude_output_prompt=True --TemplateExporter.exclude_input=True]\n",
            "--log-level=<Enum>\n",
            "    Set the log level by value or name.\n",
            "    Choices: any of [0, 10, 20, 30, 40, 50, 'DEBUG', 'INFO', 'WARN', 'ERROR', 'CRITICAL']\n",
            "    Default: 30\n",
            "    Equivalent to: [--Application.log_level]\n",
            "--config=<Unicode>\n",
            "    Full path of a config file.\n",
            "    Default: ''\n",
            "    Equivalent to: [--JupyterApp.config_file]\n",
            "--to=<Unicode>\n",
            "    The export format to be used, either one of the built-in formats\n",
            "            ['asciidoc', 'custom', 'html', 'latex', 'markdown', 'notebook', 'pdf', 'python', 'rst', 'script', 'slides']\n",
            "            or a dotted object name that represents the import path for an\n",
            "            `Exporter` class\n",
            "    Default: 'html'\n",
            "    Equivalent to: [--NbConvertApp.export_format]\n",
            "--template=<Unicode>\n",
            "    Name of the template file to use\n",
            "    Default: ''\n",
            "    Equivalent to: [--TemplateExporter.template_file]\n",
            "--writer=<DottedObjectName>\n",
            "    Writer class used to write the \n",
            "                                        results of the conversion\n",
            "    Default: 'FilesWriter'\n",
            "    Equivalent to: [--NbConvertApp.writer_class]\n",
            "--post=<DottedOrNone>\n",
            "    PostProcessor class used to write the\n",
            "                                        results of the conversion\n",
            "    Default: ''\n",
            "    Equivalent to: [--NbConvertApp.postprocessor_class]\n",
            "--output=<Unicode>\n",
            "    overwrite base name use for output files.\n",
            "                can only be used when converting one notebook at a time.\n",
            "    Default: ''\n",
            "    Equivalent to: [--NbConvertApp.output_base]\n",
            "--output-dir=<Unicode>\n",
            "    Directory to write output(s) to. Defaults\n",
            "                                  to output to the directory of each notebook. To recover\n",
            "                                  previous default behaviour (outputting to the current \n",
            "                                  working directory) use . as the flag value.\n",
            "    Default: ''\n",
            "    Equivalent to: [--FilesWriter.build_directory]\n",
            "--reveal-prefix=<Unicode>\n",
            "    The URL prefix for reveal.js (version 3.x).\n",
            "            This defaults to the reveal CDN, but can be any url pointing to a copy \n",
            "            of reveal.js. \n",
            "            For speaker notes to work, this must be a relative path to a local \n",
            "            copy of reveal.js: e.g., \"reveal.js\".\n",
            "            If a relative path is given, it must be a subdirectory of the\n",
            "            current directory (from which the server is run).\n",
            "            See the usage documentation\n",
            "            (https://nbconvert.readthedocs.io/en/latest/usage.html#reveal-js-html-slideshow)\n",
            "            for more details.\n",
            "    Default: ''\n",
            "    Equivalent to: [--SlidesExporter.reveal_url_prefix]\n",
            "--nbformat=<Enum>\n",
            "    The nbformat version to write.\n",
            "            Use this to downgrade notebooks.\n",
            "    Choices: any of [1, 2, 3, 4]\n",
            "    Default: 4\n",
            "    Equivalent to: [--NotebookExporter.nbformat_version]\n",
            "\n",
            "Examples\n",
            "--------\n",
            "\n",
            "    The simplest way to use nbconvert is\n",
            "\n",
            "            > jupyter nbconvert mynotebook.ipynb\n",
            "\n",
            "            which will convert mynotebook.ipynb to the default format (probably HTML).\n",
            "\n",
            "            You can specify the export format with `--to`.\n",
            "            Options include ['asciidoc', 'custom', 'html', 'latex', 'markdown', 'notebook', 'pdf', 'python', 'rst', 'script', 'slides'].\n",
            "\n",
            "            > jupyter nbconvert --to latex mynotebook.ipynb\n",
            "\n",
            "            Both HTML and LaTeX support multiple output templates. LaTeX includes\n",
            "            'base', 'article' and 'report'.  HTML includes 'basic' and 'full'. You\n",
            "            can specify the flavor of the format used.\n",
            "\n",
            "            > jupyter nbconvert --to html --template basic mynotebook.ipynb\n",
            "\n",
            "            You can also pipe the output to stdout, rather than a file\n",
            "\n",
            "            > jupyter nbconvert mynotebook.ipynb --stdout\n",
            "\n",
            "            PDF is generated via latex\n",
            "\n",
            "            > jupyter nbconvert mynotebook.ipynb --to pdf\n",
            "\n",
            "            You can get (and serve) a Reveal.js-powered slideshow\n",
            "\n",
            "            > jupyter nbconvert myslides.ipynb --to slides --post serve\n",
            "\n",
            "            Multiple notebooks can be given at the command line in a couple of \n",
            "            different ways:\n",
            "\n",
            "            > jupyter nbconvert notebook*.ipynb\n",
            "            > jupyter nbconvert notebook1.ipynb notebook2.ipynb\n",
            "\n",
            "            or you can specify the notebooks list in a config file, containing::\n",
            "\n",
            "                c.NbConvertApp.notebooks = [\"my_notebook.ipynb\"]\n",
            "\n",
            "            > jupyter nbconvert --config mycfg.py\n",
            "\n",
            "To see all available configurables, use `--help-all`.\n",
            "\n"
          ]
        }
      ]
    }
  ],
  "metadata": {
    "kernelspec": {
      "display_name": "Python 3.10.7 64-bit (microsoft store)",
      "language": "python",
      "name": "python3"
    },
    "language_info": {
      "codemirror_mode": {
        "name": "ipython",
        "version": 3
      },
      "file_extension": ".py",
      "mimetype": "text/x-python",
      "name": "python",
      "nbconvert_exporter": "python",
      "pygments_lexer": "ipython3",
      "version": "3.10.7"
    },
    "orig_nbformat": 4,
    "vscode": {
      "interpreter": {
        "hash": "abb28fd1d7431144c73c9b6e36d3d8b55428cbac4336a7216572d74924205ca7"
      }
    },
    "colab": {
      "provenance": []
    }
  },
  "nbformat": 4,
  "nbformat_minor": 0
}