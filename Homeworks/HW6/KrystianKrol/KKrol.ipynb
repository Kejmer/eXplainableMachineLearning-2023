{
 "cells": [
  {
   "cell_type": "markdown",
   "id": "38a4917e",
   "metadata": {},
   "source": [
    "# Task 1\n",
    "Let's name the variables as per lecture:\n",
    "\n",
    "Y - will student find XAI useful in future (1 means yes)\n",
    "\n",
    "$\\hat{Y}$ - is student enrolled in training (1 means enrolled)\n",
    "\n",
    "A - population (either B (privileged) for blue or R for red - unprivileged)\n",
    "\n",
    "## Demographic parity\n",
    "\n",
    "P($\\hat{Y}$ = 1 | A = B) = 0.65\n",
    "\n",
    "P($\\hat{Y}$ = 1 | A = R) = 0.5\n",
    "\n",
    "$\\frac{P(\\hat{Y} = 1 | A = B)}{P(\\hat{Y} = 1 | A = R)}$ = 130%\n",
    "\n",
    "## Equal opportunity\n",
    "\n",
    "P($\\hat{Y}$ = 1 | A = B, Y = 1) = 0.75\n",
    "\n",
    "P($\\hat{Y}$ = 1 | A = R, Y = 1) = 0.5\n",
    "\n",
    "$\\frac{P(\\hat{Y} = 1 | A = B, Y = 1)}{P(\\hat{Y} = 1 | A = R, Y = 1)}$ = 150%\n",
    "\n",
    "## Predictive rate parity\n",
    "\n",
    "P(Y = 1 | A = B, $\\hat{Y}$ = 1) = $\\frac{60}{65}$\n",
    "\n",
    "P(Y = 1 | A = R, $\\hat{Y}$ = 1) = 0.5\n",
    "\n",
    "$\\frac{P(Y = 1 | A = B, \\hat{Y} = 1)}{P(Y = 1 | A = R, \\hat{Y} = 1)}$ = $\\frac{24}{13} \\simeq 185$% \n",
    "\n",
    "## How can this decision rule be changed to improve its fairness?\n",
    "\n",
    "If we used same model, but enrolled all those which we originally didn't enroll and 20% of those originally enrolled, we will have enrolled on average 32 students who will use XAI and 16 who will not. 48% to 50% in demographic parity is better than 65% to 50%. 40% to 50% is more equal than 75% to 50% in equal opportunity. 66.7% to 50% is more equal than 92% to 50%.\n",
    "\n",
    "Long story short we need to deliberately use model to make worse assignment than random.\n",
    "\n",
    "\n",
    "# Task 2\n",
    "\n",
    "In will explore fairness of model predicting adult income in regards of gender.\n",
    "\n",
    "## Part 2"
   ]
  },
  {
   "cell_type": "code",
   "execution_count": 14,
   "id": "647f1408",
   "metadata": {
    "scrolled": true
   },
   "outputs": [
    {
     "name": "stdout",
     "output_type": "stream",
     "text": [
      "Bias detected in 2 metrics: FPR, STP\n",
      "\n",
      "Conclusion: your model is not fair because 2 or more criteria exceeded acceptable limits set by epsilon.\n",
      "\n",
      "Ratios of metrics, based on 'Male'. Parameter 'epsilon' was set to 0.8 and therefore metrics should be within (0.8, 1.25)\n",
      "            TPR       ACC       PPV       FPR       STP\n",
      "Female  0.83196  1.117788  1.023899  0.217391  0.304721\n"
     ]
    }
   ],
   "source": [
    "part2()"
   ]
  },
  {
   "cell_type": "markdown",
   "id": "aa2fcd29",
   "metadata": {},
   "source": [
    "Statistical parity coefficient is 0.304721, which is outside four-fifths rule. This means that among men, there is higher likelihood of earning above 50k.\n",
    "\n",
    "Equal opportunity coeffiecient is 0.83196, which is within four-fifths rule.\n",
    "\n",
    "Predictive parity coeffiecient is 1.023899, which also is within [0.8, 1.25] range."
   ]
  },
  {
   "cell_type": "markdown",
   "id": "0ee98ab4",
   "metadata": {},
   "source": [
    "\n",
    "## Part 3"
   ]
  },
  {
   "cell_type": "code",
   "execution_count": 15,
   "id": "07c892f7",
   "metadata": {
    "scrolled": false
   },
   "outputs": [
    {
     "name": "stdout",
     "output_type": "stream",
     "text": [
      "Bias detected in 2 metrics: PPV, STP\n",
      "\n",
      "Conclusion: your model is not fair because 2 or more criteria exceeded acceptable limits set by epsilon.\n",
      "\n",
      "Ratios of metrics, based on 'Male'. Parameter 'epsilon' was set to 0.8 and therefore metrics should be within (0.8, 1.25)\n",
      "             TPR       ACC       PPV       FPR       STP\n",
      "Female  1.007634  1.143036  0.797235  0.884615  0.471014\n"
     ]
    }
   ],
   "source": [
    "part3()"
   ]
  },
  {
   "cell_type": "markdown",
   "id": "ecf31aa7",
   "metadata": {},
   "source": [
    "Now let's compare the original model trained on full dataset with model trained on dataset without protected groups or variables directly related - for example being husband indicates being male.\n",
    "\n",
    "Statistical parity coefficient is 0.471014, which is outside four-fifths rule, same as before. But on the other hand we improved on this statistic compared to original XGBoost on full data.\n",
    "\n",
    "Equal opportunity coeffiecient is 1.007634, this statistic was within four-fifths rule before, but now it's even closer to 1.\n",
    "\n",
    "Predictive parity coeffiecient is 0.797235, we now slightly fell out from [0.8, 1.25] range. This is a result of tradeoff for vast improvement on other statistics like TPR, FPR and STP."
   ]
  },
  {
   "cell_type": "markdown",
   "id": "92eb625e",
   "metadata": {},
   "source": [
    "\n",
    "## Part 4"
   ]
  },
  {
   "cell_type": "code",
   "execution_count": 16,
   "id": "b0d58b08",
   "metadata": {
    "scrolled": true
   },
   "outputs": [
    {
     "name": "stdout",
     "output_type": "stream",
     "text": [
      "Bias detected in 1 metric: STP\n",
      "\n",
      "Conclusion: your model cannot be called fair because 1 criterion exceeded acceptable limits set by epsilon.\n",
      "It does not mean that your model is unfair but it cannot be automatically approved based on these metrics.\n",
      "\n",
      "Ratios of metrics, based on 'Male'. Parameter 'epsilon' was set to 0.8 and therefore metrics should be within (0.8, 1.25)\n",
      "             TPR       ACC       PPV    FPR       STP\n",
      "Female  1.233962  1.120627  0.824356  0.875  0.560847\n"
     ]
    }
   ],
   "source": [
    "part4()"
   ]
  },
  {
   "cell_type": "markdown",
   "id": "c416ef99",
   "metadata": {},
   "source": [
    "In part 4, we improved original model by applying reweighting.\n",
    "\n",
    "Statistical parity coefficient is 0.560847, which is the only statistic outside four-fifths rule. We improved on this statistic compared to both previous models.\n",
    "\n",
    "Equal opportunity coeffiecient is 1.233962, this is much higher than ever before and almost equally distant from being 1 as original model, but still within four-fifths rule.\n",
    "\n",
    "Predictive parity coeffiecient is 0.824356. This statistic decreased vastly compared to original model, but it's a tradeoff for all other statistics being within four-fifths threshold. It's also better than model from part 3."
   ]
  },
  {
   "cell_type": "markdown",
   "id": "bcc9cbbd",
   "metadata": {},
   "source": [
    "\n",
    "## Part 5"
   ]
  },
  {
   "cell_type": "code",
   "execution_count": 19,
   "id": "3c834e2e",
   "metadata": {
    "scrolled": true
   },
   "outputs": [],
   "source": [
    "stats, plot = part5()"
   ]
  },
  {
   "cell_type": "markdown",
   "id": "f6f7081a",
   "metadata": {},
   "source": [
    "![](img/p5.png)"
   ]
  },
  {
   "cell_type": "code",
   "execution_count": 18,
   "id": "afaa6b41",
   "metadata": {
    "scrolled": true
   },
   "outputs": [
    {
     "data": {
      "text/html": [
       "<div>\n",
       "<style scoped>\n",
       "    .dataframe tbody tr th:only-of-type {\n",
       "        vertical-align: middle;\n",
       "    }\n",
       "\n",
       "    .dataframe tbody tr th {\n",
       "        vertical-align: top;\n",
       "    }\n",
       "\n",
       "    .dataframe thead th {\n",
       "        text-align: right;\n",
       "    }\n",
       "</style>\n",
       "<table border=\"1\" class=\"dataframe\">\n",
       "  <thead>\n",
       "    <tr style=\"text-align: right;\">\n",
       "      <th></th>\n",
       "      <th>recall</th>\n",
       "      <th>precision</th>\n",
       "      <th>f1</th>\n",
       "      <th>accuracy</th>\n",
       "      <th>auc</th>\n",
       "    </tr>\n",
       "  </thead>\n",
       "  <tbody>\n",
       "    <tr>\n",
       "      <th>Base XGBoost</th>\n",
       "      <td>0.591062</td>\n",
       "      <td>0.797497</td>\n",
       "      <td>0.678935</td>\n",
       "      <td>0.864278</td>\n",
       "      <td>0.925081</td>\n",
       "    </tr>\n",
       "    <tr>\n",
       "      <th>XGBoost no protected groups or hints on groups</th>\n",
       "      <td>0.393761</td>\n",
       "      <td>0.835420</td>\n",
       "      <td>0.535244</td>\n",
       "      <td>0.833982</td>\n",
       "      <td>0.843579</td>\n",
       "    </tr>\n",
       "    <tr>\n",
       "      <th>XGBClassifier with Reweight</th>\n",
       "      <td>0.548904</td>\n",
       "      <td>0.821970</td>\n",
       "      <td>0.658241</td>\n",
       "      <td>0.861617</td>\n",
       "      <td>0.922079</td>\n",
       "    </tr>\n",
       "  </tbody>\n",
       "</table>\n",
       "</div>"
      ],
      "text/plain": [
       "                                                  recall  precision        f1  \\\n",
       "Base XGBoost                                    0.591062   0.797497  0.678935   \n",
       "XGBoost no protected groups or hints on groups  0.393761   0.835420  0.535244   \n",
       "XGBClassifier with Reweight                     0.548904   0.821970  0.658241   \n",
       "\n",
       "                                                accuracy       auc  \n",
       "Base XGBoost                                    0.864278  0.925081  \n",
       "XGBoost no protected groups or hints on groups  0.833982  0.843579  \n",
       "XGBClassifier with Reweight                     0.861617  0.922079  "
      ]
     },
     "execution_count": 18,
     "metadata": {},
     "output_type": "execute_result"
    }
   ],
   "source": [
    "stats"
   ]
  },
  {
   "cell_type": "markdown",
   "id": "e00ad40c",
   "metadata": {},
   "source": [
    "Models with better precision have better fairness. Reweighted model and original model have similar accuracy. Model with few columns removed have far worse recall, f1-score and auc and slightly worse accuracy, but is slightly more fair by being a worse model.\n",
    "\n",
    "In conclusion, we don't have to loose model quality to get better fairness as can be proven by comparing base XGBoost with same model but with Reweighting."
   ]
  },
  {
   "cell_type": "markdown",
   "id": "ce191532",
   "metadata": {},
   "source": [
    "# Appendix\n",
    "## Prepare data"
   ]
  },
  {
   "cell_type": "code",
   "execution_count": 1,
   "id": "d9e230ff",
   "metadata": {},
   "outputs": [
    {
     "data": {
      "application/javascript": [
       "//hack to fix export\n",
       "require.config({\n",
       "  paths: {\n",
       "    d3: 'https://cdnjs.cloudflare.com/ajax/libs/d3/5.9.2/d3',\n",
       "    jquery: 'https://code.jquery.com/jquery-3.4.1.min',\n",
       "    plotly: 'https://cdn.plot.ly/plotly-latest.min'\n",
       "  },\n",
       "\n",
       "  shim: {\n",
       "    plotly: {\n",
       "      deps: ['d3', 'jquery'],\n",
       "      exports: 'plotly'\n",
       "    }\n",
       "  }\n",
       "});\n"
      ],
      "text/plain": [
       "<IPython.core.display.Javascript object>"
      ]
     },
     "metadata": {},
     "output_type": "display_data"
    }
   ],
   "source": [
    "%%javascript\n",
    "//hack to fix export\n",
    "require.config({\n",
    "  paths: {\n",
    "    d3: 'https://cdnjs.cloudflare.com/ajax/libs/d3/5.9.2/d3',\n",
    "    jquery: 'https://code.jquery.com/jquery-3.4.1.min',\n",
    "    plotly: 'https://cdn.plot.ly/plotly-latest.min'\n",
    "  },\n",
    "\n",
    "  shim: {\n",
    "    plotly: {\n",
    "      deps: ['d3', 'jquery'],\n",
    "      exports: 'plotly'\n",
    "    }\n",
    "  }\n",
    "});"
   ]
  },
  {
   "cell_type": "code",
   "execution_count": 2,
   "id": "be977599",
   "metadata": {},
   "outputs": [],
   "source": [
    "import pandas as pd\n",
    "import numpy as np"
   ]
  },
  {
   "cell_type": "code",
   "execution_count": 3,
   "id": "8938bfa9",
   "metadata": {},
   "outputs": [],
   "source": [
    "import random\n",
    "import os\n",
    "\n",
    "RND_SEED = 123\n",
    "\n",
    "def seed_everything(seed=RND_SEED):\n",
    "    random.seed(seed)\n",
    "    os.environ['PYTHONHASHSEED'] = str(seed)\n",
    "    np.random.seed(seed)\n",
    "    \n",
    "seed_everything()"
   ]
  },
  {
   "cell_type": "code",
   "execution_count": 4,
   "id": "bb94fcac",
   "metadata": {},
   "outputs": [
    {
     "data": {
      "text/html": [
       "<div>\n",
       "<style scoped>\n",
       "    .dataframe tbody tr th:only-of-type {\n",
       "        vertical-align: middle;\n",
       "    }\n",
       "\n",
       "    .dataframe tbody tr th {\n",
       "        vertical-align: top;\n",
       "    }\n",
       "\n",
       "    .dataframe thead th {\n",
       "        text-align: right;\n",
       "    }\n",
       "</style>\n",
       "<table border=\"1\" class=\"dataframe\">\n",
       "  <thead>\n",
       "    <tr style=\"text-align: right;\">\n",
       "      <th></th>\n",
       "      <th>age</th>\n",
       "      <th>workclass</th>\n",
       "      <th>fnlwgt</th>\n",
       "      <th>education</th>\n",
       "      <th>educational-num</th>\n",
       "      <th>marital-status</th>\n",
       "      <th>occupation</th>\n",
       "      <th>relationship</th>\n",
       "      <th>race</th>\n",
       "      <th>gender</th>\n",
       "      <th>capital-gain</th>\n",
       "      <th>capital-loss</th>\n",
       "      <th>hours-per-week</th>\n",
       "      <th>native-country</th>\n",
       "      <th>income</th>\n",
       "      <th>income_over_50</th>\n",
       "    </tr>\n",
       "  </thead>\n",
       "  <tbody>\n",
       "    <tr>\n",
       "      <th>0</th>\n",
       "      <td>52</td>\n",
       "      <td>Private</td>\n",
       "      <td>117700</td>\n",
       "      <td>HS-grad</td>\n",
       "      <td>9</td>\n",
       "      <td>Divorced</td>\n",
       "      <td>Adm-clerical</td>\n",
       "      <td>Not-in-family</td>\n",
       "      <td>White</td>\n",
       "      <td>Female</td>\n",
       "      <td>0</td>\n",
       "      <td>0</td>\n",
       "      <td>40</td>\n",
       "      <td>United-States</td>\n",
       "      <td>&lt;=50K</td>\n",
       "      <td>False</td>\n",
       "    </tr>\n",
       "    <tr>\n",
       "      <th>1</th>\n",
       "      <td>19</td>\n",
       "      <td>Private</td>\n",
       "      <td>351757</td>\n",
       "      <td>10th</td>\n",
       "      <td>6</td>\n",
       "      <td>Never-married</td>\n",
       "      <td>Other-service</td>\n",
       "      <td>Unmarried</td>\n",
       "      <td>White</td>\n",
       "      <td>Male</td>\n",
       "      <td>0</td>\n",
       "      <td>0</td>\n",
       "      <td>30</td>\n",
       "      <td>El-Salvador</td>\n",
       "      <td>&lt;=50K</td>\n",
       "      <td>False</td>\n",
       "    </tr>\n",
       "    <tr>\n",
       "      <th>2</th>\n",
       "      <td>31</td>\n",
       "      <td>Federal-gov</td>\n",
       "      <td>101345</td>\n",
       "      <td>HS-grad</td>\n",
       "      <td>9</td>\n",
       "      <td>Never-married</td>\n",
       "      <td>Handlers-cleaners</td>\n",
       "      <td>Own-child</td>\n",
       "      <td>White</td>\n",
       "      <td>Female</td>\n",
       "      <td>0</td>\n",
       "      <td>0</td>\n",
       "      <td>40</td>\n",
       "      <td>United-States</td>\n",
       "      <td>&lt;=50K</td>\n",
       "      <td>False</td>\n",
       "    </tr>\n",
       "    <tr>\n",
       "      <th>3</th>\n",
       "      <td>25</td>\n",
       "      <td>Private</td>\n",
       "      <td>324854</td>\n",
       "      <td>Bachelors</td>\n",
       "      <td>13</td>\n",
       "      <td>Never-married</td>\n",
       "      <td>Sales</td>\n",
       "      <td>Not-in-family</td>\n",
       "      <td>White</td>\n",
       "      <td>Female</td>\n",
       "      <td>0</td>\n",
       "      <td>0</td>\n",
       "      <td>40</td>\n",
       "      <td>United-States</td>\n",
       "      <td>&lt;=50K</td>\n",
       "      <td>False</td>\n",
       "    </tr>\n",
       "    <tr>\n",
       "      <th>4</th>\n",
       "      <td>36</td>\n",
       "      <td>Private</td>\n",
       "      <td>245521</td>\n",
       "      <td>7th-8th</td>\n",
       "      <td>4</td>\n",
       "      <td>Married-civ-spouse</td>\n",
       "      <td>Farming-fishing</td>\n",
       "      <td>Husband</td>\n",
       "      <td>White</td>\n",
       "      <td>Male</td>\n",
       "      <td>0</td>\n",
       "      <td>0</td>\n",
       "      <td>35</td>\n",
       "      <td>Mexico</td>\n",
       "      <td>&lt;=50K</td>\n",
       "      <td>False</td>\n",
       "    </tr>\n",
       "    <tr>\n",
       "      <th>...</th>\n",
       "      <td>...</td>\n",
       "      <td>...</td>\n",
       "      <td>...</td>\n",
       "      <td>...</td>\n",
       "      <td>...</td>\n",
       "      <td>...</td>\n",
       "      <td>...</td>\n",
       "      <td>...</td>\n",
       "      <td>...</td>\n",
       "      <td>...</td>\n",
       "      <td>...</td>\n",
       "      <td>...</td>\n",
       "      <td>...</td>\n",
       "      <td>...</td>\n",
       "      <td>...</td>\n",
       "      <td>...</td>\n",
       "    </tr>\n",
       "    <tr>\n",
       "      <th>48837</th>\n",
       "      <td>42</td>\n",
       "      <td>Federal-gov</td>\n",
       "      <td>37997</td>\n",
       "      <td>Bachelors</td>\n",
       "      <td>13</td>\n",
       "      <td>Married-civ-spouse</td>\n",
       "      <td>Exec-managerial</td>\n",
       "      <td>Husband</td>\n",
       "      <td>White</td>\n",
       "      <td>Male</td>\n",
       "      <td>0</td>\n",
       "      <td>0</td>\n",
       "      <td>40</td>\n",
       "      <td>United-States</td>\n",
       "      <td>&lt;=50K</td>\n",
       "      <td>False</td>\n",
       "    </tr>\n",
       "    <tr>\n",
       "      <th>48838</th>\n",
       "      <td>65</td>\n",
       "      <td>Self-emp-not-inc</td>\n",
       "      <td>326936</td>\n",
       "      <td>HS-grad</td>\n",
       "      <td>9</td>\n",
       "      <td>Married-civ-spouse</td>\n",
       "      <td>Sales</td>\n",
       "      <td>Wife</td>\n",
       "      <td>White</td>\n",
       "      <td>Female</td>\n",
       "      <td>0</td>\n",
       "      <td>0</td>\n",
       "      <td>40</td>\n",
       "      <td>United-States</td>\n",
       "      <td>&lt;=50K</td>\n",
       "      <td>False</td>\n",
       "    </tr>\n",
       "    <tr>\n",
       "      <th>48839</th>\n",
       "      <td>44</td>\n",
       "      <td>Self-emp-inc</td>\n",
       "      <td>229466</td>\n",
       "      <td>Some-college</td>\n",
       "      <td>10</td>\n",
       "      <td>Married-civ-spouse</td>\n",
       "      <td>Exec-managerial</td>\n",
       "      <td>Husband</td>\n",
       "      <td>White</td>\n",
       "      <td>Male</td>\n",
       "      <td>0</td>\n",
       "      <td>0</td>\n",
       "      <td>50</td>\n",
       "      <td>United-States</td>\n",
       "      <td>&gt;50K</td>\n",
       "      <td>True</td>\n",
       "    </tr>\n",
       "    <tr>\n",
       "      <th>48840</th>\n",
       "      <td>35</td>\n",
       "      <td>Private</td>\n",
       "      <td>265954</td>\n",
       "      <td>Bachelors</td>\n",
       "      <td>13</td>\n",
       "      <td>Never-married</td>\n",
       "      <td>Handlers-cleaners</td>\n",
       "      <td>Not-in-family</td>\n",
       "      <td>Black</td>\n",
       "      <td>Male</td>\n",
       "      <td>0</td>\n",
       "      <td>0</td>\n",
       "      <td>40</td>\n",
       "      <td>United-States</td>\n",
       "      <td>&lt;=50K</td>\n",
       "      <td>False</td>\n",
       "    </tr>\n",
       "    <tr>\n",
       "      <th>48841</th>\n",
       "      <td>47</td>\n",
       "      <td>Self-emp-inc</td>\n",
       "      <td>77660</td>\n",
       "      <td>Some-college</td>\n",
       "      <td>10</td>\n",
       "      <td>Married-civ-spouse</td>\n",
       "      <td>Exec-managerial</td>\n",
       "      <td>Husband</td>\n",
       "      <td>White</td>\n",
       "      <td>Male</td>\n",
       "      <td>15024</td>\n",
       "      <td>0</td>\n",
       "      <td>50</td>\n",
       "      <td>United-States</td>\n",
       "      <td>&gt;50K</td>\n",
       "      <td>True</td>\n",
       "    </tr>\n",
       "  </tbody>\n",
       "</table>\n",
       "<p>48842 rows × 16 columns</p>\n",
       "</div>"
      ],
      "text/plain": [
       "       age         workclass  fnlwgt     education  educational-num  \\\n",
       "0       52           Private  117700       HS-grad                9   \n",
       "1       19           Private  351757          10th                6   \n",
       "2       31       Federal-gov  101345       HS-grad                9   \n",
       "3       25           Private  324854     Bachelors               13   \n",
       "4       36           Private  245521       7th-8th                4   \n",
       "...    ...               ...     ...           ...              ...   \n",
       "48837   42       Federal-gov   37997     Bachelors               13   \n",
       "48838   65  Self-emp-not-inc  326936       HS-grad                9   \n",
       "48839   44      Self-emp-inc  229466  Some-college               10   \n",
       "48840   35           Private  265954     Bachelors               13   \n",
       "48841   47      Self-emp-inc   77660  Some-college               10   \n",
       "\n",
       "           marital-status         occupation   relationship   race  gender  \\\n",
       "0                Divorced       Adm-clerical  Not-in-family  White  Female   \n",
       "1           Never-married      Other-service      Unmarried  White    Male   \n",
       "2           Never-married  Handlers-cleaners      Own-child  White  Female   \n",
       "3           Never-married              Sales  Not-in-family  White  Female   \n",
       "4      Married-civ-spouse    Farming-fishing        Husband  White    Male   \n",
       "...                   ...                ...            ...    ...     ...   \n",
       "48837  Married-civ-spouse    Exec-managerial        Husband  White    Male   \n",
       "48838  Married-civ-spouse              Sales           Wife  White  Female   \n",
       "48839  Married-civ-spouse    Exec-managerial        Husband  White    Male   \n",
       "48840       Never-married  Handlers-cleaners  Not-in-family  Black    Male   \n",
       "48841  Married-civ-spouse    Exec-managerial        Husband  White    Male   \n",
       "\n",
       "       capital-gain  capital-loss  hours-per-week native-country income  \\\n",
       "0                 0             0              40  United-States  <=50K   \n",
       "1                 0             0              30    El-Salvador  <=50K   \n",
       "2                 0             0              40  United-States  <=50K   \n",
       "3                 0             0              40  United-States  <=50K   \n",
       "4                 0             0              35         Mexico  <=50K   \n",
       "...             ...           ...             ...            ...    ...   \n",
       "48837             0             0              40  United-States  <=50K   \n",
       "48838             0             0              40  United-States  <=50K   \n",
       "48839             0             0              50  United-States   >50K   \n",
       "48840             0             0              40  United-States  <=50K   \n",
       "48841         15024             0              50  United-States   >50K   \n",
       "\n",
       "       income_over_50  \n",
       "0               False  \n",
       "1               False  \n",
       "2               False  \n",
       "3               False  \n",
       "4               False  \n",
       "...               ...  \n",
       "48837           False  \n",
       "48838           False  \n",
       "48839            True  \n",
       "48840           False  \n",
       "48841            True  \n",
       "\n",
       "[48842 rows x 16 columns]"
      ]
     },
     "execution_count": 4,
     "metadata": {},
     "output_type": "execute_result"
    }
   ],
   "source": [
    "df = pd.read_csv(\"adult.csv\")\n",
    "df[\"income_over_50\"] = df[\"income\"] == '>50K'\n",
    "df.loc[:, df.dtypes == 'object'] =\\\n",
    "    df.select_dtypes(['object'])\\\n",
    "    .apply(lambda x: x.astype('category'))\n",
    "df = df.sample(frac=1).reset_index(drop=True)\n",
    "df"
   ]
  },
  {
   "cell_type": "code",
   "execution_count": 5,
   "id": "01cbe41b",
   "metadata": {
    "scrolled": true
   },
   "outputs": [
    {
     "data": {
      "text/plain": [
       "count    48842.000000\n",
       "mean         0.239282\n",
       "std          0.426649\n",
       "min          0.000000\n",
       "25%          0.000000\n",
       "50%          0.000000\n",
       "75%          0.000000\n",
       "max          1.000000\n",
       "Name: income_over_50, dtype: float64"
      ]
     },
     "execution_count": 5,
     "metadata": {},
     "output_type": "execute_result"
    }
   ],
   "source": [
    "df[\"income_over_50\"].astype('int').describe()"
   ]
  },
  {
   "cell_type": "code",
   "execution_count": 6,
   "id": "bc0494b9",
   "metadata": {},
   "outputs": [],
   "source": [
    "from sklearn.model_selection import train_test_split\n",
    "\n",
    "data = df.drop(columns=[\"income\", \"income_over_50\"])\n",
    "label = df[\"income_over_50\"]\n",
    "\n",
    "X_train, X_test, y_train, y_test = train_test_split(data, label, test_size=0.1, random_state=RND_SEED)\n"
   ]
  },
  {
   "cell_type": "markdown",
   "id": "f9f8e6a1",
   "metadata": {},
   "source": [
    "## Part 1"
   ]
  },
  {
   "cell_type": "code",
   "execution_count": 7,
   "id": "dd28cdcc",
   "metadata": {},
   "outputs": [
    {
     "name": "stderr",
     "output_type": "stream",
     "text": [
      "/usr/lib/python3/dist-packages/pkg_resources/__init__.py:116: PkgResourcesDeprecationWarning: 0.1.43ubuntu1 is an invalid version and will not be supported in a future release\n",
      "  warnings.warn(\n",
      "/usr/lib/python3/dist-packages/pkg_resources/__init__.py:116: PkgResourcesDeprecationWarning: 1.1build1 is an invalid version and will not be supported in a future release\n",
      "  warnings.warn(\n"
     ]
    }
   ],
   "source": [
    "import xgboost\n",
    "import dalex as dx\n",
    "\n",
    "def pf_xgboost_classifier_categorical(model, df):\n",
    "    df.loc[:, df.dtypes == 'object'] =\\\n",
    "        df.select_dtypes(['object'])\\\n",
    "        .apply(lambda x: x.astype('category'))\n",
    "    return model.predict_proba(df)[:, 1]\n",
    "\n",
    "def train_and_explain(model, X, Y, X_e, Y_e, label):\n",
    "    model.fit(X, Y)\n",
    "    explainer = dx.Explainer(model, X_e, Y_e, predict_function=pf_xgboost_classifier_categorical, label=label, verbose=False)\n",
    "    return explainer"
   ]
  },
  {
   "cell_type": "code",
   "execution_count": 8,
   "id": "b225fbdc",
   "metadata": {},
   "outputs": [
    {
     "data": {
      "text/plain": [
       "0.8642784032753327"
      ]
     },
     "execution_count": 8,
     "metadata": {},
     "output_type": "execute_result"
    }
   ],
   "source": [
    "from sklearn.metrics import accuracy_score\n",
    "\n",
    "model = xgboost.XGBClassifier(\n",
    "    enable_categorical=True,\n",
    "    eval_metric=\"logloss\",\n",
    "    tree_method=\"hist\",\n",
    ")\n",
    "explainer = train_and_explain(model, X_train, y_train, X_test, y_test, \"Base XGBoost\")\n",
    "accuracy_score(y_test, model.predict(X_test))"
   ]
  },
  {
   "cell_type": "markdown",
   "id": "fdeec978",
   "metadata": {},
   "source": [
    "## Part 2"
   ]
  },
  {
   "cell_type": "code",
   "execution_count": 9,
   "id": "4025a721",
   "metadata": {},
   "outputs": [],
   "source": [
    "protected_variable = X_test.gender\n",
    "privileged_group = \"Male\"\n",
    "\n",
    "fobject = explainer.model_fairness(\n",
    "    protected=protected_variable,\n",
    "    privileged=privileged_group,\n",
    ")\n",
    "def part2():\n",
    "    return fobject.fairness_check()"
   ]
  },
  {
   "cell_type": "markdown",
   "id": "9bbce396",
   "metadata": {},
   "source": [
    "## Part 3"
   ]
  },
  {
   "cell_type": "code",
   "execution_count": 10,
   "id": "a8442f0b",
   "metadata": {},
   "outputs": [],
   "source": [
    "X_simplified = X_train.drop(columns=[\"gender\", \"marital-status\", \"relationship\", \"age\", \"race\"])\n",
    "X_test_simp = X_test.drop(columns=[\"gender\", \"marital-status\", \"relationship\", \"age\", \"race\"])\n",
    "\n",
    "model_simp = xgboost.XGBClassifier(\n",
    "    enable_categorical=True,\n",
    "    eval_metric=\"logloss\",\n",
    "    tree_method=\"hist\",\n",
    ")\n",
    "\n",
    "explanation_simp = train_and_explain(model_simp, X_simplified, y_train, X_test_simp, y_test, \"XGBoost no protected groups or hints on groups\")\n",
    "\n",
    "fobject_simp = explanation_simp.model_fairness(\n",
    "    protected=protected_variable,\n",
    "    privileged=privileged_group,\n",
    ")\n",
    "def part3():\n",
    "    return fobject_simp.fairness_check()"
   ]
  },
  {
   "cell_type": "code",
   "execution_count": 11,
   "id": "c360735e",
   "metadata": {
    "scrolled": true
   },
   "outputs": [
    {
     "data": {
      "text/plain": [
       "0.8339815762538383"
      ]
     },
     "execution_count": 11,
     "metadata": {},
     "output_type": "execute_result"
    }
   ],
   "source": [
    "accuracy_score(y_test, model_simp.predict(X_test_simp))"
   ]
  },
  {
   "cell_type": "markdown",
   "id": "bdb5208a",
   "metadata": {},
   "source": [
    "## Part 4"
   ]
  },
  {
   "cell_type": "code",
   "execution_count": 12,
   "id": "7af55b3c",
   "metadata": {},
   "outputs": [],
   "source": [
    "from dalex.fairness import reweight\n",
    "from copy import copy\n",
    "\n",
    "protected_variable_train = X_train.gender\n",
    "\n",
    "# reweight\n",
    "sample_weight = reweight(\n",
    "    protected_variable_train, \n",
    "    y_train, \n",
    "    verbose=False\n",
    ")\n",
    "model_reweight = copy(model_simp)\n",
    "model_reweight.fit(X_train, y_train, sample_weight=sample_weight)\n",
    "explainer_reweight = dx.Explainer(\n",
    "    model_reweight, \n",
    "    X_test, \n",
    "    y_test, \n",
    "    label='XGBClassifier with Reweight',\n",
    "    verbose=False\n",
    ")\n",
    "fobject_reweight = explainer_reweight.model_fairness(\n",
    "    protected_variable, \n",
    "    privileged_group\n",
    ")\n",
    "\n",
    "def part4():\n",
    "    return fobject_reweight.fairness_check()"
   ]
  },
  {
   "cell_type": "markdown",
   "id": "d09c2237",
   "metadata": {},
   "source": [
    "## Part 5"
   ]
  },
  {
   "cell_type": "code",
   "execution_count": 13,
   "id": "6d71726f",
   "metadata": {},
   "outputs": [],
   "source": [
    "def part5():\n",
    "    model_stats = pd.concat([\n",
    "        explainer.model_performance().result, \n",
    "        explanation_simp.model_performance().result,\n",
    "        explainer_reweight.model_performance().result,\n",
    "    ], axis=0)\n",
    "    return model_stats, fobject.plot([fobject_simp, fobject_reweight], show=False).\\\n",
    "    update_layout(autosize=False, width=800, height=450, legend=dict(yanchor=\"bottom\", y=1, xanchor=\"left\", x=1))"
   ]
  }
 ],
 "metadata": {
  "kernelspec": {
   "display_name": "Python 3 (ipykernel)",
   "language": "python",
   "name": "python3"
  },
  "language_info": {
   "codemirror_mode": {
    "name": "ipython",
    "version": 3
   },
   "file_extension": ".py",
   "mimetype": "text/x-python",
   "name": "python",
   "nbconvert_exporter": "python",
   "pygments_lexer": "ipython3",
   "version": "3.10.6"
  }
 },
 "nbformat": 4,
 "nbformat_minor": 5
}
