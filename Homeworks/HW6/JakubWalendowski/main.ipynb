{
 "cells": [
  {
   "cell_type": "markdown",
   "metadata": {},
   "source": [
    "# Fairness statistics\n"
   ]
  },
  {
   "cell_type": "markdown",
   "source": [
    "## Task 1"
   ],
   "metadata": {
    "collapsed": false
   }
  },
  {
   "cell_type": "markdown",
   "source": [
    "$Y$ - true class (will use XAI)\n",
    "$\\hat{Y}$ - decision (enrolled in training)\n",
    "$A$ - protected attribute (populations Blue or Red)\n",
    "$P(\\hat{Y}|A=Blue)=0.65$\n",
    "$P(\\hat{Y}|A=Red)=0.5$\n",
    "Demographic parity = $\\frac{P(\\hat{Y}|A=Blue)}{P(\\hat{Y}|A=Red)}=\\frac{0.65}{0.5}=130\\%$\n",
    "$P(\\hat{Y}|A=Blue, Y=1)=0.75$\n",
    "$P(\\hat{Y}|A=Red, Y=1)=0.5$\n",
    "Equal opportunity = $\\frac{P(\\hat{Y}|A=Blue, Y=1)}{P(\\hat{Y}|A=Red, Y=1)}=\\frac{0.75}{0.5}=150\\%$\n",
    "$P(Y|A=Blue, \\hat{Y}=1)=\\frac{60}{65}$\n",
    "$P(Y|A=Red, \\hat{Y}=1)=0.5$\n",
    "Predictive rate parity = $\\frac{P(Y|A=Blue, \\hat{Y}=1)}{P(Y|A=Red, \\hat{Y}=1)}=\\frac{120}{65}\\approx 185\\%$"
   ],
   "metadata": {
    "collapsed": false
   }
  },
  {
   "cell_type": "markdown",
   "metadata": {},
   "source": [
    "## Task 2"
   ]
  },
  {
   "cell_type": "markdown",
   "source": [
    "### 1. Train a model for the selected dataset."
   ],
   "metadata": {
    "collapsed": false
   }
  },
  {
   "cell_type": "code",
   "execution_count": 186,
   "metadata": {},
   "outputs": [
    {
     "name": "stdout",
     "output_type": "stream",
     "text": [
      "<class 'pandas.core.frame.DataFrame'>\n",
      "RangeIndex: 150000 entries, 0 to 149999\n",
      "Data columns (total 12 columns):\n",
      " #   Column                                Non-Null Count   Dtype  \n",
      "---  ------                                --------------   -----  \n",
      " 0   Unnamed: 0                            150000 non-null  int64  \n",
      " 1   SeriousDlqin2yrs                      150000 non-null  int64  \n",
      " 2   RevolvingUtilizationOfUnsecuredLines  150000 non-null  float64\n",
      " 3   age                                   150000 non-null  int64  \n",
      " 4   NumberOfTime30-59DaysPastDueNotWorse  150000 non-null  int64  \n",
      " 5   DebtRatio                             150000 non-null  float64\n",
      " 6   MonthlyIncome                         120269 non-null  float64\n",
      " 7   NumberOfOpenCreditLinesAndLoans       150000 non-null  int64  \n",
      " 8   NumberOfTimes90DaysLate               150000 non-null  int64  \n",
      " 9   NumberRealEstateLoansOrLines          150000 non-null  int64  \n",
      " 10  NumberOfTime60-89DaysPastDueNotWorse  150000 non-null  int64  \n",
      " 11  NumberOfDependents                    146076 non-null  float64\n",
      "dtypes: float64(4), int64(8)\n",
      "memory usage: 13.7 MB\n",
      "None\n",
      "          Unnamed: 0  SeriousDlqin2yrs  RevolvingUtilizationOfUnsecuredLines  \\\n",
      "count  150000.000000     150000.000000                         150000.000000   \n",
      "mean    75000.500000          0.066840                              6.048438   \n",
      "std     43301.414527          0.249746                            249.755371   \n",
      "min         1.000000          0.000000                              0.000000   \n",
      "25%     37500.750000          0.000000                              0.029867   \n",
      "50%     75000.500000          0.000000                              0.154181   \n",
      "75%    112500.250000          0.000000                              0.559046   \n",
      "max    150000.000000          1.000000                          50708.000000   \n",
      "\n",
      "                 age  NumberOfTime30-59DaysPastDueNotWorse      DebtRatio  \\\n",
      "count  150000.000000                         150000.000000  150000.000000   \n",
      "mean       52.295207                              0.421033     353.005076   \n",
      "std        14.771866                              4.192781    2037.818523   \n",
      "min         0.000000                              0.000000       0.000000   \n",
      "25%        41.000000                              0.000000       0.175074   \n",
      "50%        52.000000                              0.000000       0.366508   \n",
      "75%        63.000000                              0.000000       0.868254   \n",
      "max       109.000000                             98.000000  329664.000000   \n",
      "\n",
      "       MonthlyIncome  NumberOfOpenCreditLinesAndLoans  \\\n",
      "count   1.202690e+05                    150000.000000   \n",
      "mean    6.670221e+03                         8.452760   \n",
      "std     1.438467e+04                         5.145951   \n",
      "min     0.000000e+00                         0.000000   \n",
      "25%     3.400000e+03                         5.000000   \n",
      "50%     5.400000e+03                         8.000000   \n",
      "75%     8.249000e+03                        11.000000   \n",
      "max     3.008750e+06                        58.000000   \n",
      "\n",
      "       NumberOfTimes90DaysLate  NumberRealEstateLoansOrLines  \\\n",
      "count            150000.000000                 150000.000000   \n",
      "mean                  0.265973                      1.018240   \n",
      "std                   4.169304                      1.129771   \n",
      "min                   0.000000                      0.000000   \n",
      "25%                   0.000000                      0.000000   \n",
      "50%                   0.000000                      1.000000   \n",
      "75%                   0.000000                      2.000000   \n",
      "max                  98.000000                     54.000000   \n",
      "\n",
      "       NumberOfTime60-89DaysPastDueNotWorse  NumberOfDependents  \n",
      "count                         150000.000000       146076.000000  \n",
      "mean                               0.240387            0.757222  \n",
      "std                                4.155179            1.115086  \n",
      "min                                0.000000            0.000000  \n",
      "25%                                0.000000            0.000000  \n",
      "50%                                0.000000            0.000000  \n",
      "75%                                0.000000            1.000000  \n",
      "max                               98.000000           20.000000  \n"
     ]
    }
   ],
   "source": [
    "import pandas as pd\n",
    "import seaborn as sns\n",
    "import numpy as np\n",
    "\n",
    "df = pd.read_csv('input/cs-training.csv')\n",
    "print(df.info())\n",
    "print(df.describe())"
   ]
  },
  {
   "cell_type": "markdown",
   "source": [
    "I have decided to remove the information about the credit history of customers, as we do not have such a history for new customers."
   ],
   "metadata": {
    "collapsed": false
   }
  },
  {
   "cell_type": "code",
   "execution_count": 187,
   "outputs": [],
   "source": [
    "df.drop(df.columns[[4,8, 10]], axis=1, inplace=True)"
   ],
   "metadata": {
    "collapsed": false
   }
  },
  {
   "cell_type": "markdown",
   "source": [
    "For 2 percent of the data, the RevolvingUtilizationOfUnsecuredLines values are greater than 1, they look incorrect, so I filled them according to the distribution of the data"
   ],
   "metadata": {
    "collapsed": false
   }
  },
  {
   "cell_type": "code",
   "execution_count": 188,
   "outputs": [
    {
     "name": "stdout",
     "output_type": "stream",
     "text": [
      "3321\n"
     ]
    },
    {
     "data": {
      "text/plain": "count    150000.000000\nmean          0.303669\nstd           0.337852\nmin           0.000000\n25%           0.028578\n50%           0.144257\n75%           0.520104\nmax           1.000000\nName: RevolvingUtilizationOfUnsecuredLines, dtype: float64"
     },
     "execution_count": 188,
     "metadata": {},
     "output_type": "execute_result"
    }
   ],
   "source": [
    "print(len(df[(df['RevolvingUtilizationOfUnsecuredLines']>1)]))\n",
    "\n",
    "df.loc[df['RevolvingUtilizationOfUnsecuredLines'] > 1, 'RevolvingUtilizationOfUnsecuredLines'] = np.NaN\n",
    "df['RevolvingUtilizationOfUnsecuredLines'].fillna(method='ffill', inplace=True)\n",
    "df['RevolvingUtilizationOfUnsecuredLines'].describe()"
   ],
   "metadata": {
    "collapsed": false
   }
  },
  {
   "cell_type": "markdown",
   "source": [
    "I cut the tails off in the age distribution because they were negligible cases."
   ],
   "metadata": {
    "collapsed": false
   }
  },
  {
   "cell_type": "code",
   "execution_count": 189,
   "outputs": [
    {
     "name": "stdout",
     "output_type": "stream",
     "text": [
      "count    150000.000000\n",
      "mean         52.295207\n",
      "std          14.771866\n",
      "min           0.000000\n",
      "25%          41.000000\n",
      "50%          52.000000\n",
      "75%          63.000000\n",
      "max         109.000000\n",
      "Name: age, dtype: float64\n"
     ]
    },
    {
     "data": {
      "text/plain": "<Figure size 432x288 with 1 Axes>",
      "image/png": "[encoded data removed]"
     },
     "metadata": {
      "needs_background": "light"
     },
     "output_type": "display_data"
    }
   ],
   "source": [
    "print(df['age'].describe())\n",
    "sns.histplot(df['age'])\n",
    "df.loc[df['age']>80, 'age']=80\n",
    "df.loc[df['age']<18, 'age']=18"
   ],
   "metadata": {
    "collapsed": false
   }
  },
  {
   "cell_type": "markdown",
   "source": [],
   "metadata": {
    "collapsed": false
   }
  },
  {
   "cell_type": "code",
   "execution_count": 190,
   "outputs": [
    {
     "name": "stdout",
     "output_type": "stream",
     "text": [
      "35137\n"
     ]
    },
    {
     "data": {
      "text/plain": "count    150000.000000\nmean          0.303109\nstd           0.226290\nmin           0.000000\n25%           0.126122\n50%           0.274252\n75%           0.438325\nmax           1.000000\nName: DebtRatio, dtype: float64"
     },
     "execution_count": 190,
     "metadata": {},
     "output_type": "execute_result"
    }
   ],
   "source": [
    "print(len(df[(df['DebtRatio']>1)]))\n",
    "df.loc[df['DebtRatio'] > 1, 'DebtRatio'] = np.NaN\n",
    "df['DebtRatio'].fillna(method='ffill', inplace=True)\n",
    "df['DebtRatio'].describe()"
   ],
   "metadata": {
    "collapsed": false
   }
  },
  {
   "cell_type": "markdown",
   "source": [
    "I cut the tails off higher than 30 in the NumberOfOpenCreditLinesAndLoans distribution because they were negligible cases."
   ],
   "metadata": {
    "collapsed": false
   }
  },
  {
   "cell_type": "code",
   "execution_count": 191,
   "outputs": [
    {
     "name": "stdout",
     "output_type": "stream",
     "text": [
      "count    150000.000000\n",
      "mean          8.452760\n",
      "std           5.145951\n",
      "min           0.000000\n",
      "25%           5.000000\n",
      "50%           8.000000\n",
      "75%          11.000000\n",
      "max          58.000000\n",
      "Name: NumberOfOpenCreditLinesAndLoans, dtype: float64\n",
      "354\n"
     ]
    },
    {
     "data": {
      "text/plain": "<AxesSubplot:xlabel='NumberOfOpenCreditLinesAndLoans', ylabel='Count'>"
     },
     "execution_count": 191,
     "metadata": {},
     "output_type": "execute_result"
    },
    {
     "data": {
      "text/plain": "<Figure size 432x288 with 1 Axes>",
      "image/png": "[encoded data removed]"
     },
     "metadata": {
      "needs_background": "light"
     },
     "output_type": "display_data"
    }
   ],
   "source": [
    "print(df['NumberOfOpenCreditLinesAndLoans'].describe())\n",
    "sns.histplot(df['NumberOfOpenCreditLinesAndLoans'])\n",
    "print(len(df[(df['NumberOfOpenCreditLinesAndLoans']>30)]))\n",
    "df.loc[df['NumberOfOpenCreditLinesAndLoans']>30, 'NumberOfOpenCreditLinesAndLoans']=30\n",
    "sns.histplot(df['NumberOfOpenCreditLinesAndLoans'])"
   ],
   "metadata": {
    "collapsed": false
   }
  },
  {
   "cell_type": "markdown",
   "source": [
    "I cut the tails off MonthlyIncome distribution because they were negligible cases and fill Nan values according to the distribution of the data."
   ],
   "metadata": {
    "collapsed": false
   }
  },
  {
   "cell_type": "code",
   "execution_count": 192,
   "outputs": [
    {
     "name": "stdout",
     "output_type": "stream",
     "text": [
      "count    1.202690e+05\n",
      "mean     6.670221e+03\n",
      "std      1.438467e+04\n",
      "min      0.000000e+00\n",
      "25%      3.400000e+03\n",
      "50%      5.400000e+03\n",
      "75%      8.249000e+03\n",
      "max      3.008750e+06\n",
      "Name: MonthlyIncome, dtype: float64\n",
      "1168\n",
      "4428\n"
     ]
    },
    {
     "data": {
      "text/plain": "<AxesSubplot:xlabel='MonthlyIncome', ylabel='Count'>"
     },
     "execution_count": 192,
     "metadata": {},
     "output_type": "execute_result"
    },
    {
     "data": {
      "text/plain": "<Figure size 432x288 with 1 Axes>",
      "image/png": "[encoded data removed]"
     },
     "metadata": {
      "needs_background": "light"
     },
     "output_type": "display_data"
    }
   ],
   "source": [
    "print(df['MonthlyIncome'].describe())\n",
    "print(len(df[(df['MonthlyIncome']>25000)]))\n",
    "print(len(df[(df['MonthlyIncome']<1000)]))\n",
    "df.loc[df['MonthlyIncome']<1000, 'MonthlyIncome'] = 1000\n",
    "df.loc[df['MonthlyIncome']>25000, 'MonthlyIncome'] = 25000\n",
    "df['MonthlyIncome'].fillna(method='ffill', inplace=True)\n",
    "sns.histplot(df['MonthlyIncome'])"
   ],
   "metadata": {
    "collapsed": false
   }
  },
  {
   "cell_type": "markdown",
   "source": [
    "I cut the tails off NumberRealEstateLoansOrLines because they were negligible cases."
   ],
   "metadata": {
    "collapsed": false
   }
  },
  {
   "cell_type": "code",
   "execution_count": 193,
   "outputs": [
    {
     "name": "stdout",
     "output_type": "stream",
     "text": [
      "793\n"
     ]
    },
    {
     "data": {
      "text/plain": "<AxesSubplot:xlabel='NumberRealEstateLoansOrLines', ylabel='Count'>"
     },
     "execution_count": 193,
     "metadata": {},
     "output_type": "execute_result"
    },
    {
     "data": {
      "text/plain": "<Figure size 432x288 with 1 Axes>",
      "image/png": "[encoded data removed]"
     },
     "metadata": {
      "needs_background": "light"
     },
     "output_type": "display_data"
    }
   ],
   "source": [
    "df['NumberRealEstateLoansOrLines'].describe()\n",
    "print(len(df[(df['NumberRealEstateLoansOrLines']>5)]))\n",
    "df.loc[df['NumberRealEstateLoansOrLines']>5, 'NumberRealEstateLoansOrLines'] = 5\n",
    "sns.histplot(df['NumberRealEstateLoansOrLines'])"
   ],
   "metadata": {
    "collapsed": false
   }
  },
  {
   "cell_type": "markdown",
   "source": [
    "I cut the tails off NumberOfDependents because they were negligible cases."
   ],
   "metadata": {
    "collapsed": false
   }
  },
  {
   "cell_type": "code",
   "execution_count": 194,
   "outputs": [
    {
     "name": "stdout",
     "output_type": "stream",
     "text": [
      "245\n"
     ]
    },
    {
     "data": {
      "text/plain": "<AxesSubplot:xlabel='NumberOfDependents', ylabel='Count'>"
     },
     "execution_count": 194,
     "metadata": {},
     "output_type": "execute_result"
    },
    {
     "data": {
      "text/plain": "<Figure size 432x288 with 1 Axes>",
      "image/png": "[encoded data removed]"
     },
     "metadata": {
      "needs_background": "light"
     },
     "output_type": "display_data"
    }
   ],
   "source": [
    "df['NumberOfDependents'].describe()\n",
    "df['NumberOfDependents'].fillna(value = 0, inplace=True)\n",
    "print(len(df[(df['NumberOfDependents']>5)]))\n",
    "df.loc[df['NumberOfDependents']>5, 'NumberOfDependents'] = 5\n",
    "sns.histplot(df['NumberOfDependents'])"
   ],
   "metadata": {
    "collapsed": false
   }
  },
  {
   "cell_type": "markdown",
   "source": [
    "The data is very unbalanced. This will have to be taken into account when training the model. To deal with this problem I will use oversampling technic."
   ],
   "metadata": {
    "collapsed": false
   }
  },
  {
   "cell_type": "code",
   "execution_count": 195,
   "outputs": [
    {
     "data": {
      "text/plain": "<AxesSubplot:xlabel='SeriousDlqin2yrs', ylabel='Count'>"
     },
     "execution_count": 195,
     "metadata": {},
     "output_type": "execute_result"
    },
    {
     "data": {
      "text/plain": "<Figure size 432x288 with 1 Axes>",
      "image/png": "[encoded data removed]"
     },
     "metadata": {
      "needs_background": "light"
     },
     "output_type": "display_data"
    }
   ],
   "source": [
    "sns.histplot(df['SeriousDlqin2yrs'])"
   ],
   "metadata": {
    "collapsed": false
   }
  },
  {
   "cell_type": "code",
   "execution_count": 196,
   "outputs": [
    {
     "name": "stdout",
     "output_type": "stream",
     "text": [
      "              precision    recall  f1-score   support\n",
      "\n",
      "           0       0.96      0.74      0.84     34958\n",
      "           1       0.14      0.56      0.22      2542\n",
      "\n",
      "    accuracy                           0.73     37500\n",
      "   macro avg       0.55      0.65      0.53     37500\n",
      "weighted avg       0.90      0.73      0.80     37500\n",
      "\n",
      "              precision    recall  f1-score   support\n",
      "\n",
      "           0       0.80      0.74      0.77    105016\n",
      "           1       0.76      0.81      0.78    105016\n",
      "\n",
      "    accuracy                           0.78    210032\n",
      "   macro avg       0.78      0.78      0.78    210032\n",
      "weighted avg       0.78      0.78      0.78    210032\n",
      "\n"
     ]
    }
   ],
   "source": [
    "from imblearn.over_sampling import SMOTE\n",
    "from sklearn.model_selection import train_test_split\n",
    "from sklearn.metrics import classification_report\n",
    "\n",
    "X = df.drop(\"SeriousDlqin2yrs\", axis=1)\n",
    "y = df[\"SeriousDlqin2yrs\"]\n",
    "X_train, X_test, y_train, y_test = train_test_split(X, y, shuffle=True, random_state=5)\n",
    "\n",
    "oversample = SMOTE()\n",
    "X_train, y_train = oversample.fit_resample(X_train, y_train)\n",
    "from sklearn.ensemble import RandomForestClassifier\n",
    "rfc = RandomForestClassifier(max_depth=4, random_state=0)\n",
    "rfc.fit(X_train, y_train)\n",
    "\n",
    "y_pred = rfc.predict(X_test)\n",
    "y_pred_train = rfc.predict(X_train)\n",
    "print(classification_report(y_test, y_pred))\n",
    "print(classification_report(y_train, y_pred_train))"
   ],
   "metadata": {
    "collapsed": false
   }
  },
  {
   "cell_type": "markdown",
   "source": [
    "### 2. For the selected protected attribute (age, gender, race) calculate the following fairness coefficients: Statistical parity, Equal opportunity, Predictive parity."
   ],
   "metadata": {
    "collapsed": false
   }
  },
  {
   "cell_type": "code",
   "execution_count": 219,
   "outputs": [
    {
     "name": "stderr",
     "output_type": "stream",
     "text": [
      "/usr/local/lib/python3.9/site-packages/sklearn/base.py:450: UserWarning: X does not have valid feature names, but RandomForestClassifier was fitted with feature names\n",
      "  warnings.warn(\n"
     ]
    },
    {
     "name": "stdout",
     "output_type": "stream",
     "text": [
      "Bias detected in 5 metrics: TPR, ACC, PPV, FPR, STP\n",
      "\n",
      "Conclusion: your model is not fair because 2 or more criteria exceeded acceptable limits set by epsilon.\n",
      "\n",
      "Ratios of metrics, based on '0.0'. Parameter 'epsilon' was set to 0.8 and therefore metrics should be within (0.8, 1.25)\n",
      "          TPR       ACC       PPV       FPR       STP\n",
      "1.0  1.871795  0.729017  0.793548  2.913043  2.777778\n",
      "2.0  2.071795  0.659472  0.819355  3.420290  3.254902\n",
      "3.0  1.920513  0.645084  0.870968  3.507246  3.320261\n",
      "4.0  2.112821  0.635492  1.019355  3.652174  3.509804\n",
      "5.0  2.135897  0.630695  0.851613  3.644928  3.464052\n"
     ]
    }
   ],
   "source": [
    "import dalex as dx\n",
    "\n",
    "explainer_rfc = dx.Explainer(rfc, X_test, y_test, verbose=False)\n",
    "protected_variable = X_test.NumberOfDependents\n",
    "privileged_group = 0.0\n",
    "\n",
    "fobject = explainer_rfc.model_fairness(\n",
    "    protected=protected_variable,\n",
    "    privileged=privileged_group,\n",
    ")\n",
    "fobject.fairness_check(verbose=False)"
   ],
   "metadata": {
    "collapsed": false
   }
  },
  {
   "cell_type": "markdown",
   "source": [
    "For NumberOfDependents Positive predictive value metric seems to be good comparing a sample of 0 dependent people to any quantity greater than 0.\n",
    "While Equal Opportunity (TPR) is worse, even bad, and Statistical parity is very bad"
   ],
   "metadata": {
    "collapsed": false
   }
  },
  {
   "cell_type": "markdown",
   "source": [
    "### 3. Train another model (different hyperparameters, feature transformations etc.) and see how the coefficients Statistical parity, Equal opportunity, Predictive parity behave for it."
   ],
   "metadata": {
    "collapsed": false
   }
  },
  {
   "cell_type": "code",
   "execution_count": 198,
   "outputs": [
    {
     "name": "stdout",
     "output_type": "stream",
     "text": [
      "              precision    recall  f1-score   support\n",
      "\n",
      "           0       0.96      0.81      0.88     34958\n",
      "           1       0.15      0.49      0.23      2542\n",
      "\n",
      "    accuracy                           0.79     37500\n",
      "   macro avg       0.56      0.65      0.56     37500\n",
      "weighted avg       0.90      0.79      0.83     37500\n",
      "\n",
      "              precision    recall  f1-score   support\n",
      "\n",
      "           0       0.84      0.81      0.82    105016\n",
      "           1       0.82      0.84      0.83    105016\n",
      "\n",
      "    accuracy                           0.83    210032\n",
      "   macro avg       0.83      0.83      0.83    210032\n",
      "weighted avg       0.83      0.83      0.83    210032\n",
      "\n"
     ]
    },
    {
     "name": "stderr",
     "output_type": "stream",
     "text": [
      "/usr/local/lib/python3.9/site-packages/sklearn/base.py:450: UserWarning: X does not have valid feature names, but RandomForestClassifier was fitted with feature names\n",
      "  warnings.warn(\n"
     ]
    },
    {
     "name": "stdout",
     "output_type": "stream",
     "text": [
      "Bias detected in 4 metrics: TPR, ACC, FPR, STP\n",
      "\n",
      "Conclusion: your model is not fair because 2 or more criteria exceeded acceptable limits set by epsilon.\n",
      "\n",
      "Ratios of metrics, based on '0.0'. Parameter 'epsilon' was set to 0.8 and therefore metrics should be within (0.8, 1.25)\n",
      "          TPR       ACC      PPV       FPR       STP\n",
      "1.0  1.130653  0.944976  0.98750  1.362963  1.344371\n",
      "2.0  1.670854  0.778708  0.86875  2.592593  2.483444\n",
      "3.0  1.668342  0.747608  0.93750  2.807407  2.682119\n",
      "4.0  2.070352  0.758373  1.22500  2.874074  2.867550\n",
      "5.0  1.814070  0.734450  0.89375  2.933333  2.801325\n"
     ]
    }
   ],
   "source": [
    "deeper_rfc = RandomForestClassifier(max_depth=10, random_state=0)\n",
    "deeper_rfc.fit(X_train, y_train)\n",
    "\n",
    "y_pred = deeper_rfc.predict(X_test)\n",
    "y_pred_train = deeper_rfc.predict(X_train)\n",
    "print(classification_report(y_test, y_pred))\n",
    "print(classification_report(y_train, y_pred_train))\n",
    "\n",
    "explainer_deeper_rfc = dx.Explainer(deeper_rfc, X_test, y_test, verbose=False)\n",
    "\n",
    "fobject = explainer_deeper_rfc.model_fairness(\n",
    "    protected=protected_variable,\n",
    "    privileged=privileged_group,\n",
    ")\n",
    "fobject.fairness_check()"
   ],
   "metadata": {
    "collapsed": false
   }
  },
  {
   "cell_type": "markdown",
   "source": [
    "Fairlness results are similar to the previous model, but there is an improvement."
   ],
   "metadata": {
    "collapsed": false
   }
  },
  {
   "cell_type": "markdown",
   "metadata": {},
   "source": [
    "### 4. Apply the selected bias mitigation technique on the first model. Check how Statistical parity, Equal opportunity, Predictive parity coefficients behave after this correction."
   ]
  },
  {
   "cell_type": "code",
   "execution_count": 217,
   "metadata": {},
   "outputs": [
    {
     "name": "stdout",
     "output_type": "stream",
     "text": [
      "Parameter 'y' was a pandas.Series. Converted to a numpy.ndarray.\n",
      "protected Series will be converted to np.ndarray\n",
      "protected array is not string type, converting to string \n"
     ]
    },
    {
     "name": "stderr",
     "output_type": "stream",
     "text": [
      "/usr/local/lib/python3.9/site-packages/dalex/fairness/_group_fairness/mitigation.py:58: RuntimeWarning: divide by zero encountered in long_scalars\n",
      "  Wsc = (Xs * Xc) / (len(y) * Xsc)\n"
     ]
    },
    {
     "name": "stdout",
     "output_type": "stream",
     "text": [
      "              precision    recall  f1-score   support\n",
      "\n",
      "           0       0.97      0.60      0.74     34958\n",
      "           1       0.12      0.77      0.21      2542\n",
      "\n",
      "    accuracy                           0.61     37500\n",
      "   macro avg       0.55      0.68      0.48     37500\n",
      "weighted avg       0.91      0.61      0.71     37500\n",
      "\n",
      "              precision    recall  f1-score   support\n",
      "\n",
      "           0       0.87      0.60      0.71    105016\n",
      "           1       0.70      0.91      0.79    105016\n",
      "\n",
      "    accuracy                           0.75    210032\n",
      "   macro avg       0.78      0.75      0.75    210032\n",
      "weighted avg       0.78      0.75      0.75    210032\n",
      "\n"
     ]
    },
    {
     "name": "stderr",
     "output_type": "stream",
     "text": [
      "/usr/local/lib/python3.9/site-packages/sklearn/base.py:450: UserWarning: X does not have valid feature names, but RandomForestClassifier was fitted with feature names\n",
      "  warnings.warn(\n"
     ]
    },
    {
     "name": "stdout",
     "output_type": "stream",
     "text": [
      "Bias detected in 4 metrics: TPR, ACC, FPR, STP\n",
      "\n",
      "Conclusion: your model is not fair because 2 or more criteria exceeded acceptable limits set by epsilon.\n",
      "\n",
      "Ratios of metrics, based on '0.0'. Parameter 'epsilon' was set to 0.8 and therefore metrics should be within (0.8, 1.25)\n",
      "          TPR       ACC      PPV       FPR       STP\n",
      "1.0  1.130653  0.944976  0.98750  1.362963  1.344371\n",
      "2.0  1.670854  0.778708  0.86875  2.592593  2.483444\n",
      "3.0  1.668342  0.747608  0.93750  2.807407  2.682119\n",
      "4.0  2.070352  0.758373  1.22500  2.874074  2.867550\n",
      "5.0  1.814070  0.734450  0.89375  2.933333  2.801325\n"
     ]
    }
   ],
   "source": [
    "from dalex.fairness import reweight\n",
    "from copy import copy\n",
    "\n",
    "protected_variable_train = X_train.NumberOfDependents\n",
    "sample_weight = reweight(\n",
    "    protected_variable_train,\n",
    "    y_train,\n",
    "    verbose=True\n",
    ")\n",
    "\n",
    "rfc_reweight = copy(rfc)\n",
    "rfc_reweight.fit(X_train, y_train, sample_weight=sample_weight)\n",
    "\n",
    "y_pred = rfc_reweight.predict(X_test)\n",
    "y_pred_train = rfc_reweight.predict(X_train)\n",
    "print(classification_report(y_test, y_pred))\n",
    "print(classification_report(y_train, y_pred_train))\n",
    "explainer_reweight = dx.Explainer(\n",
    "    rfc_reweight,\n",
    "    X_test,\n",
    "    y_test,\n",
    "    label='RandomForestClassifier with reweight',\n",
    "    verbose=False\n",
    ")\n",
    "fobject_reweight = explainer_reweight.model_fairness(\n",
    "    protected_variable,\n",
    "    privileged_group\n",
    ")\n",
    "fobject.fairness_check()"
   ]
  },
  {
   "cell_type": "markdown",
   "source": [
    "The fairness scores are even better, albeit slightly, than the previous model, while the efficiency has decreased significantly."
   ],
   "metadata": {
    "collapsed": false
   }
  },
  {
   "cell_type": "markdown",
   "metadata": {},
   "source": [
    "### 5. Compare the quality (performance) of the three models with their fairness coefficients. Is there any correlation?"
   ]
  },
  {
   "cell_type": "code",
   "execution_count": 218,
   "outputs": [
    {
     "data": {
      "text/plain": "                                        recall  precision        f1  accuracy  \\\nRandomForestClassifier                0.562156   0.137430  0.220866  0.731147   \nRandomForestClassifier                0.485051   0.154802  0.234701  0.785573   \nRandomForestClassifier with reweight  0.765932   0.122384  0.211045  0.611813   \n\n                                           auc  \nRandomForestClassifier                0.722880  \nRandomForestClassifier                0.728079  \nRandomForestClassifier with reweight  0.729651  ",
      "text/html": "<div>\n<style scoped>\n    .dataframe tbody tr th:only-of-type {\n        vertical-align: middle;\n    }\n\n    .dataframe tbody tr th {\n        vertical-align: top;\n    }\n\n    .dataframe thead th {\n        text-align: right;\n    }\n</style>\n<table border=\"1\" class=\"dataframe\">\n  <thead>\n    <tr style=\"text-align: right;\">\n      <th></th>\n      <th>recall</th>\n      <th>precision</th>\n      <th>f1</th>\n      <th>accuracy</th>\n      <th>auc</th>\n    </tr>\n  </thead>\n  <tbody>\n    <tr>\n      <th>RandomForestClassifier</th>\n      <td>0.562156</td>\n      <td>0.137430</td>\n      <td>0.220866</td>\n      <td>0.731147</td>\n      <td>0.722880</td>\n    </tr>\n    <tr>\n      <th>RandomForestClassifier</th>\n      <td>0.485051</td>\n      <td>0.154802</td>\n      <td>0.234701</td>\n      <td>0.785573</td>\n      <td>0.728079</td>\n    </tr>\n    <tr>\n      <th>RandomForestClassifier with reweight</th>\n      <td>0.765932</td>\n      <td>0.122384</td>\n      <td>0.211045</td>\n      <td>0.611813</td>\n      <td>0.729651</td>\n    </tr>\n  </tbody>\n</table>\n</div>"
     },
     "execution_count": 218,
     "metadata": {},
     "output_type": "execute_result"
    }
   ],
   "source": [
    "pd.concat([\n",
    "        explainer_rfc.model_performance().result,\n",
    "        explainer_deeper_rfc.model_performance().result,\n",
    "        explainer_reweight.model_performance().result,\n",
    "    ], axis=0)"
   ],
   "metadata": {
    "collapsed": false
   }
  },
  {
   "cell_type": "markdown",
   "source": [
    "A better model (deeper random forest) also turned out to be fairer for NumberOfDependents. However, when I tried to force the model to be more honest by reweight technic, the effectiveness decreased."
   ],
   "metadata": {
    "collapsed": false
   }
  },
  {
   "cell_type": "markdown",
   "source": [],
   "metadata": {
    "collapsed": false
   }
  }
 ],
 "metadata": {
  "kernelspec": {
   "display_name": "Python 3 (ipykernel)",
   "language": "python",
   "name": "python3"
  },
  "language_info": {
   "codemirror_mode": {
    "name": "ipython",
    "version": 3
   },
   "file_extension": ".py",
   "mimetype": "text/x-python",
   "name": "python",
   "nbconvert_exporter": "python",
   "pygments_lexer": "ipython3",
   "version": "3.9.15"
  }
 },
 "nbformat": 4,
 "nbformat_minor": 1
}
