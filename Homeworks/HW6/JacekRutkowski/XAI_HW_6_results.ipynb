{
 "cells": [
  {
   "cell_type": "markdown",
   "metadata": {},
   "source": [
    "2. I calculated here Statistical parity, Equal opportunity, Predictive parity of the XGBoost model for the age attribute. I considered class 'pensioner' as privileged as opposed to the class 'adult' containing people of the age smaller than 70. Big equal opportunity score indicates that an old person to whom a credit is given has high probability to pay it. It may follow from the stability of the elder people's life. Predictive parity ratio is about 1 which means that true class does not depend on the age attribute given predicted class. The biggest ratio is Statistical parity ratio which indicates that the score of the model is highly dependent on the age.\n",
    "\n",
    "\n",
    "![](plots/p1.png)"
   ]
  },
  {
   "cell_type": "markdown",
   "metadata": {},
   "source": [
    "3. Statistical parity, Equal opportunity, Predictive parity for Decision Tree Classifier. The results are quite similar as for the XGBoost model except Predictive parity ratio. Whereas for XGBoost model it was close to 1 indicating the fairness of the model, for Decision Tree Classifier it is about 2. It means that the fraction of pensioners who get the credit when they will pay it is bigger than the fraction of younger adults who will get the credit supposed that they will pay it. Pensioners who pay will more often get credit and the same holds for those pensioners who will not pay.\n",
    "\n",
    "![](plots/p2.png)"
   ]
  },
  {
   "cell_type": "markdown",
   "metadata": {},
   "source": [
    "4. Statistical parity, Equal opportunity, Predictive parity after bias mitigation. It turned out that mitigation did not improve the fairness and even made considerably worse the predictive equality ratio. It means that after the mitigation even more old people who will not pay their credit will get it.\n",
    "\n",
    "![](plots/p3.png)"
   ]
  },
  {
   "cell_type": "markdown",
   "metadata": {},
   "source": [
    "5.  Quality of the three models. In terms of accuracy all the three models are almost the same. The metric which differs at most is recall which is significantly worse for Decision Tree Classifier. The mitigation, rather than increasing the fairness of the model, increased recall and f1 metrics by a few percentage points.\n",
    "\n",
    "![](plots/p4.png)"
   ]
  }
 ],
 "metadata": {
  "kernelspec": {
   "display_name": "Python 3.7.6 ('xai_env': venv)",
   "language": "python",
   "name": "python3"
  },
  "language_info": {
   "name": "python",
   "version": "3.7.6 (default, Jan  8 2020, 19:59:22) \n[GCC 7.3.0]"
  },
  "orig_nbformat": 4,
  "vscode": {
   "interpreter": {
    "hash": "af6808631b646a2ea9f8520b5c8cf5ced62fc365bea1d03b49f21ebd9b9b925b"
   }
  }
 },
 "nbformat": 4,
 "nbformat_minor": 2
}
