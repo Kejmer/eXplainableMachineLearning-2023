{
 "cells": [
  {
   "cell_type": "code",
   "execution_count": 232,
   "metadata": {},
   "outputs": [],
   "source": [
    "import dalex as dx\n",
    "import xgboost\n",
    "import shap\n",
    "\n",
    "import sklearn\n",
    "\n",
    "import pandas as pd\n",
    "import numpy as np\n",
    "\n",
    "import warnings\n",
    "warnings.filterwarnings(\"ignore\")\n",
    "import os\n",
    "\n",
    "if not os.path.exists(\"plots\"):\n",
    "    os.mkdir(\"plots\")"
   ]
  },
  {
   "cell_type": "markdown",
   "metadata": {},
   "source": [
    "1. Load and preprocess data"
   ]
  },
  {
   "cell_type": "code",
   "execution_count": 233,
   "metadata": {},
   "outputs": [
    {
     "data": {
      "text/html": [
       "<div>\n",
       "<style scoped>\n",
       "    .dataframe tbody tr th:only-of-type {\n",
       "        vertical-align: middle;\n",
       "    }\n",
       "\n",
       "    .dataframe tbody tr th {\n",
       "        vertical-align: top;\n",
       "    }\n",
       "\n",
       "    .dataframe thead th {\n",
       "        text-align: right;\n",
       "    }\n",
       "</style>\n",
       "<table border=\"1\" class=\"dataframe\">\n",
       "  <thead>\n",
       "    <tr style=\"text-align: right;\">\n",
       "      <th></th>\n",
       "      <th>Unnamed: 0</th>\n",
       "      <th>RevolvingUtilizationOfUnsecuredLines</th>\n",
       "      <th>age</th>\n",
       "      <th>NumberOfTime30-59DaysPastDueNotWorse</th>\n",
       "      <th>DebtRatio</th>\n",
       "      <th>MonthlyIncome</th>\n",
       "      <th>NumberOfOpenCreditLinesAndLoans</th>\n",
       "      <th>NumberOfTimes90DaysLate</th>\n",
       "      <th>NumberRealEstateLoansOrLines</th>\n",
       "      <th>NumberOfTime60-89DaysPastDueNotWorse</th>\n",
       "      <th>NumberOfDependents</th>\n",
       "    </tr>\n",
       "  </thead>\n",
       "  <tbody>\n",
       "    <tr>\n",
       "      <th>82524</th>\n",
       "      <td>82525</td>\n",
       "      <td>0.012623</td>\n",
       "      <td>47</td>\n",
       "      <td>0</td>\n",
       "      <td>0.143247</td>\n",
       "      <td>5500.0</td>\n",
       "      <td>7</td>\n",
       "      <td>0</td>\n",
       "      <td>1</td>\n",
       "      <td>0</td>\n",
       "      <td>2.0</td>\n",
       "    </tr>\n",
       "    <tr>\n",
       "      <th>112993</th>\n",
       "      <td>112994</td>\n",
       "      <td>0.422823</td>\n",
       "      <td>44</td>\n",
       "      <td>0</td>\n",
       "      <td>0.312979</td>\n",
       "      <td>15000.0</td>\n",
       "      <td>10</td>\n",
       "      <td>0</td>\n",
       "      <td>2</td>\n",
       "      <td>0</td>\n",
       "      <td>2.0</td>\n",
       "    </tr>\n",
       "    <tr>\n",
       "      <th>111650</th>\n",
       "      <td>111651</td>\n",
       "      <td>0.355182</td>\n",
       "      <td>36</td>\n",
       "      <td>0</td>\n",
       "      <td>0.226292</td>\n",
       "      <td>9500.0</td>\n",
       "      <td>4</td>\n",
       "      <td>0</td>\n",
       "      <td>1</td>\n",
       "      <td>0</td>\n",
       "      <td>0.0</td>\n",
       "    </tr>\n",
       "    <tr>\n",
       "      <th>137171</th>\n",
       "      <td>137172</td>\n",
       "      <td>0.000000</td>\n",
       "      <td>54</td>\n",
       "      <td>0</td>\n",
       "      <td>0.265067</td>\n",
       "      <td>3500.0</td>\n",
       "      <td>6</td>\n",
       "      <td>0</td>\n",
       "      <td>0</td>\n",
       "      <td>0</td>\n",
       "      <td>1.0</td>\n",
       "    </tr>\n",
       "    <tr>\n",
       "      <th>142887</th>\n",
       "      <td>142888</td>\n",
       "      <td>0.712938</td>\n",
       "      <td>36</td>\n",
       "      <td>0</td>\n",
       "      <td>0.807205</td>\n",
       "      <td>5134.0</td>\n",
       "      <td>8</td>\n",
       "      <td>0</td>\n",
       "      <td>1</td>\n",
       "      <td>0</td>\n",
       "      <td>0.0</td>\n",
       "    </tr>\n",
       "  </tbody>\n",
       "</table>\n",
       "</div>"
      ],
      "text/plain": [
       "        Unnamed: 0  RevolvingUtilizationOfUnsecuredLines  age  \\\n",
       "82524        82525                              0.012623   47   \n",
       "112993      112994                              0.422823   44   \n",
       "111650      111651                              0.355182   36   \n",
       "137171      137172                              0.000000   54   \n",
       "142887      142888                              0.712938   36   \n",
       "\n",
       "        NumberOfTime30-59DaysPastDueNotWorse  DebtRatio  MonthlyIncome  \\\n",
       "82524                                      0   0.143247         5500.0   \n",
       "112993                                     0   0.312979        15000.0   \n",
       "111650                                     0   0.226292         9500.0   \n",
       "137171                                     0   0.265067         3500.0   \n",
       "142887                                     0   0.807205         5134.0   \n",
       "\n",
       "        NumberOfOpenCreditLinesAndLoans  NumberOfTimes90DaysLate  \\\n",
       "82524                                 7                        0   \n",
       "112993                               10                        0   \n",
       "111650                                4                        0   \n",
       "137171                                6                        0   \n",
       "142887                                8                        0   \n",
       "\n",
       "        NumberRealEstateLoansOrLines  NumberOfTime60-89DaysPastDueNotWorse  \\\n",
       "82524                              1                                     0   \n",
       "112993                             2                                     0   \n",
       "111650                             1                                     0   \n",
       "137171                             0                                     0   \n",
       "142887                             1                                     0   \n",
       "\n",
       "        NumberOfDependents  \n",
       "82524                  2.0  \n",
       "112993                 2.0  \n",
       "111650                 0.0  \n",
       "137171                 1.0  \n",
       "142887                 0.0  "
      ]
     },
     "execution_count": 233,
     "metadata": {},
     "output_type": "execute_result"
    }
   ],
   "source": [
    "df = pd.read_csv(\"cs-training.csv\")\n",
    "df=df.dropna()\n",
    "X = df.drop(columns='SeriousDlqin2yrs')\n",
    "y = df.SeriousDlqin2yrs\n",
    "X_train, X_test, y_train, y_test = sklearn.model_selection.train_test_split(X, y, test_size=0.33, random_state=42)\n",
    "X_train.head()"
   ]
  },
  {
   "cell_type": "markdown",
   "metadata": {},
   "source": [
    "2. Model"
   ]
  },
  {
   "cell_type": "code",
   "execution_count": 234,
   "metadata": {},
   "outputs": [
    {
     "data": {
      "text/plain": [
       "XGBClassifier(base_score=0.5, booster='gbtree', callbacks=None,\n",
       "              colsample_bylevel=1, colsample_bynode=1, colsample_bytree=1,\n",
       "              early_stopping_rounds=None, enable_categorical=True,\n",
       "              eval_metric='logloss', gamma=0, gpu_id=-1,\n",
       "              grow_policy='depthwise', importance_type=None,\n",
       "              interaction_constraints='', learning_rate=0.300000012,\n",
       "              max_bin=256, max_cat_to_onehot=4, max_delta_step=0, max_depth=2,\n",
       "              max_leaves=0, min_child_weight=1, missing=nan,\n",
       "              monotone_constraints='()', n_estimators=50, n_jobs=0,\n",
       "              num_parallel_tree=1, predictor='auto', random_state=0,\n",
       "              reg_alpha=0, reg_lambda=1, ...)"
      ]
     },
     "execution_count": 234,
     "metadata": {},
     "output_type": "execute_result"
    }
   ],
   "source": [
    "model = xgboost.XGBClassifier(\n",
    "    n_estimators=50, \n",
    "    max_depth=2, \n",
    "    use_label_encoder=False, \n",
    "    eval_metric=\"logloss\",\n",
    "    \n",
    "    enable_categorical=True,\n",
    "    tree_method=\"hist\"\n",
    ")\n",
    "\n",
    "model.fit(X_train, y_train)"
   ]
  },
  {
   "cell_type": "code",
   "execution_count": 235,
   "metadata": {},
   "outputs": [
    {
     "name": "stdout",
     "output_type": "stream",
     "text": [
      "Preparation of a new explainer is initiated\n",
      "\n",
      "  -> data              : 39689 rows 11 cols\n",
      "  -> target variable   : Parameter 'y' was a pandas.Series. Converted to a numpy.ndarray.\n",
      "  -> target variable   : 39689 values\n",
      "  -> model_class       : xgboost.sklearn.XGBClassifier (default)\n",
      "  -> label             : Not specified, model's class short name will be used. (default)\n",
      "  -> predict function  : <function yhat_proba_default at 0x7f8ea66b9dd0> will be used (default)\n",
      "  -> predict function  : Accepts pandas.DataFrame and numpy.ndarray.\n",
      "  -> predicted values  : min = 0.00478, mean = 0.0694, max = 0.967\n",
      "  -> model type        : classification will be used (default)\n",
      "  -> residual function : difference between y and yhat (default)\n",
      "  -> residuals         : min = -0.864, mean = 0.000651, max = 0.994\n",
      "  -> model_info        : package xgboost\n",
      "\n",
      "A new explainer has been created!\n"
     ]
    }
   ],
   "source": [
    "explainer = dx.Explainer(model, X_test, y_test)#, predict_function=pf_xgboost_classifier_categorical)"
   ]
  },
  {
   "cell_type": "markdown",
   "metadata": {},
   "source": [
    "3. Evaluate"
   ]
  },
  {
   "cell_type": "code",
   "execution_count": 236,
   "metadata": {},
   "outputs": [
    {
     "data": {
      "text/html": [
       "<div>\n",
       "<style scoped>\n",
       "    .dataframe tbody tr th:only-of-type {\n",
       "        vertical-align: middle;\n",
       "    }\n",
       "\n",
       "    .dataframe tbody tr th {\n",
       "        vertical-align: top;\n",
       "    }\n",
       "\n",
       "    .dataframe thead th {\n",
       "        text-align: right;\n",
       "    }\n",
       "</style>\n",
       "<table border=\"1\" class=\"dataframe\">\n",
       "  <thead>\n",
       "    <tr style=\"text-align: right;\">\n",
       "      <th></th>\n",
       "      <th>recall</th>\n",
       "      <th>precision</th>\n",
       "      <th>f1</th>\n",
       "      <th>accuracy</th>\n",
       "      <th>auc</th>\n",
       "    </tr>\n",
       "  </thead>\n",
       "  <tbody>\n",
       "    <tr>\n",
       "      <th>XGBClassifier</th>\n",
       "      <td>0.181165</td>\n",
       "      <td>0.574032</td>\n",
       "      <td>0.27541</td>\n",
       "      <td>0.93318</td>\n",
       "      <td>0.852725</td>\n",
       "    </tr>\n",
       "  </tbody>\n",
       "</table>\n",
       "</div>"
      ],
      "text/plain": [
       "<dalex.model_explanations._model_performance.object.ModelPerformance at 0x7f8e7668abd0>"
      ]
     },
     "execution_count": 236,
     "metadata": {},
     "output_type": "execute_result"
    }
   ],
   "source": [
    "explainer.model_performance()"
   ]
  },
  {
   "cell_type": "code",
   "execution_count": 237,
   "metadata": {},
   "outputs": [],
   "source": [
    "protected_variable = X_test.age.apply(lambda x: \"pensioner\" if x>70 else \"adult\")\n",
    "privileged_group = \"pensioner\"\n",
    "\n",
    "fobject = explainer.model_fairness(\n",
    "    protected=protected_variable,\n",
    "    privileged=privileged_group\n",
    ")"
   ]
  },
  {
   "cell_type": "markdown",
   "metadata": {},
   "source": [
    "Bias detection"
   ]
  },
  {
   "cell_type": "code",
   "execution_count": 238,
   "metadata": {},
   "outputs": [
    {
     "name": "stdout",
     "output_type": "stream",
     "text": [
      "Bias detected in 3 metrics: TPR, FPR, STP\n",
      "\n",
      "Conclusion: your model is not fair because 2 or more criteria exceeded acceptable limits set by epsilon.\n",
      "\n",
      "Ratios of metrics, based on 'pensioner'. Parameter 'epsilon' was set to 0.8 and therefore metrics should be within (0.8, 1.25)\n",
      "            TPR       ACC       PPV  FPR  STP\n",
      "adult  2.126437  0.953799  1.086957  5.5  6.0\n"
     ]
    }
   ],
   "source": [
    "fobject.fairness_check()"
   ]
  },
  {
   "cell_type": "markdown",
   "metadata": {},
   "source": [
    "Bias visualisation"
   ]
  },
  {
   "cell_type": "code",
   "execution_count": 239,
   "metadata": {},
   "outputs": [],
   "source": [
    "fobject.plot(show=False).write_image(f\"plots/p1.png\")\n",
    "\n",
    "\n",
    "#![](plots/p1.png)"
   ]
  },
  {
   "cell_type": "code",
   "execution_count": 240,
   "metadata": {},
   "outputs": [],
   "source": [
    "from sklearn.tree import DecisionTreeClassifier\n",
    "tree_class = DecisionTreeClassifier(random_state=0, max_depth=4, max_features=4)\n",
    "tree_class.fit(X_train, y_train)\n",
    "pred_test_tree = tree_class.predict(X_test)"
   ]
  },
  {
   "cell_type": "code",
   "execution_count": 241,
   "metadata": {},
   "outputs": [
    {
     "name": "stdout",
     "output_type": "stream",
     "text": [
      "Preparation of a new explainer is initiated\n",
      "\n",
      "  -> data              : 39689 rows 11 cols\n",
      "  -> target variable   : Parameter 'y' was a pandas.Series. Converted to a numpy.ndarray.\n",
      "  -> target variable   : 39689 values\n",
      "  -> model_class       : sklearn.tree._classes.DecisionTreeClassifier (default)\n",
      "  -> label             : Not specified, model's class short name will be used. (default)\n",
      "  -> predict function  : <function yhat_proba_default at 0x7f8ea66b9dd0> will be used (default)\n",
      "  -> predict function  : Accepts pandas.DataFrame and numpy.ndarray.\n",
      "  -> predicted values  : min = 0.0195, mean = 0.0698, max = 0.833\n",
      "  -> model type        : classification will be used (default)\n",
      "  -> residual function : difference between y and yhat (default)\n",
      "  -> residuals         : min = -0.833, mean = 0.000275, max = 0.981\n",
      "  -> model_info        : package sklearn\n",
      "\n",
      "A new explainer has been created!\n"
     ]
    },
    {
     "data": {
      "text/html": [
       "<div>\n",
       "<style scoped>\n",
       "    .dataframe tbody tr th:only-of-type {\n",
       "        vertical-align: middle;\n",
       "    }\n",
       "\n",
       "    .dataframe tbody tr th {\n",
       "        vertical-align: top;\n",
       "    }\n",
       "\n",
       "    .dataframe thead th {\n",
       "        text-align: right;\n",
       "    }\n",
       "</style>\n",
       "<table border=\"1\" class=\"dataframe\">\n",
       "  <thead>\n",
       "    <tr style=\"text-align: right;\">\n",
       "      <th></th>\n",
       "      <th>recall</th>\n",
       "      <th>precision</th>\n",
       "      <th>f1</th>\n",
       "      <th>accuracy</th>\n",
       "      <th>auc</th>\n",
       "    </tr>\n",
       "  </thead>\n",
       "  <tbody>\n",
       "    <tr>\n",
       "      <th>DecisionTreeClassifier</th>\n",
       "      <td>0.115744</td>\n",
       "      <td>0.564912</td>\n",
       "      <td>0.192124</td>\n",
       "      <td>0.93177</td>\n",
       "      <td>0.808415</td>\n",
       "    </tr>\n",
       "  </tbody>\n",
       "</table>\n",
       "</div>"
      ],
      "text/plain": [
       "<dalex.model_explanations._model_performance.object.ModelPerformance at 0x7f8e761d4a90>"
      ]
     },
     "execution_count": 241,
     "metadata": {},
     "output_type": "execute_result"
    }
   ],
   "source": [
    "explainer_dec_tr = dx.Explainer(tree_class, X_test, y_test)\n",
    "explainer_dec_tr.model_performance()"
   ]
  },
  {
   "cell_type": "code",
   "execution_count": 242,
   "metadata": {},
   "outputs": [],
   "source": [
    "fobject_dec_tr = explainer_dec_tr.model_fairness(\n",
    "    protected=protected_variable,\n",
    "    privileged=privileged_group\n",
    ")\n"
   ]
  },
  {
   "cell_type": "markdown",
   "metadata": {},
   "source": [
    "Bias detection"
   ]
  },
  {
   "cell_type": "code",
   "execution_count": 243,
   "metadata": {},
   "outputs": [
    {
     "name": "stdout",
     "output_type": "stream",
     "text": [
      "Bias detected in 4 metrics: TPR, PPV, FPR, STP\n",
      "\n",
      "Conclusion: your model is not fair because 2 or more criteria exceeded acceptable limits set by epsilon.\n",
      "\n",
      "Ratios of metrics, based on 'pensioner'. Parameter 'epsilon' was set to 0.8 and therefore metrics should be within (0.8, 1.25)\n",
      "            TPR       ACC       PPV       FPR  STP\n",
      "adult  2.458333  0.952724  1.833333  2.333333  4.0\n"
     ]
    }
   ],
   "source": [
    "fobject_dec_tr.fairness_check()"
   ]
  },
  {
   "cell_type": "markdown",
   "metadata": {},
   "source": [
    "Bias visualisation"
   ]
  },
  {
   "cell_type": "code",
   "execution_count": 244,
   "metadata": {},
   "outputs": [],
   "source": [
    "fobject_dec_tr.plot(show=False).write_image(f\"plots/p2.png\")"
   ]
  },
  {
   "cell_type": "markdown",
   "metadata": {},
   "source": [
    "Bias mitigation for the first model"
   ]
  },
  {
   "cell_type": "code",
   "execution_count": 245,
   "metadata": {},
   "outputs": [],
   "source": [
    "X_train_without_prot, X_test_without_prot = X_train.drop(\"age\", axis=1), X_test.drop(\"age\", axis=1)\n",
    "\n",
    "model_without_prot = xgboost.XGBClassifier(\n",
    "    n_estimators=50, \n",
    "    max_depth=2, \n",
    "    use_label_encoder=False, \n",
    "    eval_metric=\"logloss\",\n",
    "    enable_categorical=True,\n",
    "    tree_method=\"hist\"\n",
    ")\n",
    "\n",
    "model_without_prot.fit(X_train_without_prot, y_train)\n",
    "\n",
    "explainer_without_prot = dx.Explainer(\n",
    "    model_without_prot, \n",
    "    X_test_without_prot, \n",
    "    y_test,\n",
    "    label=\"XGBClassifier without the protected attribute\",\n",
    "    verbose=False\n",
    ")\n",
    "\n",
    "fobject_without_prot = explainer_without_prot.model_fairness(protected_variable, privileged_group)"
   ]
  },
  {
   "cell_type": "code",
   "execution_count": 256,
   "metadata": {},
   "outputs": [],
   "source": [
    "from dalex.fairness import roc_pivot\n",
    "from copy import copy\n",
    "\n",
    "protected_variable_train = X_train.age.apply(lambda x: \"pensioner\" if x>70 else \"adult\")\n",
    "\n",
    "# roc_pivot\n",
    "explainer_roc_pivot = roc_pivot(\n",
    "    copy(explainer_without_prot), \n",
    "    protected_variable, \n",
    "    privileged_group,\n",
    "    verbose=False\n",
    ")\n",
    "explainer_roc_pivot.label = 'XGBClassifier with ROC pivot mitigation'\n",
    "fobject_roc_pivot = explainer_roc_pivot.model_fairness(\n",
    "    protected_variable, \n",
    "    privileged_group\n",
    ")\n"
   ]
  },
  {
   "cell_type": "code",
   "execution_count": 257,
   "metadata": {},
   "outputs": [],
   "source": [
    "fobject.plot(fobject_roc_pivot, show=False).\\\n",
    "    update_layout(autosize=False, width=800, height=450, legend=dict(yanchor=\"top\", y=0.99, xanchor=\"right\", x=0.99)).write_image(f\"plots/p3.png\")"
   ]
  },
  {
   "cell_type": "code",
   "execution_count": 259,
   "metadata": {},
   "outputs": [
    {
     "data": {
      "text/html": [
       "<div>\n",
       "<style scoped>\n",
       "    .dataframe tbody tr th:only-of-type {\n",
       "        vertical-align: middle;\n",
       "    }\n",
       "\n",
       "    .dataframe tbody tr th {\n",
       "        vertical-align: top;\n",
       "    }\n",
       "\n",
       "    .dataframe thead th {\n",
       "        text-align: right;\n",
       "    }\n",
       "</style>\n",
       "<table border=\"1\" class=\"dataframe\">\n",
       "  <thead>\n",
       "    <tr style=\"text-align: right;\">\n",
       "      <th></th>\n",
       "      <th>recall</th>\n",
       "      <th>precision</th>\n",
       "      <th>f1</th>\n",
       "      <th>accuracy</th>\n",
       "      <th>auc</th>\n",
       "    </tr>\n",
       "  </thead>\n",
       "  <tbody>\n",
       "    <tr>\n",
       "      <th>XGBClassifier</th>\n",
       "      <td>0.181165</td>\n",
       "      <td>0.574032</td>\n",
       "      <td>0.275410</td>\n",
       "      <td>0.933180</td>\n",
       "      <td>0.852725</td>\n",
       "    </tr>\n",
       "    <tr>\n",
       "      <th>XGBClassifier with ROC pivot mitigation</th>\n",
       "      <td>0.216032</td>\n",
       "      <td>0.554428</td>\n",
       "      <td>0.310916</td>\n",
       "      <td>0.932878</td>\n",
       "      <td>0.850983</td>\n",
       "    </tr>\n",
       "    <tr>\n",
       "      <th>DecisionTreeClassifier</th>\n",
       "      <td>0.115744</td>\n",
       "      <td>0.564912</td>\n",
       "      <td>0.192124</td>\n",
       "      <td>0.931770</td>\n",
       "      <td>0.808415</td>\n",
       "    </tr>\n",
       "  </tbody>\n",
       "</table>\n",
       "</div>"
      ],
      "text/plain": [
       "                                           recall  precision        f1  \\\n",
       "XGBClassifier                            0.181165   0.574032  0.275410   \n",
       "XGBClassifier with ROC pivot mitigation  0.216032   0.554428  0.310916   \n",
       "DecisionTreeClassifier                   0.115744   0.564912  0.192124   \n",
       "\n",
       "                                         accuracy       auc  \n",
       "XGBClassifier                            0.933180  0.852725  \n",
       "XGBClassifier with ROC pivot mitigation  0.932878  0.850983  \n",
       "DecisionTreeClassifier                   0.931770  0.808415  "
      ]
     },
     "execution_count": 259,
     "metadata": {},
     "output_type": "execute_result"
    }
   ],
   "source": [
    "pd.concat([\n",
    "    explainer.model_performance().result,\n",
    "    explainer_roc_pivot.model_performance().result,\n",
    "    explainer_dec_tr.model_performance().result,\n",
    "], axis=0)\n"
   ]
  }
 ],
 "metadata": {
  "kernelspec": {
   "display_name": "Python 3.7.6 ('xai_env': venv)",
   "language": "python",
   "name": "python3"
  },
  "language_info": {
   "codemirror_mode": {
    "name": "ipython",
    "version": 3
   },
   "file_extension": ".py",
   "mimetype": "text/x-python",
   "name": "python",
   "nbconvert_exporter": "python",
   "pygments_lexer": "ipython3",
   "version": "3.7.6"
  },
  "orig_nbformat": 4,
  "vscode": {
   "interpreter": {
    "hash": "af6808631b646a2ea9f8520b5c8cf5ced62fc365bea1d03b49f21ebd9b9b925b"
   }
  }
 },
 "nbformat": 4,
 "nbformat_minor": 2
}
