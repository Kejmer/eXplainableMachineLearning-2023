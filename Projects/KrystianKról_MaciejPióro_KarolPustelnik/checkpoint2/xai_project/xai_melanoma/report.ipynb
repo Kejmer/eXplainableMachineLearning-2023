{
 "cells": [
  {
   "cell_type": "markdown",
   "metadata": {},
   "source": [
    "# Explaining NN-based melanoma classification"
   ]
  },
  {
   "cell_type": "markdown",
   "metadata": {},
   "source": [
    "## Introduction\n",
    "In our project we try to explain decisions of a NN classifier detecting if a photo shows melanoma.\n",
    "### Our models (currently)\n",
    "- ResNet50\n",
    "- ResNet50 with attention (channel-based attention with one attention layer near the end of the network)"
   ]
  },
  {
   "cell_type": "markdown",
   "metadata": {},
   "source": [
    "## ResNet50 with attention - first results\n",
    "The first explanation method we used was Grad-CAM. Here are the results: \n",
    "\n",
    "#### Melanoma\n",
    "![Photo of class Melanoma](images/melanoma.jpg \"Melanoma\")\n",
    "#### Grad-CAM explanation\n",
    "![Explanation with Grad-CAM](images/gradcam.jpg \"Grad-CAM\")\n",
    "#### Grad-CAM explanation combined with attention\n",
    "![Explanation with Attention](images/attention.jpg \"Attention\")\n",
    "\n",
    "As we can see, using attention weights with Grad-CAM doesn't  really change the picture. Also, we could try comparing with a regular ResNet.\n",
    "In future experiments we will be trying to use CRP with the attention-based model. Because of attention we will know which channels to target during explaining."
   ]
  },
  {
   "cell_type": "markdown",
   "metadata": {},
   "source": [
    "## LRP (ResNet50)\n",
    "\n",
    "LRP works out of the box with ResNet (we used `zennit` Python library). Some examples of our results:\n",
    "\n",
    "#### True positive\n",
    "![CRP True positive example](images/crp_true_positive.png \"CRP True positive example\")\n",
    "\n",
    "#### False positive\n",
    "![CRP false positive example](images/crp_false_positive.png \"CRP false positive example\")\n",
    "\n",
    "#### True negative\n",
    "![CRP True negative example](images/crp_true_negative.png \"CRP True negative example\")\n",
    "\n",
    "#### False negative\n",
    "![CRP false negative example](images/crp_false_negative.png \"CRP false negative example\")"
   ]
  },
  {
   "cell_type": "markdown",
   "metadata": {},
   "source": [
    "## LRP (ResNet50) - Artifacts\n",
    "After some playing around with the LRP, we encountered an interesting class of images:\n",
    "\n",
    "![Photo with a black ring](images/ring.png \"Photo with a black ring\")"
   ]
  },
  {
   "cell_type": "markdown",
   "metadata": {},
   "source": [
    "## Q: What is going on above?"
   ]
  },
  {
   "cell_type": "markdown",
   "metadata": {},
   "source": [
    "#### A: The photo shown above shows that the model focuses on the non-meaningful part of the picture. Why is that? It turns out all photos with a black background show melanoma, so the model can ignore the actual content of the photo once it figures out it is \"trivially\" an image of class 1."
   ]
  },
  {
   "cell_type": "markdown",
   "metadata": {},
   "source": [
    "## CRP Failure (ResNet50)\n",
    "After trying out LRP, we moved on to CRP. CRP allows finding out the impact of input features on a given channel in a CNN's map. The first images we acquired looked something like this:\n",
    "\n",
    "\n",
    "#### Melanoma\n",
    "![Photo of class Melanoma](images/melanoma_crp_2.png \"Melanoma\")\n",
    "\n",
    "![CRP attribution](images/melanoma_all_layers_id_2.png \"CRP\")"
   ]
  },
  {
   "cell_type": "markdown",
   "metadata": {},
   "source": [
    "## Q: What is the problem with above picture?"
   ]
  },
  {
   "cell_type": "markdown",
   "metadata": {},
   "source": [
    "#### A: The attributions above show that all channels are influenced exactly the same way by the input. This cannot be right."
   ]
  },
  {
   "cell_type": "markdown",
   "metadata": {},
   "source": [
    "### CRP Fixed (ResNet50)\n",
    "After fixing the issue with residual connections, the pictures started looking better. Notice that the influence of the input on each of the layers is now different. Some channels are not influenced at all (zeroed out).\n",
    "\n",
    "#### Fixed CRP\n",
    "![CRP attribution](images/crp_fixed.png \"CRP\")"
   ]
  },
  {
   "cell_type": "markdown",
   "metadata": {},
   "source": [
    "## Appendix\n",
    "The results presented in this report can be reproduced using `xai_project/xai_melanoma/`(`find_rings`|`crp`|`lrp`)`.ipynb`"
   ]
  }
 ],
 "metadata": {
  "kernelspec": {
   "display_name": "Python 3.8.10 ('venv': venv)",
   "language": "python",
   "name": "python3"
  },
  "language_info": {
   "name": "python",
   "version": "3.8.10"
  },
  "orig_nbformat": 4,
  "vscode": {
   "interpreter": {
    "hash": "f05b3b4e688a236db90d3aee7e949ccc41609a1719ce1e3318d373437ca01403"
   }
  }
 },
 "nbformat": 4,
 "nbformat_minor": 2
}
